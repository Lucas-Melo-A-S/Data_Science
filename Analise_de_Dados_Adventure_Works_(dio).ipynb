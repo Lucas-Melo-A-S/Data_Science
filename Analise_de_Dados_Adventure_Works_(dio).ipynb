{
  "nbformat": 4,
  "nbformat_minor": 0,
  "metadata": {
    "colab": {
      "provenance": [],
      "authorship_tag": "ABX9TyNx+QTL6a/OODyy5iZaHNzU",
      "include_colab_link": true
    },
    "kernelspec": {
      "name": "python3",
      "display_name": "Python 3"
    },
    "language_info": {
      "name": "python"
    }
  },
  "cells": [
    {
      "cell_type": "markdown",
      "metadata": {
        "id": "view-in-github",
        "colab_type": "text"
      },
      "source": [
        "<a href=\"https://colab.research.google.com/github/Lucas-Melo-A-S/Data_Science/blob/main/Analise_de_Dados_Adventure_Works_(dio).ipynb\" target=\"_parent\"><img src=\"https://colab.research.google.com/assets/colab-badge.svg\" alt=\"Open In Colab\"/></a>"
      ]
    },
    {
      "cell_type": "code",
      "execution_count": 1,
      "metadata": {
        "id": "7iYUFUfrJ2P4"
      },
      "outputs": [],
      "source": [
        "import pandas as pd\n",
        "import matplotlib.pyplot as plt\n",
        "plt.style.use('seaborn')"
      ]
    },
    {
      "cell_type": "code",
      "source": [
        "#Importando o arquivo do computador\n",
        "from google.colab import files\n",
        "arq = files.upload()"
      ],
      "metadata": {
        "colab": {
          "base_uri": "https://localhost:8080/",
          "height": 73
        },
        "id": "VEQCsCCEKCXI",
        "outputId": "80281730-2f04-4a06-b9e8-9e4a77e4c726"
      },
      "execution_count": 2,
      "outputs": [
        {
          "output_type": "display_data",
          "data": {
            "text/plain": [
              "<IPython.core.display.HTML object>"
            ],
            "text/html": [
              "\n",
              "     <input type=\"file\" id=\"files-d772722f-778d-4a37-84b8-c453d7018e29\" name=\"files[]\" multiple disabled\n",
              "        style=\"border:none\" />\n",
              "     <output id=\"result-d772722f-778d-4a37-84b8-c453d7018e29\">\n",
              "      Upload widget is only available when the cell has been executed in the\n",
              "      current browser session. Please rerun this cell to enable.\n",
              "      </output>\n",
              "      <script>// Copyright 2017 Google LLC\n",
              "//\n",
              "// Licensed under the Apache License, Version 2.0 (the \"License\");\n",
              "// you may not use this file except in compliance with the License.\n",
              "// You may obtain a copy of the License at\n",
              "//\n",
              "//      http://www.apache.org/licenses/LICENSE-2.0\n",
              "//\n",
              "// Unless required by applicable law or agreed to in writing, software\n",
              "// distributed under the License is distributed on an \"AS IS\" BASIS,\n",
              "// WITHOUT WARRANTIES OR CONDITIONS OF ANY KIND, either express or implied.\n",
              "// See the License for the specific language governing permissions and\n",
              "// limitations under the License.\n",
              "\n",
              "/**\n",
              " * @fileoverview Helpers for google.colab Python module.\n",
              " */\n",
              "(function(scope) {\n",
              "function span(text, styleAttributes = {}) {\n",
              "  const element = document.createElement('span');\n",
              "  element.textContent = text;\n",
              "  for (const key of Object.keys(styleAttributes)) {\n",
              "    element.style[key] = styleAttributes[key];\n",
              "  }\n",
              "  return element;\n",
              "}\n",
              "\n",
              "// Max number of bytes which will be uploaded at a time.\n",
              "const MAX_PAYLOAD_SIZE = 100 * 1024;\n",
              "\n",
              "function _uploadFiles(inputId, outputId) {\n",
              "  const steps = uploadFilesStep(inputId, outputId);\n",
              "  const outputElement = document.getElementById(outputId);\n",
              "  // Cache steps on the outputElement to make it available for the next call\n",
              "  // to uploadFilesContinue from Python.\n",
              "  outputElement.steps = steps;\n",
              "\n",
              "  return _uploadFilesContinue(outputId);\n",
              "}\n",
              "\n",
              "// This is roughly an async generator (not supported in the browser yet),\n",
              "// where there are multiple asynchronous steps and the Python side is going\n",
              "// to poll for completion of each step.\n",
              "// This uses a Promise to block the python side on completion of each step,\n",
              "// then passes the result of the previous step as the input to the next step.\n",
              "function _uploadFilesContinue(outputId) {\n",
              "  const outputElement = document.getElementById(outputId);\n",
              "  const steps = outputElement.steps;\n",
              "\n",
              "  const next = steps.next(outputElement.lastPromiseValue);\n",
              "  return Promise.resolve(next.value.promise).then((value) => {\n",
              "    // Cache the last promise value to make it available to the next\n",
              "    // step of the generator.\n",
              "    outputElement.lastPromiseValue = value;\n",
              "    return next.value.response;\n",
              "  });\n",
              "}\n",
              "\n",
              "/**\n",
              " * Generator function which is called between each async step of the upload\n",
              " * process.\n",
              " * @param {string} inputId Element ID of the input file picker element.\n",
              " * @param {string} outputId Element ID of the output display.\n",
              " * @return {!Iterable<!Object>} Iterable of next steps.\n",
              " */\n",
              "function* uploadFilesStep(inputId, outputId) {\n",
              "  const inputElement = document.getElementById(inputId);\n",
              "  inputElement.disabled = false;\n",
              "\n",
              "  const outputElement = document.getElementById(outputId);\n",
              "  outputElement.innerHTML = '';\n",
              "\n",
              "  const pickedPromise = new Promise((resolve) => {\n",
              "    inputElement.addEventListener('change', (e) => {\n",
              "      resolve(e.target.files);\n",
              "    });\n",
              "  });\n",
              "\n",
              "  const cancel = document.createElement('button');\n",
              "  inputElement.parentElement.appendChild(cancel);\n",
              "  cancel.textContent = 'Cancel upload';\n",
              "  const cancelPromise = new Promise((resolve) => {\n",
              "    cancel.onclick = () => {\n",
              "      resolve(null);\n",
              "    };\n",
              "  });\n",
              "\n",
              "  // Wait for the user to pick the files.\n",
              "  const files = yield {\n",
              "    promise: Promise.race([pickedPromise, cancelPromise]),\n",
              "    response: {\n",
              "      action: 'starting',\n",
              "    }\n",
              "  };\n",
              "\n",
              "  cancel.remove();\n",
              "\n",
              "  // Disable the input element since further picks are not allowed.\n",
              "  inputElement.disabled = true;\n",
              "\n",
              "  if (!files) {\n",
              "    return {\n",
              "      response: {\n",
              "        action: 'complete',\n",
              "      }\n",
              "    };\n",
              "  }\n",
              "\n",
              "  for (const file of files) {\n",
              "    const li = document.createElement('li');\n",
              "    li.append(span(file.name, {fontWeight: 'bold'}));\n",
              "    li.append(span(\n",
              "        `(${file.type || 'n/a'}) - ${file.size} bytes, ` +\n",
              "        `last modified: ${\n",
              "            file.lastModifiedDate ? file.lastModifiedDate.toLocaleDateString() :\n",
              "                                    'n/a'} - `));\n",
              "    const percent = span('0% done');\n",
              "    li.appendChild(percent);\n",
              "\n",
              "    outputElement.appendChild(li);\n",
              "\n",
              "    const fileDataPromise = new Promise((resolve) => {\n",
              "      const reader = new FileReader();\n",
              "      reader.onload = (e) => {\n",
              "        resolve(e.target.result);\n",
              "      };\n",
              "      reader.readAsArrayBuffer(file);\n",
              "    });\n",
              "    // Wait for the data to be ready.\n",
              "    let fileData = yield {\n",
              "      promise: fileDataPromise,\n",
              "      response: {\n",
              "        action: 'continue',\n",
              "      }\n",
              "    };\n",
              "\n",
              "    // Use a chunked sending to avoid message size limits. See b/62115660.\n",
              "    let position = 0;\n",
              "    do {\n",
              "      const length = Math.min(fileData.byteLength - position, MAX_PAYLOAD_SIZE);\n",
              "      const chunk = new Uint8Array(fileData, position, length);\n",
              "      position += length;\n",
              "\n",
              "      const base64 = btoa(String.fromCharCode.apply(null, chunk));\n",
              "      yield {\n",
              "        response: {\n",
              "          action: 'append',\n",
              "          file: file.name,\n",
              "          data: base64,\n",
              "        },\n",
              "      };\n",
              "\n",
              "      let percentDone = fileData.byteLength === 0 ?\n",
              "          100 :\n",
              "          Math.round((position / fileData.byteLength) * 100);\n",
              "      percent.textContent = `${percentDone}% done`;\n",
              "\n",
              "    } while (position < fileData.byteLength);\n",
              "  }\n",
              "\n",
              "  // All done.\n",
              "  yield {\n",
              "    response: {\n",
              "      action: 'complete',\n",
              "    }\n",
              "  };\n",
              "}\n",
              "\n",
              "scope.google = scope.google || {};\n",
              "scope.google.colab = scope.google.colab || {};\n",
              "scope.google.colab._files = {\n",
              "  _uploadFiles,\n",
              "  _uploadFilesContinue,\n",
              "};\n",
              "})(self);\n",
              "</script> "
            ]
          },
          "metadata": {}
        },
        {
          "output_type": "stream",
          "name": "stdout",
          "text": [
            "Saving AdventureWorks.xlsx to AdventureWorks.xlsx\n"
          ]
        }
      ]
    },
    {
      "cell_type": "code",
      "source": [
        "#Importando o dataset do arquivo\n",
        "\n",
        "df = pd.read_excel('/content/AdventureWorks.xlsx')"
      ],
      "metadata": {
        "id": "Tpzs6s2kKQNd"
      },
      "execution_count": 3,
      "outputs": []
    },
    {
      "cell_type": "code",
      "source": [
        "#Visualizando as 5 primeiras linhas do Dataset\n",
        "\n",
        "df.head()"
      ],
      "metadata": {
        "colab": {
          "base_uri": "https://localhost:8080/",
          "height": 354
        },
        "id": "J8wL_BTuKc0L",
        "outputId": "97c7e419-9f3d-4d51-a4f0-11e93d96e285"
      },
      "execution_count": 4,
      "outputs": [
        {
          "output_type": "execute_result",
          "data": {
            "text/plain": [
              "  Data Venda Data Envio  ID Loja  ID Produto  ID Cliente       No. Venda  \\\n",
              "0 2008-05-09 2008-05-29      199         384       18839  200805093CS607   \n",
              "1 2008-05-12 2008-05-17      306         384       19051  200805123CS567   \n",
              "2 2008-05-14 2008-05-20      306         384       19052  200805143CS576   \n",
              "3 2008-05-21 2008-05-27      306         384       19052  200805213CS576   \n",
              "4 2008-06-20 2008-06-27      306         384       19053  200806203CS586   \n",
              "\n",
              "   Custo Unitário  Preço Unitário  Quantidade  Valor Desconto  Valor Venda  \\\n",
              "0          348.58           758.0           6             0.0       4548.0   \n",
              "1          348.58           758.0           6             0.0       4548.0   \n",
              "2          348.58           758.0           6             0.0       4548.0   \n",
              "3          348.58           758.0           6             0.0       4548.0   \n",
              "4          348.58           758.0           6             0.0       4548.0   \n",
              "\n",
              "                                 Produto       Fabricante            Marca  \\\n",
              "0  Adventure Works Laptop15.4W M1548 Red  Adventure Works  Adventure Works   \n",
              "1  Adventure Works Laptop15.4W M1548 Red  Adventure Works  Adventure Works   \n",
              "2  Adventure Works Laptop15.4W M1548 Red  Adventure Works  Adventure Works   \n",
              "3  Adventure Works Laptop15.4W M1548 Red  Adventure Works  Adventure Works   \n",
              "4  Adventure Works Laptop15.4W M1548 Red  Adventure Works  Adventure Works   \n",
              "\n",
              "    Classe  Cor  \n",
              "0  Regular  Red  \n",
              "1  Regular  Red  \n",
              "2  Regular  Red  \n",
              "3  Regular  Red  \n",
              "4  Regular  Red  "
            ],
            "text/html": [
              "\n",
              "  <div id=\"df-49fe1459-79c9-481e-95f8-40114e4b8b3f\">\n",
              "    <div class=\"colab-df-container\">\n",
              "      <div>\n",
              "<style scoped>\n",
              "    .dataframe tbody tr th:only-of-type {\n",
              "        vertical-align: middle;\n",
              "    }\n",
              "\n",
              "    .dataframe tbody tr th {\n",
              "        vertical-align: top;\n",
              "    }\n",
              "\n",
              "    .dataframe thead th {\n",
              "        text-align: right;\n",
              "    }\n",
              "</style>\n",
              "<table border=\"1\" class=\"dataframe\">\n",
              "  <thead>\n",
              "    <tr style=\"text-align: right;\">\n",
              "      <th></th>\n",
              "      <th>Data Venda</th>\n",
              "      <th>Data Envio</th>\n",
              "      <th>ID Loja</th>\n",
              "      <th>ID Produto</th>\n",
              "      <th>ID Cliente</th>\n",
              "      <th>No. Venda</th>\n",
              "      <th>Custo Unitário</th>\n",
              "      <th>Preço Unitário</th>\n",
              "      <th>Quantidade</th>\n",
              "      <th>Valor Desconto</th>\n",
              "      <th>Valor Venda</th>\n",
              "      <th>Produto</th>\n",
              "      <th>Fabricante</th>\n",
              "      <th>Marca</th>\n",
              "      <th>Classe</th>\n",
              "      <th>Cor</th>\n",
              "    </tr>\n",
              "  </thead>\n",
              "  <tbody>\n",
              "    <tr>\n",
              "      <th>0</th>\n",
              "      <td>2008-05-09</td>\n",
              "      <td>2008-05-29</td>\n",
              "      <td>199</td>\n",
              "      <td>384</td>\n",
              "      <td>18839</td>\n",
              "      <td>200805093CS607</td>\n",
              "      <td>348.58</td>\n",
              "      <td>758.0</td>\n",
              "      <td>6</td>\n",
              "      <td>0.0</td>\n",
              "      <td>4548.0</td>\n",
              "      <td>Adventure Works Laptop15.4W M1548 Red</td>\n",
              "      <td>Adventure Works</td>\n",
              "      <td>Adventure Works</td>\n",
              "      <td>Regular</td>\n",
              "      <td>Red</td>\n",
              "    </tr>\n",
              "    <tr>\n",
              "      <th>1</th>\n",
              "      <td>2008-05-12</td>\n",
              "      <td>2008-05-17</td>\n",
              "      <td>306</td>\n",
              "      <td>384</td>\n",
              "      <td>19051</td>\n",
              "      <td>200805123CS567</td>\n",
              "      <td>348.58</td>\n",
              "      <td>758.0</td>\n",
              "      <td>6</td>\n",
              "      <td>0.0</td>\n",
              "      <td>4548.0</td>\n",
              "      <td>Adventure Works Laptop15.4W M1548 Red</td>\n",
              "      <td>Adventure Works</td>\n",
              "      <td>Adventure Works</td>\n",
              "      <td>Regular</td>\n",
              "      <td>Red</td>\n",
              "    </tr>\n",
              "    <tr>\n",
              "      <th>2</th>\n",
              "      <td>2008-05-14</td>\n",
              "      <td>2008-05-20</td>\n",
              "      <td>306</td>\n",
              "      <td>384</td>\n",
              "      <td>19052</td>\n",
              "      <td>200805143CS576</td>\n",
              "      <td>348.58</td>\n",
              "      <td>758.0</td>\n",
              "      <td>6</td>\n",
              "      <td>0.0</td>\n",
              "      <td>4548.0</td>\n",
              "      <td>Adventure Works Laptop15.4W M1548 Red</td>\n",
              "      <td>Adventure Works</td>\n",
              "      <td>Adventure Works</td>\n",
              "      <td>Regular</td>\n",
              "      <td>Red</td>\n",
              "    </tr>\n",
              "    <tr>\n",
              "      <th>3</th>\n",
              "      <td>2008-05-21</td>\n",
              "      <td>2008-05-27</td>\n",
              "      <td>306</td>\n",
              "      <td>384</td>\n",
              "      <td>19052</td>\n",
              "      <td>200805213CS576</td>\n",
              "      <td>348.58</td>\n",
              "      <td>758.0</td>\n",
              "      <td>6</td>\n",
              "      <td>0.0</td>\n",
              "      <td>4548.0</td>\n",
              "      <td>Adventure Works Laptop15.4W M1548 Red</td>\n",
              "      <td>Adventure Works</td>\n",
              "      <td>Adventure Works</td>\n",
              "      <td>Regular</td>\n",
              "      <td>Red</td>\n",
              "    </tr>\n",
              "    <tr>\n",
              "      <th>4</th>\n",
              "      <td>2008-06-20</td>\n",
              "      <td>2008-06-27</td>\n",
              "      <td>306</td>\n",
              "      <td>384</td>\n",
              "      <td>19053</td>\n",
              "      <td>200806203CS586</td>\n",
              "      <td>348.58</td>\n",
              "      <td>758.0</td>\n",
              "      <td>6</td>\n",
              "      <td>0.0</td>\n",
              "      <td>4548.0</td>\n",
              "      <td>Adventure Works Laptop15.4W M1548 Red</td>\n",
              "      <td>Adventure Works</td>\n",
              "      <td>Adventure Works</td>\n",
              "      <td>Regular</td>\n",
              "      <td>Red</td>\n",
              "    </tr>\n",
              "  </tbody>\n",
              "</table>\n",
              "</div>\n",
              "      <button class=\"colab-df-convert\" onclick=\"convertToInteractive('df-49fe1459-79c9-481e-95f8-40114e4b8b3f')\"\n",
              "              title=\"Convert this dataframe to an interactive table.\"\n",
              "              style=\"display:none;\">\n",
              "        \n",
              "  <svg xmlns=\"http://www.w3.org/2000/svg\" height=\"24px\"viewBox=\"0 0 24 24\"\n",
              "       width=\"24px\">\n",
              "    <path d=\"M0 0h24v24H0V0z\" fill=\"none\"/>\n",
              "    <path d=\"M18.56 5.44l.94 2.06.94-2.06 2.06-.94-2.06-.94-.94-2.06-.94 2.06-2.06.94zm-11 1L8.5 8.5l.94-2.06 2.06-.94-2.06-.94L8.5 2.5l-.94 2.06-2.06.94zm10 10l.94 2.06.94-2.06 2.06-.94-2.06-.94-.94-2.06-.94 2.06-2.06.94z\"/><path d=\"M17.41 7.96l-1.37-1.37c-.4-.4-.92-.59-1.43-.59-.52 0-1.04.2-1.43.59L10.3 9.45l-7.72 7.72c-.78.78-.78 2.05 0 2.83L4 21.41c.39.39.9.59 1.41.59.51 0 1.02-.2 1.41-.59l7.78-7.78 2.81-2.81c.8-.78.8-2.07 0-2.86zM5.41 20L4 18.59l7.72-7.72 1.47 1.35L5.41 20z\"/>\n",
              "  </svg>\n",
              "      </button>\n",
              "      \n",
              "  <style>\n",
              "    .colab-df-container {\n",
              "      display:flex;\n",
              "      flex-wrap:wrap;\n",
              "      gap: 12px;\n",
              "    }\n",
              "\n",
              "    .colab-df-convert {\n",
              "      background-color: #E8F0FE;\n",
              "      border: none;\n",
              "      border-radius: 50%;\n",
              "      cursor: pointer;\n",
              "      display: none;\n",
              "      fill: #1967D2;\n",
              "      height: 32px;\n",
              "      padding: 0 0 0 0;\n",
              "      width: 32px;\n",
              "    }\n",
              "\n",
              "    .colab-df-convert:hover {\n",
              "      background-color: #E2EBFA;\n",
              "      box-shadow: 0px 1px 2px rgba(60, 64, 67, 0.3), 0px 1px 3px 1px rgba(60, 64, 67, 0.15);\n",
              "      fill: #174EA6;\n",
              "    }\n",
              "\n",
              "    [theme=dark] .colab-df-convert {\n",
              "      background-color: #3B4455;\n",
              "      fill: #D2E3FC;\n",
              "    }\n",
              "\n",
              "    [theme=dark] .colab-df-convert:hover {\n",
              "      background-color: #434B5C;\n",
              "      box-shadow: 0px 1px 3px 1px rgba(0, 0, 0, 0.15);\n",
              "      filter: drop-shadow(0px 1px 2px rgba(0, 0, 0, 0.3));\n",
              "      fill: #FFFFFF;\n",
              "    }\n",
              "  </style>\n",
              "\n",
              "      <script>\n",
              "        const buttonEl =\n",
              "          document.querySelector('#df-49fe1459-79c9-481e-95f8-40114e4b8b3f button.colab-df-convert');\n",
              "        buttonEl.style.display =\n",
              "          google.colab.kernel.accessAllowed ? 'block' : 'none';\n",
              "\n",
              "        async function convertToInteractive(key) {\n",
              "          const element = document.querySelector('#df-49fe1459-79c9-481e-95f8-40114e4b8b3f');\n",
              "          const dataTable =\n",
              "            await google.colab.kernel.invokeFunction('convertToInteractive',\n",
              "                                                     [key], {});\n",
              "          if (!dataTable) return;\n",
              "\n",
              "          const docLinkHtml = 'Like what you see? Visit the ' +\n",
              "            '<a target=\"_blank\" href=https://colab.research.google.com/notebooks/data_table.ipynb>data table notebook</a>'\n",
              "            + ' to learn more about interactive tables.';\n",
              "          element.innerHTML = '';\n",
              "          dataTable['output_type'] = 'display_data';\n",
              "          await google.colab.output.renderOutput(dataTable, element);\n",
              "          const docLink = document.createElement('div');\n",
              "          docLink.innerHTML = docLinkHtml;\n",
              "          element.appendChild(docLink);\n",
              "        }\n",
              "      </script>\n",
              "    </div>\n",
              "  </div>\n",
              "  "
            ]
          },
          "metadata": {},
          "execution_count": 4
        }
      ]
    },
    {
      "cell_type": "code",
      "source": [
        "#Verificando a quantidade de linhas e colunas que nosso dataset tem\n",
        "\n",
        "df.shape"
      ],
      "metadata": {
        "colab": {
          "base_uri": "https://localhost:8080/"
        },
        "id": "lr4I0cMKL6uJ",
        "outputId": "c2822685-8565-4a19-8268-27aaabc9b7e0"
      },
      "execution_count": 5,
      "outputs": [
        {
          "output_type": "execute_result",
          "data": {
            "text/plain": [
              "(904, 16)"
            ]
          },
          "metadata": {},
          "execution_count": 5
        }
      ]
    },
    {
      "cell_type": "code",
      "source": [
        "#Verificando os tipos de dados\n",
        "\n",
        "df.dtypes"
      ],
      "metadata": {
        "colab": {
          "base_uri": "https://localhost:8080/"
        },
        "id": "ozRdogc3MAfT",
        "outputId": "e02f1f4f-01d2-4c32-a5bb-6b915842064c"
      },
      "execution_count": 6,
      "outputs": [
        {
          "output_type": "execute_result",
          "data": {
            "text/plain": [
              "Data Venda        datetime64[ns]\n",
              "Data Envio        datetime64[ns]\n",
              "ID Loja                    int64\n",
              "ID Produto                 int64\n",
              "ID Cliente                 int64\n",
              "No. Venda                 object\n",
              "Custo Unitário           float64\n",
              "Preço Unitário           float64\n",
              "Quantidade                 int64\n",
              "Valor Desconto           float64\n",
              "Valor Venda              float64\n",
              "Produto                   object\n",
              "Fabricante                object\n",
              "Marca                     object\n",
              "Classe                    object\n",
              "Cor                       object\n",
              "dtype: object"
            ]
          },
          "metadata": {},
          "execution_count": 6
        }
      ]
    },
    {
      "cell_type": "code",
      "source": [
        "#A função Describe gera todos as descrições estatisticas do dataset.\n",
        "#A função possibilita que possamos observar diversos possiveis bias que nosso dataset venha ter como: Outlier, valores nulos\n",
        "#Mas também possibilita que possas saber diversas informações de suma importancia no nosso dataset como:média, mediana, desvio padrão.\n",
        "#A função describe pode nos fornecer diversos insights.\n",
        "\n",
        "df.describe()"
      ],
      "metadata": {
        "colab": {
          "base_uri": "https://localhost:8080/",
          "height": 300
        },
        "id": "boVXRvBfKe5y",
        "outputId": "d25aea88-4125-4304-ba0f-9e246e824c6f"
      },
      "execution_count": 7,
      "outputs": [
        {
          "output_type": "execute_result",
          "data": {
            "text/plain": [
              "          ID Loja   ID Produto    ID Cliente  Custo Unitário  Preço Unitário  \\\n",
              "count  904.000000   904.000000    904.000000      904.000000      904.000000   \n",
              "mean   270.015487  1225.238938  19029.092920      272.006150      742.527965   \n",
              "std     50.955280   706.698742     96.427655      129.765051      368.589889   \n",
              "min    199.000000   366.000000  18815.000000        5.090000        9.990000   \n",
              "25%    199.000000   384.000000  18964.750000      324.690000      758.000000   \n",
              "50%    306.000000  1202.000000  19060.000000      330.660000      980.000000   \n",
              "75%    307.000000  1226.000000  19107.000000      348.580000      998.000000   \n",
              "max    307.000000  2497.000000  19145.000000      348.580000      999.000000   \n",
              "\n",
              "        Quantidade  Valor Desconto   Valor Venda  \n",
              "count   904.000000      904.000000    904.000000  \n",
              "mean     62.950221      689.123294   6620.139538  \n",
              "std     148.945964      822.363117   4319.407257  \n",
              "min       2.000000        0.000000    159.840000  \n",
              "25%       6.000000        0.000000   3920.000000  \n",
              "50%       9.000000      461.166000   5798.700000  \n",
              "75%      17.000000     1005.075000   7986.000000  \n",
              "max    1560.000000     6272.000000  29400.000000  "
            ],
            "text/html": [
              "\n",
              "  <div id=\"df-e7b0d2f9-d7bf-40c8-93b9-6ceeb23fe831\">\n",
              "    <div class=\"colab-df-container\">\n",
              "      <div>\n",
              "<style scoped>\n",
              "    .dataframe tbody tr th:only-of-type {\n",
              "        vertical-align: middle;\n",
              "    }\n",
              "\n",
              "    .dataframe tbody tr th {\n",
              "        vertical-align: top;\n",
              "    }\n",
              "\n",
              "    .dataframe thead th {\n",
              "        text-align: right;\n",
              "    }\n",
              "</style>\n",
              "<table border=\"1\" class=\"dataframe\">\n",
              "  <thead>\n",
              "    <tr style=\"text-align: right;\">\n",
              "      <th></th>\n",
              "      <th>ID Loja</th>\n",
              "      <th>ID Produto</th>\n",
              "      <th>ID Cliente</th>\n",
              "      <th>Custo Unitário</th>\n",
              "      <th>Preço Unitário</th>\n",
              "      <th>Quantidade</th>\n",
              "      <th>Valor Desconto</th>\n",
              "      <th>Valor Venda</th>\n",
              "    </tr>\n",
              "  </thead>\n",
              "  <tbody>\n",
              "    <tr>\n",
              "      <th>count</th>\n",
              "      <td>904.000000</td>\n",
              "      <td>904.000000</td>\n",
              "      <td>904.000000</td>\n",
              "      <td>904.000000</td>\n",
              "      <td>904.000000</td>\n",
              "      <td>904.000000</td>\n",
              "      <td>904.000000</td>\n",
              "      <td>904.000000</td>\n",
              "    </tr>\n",
              "    <tr>\n",
              "      <th>mean</th>\n",
              "      <td>270.015487</td>\n",
              "      <td>1225.238938</td>\n",
              "      <td>19029.092920</td>\n",
              "      <td>272.006150</td>\n",
              "      <td>742.527965</td>\n",
              "      <td>62.950221</td>\n",
              "      <td>689.123294</td>\n",
              "      <td>6620.139538</td>\n",
              "    </tr>\n",
              "    <tr>\n",
              "      <th>std</th>\n",
              "      <td>50.955280</td>\n",
              "      <td>706.698742</td>\n",
              "      <td>96.427655</td>\n",
              "      <td>129.765051</td>\n",
              "      <td>368.589889</td>\n",
              "      <td>148.945964</td>\n",
              "      <td>822.363117</td>\n",
              "      <td>4319.407257</td>\n",
              "    </tr>\n",
              "    <tr>\n",
              "      <th>min</th>\n",
              "      <td>199.000000</td>\n",
              "      <td>366.000000</td>\n",
              "      <td>18815.000000</td>\n",
              "      <td>5.090000</td>\n",
              "      <td>9.990000</td>\n",
              "      <td>2.000000</td>\n",
              "      <td>0.000000</td>\n",
              "      <td>159.840000</td>\n",
              "    </tr>\n",
              "    <tr>\n",
              "      <th>25%</th>\n",
              "      <td>199.000000</td>\n",
              "      <td>384.000000</td>\n",
              "      <td>18964.750000</td>\n",
              "      <td>324.690000</td>\n",
              "      <td>758.000000</td>\n",
              "      <td>6.000000</td>\n",
              "      <td>0.000000</td>\n",
              "      <td>3920.000000</td>\n",
              "    </tr>\n",
              "    <tr>\n",
              "      <th>50%</th>\n",
              "      <td>306.000000</td>\n",
              "      <td>1202.000000</td>\n",
              "      <td>19060.000000</td>\n",
              "      <td>330.660000</td>\n",
              "      <td>980.000000</td>\n",
              "      <td>9.000000</td>\n",
              "      <td>461.166000</td>\n",
              "      <td>5798.700000</td>\n",
              "    </tr>\n",
              "    <tr>\n",
              "      <th>75%</th>\n",
              "      <td>307.000000</td>\n",
              "      <td>1226.000000</td>\n",
              "      <td>19107.000000</td>\n",
              "      <td>348.580000</td>\n",
              "      <td>998.000000</td>\n",
              "      <td>17.000000</td>\n",
              "      <td>1005.075000</td>\n",
              "      <td>7986.000000</td>\n",
              "    </tr>\n",
              "    <tr>\n",
              "      <th>max</th>\n",
              "      <td>307.000000</td>\n",
              "      <td>2497.000000</td>\n",
              "      <td>19145.000000</td>\n",
              "      <td>348.580000</td>\n",
              "      <td>999.000000</td>\n",
              "      <td>1560.000000</td>\n",
              "      <td>6272.000000</td>\n",
              "      <td>29400.000000</td>\n",
              "    </tr>\n",
              "  </tbody>\n",
              "</table>\n",
              "</div>\n",
              "      <button class=\"colab-df-convert\" onclick=\"convertToInteractive('df-e7b0d2f9-d7bf-40c8-93b9-6ceeb23fe831')\"\n",
              "              title=\"Convert this dataframe to an interactive table.\"\n",
              "              style=\"display:none;\">\n",
              "        \n",
              "  <svg xmlns=\"http://www.w3.org/2000/svg\" height=\"24px\"viewBox=\"0 0 24 24\"\n",
              "       width=\"24px\">\n",
              "    <path d=\"M0 0h24v24H0V0z\" fill=\"none\"/>\n",
              "    <path d=\"M18.56 5.44l.94 2.06.94-2.06 2.06-.94-2.06-.94-.94-2.06-.94 2.06-2.06.94zm-11 1L8.5 8.5l.94-2.06 2.06-.94-2.06-.94L8.5 2.5l-.94 2.06-2.06.94zm10 10l.94 2.06.94-2.06 2.06-.94-2.06-.94-.94-2.06-.94 2.06-2.06.94z\"/><path d=\"M17.41 7.96l-1.37-1.37c-.4-.4-.92-.59-1.43-.59-.52 0-1.04.2-1.43.59L10.3 9.45l-7.72 7.72c-.78.78-.78 2.05 0 2.83L4 21.41c.39.39.9.59 1.41.59.51 0 1.02-.2 1.41-.59l7.78-7.78 2.81-2.81c.8-.78.8-2.07 0-2.86zM5.41 20L4 18.59l7.72-7.72 1.47 1.35L5.41 20z\"/>\n",
              "  </svg>\n",
              "      </button>\n",
              "      \n",
              "  <style>\n",
              "    .colab-df-container {\n",
              "      display:flex;\n",
              "      flex-wrap:wrap;\n",
              "      gap: 12px;\n",
              "    }\n",
              "\n",
              "    .colab-df-convert {\n",
              "      background-color: #E8F0FE;\n",
              "      border: none;\n",
              "      border-radius: 50%;\n",
              "      cursor: pointer;\n",
              "      display: none;\n",
              "      fill: #1967D2;\n",
              "      height: 32px;\n",
              "      padding: 0 0 0 0;\n",
              "      width: 32px;\n",
              "    }\n",
              "\n",
              "    .colab-df-convert:hover {\n",
              "      background-color: #E2EBFA;\n",
              "      box-shadow: 0px 1px 2px rgba(60, 64, 67, 0.3), 0px 1px 3px 1px rgba(60, 64, 67, 0.15);\n",
              "      fill: #174EA6;\n",
              "    }\n",
              "\n",
              "    [theme=dark] .colab-df-convert {\n",
              "      background-color: #3B4455;\n",
              "      fill: #D2E3FC;\n",
              "    }\n",
              "\n",
              "    [theme=dark] .colab-df-convert:hover {\n",
              "      background-color: #434B5C;\n",
              "      box-shadow: 0px 1px 3px 1px rgba(0, 0, 0, 0.15);\n",
              "      filter: drop-shadow(0px 1px 2px rgba(0, 0, 0, 0.3));\n",
              "      fill: #FFFFFF;\n",
              "    }\n",
              "  </style>\n",
              "\n",
              "      <script>\n",
              "        const buttonEl =\n",
              "          document.querySelector('#df-e7b0d2f9-d7bf-40c8-93b9-6ceeb23fe831 button.colab-df-convert');\n",
              "        buttonEl.style.display =\n",
              "          google.colab.kernel.accessAllowed ? 'block' : 'none';\n",
              "\n",
              "        async function convertToInteractive(key) {\n",
              "          const element = document.querySelector('#df-e7b0d2f9-d7bf-40c8-93b9-6ceeb23fe831');\n",
              "          const dataTable =\n",
              "            await google.colab.kernel.invokeFunction('convertToInteractive',\n",
              "                                                     [key], {});\n",
              "          if (!dataTable) return;\n",
              "\n",
              "          const docLinkHtml = 'Like what you see? Visit the ' +\n",
              "            '<a target=\"_blank\" href=https://colab.research.google.com/notebooks/data_table.ipynb>data table notebook</a>'\n",
              "            + ' to learn more about interactive tables.';\n",
              "          element.innerHTML = '';\n",
              "          dataTable['output_type'] = 'display_data';\n",
              "          await google.colab.output.renderOutput(dataTable, element);\n",
              "          const docLink = document.createElement('div');\n",
              "          docLink.innerHTML = docLinkHtml;\n",
              "          element.appendChild(docLink);\n",
              "        }\n",
              "      </script>\n",
              "    </div>\n",
              "  </div>\n",
              "  "
            ]
          },
          "metadata": {},
          "execution_count": 7
        }
      ]
    },
    {
      "cell_type": "code",
      "source": [
        "#foi feito essa situação pois para poder manipular os dados e referencia as colunas fica mais pratico quando as colunas não tem nome maiusculo e espaço.\n",
        "\n",
        "df.columns = df.columns.str.lower().str.replace(\" \", \"_\")"
      ],
      "metadata": {
        "id": "V1rbC1COc-MX"
      },
      "execution_count": 8,
      "outputs": []
    },
    {
      "cell_type": "code",
      "source": [
        "df.head(0)"
      ],
      "metadata": {
        "colab": {
          "base_uri": "https://localhost:8080/",
          "height": 49
        },
        "id": "_BFTeIzue7UC",
        "outputId": "526c02de-281c-493d-e9b3-cf8ce2f7f6b6"
      },
      "execution_count": 9,
      "outputs": [
        {
          "output_type": "execute_result",
          "data": {
            "text/plain": [
              "Empty DataFrame\n",
              "Columns: [data_venda, data_envio, id_loja, id_produto, id_cliente, no._venda, custo_unitário, preço_unitário, quantidade, valor_desconto, valor_venda, produto, fabricante, marca, classe, cor]\n",
              "Index: []"
            ],
            "text/html": [
              "\n",
              "  <div id=\"df-9049a6b5-5ab5-422f-bb94-bfe3d8ef219f\">\n",
              "    <div class=\"colab-df-container\">\n",
              "      <div>\n",
              "<style scoped>\n",
              "    .dataframe tbody tr th:only-of-type {\n",
              "        vertical-align: middle;\n",
              "    }\n",
              "\n",
              "    .dataframe tbody tr th {\n",
              "        vertical-align: top;\n",
              "    }\n",
              "\n",
              "    .dataframe thead th {\n",
              "        text-align: right;\n",
              "    }\n",
              "</style>\n",
              "<table border=\"1\" class=\"dataframe\">\n",
              "  <thead>\n",
              "    <tr style=\"text-align: right;\">\n",
              "      <th></th>\n",
              "      <th>data_venda</th>\n",
              "      <th>data_envio</th>\n",
              "      <th>id_loja</th>\n",
              "      <th>id_produto</th>\n",
              "      <th>id_cliente</th>\n",
              "      <th>no._venda</th>\n",
              "      <th>custo_unitário</th>\n",
              "      <th>preço_unitário</th>\n",
              "      <th>quantidade</th>\n",
              "      <th>valor_desconto</th>\n",
              "      <th>valor_venda</th>\n",
              "      <th>produto</th>\n",
              "      <th>fabricante</th>\n",
              "      <th>marca</th>\n",
              "      <th>classe</th>\n",
              "      <th>cor</th>\n",
              "    </tr>\n",
              "  </thead>\n",
              "  <tbody>\n",
              "  </tbody>\n",
              "</table>\n",
              "</div>\n",
              "      <button class=\"colab-df-convert\" onclick=\"convertToInteractive('df-9049a6b5-5ab5-422f-bb94-bfe3d8ef219f')\"\n",
              "              title=\"Convert this dataframe to an interactive table.\"\n",
              "              style=\"display:none;\">\n",
              "        \n",
              "  <svg xmlns=\"http://www.w3.org/2000/svg\" height=\"24px\"viewBox=\"0 0 24 24\"\n",
              "       width=\"24px\">\n",
              "    <path d=\"M0 0h24v24H0V0z\" fill=\"none\"/>\n",
              "    <path d=\"M18.56 5.44l.94 2.06.94-2.06 2.06-.94-2.06-.94-.94-2.06-.94 2.06-2.06.94zm-11 1L8.5 8.5l.94-2.06 2.06-.94-2.06-.94L8.5 2.5l-.94 2.06-2.06.94zm10 10l.94 2.06.94-2.06 2.06-.94-2.06-.94-.94-2.06-.94 2.06-2.06.94z\"/><path d=\"M17.41 7.96l-1.37-1.37c-.4-.4-.92-.59-1.43-.59-.52 0-1.04.2-1.43.59L10.3 9.45l-7.72 7.72c-.78.78-.78 2.05 0 2.83L4 21.41c.39.39.9.59 1.41.59.51 0 1.02-.2 1.41-.59l7.78-7.78 2.81-2.81c.8-.78.8-2.07 0-2.86zM5.41 20L4 18.59l7.72-7.72 1.47 1.35L5.41 20z\"/>\n",
              "  </svg>\n",
              "      </button>\n",
              "      \n",
              "  <style>\n",
              "    .colab-df-container {\n",
              "      display:flex;\n",
              "      flex-wrap:wrap;\n",
              "      gap: 12px;\n",
              "    }\n",
              "\n",
              "    .colab-df-convert {\n",
              "      background-color: #E8F0FE;\n",
              "      border: none;\n",
              "      border-radius: 50%;\n",
              "      cursor: pointer;\n",
              "      display: none;\n",
              "      fill: #1967D2;\n",
              "      height: 32px;\n",
              "      padding: 0 0 0 0;\n",
              "      width: 32px;\n",
              "    }\n",
              "\n",
              "    .colab-df-convert:hover {\n",
              "      background-color: #E2EBFA;\n",
              "      box-shadow: 0px 1px 2px rgba(60, 64, 67, 0.3), 0px 1px 3px 1px rgba(60, 64, 67, 0.15);\n",
              "      fill: #174EA6;\n",
              "    }\n",
              "\n",
              "    [theme=dark] .colab-df-convert {\n",
              "      background-color: #3B4455;\n",
              "      fill: #D2E3FC;\n",
              "    }\n",
              "\n",
              "    [theme=dark] .colab-df-convert:hover {\n",
              "      background-color: #434B5C;\n",
              "      box-shadow: 0px 1px 3px 1px rgba(0, 0, 0, 0.15);\n",
              "      filter: drop-shadow(0px 1px 2px rgba(0, 0, 0, 0.3));\n",
              "      fill: #FFFFFF;\n",
              "    }\n",
              "  </style>\n",
              "\n",
              "      <script>\n",
              "        const buttonEl =\n",
              "          document.querySelector('#df-9049a6b5-5ab5-422f-bb94-bfe3d8ef219f button.colab-df-convert');\n",
              "        buttonEl.style.display =\n",
              "          google.colab.kernel.accessAllowed ? 'block' : 'none';\n",
              "\n",
              "        async function convertToInteractive(key) {\n",
              "          const element = document.querySelector('#df-9049a6b5-5ab5-422f-bb94-bfe3d8ef219f');\n",
              "          const dataTable =\n",
              "            await google.colab.kernel.invokeFunction('convertToInteractive',\n",
              "                                                     [key], {});\n",
              "          if (!dataTable) return;\n",
              "\n",
              "          const docLinkHtml = 'Like what you see? Visit the ' +\n",
              "            '<a target=\"_blank\" href=https://colab.research.google.com/notebooks/data_table.ipynb>data table notebook</a>'\n",
              "            + ' to learn more about interactive tables.';\n",
              "          element.innerHTML = '';\n",
              "          dataTable['output_type'] = 'display_data';\n",
              "          await google.colab.output.renderOutput(dataTable, element);\n",
              "          const docLink = document.createElement('div');\n",
              "          docLink.innerHTML = docLinkHtml;\n",
              "          element.appendChild(docLink);\n",
              "        }\n",
              "      </script>\n",
              "    </div>\n",
              "  </div>\n",
              "  "
            ]
          },
          "metadata": {},
          "execution_count": 9
        }
      ]
    },
    {
      "cell_type": "code",
      "source": [
        "#Verificando se a valores nulos no banco de dados\n",
        "\n",
        "df.isnull().sum()"
      ],
      "metadata": {
        "colab": {
          "base_uri": "https://localhost:8080/"
        },
        "id": "HwVLqts8Kt2-",
        "outputId": "34a883c7-a04c-48cb-cd63-e315b3993ffd"
      },
      "execution_count": 10,
      "outputs": [
        {
          "output_type": "execute_result",
          "data": {
            "text/plain": [
              "data_venda        0\n",
              "data_envio        0\n",
              "id_loja           0\n",
              "id_produto        0\n",
              "id_cliente        0\n",
              "no._venda         0\n",
              "custo_unitário    0\n",
              "preço_unitário    0\n",
              "quantidade        0\n",
              "valor_desconto    0\n",
              "valor_venda       0\n",
              "produto           0\n",
              "fabricante        0\n",
              "marca             0\n",
              "classe            0\n",
              "cor               0\n",
              "dtype: int64"
            ]
          },
          "metadata": {},
          "execution_count": 10
        }
      ]
    },
    {
      "cell_type": "code",
      "source": [
        "#Verificando o produto com maior Valor de Venda\n",
        "\n",
        "p_maior_vv = df.loc[df['valor_venda'] == df['valor_venda'].max()]['produto']\n",
        "\n",
        "print(f'O produto com o maior valor de venda é o {p_maior_vv}')"
      ],
      "metadata": {
        "colab": {
          "base_uri": "https://localhost:8080/"
        },
        "id": "UmV9opdBKk8r",
        "outputId": "55d34fb9-f8ed-4578-d128-20565e10cd1c"
      },
      "execution_count": 11,
      "outputs": [
        {
          "output_type": "stream",
          "name": "stdout",
          "text": [
            "O produto com o maior valor de venda é o 236    Fabrikam Trendsetter 2/3'' 17mm X100 Black\n",
            "Name: produto, dtype: object\n"
          ]
        }
      ]
    },
    {
      "cell_type": "code",
      "source": [
        "#Verificando a menor Valor de Venda\n",
        "\n",
        "p_menor_vv = df.loc[df['valor_venda']== df['valor_venda'].min()]['produto']\n",
        "\n",
        "print(f'O produto com o menor valor de venda é o {p_menor_vv}')"
      ],
      "metadata": {
        "colab": {
          "base_uri": "https://localhost:8080/"
        },
        "id": "POAcDlZLLAZB",
        "outputId": "a76a1c62-fd43-4b65-d55a-30c9ff31a640"
      },
      "execution_count": 12,
      "outputs": [
        {
          "output_type": "stream",
          "name": "stdout",
          "text": [
            "O produto com o menor valor de venda é o 286    Headphone Adapter for Contoso Phone E130 White\n",
            "Name: produto, dtype: object\n"
          ]
        }
      ]
    },
    {
      "cell_type": "code",
      "source": [
        "#Verificando a Receita Total\n",
        "\n",
        "rt = df['valor_venda'].sum()\n",
        "print(f'A receita total é de R$ {round(rt,2)}')"
      ],
      "metadata": {
        "colab": {
          "base_uri": "https://localhost:8080/"
        },
        "id": "3oqBFgOQLk0p",
        "outputId": "76891284-7b67-4055-8620-1e6de0dc4a0d"
      },
      "execution_count": 13,
      "outputs": [
        {
          "output_type": "stream",
          "name": "stdout",
          "text": [
            "A receita total é de R$ 5984606.14\n"
          ]
        }
      ]
    },
    {
      "cell_type": "code",
      "source": [
        "#Criando uma coluna para o Valor Custo Total\n",
        "\n",
        "df['custo_total'] = df['custo_unitário'].mul(df.quantidade)"
      ],
      "metadata": {
        "id": "y5cXEasNMdAg"
      },
      "execution_count": 14,
      "outputs": []
    },
    {
      "cell_type": "code",
      "source": [
        "#Verificando o Custo Total\n",
        "\n",
        "ct = df['custo_total'].sum()\n",
        "print(f'O custo total para a fabricação dos produtos é de R$ {round(ct,2)}')"
      ],
      "metadata": {
        "colab": {
          "base_uri": "https://localhost:8080/"
        },
        "id": "DYR5Ff0RN9b2",
        "outputId": "4ade9a41-eaa8-45f9-bcbd-56fb4bf9c92a"
      },
      "execution_count": 15,
      "outputs": [
        {
          "output_type": "stream",
          "name": "stdout",
          "text": [
            "O custo total para a fabricação dos produtos é de R$ 2486783.05\n"
          ]
        }
      ]
    },
    {
      "cell_type": "code",
      "source": [
        "df['lucro_total'] = df['valor_venda'].subtract(df['custo_total'])"
      ],
      "metadata": {
        "id": "7BpL37gGOcqm"
      },
      "execution_count": 16,
      "outputs": []
    },
    {
      "cell_type": "code",
      "source": [
        "#Verificando o Lucro Total\n",
        "lt = rt - ct\n",
        "print(f'O Lucro Total geral em toda essa medição é de R$ {round(lt,2)}')"
      ],
      "metadata": {
        "colab": {
          "base_uri": "https://localhost:8080/"
        },
        "id": "hvj9uVChOUEU",
        "outputId": "3704a3fc-95ff-4136-c1ee-c77386f294b3"
      },
      "execution_count": 17,
      "outputs": [
        {
          "output_type": "stream",
          "name": "stdout",
          "text": [
            "O Lucro Total geral em toda essa medição é de R$ 3497823.09\n"
          ]
        }
      ]
    },
    {
      "cell_type": "code",
      "source": [
        "lt_max = df['lucro_total'].max()\n",
        "\n",
        "lt_max_prod = df.loc[df.lucro_total == df['lucro_total'].max()].produto\n",
        "\n",
        "print(f'O produto que gerou mais lucro em uma de suas vendas foi o {lt_max_prod},sendo este o valor de R$ {lt_max}')\n"
      ],
      "metadata": {
        "colab": {
          "base_uri": "https://localhost:8080/"
        },
        "id": "QMGXmGDgRBUa",
        "outputId": "fbd19458-25ad-4d84-81b6-1019fb87c42b"
      },
      "execution_count": 18,
      "outputs": [
        {
          "output_type": "stream",
          "name": "stdout",
          "text": [
            "O produto que gerou mais lucro em uma de suas vendas foi o 236    Fabrikam Trendsetter 2/3'' 17mm X100 Black\n",
            "Name: produto, dtype: object,sendo este o valor de R$ 19659.3\n"
          ]
        }
      ]
    },
    {
      "cell_type": "code",
      "source": [
        "#Verificando linhas aleatorias do dataset\n",
        "\n",
        "df.sample(10)"
      ],
      "metadata": {
        "colab": {
          "base_uri": "https://localhost:8080/",
          "height": 965
        },
        "id": "BdDl99cGO0Ls",
        "outputId": "dc0e77d8-ad2a-44c9-dbc0-7624b2a03017"
      },
      "execution_count": 19,
      "outputs": [
        {
          "output_type": "execute_result",
          "data": {
            "text/plain": [
              "    data_venda data_envio  id_loja  id_produto  id_cliente       no._venda  \\\n",
              "506 2009-06-22 2009-07-03      307        1226       19127  200906224CS717   \n",
              "379 2009-12-01 2009-12-08      199        1202       19023  200912014CS938   \n",
              "210 2008-10-26 2008-10-31      199        1155       18881  200810264CS786   \n",
              "576 2008-06-21 2008-06-25      307        1178       19100  200806214CS596   \n",
              "375 2008-11-29 2008-12-03      307        1203       19110  200811294CS656   \n",
              "192 2008-04-09 2008-04-14      199        1155       18831  200804094CS597   \n",
              "288 2009-05-06 2009-05-10      199        2497       18940  200905065CS849   \n",
              "545 2008-12-23 2008-12-27      306         384       19060  200812233CS676   \n",
              "360 2008-02-04 2008-02-12      307        1203       19094  200802044CS549   \n",
              "498 2008-04-21 2008-04-26      306         366       19051  200804213CS567   \n",
              "\n",
              "     custo_unitário  preço_unitário  quantidade  valor_desconto  valor_venda  \\\n",
              "506          330.99          999.00           7          699.30      6293.70   \n",
              "379          330.66          998.00          14         2794.40     11177.60   \n",
              "210          324.69          980.00          18            0.00     17640.00   \n",
              "576          330.66          998.00           8          798.40      7185.60   \n",
              "375          324.69          980.00          14         2058.00     11662.00   \n",
              "192          324.69          980.00          12            0.00     11760.00   \n",
              "288            5.09            9.99         480            0.00      4795.20   \n",
              "545          348.58          758.00           4          606.40      2425.60   \n",
              "360          324.69          980.00          16         3136.00     12544.00   \n",
              "498          348.58          758.00           7          371.42      4934.58   \n",
              "\n",
              "                                            produto       fabricante  \\\n",
              "506     Fabrikam Trendsetter 1/3'' 8.5mm X200 Black   Fabrikam, Inc.   \n",
              "379      Fabrikam Trendsetter 1/3'' 8.5mm X200 Grey   Fabrikam, Inc.   \n",
              "210      Fabrikam Trendsetter 2/3'' 17mm X100 Black   Fabrikam, Inc.   \n",
              "576     Fabrikam Trendsetter 1/3'' 8.5mm X200 White   Fabrikam, Inc.   \n",
              "375       Fabrikam Trendsetter 2/3'' 17mm X100 Grey   Fabrikam, Inc.   \n",
              "192      Fabrikam Trendsetter 2/3'' 17mm X100 Black   Fabrikam, Inc.   \n",
              "288  Headphone Adapter for Contoso Phone E130 White     Contoso, Ltd   \n",
              "545           Adventure Works Laptop15.4W M1548 Red  Adventure Works   \n",
              "360       Fabrikam Trendsetter 2/3'' 17mm X100 Grey   Fabrikam, Inc.   \n",
              "498         Adventure Works Laptop15.4W M1548 Black  Adventure Works   \n",
              "\n",
              "               marca   classe    cor  custo_total  lucro_total  \n",
              "506         Fabrikam  Regular  Black      2316.93      3976.77  \n",
              "379         Fabrikam  Regular   Grey      4629.24      6548.36  \n",
              "210         Fabrikam  Regular  Black      5844.42     11795.58  \n",
              "576         Fabrikam  Regular  White      2645.28      4540.32  \n",
              "375         Fabrikam  Regular   Grey      4545.66      7116.34  \n",
              "192         Fabrikam  Regular  Black      3896.28      7863.72  \n",
              "288          Contoso  Economy  White      2443.20      2352.00  \n",
              "545  Adventure Works  Regular    Red      1394.32      1031.28  \n",
              "360         Fabrikam  Regular   Grey      5195.04      7348.96  \n",
              "498  Adventure Works  Regular  Black      2440.06      2494.52  "
            ],
            "text/html": [
              "\n",
              "  <div id=\"df-3b87f478-6a4b-4597-a18d-eaf767bb6608\">\n",
              "    <div class=\"colab-df-container\">\n",
              "      <div>\n",
              "<style scoped>\n",
              "    .dataframe tbody tr th:only-of-type {\n",
              "        vertical-align: middle;\n",
              "    }\n",
              "\n",
              "    .dataframe tbody tr th {\n",
              "        vertical-align: top;\n",
              "    }\n",
              "\n",
              "    .dataframe thead th {\n",
              "        text-align: right;\n",
              "    }\n",
              "</style>\n",
              "<table border=\"1\" class=\"dataframe\">\n",
              "  <thead>\n",
              "    <tr style=\"text-align: right;\">\n",
              "      <th></th>\n",
              "      <th>data_venda</th>\n",
              "      <th>data_envio</th>\n",
              "      <th>id_loja</th>\n",
              "      <th>id_produto</th>\n",
              "      <th>id_cliente</th>\n",
              "      <th>no._venda</th>\n",
              "      <th>custo_unitário</th>\n",
              "      <th>preço_unitário</th>\n",
              "      <th>quantidade</th>\n",
              "      <th>valor_desconto</th>\n",
              "      <th>valor_venda</th>\n",
              "      <th>produto</th>\n",
              "      <th>fabricante</th>\n",
              "      <th>marca</th>\n",
              "      <th>classe</th>\n",
              "      <th>cor</th>\n",
              "      <th>custo_total</th>\n",
              "      <th>lucro_total</th>\n",
              "    </tr>\n",
              "  </thead>\n",
              "  <tbody>\n",
              "    <tr>\n",
              "      <th>506</th>\n",
              "      <td>2009-06-22</td>\n",
              "      <td>2009-07-03</td>\n",
              "      <td>307</td>\n",
              "      <td>1226</td>\n",
              "      <td>19127</td>\n",
              "      <td>200906224CS717</td>\n",
              "      <td>330.99</td>\n",
              "      <td>999.00</td>\n",
              "      <td>7</td>\n",
              "      <td>699.30</td>\n",
              "      <td>6293.70</td>\n",
              "      <td>Fabrikam Trendsetter 1/3'' 8.5mm X200 Black</td>\n",
              "      <td>Fabrikam, Inc.</td>\n",
              "      <td>Fabrikam</td>\n",
              "      <td>Regular</td>\n",
              "      <td>Black</td>\n",
              "      <td>2316.93</td>\n",
              "      <td>3976.77</td>\n",
              "    </tr>\n",
              "    <tr>\n",
              "      <th>379</th>\n",
              "      <td>2009-12-01</td>\n",
              "      <td>2009-12-08</td>\n",
              "      <td>199</td>\n",
              "      <td>1202</td>\n",
              "      <td>19023</td>\n",
              "      <td>200912014CS938</td>\n",
              "      <td>330.66</td>\n",
              "      <td>998.00</td>\n",
              "      <td>14</td>\n",
              "      <td>2794.40</td>\n",
              "      <td>11177.60</td>\n",
              "      <td>Fabrikam Trendsetter 1/3'' 8.5mm X200 Grey</td>\n",
              "      <td>Fabrikam, Inc.</td>\n",
              "      <td>Fabrikam</td>\n",
              "      <td>Regular</td>\n",
              "      <td>Grey</td>\n",
              "      <td>4629.24</td>\n",
              "      <td>6548.36</td>\n",
              "    </tr>\n",
              "    <tr>\n",
              "      <th>210</th>\n",
              "      <td>2008-10-26</td>\n",
              "      <td>2008-10-31</td>\n",
              "      <td>199</td>\n",
              "      <td>1155</td>\n",
              "      <td>18881</td>\n",
              "      <td>200810264CS786</td>\n",
              "      <td>324.69</td>\n",
              "      <td>980.00</td>\n",
              "      <td>18</td>\n",
              "      <td>0.00</td>\n",
              "      <td>17640.00</td>\n",
              "      <td>Fabrikam Trendsetter 2/3'' 17mm X100 Black</td>\n",
              "      <td>Fabrikam, Inc.</td>\n",
              "      <td>Fabrikam</td>\n",
              "      <td>Regular</td>\n",
              "      <td>Black</td>\n",
              "      <td>5844.42</td>\n",
              "      <td>11795.58</td>\n",
              "    </tr>\n",
              "    <tr>\n",
              "      <th>576</th>\n",
              "      <td>2008-06-21</td>\n",
              "      <td>2008-06-25</td>\n",
              "      <td>307</td>\n",
              "      <td>1178</td>\n",
              "      <td>19100</td>\n",
              "      <td>200806214CS596</td>\n",
              "      <td>330.66</td>\n",
              "      <td>998.00</td>\n",
              "      <td>8</td>\n",
              "      <td>798.40</td>\n",
              "      <td>7185.60</td>\n",
              "      <td>Fabrikam Trendsetter 1/3'' 8.5mm X200 White</td>\n",
              "      <td>Fabrikam, Inc.</td>\n",
              "      <td>Fabrikam</td>\n",
              "      <td>Regular</td>\n",
              "      <td>White</td>\n",
              "      <td>2645.28</td>\n",
              "      <td>4540.32</td>\n",
              "    </tr>\n",
              "    <tr>\n",
              "      <th>375</th>\n",
              "      <td>2008-11-29</td>\n",
              "      <td>2008-12-03</td>\n",
              "      <td>307</td>\n",
              "      <td>1203</td>\n",
              "      <td>19110</td>\n",
              "      <td>200811294CS656</td>\n",
              "      <td>324.69</td>\n",
              "      <td>980.00</td>\n",
              "      <td>14</td>\n",
              "      <td>2058.00</td>\n",
              "      <td>11662.00</td>\n",
              "      <td>Fabrikam Trendsetter 2/3'' 17mm X100 Grey</td>\n",
              "      <td>Fabrikam, Inc.</td>\n",
              "      <td>Fabrikam</td>\n",
              "      <td>Regular</td>\n",
              "      <td>Grey</td>\n",
              "      <td>4545.66</td>\n",
              "      <td>7116.34</td>\n",
              "    </tr>\n",
              "    <tr>\n",
              "      <th>192</th>\n",
              "      <td>2008-04-09</td>\n",
              "      <td>2008-04-14</td>\n",
              "      <td>199</td>\n",
              "      <td>1155</td>\n",
              "      <td>18831</td>\n",
              "      <td>200804094CS597</td>\n",
              "      <td>324.69</td>\n",
              "      <td>980.00</td>\n",
              "      <td>12</td>\n",
              "      <td>0.00</td>\n",
              "      <td>11760.00</td>\n",
              "      <td>Fabrikam Trendsetter 2/3'' 17mm X100 Black</td>\n",
              "      <td>Fabrikam, Inc.</td>\n",
              "      <td>Fabrikam</td>\n",
              "      <td>Regular</td>\n",
              "      <td>Black</td>\n",
              "      <td>3896.28</td>\n",
              "      <td>7863.72</td>\n",
              "    </tr>\n",
              "    <tr>\n",
              "      <th>288</th>\n",
              "      <td>2009-05-06</td>\n",
              "      <td>2009-05-10</td>\n",
              "      <td>199</td>\n",
              "      <td>2497</td>\n",
              "      <td>18940</td>\n",
              "      <td>200905065CS849</td>\n",
              "      <td>5.09</td>\n",
              "      <td>9.99</td>\n",
              "      <td>480</td>\n",
              "      <td>0.00</td>\n",
              "      <td>4795.20</td>\n",
              "      <td>Headphone Adapter for Contoso Phone E130 White</td>\n",
              "      <td>Contoso, Ltd</td>\n",
              "      <td>Contoso</td>\n",
              "      <td>Economy</td>\n",
              "      <td>White</td>\n",
              "      <td>2443.20</td>\n",
              "      <td>2352.00</td>\n",
              "    </tr>\n",
              "    <tr>\n",
              "      <th>545</th>\n",
              "      <td>2008-12-23</td>\n",
              "      <td>2008-12-27</td>\n",
              "      <td>306</td>\n",
              "      <td>384</td>\n",
              "      <td>19060</td>\n",
              "      <td>200812233CS676</td>\n",
              "      <td>348.58</td>\n",
              "      <td>758.00</td>\n",
              "      <td>4</td>\n",
              "      <td>606.40</td>\n",
              "      <td>2425.60</td>\n",
              "      <td>Adventure Works Laptop15.4W M1548 Red</td>\n",
              "      <td>Adventure Works</td>\n",
              "      <td>Adventure Works</td>\n",
              "      <td>Regular</td>\n",
              "      <td>Red</td>\n",
              "      <td>1394.32</td>\n",
              "      <td>1031.28</td>\n",
              "    </tr>\n",
              "    <tr>\n",
              "      <th>360</th>\n",
              "      <td>2008-02-04</td>\n",
              "      <td>2008-02-12</td>\n",
              "      <td>307</td>\n",
              "      <td>1203</td>\n",
              "      <td>19094</td>\n",
              "      <td>200802044CS549</td>\n",
              "      <td>324.69</td>\n",
              "      <td>980.00</td>\n",
              "      <td>16</td>\n",
              "      <td>3136.00</td>\n",
              "      <td>12544.00</td>\n",
              "      <td>Fabrikam Trendsetter 2/3'' 17mm X100 Grey</td>\n",
              "      <td>Fabrikam, Inc.</td>\n",
              "      <td>Fabrikam</td>\n",
              "      <td>Regular</td>\n",
              "      <td>Grey</td>\n",
              "      <td>5195.04</td>\n",
              "      <td>7348.96</td>\n",
              "    </tr>\n",
              "    <tr>\n",
              "      <th>498</th>\n",
              "      <td>2008-04-21</td>\n",
              "      <td>2008-04-26</td>\n",
              "      <td>306</td>\n",
              "      <td>366</td>\n",
              "      <td>19051</td>\n",
              "      <td>200804213CS567</td>\n",
              "      <td>348.58</td>\n",
              "      <td>758.00</td>\n",
              "      <td>7</td>\n",
              "      <td>371.42</td>\n",
              "      <td>4934.58</td>\n",
              "      <td>Adventure Works Laptop15.4W M1548 Black</td>\n",
              "      <td>Adventure Works</td>\n",
              "      <td>Adventure Works</td>\n",
              "      <td>Regular</td>\n",
              "      <td>Black</td>\n",
              "      <td>2440.06</td>\n",
              "      <td>2494.52</td>\n",
              "    </tr>\n",
              "  </tbody>\n",
              "</table>\n",
              "</div>\n",
              "      <button class=\"colab-df-convert\" onclick=\"convertToInteractive('df-3b87f478-6a4b-4597-a18d-eaf767bb6608')\"\n",
              "              title=\"Convert this dataframe to an interactive table.\"\n",
              "              style=\"display:none;\">\n",
              "        \n",
              "  <svg xmlns=\"http://www.w3.org/2000/svg\" height=\"24px\"viewBox=\"0 0 24 24\"\n",
              "       width=\"24px\">\n",
              "    <path d=\"M0 0h24v24H0V0z\" fill=\"none\"/>\n",
              "    <path d=\"M18.56 5.44l.94 2.06.94-2.06 2.06-.94-2.06-.94-.94-2.06-.94 2.06-2.06.94zm-11 1L8.5 8.5l.94-2.06 2.06-.94-2.06-.94L8.5 2.5l-.94 2.06-2.06.94zm10 10l.94 2.06.94-2.06 2.06-.94-2.06-.94-.94-2.06-.94 2.06-2.06.94z\"/><path d=\"M17.41 7.96l-1.37-1.37c-.4-.4-.92-.59-1.43-.59-.52 0-1.04.2-1.43.59L10.3 9.45l-7.72 7.72c-.78.78-.78 2.05 0 2.83L4 21.41c.39.39.9.59 1.41.59.51 0 1.02-.2 1.41-.59l7.78-7.78 2.81-2.81c.8-.78.8-2.07 0-2.86zM5.41 20L4 18.59l7.72-7.72 1.47 1.35L5.41 20z\"/>\n",
              "  </svg>\n",
              "      </button>\n",
              "      \n",
              "  <style>\n",
              "    .colab-df-container {\n",
              "      display:flex;\n",
              "      flex-wrap:wrap;\n",
              "      gap: 12px;\n",
              "    }\n",
              "\n",
              "    .colab-df-convert {\n",
              "      background-color: #E8F0FE;\n",
              "      border: none;\n",
              "      border-radius: 50%;\n",
              "      cursor: pointer;\n",
              "      display: none;\n",
              "      fill: #1967D2;\n",
              "      height: 32px;\n",
              "      padding: 0 0 0 0;\n",
              "      width: 32px;\n",
              "    }\n",
              "\n",
              "    .colab-df-convert:hover {\n",
              "      background-color: #E2EBFA;\n",
              "      box-shadow: 0px 1px 2px rgba(60, 64, 67, 0.3), 0px 1px 3px 1px rgba(60, 64, 67, 0.15);\n",
              "      fill: #174EA6;\n",
              "    }\n",
              "\n",
              "    [theme=dark] .colab-df-convert {\n",
              "      background-color: #3B4455;\n",
              "      fill: #D2E3FC;\n",
              "    }\n",
              "\n",
              "    [theme=dark] .colab-df-convert:hover {\n",
              "      background-color: #434B5C;\n",
              "      box-shadow: 0px 1px 3px 1px rgba(0, 0, 0, 0.15);\n",
              "      filter: drop-shadow(0px 1px 2px rgba(0, 0, 0, 0.3));\n",
              "      fill: #FFFFFF;\n",
              "    }\n",
              "  </style>\n",
              "\n",
              "      <script>\n",
              "        const buttonEl =\n",
              "          document.querySelector('#df-3b87f478-6a4b-4597-a18d-eaf767bb6608 button.colab-df-convert');\n",
              "        buttonEl.style.display =\n",
              "          google.colab.kernel.accessAllowed ? 'block' : 'none';\n",
              "\n",
              "        async function convertToInteractive(key) {\n",
              "          const element = document.querySelector('#df-3b87f478-6a4b-4597-a18d-eaf767bb6608');\n",
              "          const dataTable =\n",
              "            await google.colab.kernel.invokeFunction('convertToInteractive',\n",
              "                                                     [key], {});\n",
              "          if (!dataTable) return;\n",
              "\n",
              "          const docLinkHtml = 'Like what you see? Visit the ' +\n",
              "            '<a target=\"_blank\" href=https://colab.research.google.com/notebooks/data_table.ipynb>data table notebook</a>'\n",
              "            + ' to learn more about interactive tables.';\n",
              "          element.innerHTML = '';\n",
              "          dataTable['output_type'] = 'display_data';\n",
              "          await google.colab.output.renderOutput(dataTable, element);\n",
              "          const docLink = document.createElement('div');\n",
              "          docLink.innerHTML = docLinkHtml;\n",
              "          element.appendChild(docLink);\n",
              "        }\n",
              "      </script>\n",
              "    </div>\n",
              "  </div>\n",
              "  "
            ]
          },
          "metadata": {},
          "execution_count": 19
        }
      ]
    },
    {
      "cell_type": "code",
      "source": [
        "#Descobrindo quanto tempo levou para o envio dos produtos\n",
        "\n",
        "df['tempo_para_envio'] = (df['data_envio'] - df['data_venda']).dt.days"
      ],
      "metadata": {
        "id": "sAMUhcVAQiai"
      },
      "execution_count": 20,
      "outputs": []
    },
    {
      "cell_type": "code",
      "source": [
        "df.sample(2)"
      ],
      "metadata": {
        "colab": {
          "base_uri": "https://localhost:8080/",
          "height": 332
        },
        "id": "NQF1uUIHnvon",
        "outputId": "dcc8545c-63ef-448b-f613-539b1156ea5a"
      },
      "execution_count": 21,
      "outputs": [
        {
          "output_type": "execute_result",
          "data": {
            "text/plain": [
              "    data_venda data_envio  id_loja  id_produto  id_cliente       no._venda  \\\n",
              "52  2008-05-26 2008-06-01      306        1202       19052  200805264CS576   \n",
              "542 2009-11-04 2009-11-14      306        1178       19076  200911044CS767   \n",
              "\n",
              "     custo_unitário  preço_unitário  quantidade  valor_desconto  valor_venda  \\\n",
              "52           330.66           998.0           6             0.0       5988.0   \n",
              "542          330.66           998.0           4           798.4       3193.6   \n",
              "\n",
              "                                         produto      fabricante     marca  \\\n",
              "52    Fabrikam Trendsetter 1/3'' 8.5mm X200 Grey  Fabrikam, Inc.  Fabrikam   \n",
              "542  Fabrikam Trendsetter 1/3'' 8.5mm X200 White  Fabrikam, Inc.  Fabrikam   \n",
              "\n",
              "      classe    cor  custo_total  lucro_total  tempo_para_envio  \n",
              "52   Regular   Grey      1983.96      4004.04                 6  \n",
              "542  Regular  White      1322.64      1870.96                10  "
            ],
            "text/html": [
              "\n",
              "  <div id=\"df-b1cdd10c-e90e-4d6a-8811-d9a6f6a85fe8\">\n",
              "    <div class=\"colab-df-container\">\n",
              "      <div>\n",
              "<style scoped>\n",
              "    .dataframe tbody tr th:only-of-type {\n",
              "        vertical-align: middle;\n",
              "    }\n",
              "\n",
              "    .dataframe tbody tr th {\n",
              "        vertical-align: top;\n",
              "    }\n",
              "\n",
              "    .dataframe thead th {\n",
              "        text-align: right;\n",
              "    }\n",
              "</style>\n",
              "<table border=\"1\" class=\"dataframe\">\n",
              "  <thead>\n",
              "    <tr style=\"text-align: right;\">\n",
              "      <th></th>\n",
              "      <th>data_venda</th>\n",
              "      <th>data_envio</th>\n",
              "      <th>id_loja</th>\n",
              "      <th>id_produto</th>\n",
              "      <th>id_cliente</th>\n",
              "      <th>no._venda</th>\n",
              "      <th>custo_unitário</th>\n",
              "      <th>preço_unitário</th>\n",
              "      <th>quantidade</th>\n",
              "      <th>valor_desconto</th>\n",
              "      <th>valor_venda</th>\n",
              "      <th>produto</th>\n",
              "      <th>fabricante</th>\n",
              "      <th>marca</th>\n",
              "      <th>classe</th>\n",
              "      <th>cor</th>\n",
              "      <th>custo_total</th>\n",
              "      <th>lucro_total</th>\n",
              "      <th>tempo_para_envio</th>\n",
              "    </tr>\n",
              "  </thead>\n",
              "  <tbody>\n",
              "    <tr>\n",
              "      <th>52</th>\n",
              "      <td>2008-05-26</td>\n",
              "      <td>2008-06-01</td>\n",
              "      <td>306</td>\n",
              "      <td>1202</td>\n",
              "      <td>19052</td>\n",
              "      <td>200805264CS576</td>\n",
              "      <td>330.66</td>\n",
              "      <td>998.0</td>\n",
              "      <td>6</td>\n",
              "      <td>0.0</td>\n",
              "      <td>5988.0</td>\n",
              "      <td>Fabrikam Trendsetter 1/3'' 8.5mm X200 Grey</td>\n",
              "      <td>Fabrikam, Inc.</td>\n",
              "      <td>Fabrikam</td>\n",
              "      <td>Regular</td>\n",
              "      <td>Grey</td>\n",
              "      <td>1983.96</td>\n",
              "      <td>4004.04</td>\n",
              "      <td>6</td>\n",
              "    </tr>\n",
              "    <tr>\n",
              "      <th>542</th>\n",
              "      <td>2009-11-04</td>\n",
              "      <td>2009-11-14</td>\n",
              "      <td>306</td>\n",
              "      <td>1178</td>\n",
              "      <td>19076</td>\n",
              "      <td>200911044CS767</td>\n",
              "      <td>330.66</td>\n",
              "      <td>998.0</td>\n",
              "      <td>4</td>\n",
              "      <td>798.4</td>\n",
              "      <td>3193.6</td>\n",
              "      <td>Fabrikam Trendsetter 1/3'' 8.5mm X200 White</td>\n",
              "      <td>Fabrikam, Inc.</td>\n",
              "      <td>Fabrikam</td>\n",
              "      <td>Regular</td>\n",
              "      <td>White</td>\n",
              "      <td>1322.64</td>\n",
              "      <td>1870.96</td>\n",
              "      <td>10</td>\n",
              "    </tr>\n",
              "  </tbody>\n",
              "</table>\n",
              "</div>\n",
              "      <button class=\"colab-df-convert\" onclick=\"convertToInteractive('df-b1cdd10c-e90e-4d6a-8811-d9a6f6a85fe8')\"\n",
              "              title=\"Convert this dataframe to an interactive table.\"\n",
              "              style=\"display:none;\">\n",
              "        \n",
              "  <svg xmlns=\"http://www.w3.org/2000/svg\" height=\"24px\"viewBox=\"0 0 24 24\"\n",
              "       width=\"24px\">\n",
              "    <path d=\"M0 0h24v24H0V0z\" fill=\"none\"/>\n",
              "    <path d=\"M18.56 5.44l.94 2.06.94-2.06 2.06-.94-2.06-.94-.94-2.06-.94 2.06-2.06.94zm-11 1L8.5 8.5l.94-2.06 2.06-.94-2.06-.94L8.5 2.5l-.94 2.06-2.06.94zm10 10l.94 2.06.94-2.06 2.06-.94-2.06-.94-.94-2.06-.94 2.06-2.06.94z\"/><path d=\"M17.41 7.96l-1.37-1.37c-.4-.4-.92-.59-1.43-.59-.52 0-1.04.2-1.43.59L10.3 9.45l-7.72 7.72c-.78.78-.78 2.05 0 2.83L4 21.41c.39.39.9.59 1.41.59.51 0 1.02-.2 1.41-.59l7.78-7.78 2.81-2.81c.8-.78.8-2.07 0-2.86zM5.41 20L4 18.59l7.72-7.72 1.47 1.35L5.41 20z\"/>\n",
              "  </svg>\n",
              "      </button>\n",
              "      \n",
              "  <style>\n",
              "    .colab-df-container {\n",
              "      display:flex;\n",
              "      flex-wrap:wrap;\n",
              "      gap: 12px;\n",
              "    }\n",
              "\n",
              "    .colab-df-convert {\n",
              "      background-color: #E8F0FE;\n",
              "      border: none;\n",
              "      border-radius: 50%;\n",
              "      cursor: pointer;\n",
              "      display: none;\n",
              "      fill: #1967D2;\n",
              "      height: 32px;\n",
              "      padding: 0 0 0 0;\n",
              "      width: 32px;\n",
              "    }\n",
              "\n",
              "    .colab-df-convert:hover {\n",
              "      background-color: #E2EBFA;\n",
              "      box-shadow: 0px 1px 2px rgba(60, 64, 67, 0.3), 0px 1px 3px 1px rgba(60, 64, 67, 0.15);\n",
              "      fill: #174EA6;\n",
              "    }\n",
              "\n",
              "    [theme=dark] .colab-df-convert {\n",
              "      background-color: #3B4455;\n",
              "      fill: #D2E3FC;\n",
              "    }\n",
              "\n",
              "    [theme=dark] .colab-df-convert:hover {\n",
              "      background-color: #434B5C;\n",
              "      box-shadow: 0px 1px 3px 1px rgba(0, 0, 0, 0.15);\n",
              "      filter: drop-shadow(0px 1px 2px rgba(0, 0, 0, 0.3));\n",
              "      fill: #FFFFFF;\n",
              "    }\n",
              "  </style>\n",
              "\n",
              "      <script>\n",
              "        const buttonEl =\n",
              "          document.querySelector('#df-b1cdd10c-e90e-4d6a-8811-d9a6f6a85fe8 button.colab-df-convert');\n",
              "        buttonEl.style.display =\n",
              "          google.colab.kernel.accessAllowed ? 'block' : 'none';\n",
              "\n",
              "        async function convertToInteractive(key) {\n",
              "          const element = document.querySelector('#df-b1cdd10c-e90e-4d6a-8811-d9a6f6a85fe8');\n",
              "          const dataTable =\n",
              "            await google.colab.kernel.invokeFunction('convertToInteractive',\n",
              "                                                     [key], {});\n",
              "          if (!dataTable) return;\n",
              "\n",
              "          const docLinkHtml = 'Like what you see? Visit the ' +\n",
              "            '<a target=\"_blank\" href=https://colab.research.google.com/notebooks/data_table.ipynb>data table notebook</a>'\n",
              "            + ' to learn more about interactive tables.';\n",
              "          element.innerHTML = '';\n",
              "          dataTable['output_type'] = 'display_data';\n",
              "          await google.colab.output.renderOutput(dataTable, element);\n",
              "          const docLink = document.createElement('div');\n",
              "          docLink.innerHTML = docLinkHtml;\n",
              "          element.appendChild(docLink);\n",
              "        }\n",
              "      </script>\n",
              "    </div>\n",
              "  </div>\n",
              "  "
            ]
          },
          "metadata": {},
          "execution_count": 21
        }
      ]
    },
    {
      "cell_type": "code",
      "source": [
        "#Verificando o tempo médio de envio por Marca\n",
        "\n",
        "df.groupby('marca')['tempo_para_envio'].mean()"
      ],
      "metadata": {
        "colab": {
          "base_uri": "https://localhost:8080/"
        },
        "id": "wY9GEzytzw6M",
        "outputId": "8fb52d34-b52d-4460-aff6-7042556958d6"
      },
      "execution_count": 22,
      "outputs": [
        {
          "output_type": "execute_result",
          "data": {
            "text/plain": [
              "marca\n",
              "Adventure Works    8.663866\n",
              "Contoso            8.470930\n",
              "Fabrikam           8.510121\n",
              "Name: tempo_para_envio, dtype: float64"
            ]
          },
          "metadata": {},
          "execution_count": 22
        }
      ]
    },
    {
      "cell_type": "code",
      "source": [
        "#Formatando o sistema para ficar com duas casas decimais\n",
        "\n",
        "pd.options.display.float_format = '{:20,.2f}'.format"
      ],
      "metadata": {
        "id": "R75QWXyeLbUr"
      },
      "execution_count": 23,
      "outputs": []
    },
    {
      "cell_type": "code",
      "source": [
        "#Lucro das Marcas por Ano\n",
        "df.groupby([df['data_venda'].dt.year,'marca'])['lucro_total'].sum().plot(kind='barh', title = 'Lucro x Marca (ano)')\n",
        "plt.xlabel('Lucro (R$)')\n",
        "plt.ylabel('Marcas')"
      ],
      "metadata": {
        "colab": {
          "base_uri": "https://localhost:8080/",
          "height": 393
        },
        "id": "hWeWeKRVJ5-F",
        "outputId": "e9237a6b-1c1a-433c-9119-33c27a2fd896"
      },
      "execution_count": 24,
      "outputs": [
        {
          "output_type": "execute_result",
          "data": {
            "text/plain": [
              "Text(0, 0.5, 'Marcas')"
            ]
          },
          "metadata": {},
          "execution_count": 24
        },
        {
          "output_type": "display_data",
          "data": {
            "text/plain": [
              "<Figure size 576x396 with 1 Axes>"
            ],
            "image/png": "[encoded data removed]"
          },
          "metadata": {}
        }
      ]
    },
    {
      "cell_type": "code",
      "source": [
        "#Lucro de cada Marca por mês em cada ano\n",
        "\n",
        "df.groupby([df['data_venda'].dt.year,df['data_venda'].dt.month,'marca'])['lucro_total'].sum()"
      ],
      "metadata": {
        "colab": {
          "base_uri": "https://localhost:8080/"
        },
        "id": "rwWSDSstKje1",
        "outputId": "61758bcc-95bf-49b6-eb3c-82d05c1c46e9"
      },
      "execution_count": 25,
      "outputs": [
        {
          "output_type": "execute_result",
          "data": {
            "text/plain": [
              "data_venda  data_venda  marca          \n",
              "2008        1           Adventure Works              10,008.60\n",
              "                        Fabrikam                     62,624.84\n",
              "            2           Adventure Works              35,425.16\n",
              "                        Fabrikam                    103,531.73\n",
              "            3           Adventure Works              17,840.64\n",
              "                                                  ...         \n",
              "2009        11          Contoso                      13,508.26\n",
              "                        Fabrikam                     88,392.89\n",
              "            12          Adventure Works              26,047.30\n",
              "                        Contoso                      16,136.91\n",
              "                        Fabrikam                    100,146.32\n",
              "Name: lucro_total, Length: 68, dtype: float64"
            ]
          },
          "metadata": {},
          "execution_count": 25
        }
      ]
    },
    {
      "cell_type": "code",
      "source": [
        "df.groupby([df['data_venda'].dt.year,df['data_venda'].dt.month])['lucro_total'].sum().plot(title = 'Lucro Total Mensal')\n",
        "plt.ylabel('Lucro (R$)')\n",
        "plt.xlabel('Ano, Mês')"
      ],
      "metadata": {
        "colab": {
          "base_uri": "https://localhost:8080/",
          "height": 393
        },
        "id": "bKYTy5Z6RNMN",
        "outputId": "7338430c-55ed-40d6-f041-43e78b079a18"
      },
      "execution_count": 26,
      "outputs": [
        {
          "output_type": "execute_result",
          "data": {
            "text/plain": [
              "Text(0.5, 0, 'Ano, Mês')"
            ]
          },
          "metadata": {},
          "execution_count": 26
        },
        {
          "output_type": "display_data",
          "data": {
            "text/plain": [
              "<Figure size 576x396 with 1 Axes>"
            ],
            "image/png": "[encoded data removed]"
          },
          "metadata": {}
        }
      ]
    },
    {
      "cell_type": "markdown",
      "source": [
        "Para a empresa o ano de 2008 foi ano bem lucrativo tendo seu lucro em sua maioria na crescente, chegando a ter a maior alta computada pelo sistema que foi no mês de Junho, já o ano de 2009 teve uma vairação muito grande dos lucros, tmabém chegando a seu menor valor que foi por volta de Agosto de 2009."
      ],
      "metadata": {
        "id": "o2vGyOLYQeDN"
      }
    },
    {
      "cell_type": "code",
      "source": [
        "#Verificando o produto que mais vendeu em quantidade\n",
        "\n",
        "df.groupby('produto')['quantidade'].sum().sort_values(ascending = False)"
      ],
      "metadata": {
        "colab": {
          "base_uri": "https://localhost:8080/"
        },
        "id": "U5bNZZPOwg2Z",
        "outputId": "9c2abd25-c0e7-457a-887b-be43ef51f7b7"
      },
      "execution_count": 27,
      "outputs": [
        {
          "output_type": "execute_result",
          "data": {
            "text/plain": [
              "produto\n",
              "Headphone Adapter for Contoso Phone E130 Silver    25232\n",
              "Headphone Adapter for Contoso Phone E130 White     25008\n",
              "Adventure Works Laptop15.4W M1548 Black             1089\n",
              "Fabrikam Trendsetter 2/3'' 17mm X100 Grey           1087\n",
              "Adventure Works Laptop15.4W M1548 Red               1047\n",
              "Fabrikam Trendsetter 2/3'' 17mm X100 Black           926\n",
              "Fabrikam Trendsetter 1/3'' 8.5mm X200 Black          884\n",
              "Fabrikam Trendsetter 1/3'' 8.5mm X200 Grey           845\n",
              "Fabrikam Trendsetter 1/3'' 8.5mm X200 White          789\n",
              "Name: quantidade, dtype: int64"
            ]
          },
          "metadata": {},
          "execution_count": 27
        }
      ]
    },
    {
      "cell_type": "code",
      "source": [
        "df.groupby('produto')['quantidade'].sum().sort_values(ascending = False).plot(kind='barh',title ='Produto x Quantidade')\n",
        "plt.ylabel('Produto')\n",
        "plt.xlabel('Quantidade')"
      ],
      "metadata": {
        "colab": {
          "base_uri": "https://localhost:8080/",
          "height": 393
        },
        "id": "LHTi_YIJQER3",
        "outputId": "cc125f99-5758-47a2-c4cd-a3872688bfbd"
      },
      "execution_count": 28,
      "outputs": [
        {
          "output_type": "execute_result",
          "data": {
            "text/plain": [
              "Text(0.5, 0, 'Quantidade')"
            ]
          },
          "metadata": {},
          "execution_count": 28
        },
        {
          "output_type": "display_data",
          "data": {
            "text/plain": [
              "<Figure size 576x396 with 1 Axes>"
            ],
            "image/png": "[encoded data removed]"
          },
          "metadata": {}
        }
      ]
    },
    {
      "cell_type": "code",
      "source": [
        "df.groupby('produto')['lucro_total'].sum().sort_values(ascending = False)"
      ],
      "metadata": {
        "colab": {
          "base_uri": "https://localhost:8080/"
        },
        "id": "bvGWdE2Kwvzl",
        "outputId": "809b43fb-1585-4d81-ce5a-2cdea859defb"
      },
      "execution_count": 30,
      "outputs": [
        {
          "output_type": "execute_result",
          "data": {
            "text/plain": [
              "produto\n",
              "Fabrikam Trendsetter 2/3'' 17mm X100 Grey                   608,098.97\n",
              "Fabrikam Trendsetter 2/3'' 17mm X100 Black                  520,733.86\n",
              "Fabrikam Trendsetter 1/3'' 8.5mm X200 Black                 507,214.23\n",
              "Fabrikam Trendsetter 1/3'' 8.5mm X200 Grey                  501,926.50\n",
              "Fabrikam Trendsetter 1/3'' 8.5mm X200 White                 453,138.34\n",
              "Adventure Works Laptop15.4W M1548 Black                     367,185.56\n",
              "Adventure Works Laptop15.4W M1548 Red                       344,850.68\n",
              "Headphone Adapter for Contoso Phone E130 Silver              98,160.50\n",
              "Headphone Adapter for Contoso Phone E130 White               96,514.45\n",
              "Name: lucro_total, dtype: float64"
            ]
          },
          "metadata": {},
          "execution_count": 30
        }
      ]
    },
    {
      "cell_type": "code",
      "source": [
        "df.groupby('produto')['lucro_total'].sum().sort_values(ascending = False).plot(kind ='barh',title ='Produto x Lucro')\n",
        "plt.ylabel('Produto')\n",
        "plt.xlabel('Lucro (R$)')"
      ],
      "metadata": {
        "colab": {
          "base_uri": "https://localhost:8080/",
          "height": 393
        },
        "id": "OEy4tC-gQUuP",
        "outputId": "642587ff-cf1a-45e4-d3da-88367f86b878"
      },
      "execution_count": 31,
      "outputs": [
        {
          "output_type": "execute_result",
          "data": {
            "text/plain": [
              "Text(0.5, 0, 'Lucro (R$)')"
            ]
          },
          "metadata": {},
          "execution_count": 31
        },
        {
          "output_type": "display_data",
          "data": {
            "text/plain": [
              "<Figure size 576x396 with 1 Axes>"
            ],
            "image/png": "[encoded data removed]"
          },
          "metadata": {}
        }
      ]
    },
    {
      "cell_type": "markdown",
      "source": [
        "Podemos observar com os gráficos acima que mesmo o Headphone Adapter for Contoso Phone E130 Silver sendo o que produto que mais vendeu, ele foi um dos que menos deu Lucro."
      ],
      "metadata": {
        "id": "sE6nz1S7n0nS"
      }
    },
    {
      "cell_type": "code",
      "source": [
        "df.groupby('produto')['valor_venda'].max().sort_values(ascending = False)"
      ],
      "metadata": {
        "colab": {
          "base_uri": "https://localhost:8080/"
        },
        "id": "8u4MaY_KxcwL",
        "outputId": "af94ee9a-00fe-48f6-9676-c74f115c05b8"
      },
      "execution_count": 33,
      "outputs": [
        {
          "output_type": "execute_result",
          "data": {
            "text/plain": [
              "produto\n",
              "Fabrikam Trendsetter 2/3'' 17mm X100 Black                   29,400.00\n",
              "Fabrikam Trendsetter 1/3'' 8.5mm X200 Black                  25,174.80\n",
              "Fabrikam Trendsetter 2/3'' 17mm X100 Grey                    25,088.00\n",
              "Fabrikam Trendsetter 1/3'' 8.5mm X200 Grey                   23,952.00\n",
              "Fabrikam Trendsetter 1/3'' 8.5mm X200 White                  21,347.22\n",
              "Adventure Works Laptop15.4W M1548 Red                        19,404.80\n",
              "Adventure Works Laptop15.4W M1548 Black                      19,329.00\n",
              "Headphone Adapter for Contoso Phone E130 Silver              14,385.60\n",
              "Headphone Adapter for Contoso Phone E130 White               13,246.74\n",
              "Name: valor_venda, dtype: float64"
            ]
          },
          "metadata": {},
          "execution_count": 33
        }
      ]
    },
    {
      "cell_type": "code",
      "source": [
        "df.groupby('produto')['valor_venda'].max().sort_values(ascending = False).plot(kind='barh',title = 'Produto x Valor de Venda')\n",
        "plt.ylabel('Produto')\n",
        "plt.xlabel('Valor de Venda (R$)')"
      ],
      "metadata": {
        "colab": {
          "base_uri": "https://localhost:8080/",
          "height": 393
        },
        "id": "Ezvl6U4_QZXp",
        "outputId": "ef4a5c14-e989-4bab-98ab-5563774154b3"
      },
      "execution_count": 34,
      "outputs": [
        {
          "output_type": "execute_result",
          "data": {
            "text/plain": [
              "Text(0.5, 0, 'Valor de Venda (R$)')"
            ]
          },
          "metadata": {},
          "execution_count": 34
        },
        {
          "output_type": "display_data",
          "data": {
            "text/plain": [
              "<Figure size 576x396 with 1 Axes>"
            ],
            "image/png": "[encoded data removed]"
          },
          "metadata": {}
        }
      ]
    },
    {
      "cell_type": "markdown",
      "source": [
        "Com o gráfico acima podemos observar o por que o Headphone Adapter for Contoso Phone E130 Silver mesmo sendo o produto que mais vendeu não foi o mais lucro, pois o seu valor de venda é bem abaixo se comparado a outros prosuto com o Fabrikam Trendsetter 2/3'' 17mm X100 Grey que o produto mias lucrativo.\n"
      ],
      "metadata": {
        "id": "IrCNRPSponB9"
      }
    },
    {
      "cell_type": "code",
      "source": [
        "#Loja que mais vendeu\n",
        "\n",
        "df.groupby('id_loja')['quantidade'].sum()"
      ],
      "metadata": {
        "colab": {
          "base_uri": "https://localhost:8080/"
        },
        "id": "-IgRQrxF0zz3",
        "outputId": "a97e2ea1-3067-42e4-c3c0-8c7938a5815e"
      },
      "execution_count": 35,
      "outputs": [
        {
          "output_type": "execute_result",
          "data": {
            "text/plain": [
              "id_loja\n",
              "199    20119\n",
              "306    12215\n",
              "307    24573\n",
              "Name: quantidade, dtype: int64"
            ]
          },
          "metadata": {},
          "execution_count": 35
        }
      ]
    },
    {
      "cell_type": "code",
      "source": [
        "#Loja com Maior Lucro\n",
        "\n",
        "round(df.groupby('id_loja')['lucro_total'].sum(),2)"
      ],
      "metadata": {
        "colab": {
          "base_uri": "https://localhost:8080/"
        },
        "id": "uI5v6UdO1E3W",
        "outputId": "a98842d7-9d79-48a4-b13b-41fcdf02abd3"
      },
      "execution_count": 36,
      "outputs": [
        {
          "output_type": "execute_result",
          "data": {
            "text/plain": [
              "id_loja\n",
              "199           1,294,718.51\n",
              "306           1,016,493.12\n",
              "307           1,186,611.46\n",
              "Name: lucro_total, dtype: float64"
            ]
          },
          "metadata": {},
          "execution_count": 36
        }
      ]
    },
    {
      "cell_type": "markdown",
      "source": [
        "Nessa situação podemos ver que a loja que mais vendeu foi realmente a que trouxe mais lucro entre as 3 listas."
      ],
      "metadata": {
        "id": "xbA9MKZJqudC"
      }
    },
    {
      "cell_type": "code",
      "source": [
        "#Produto mais vendido por Loja\n",
        "\n",
        "df.groupby(['id_loja','produto'])['quantidade'].sum()"
      ],
      "metadata": {
        "colab": {
          "base_uri": "https://localhost:8080/"
        },
        "id": "h2L4Eosl1TLq",
        "outputId": "127341a8-3ca7-4bf4-dd4e-3d705e05a22d"
      },
      "execution_count": 37,
      "outputs": [
        {
          "output_type": "execute_result",
          "data": {
            "text/plain": [
              "id_loja  produto                                        \n",
              "199      Adventure Works Laptop15.4W M1548 Black              324\n",
              "         Adventure Works Laptop15.4W M1548 Red                313\n",
              "         Fabrikam Trendsetter 1/3'' 8.5mm X200 Black          359\n",
              "         Fabrikam Trendsetter 1/3'' 8.5mm X200 Grey           323\n",
              "         Fabrikam Trendsetter 1/3'' 8.5mm X200 White          229\n",
              "         Fabrikam Trendsetter 2/3'' 17mm X100 Black           433\n",
              "         Fabrikam Trendsetter 2/3'' 17mm X100 Grey            407\n",
              "         Headphone Adapter for Contoso Phone E130 Silver     7891\n",
              "         Headphone Adapter for Contoso Phone E130 White      9840\n",
              "306      Adventure Works Laptop15.4W M1548 Black              353\n",
              "         Adventure Works Laptop15.4W M1548 Red                320\n",
              "         Fabrikam Trendsetter 1/3'' 8.5mm X200 Black          238\n",
              "         Fabrikam Trendsetter 1/3'' 8.5mm X200 Grey           227\n",
              "         Fabrikam Trendsetter 1/3'' 8.5mm X200 White          294\n",
              "         Fabrikam Trendsetter 2/3'' 17mm X100 Black           253\n",
              "         Fabrikam Trendsetter 2/3'' 17mm X100 Grey            269\n",
              "         Headphone Adapter for Contoso Phone E130 Silver     6481\n",
              "         Headphone Adapter for Contoso Phone E130 White      3780\n",
              "307      Adventure Works Laptop15.4W M1548 Black              412\n",
              "         Adventure Works Laptop15.4W M1548 Red                414\n",
              "         Fabrikam Trendsetter 1/3'' 8.5mm X200 Black          287\n",
              "         Fabrikam Trendsetter 1/3'' 8.5mm X200 Grey           295\n",
              "         Fabrikam Trendsetter 1/3'' 8.5mm X200 White          266\n",
              "         Fabrikam Trendsetter 2/3'' 17mm X100 Black           240\n",
              "         Fabrikam Trendsetter 2/3'' 17mm X100 Grey            411\n",
              "         Headphone Adapter for Contoso Phone E130 Silver    10860\n",
              "         Headphone Adapter for Contoso Phone E130 White     11388\n",
              "Name: quantidade, dtype: int64"
            ]
          },
          "metadata": {},
          "execution_count": 37
        }
      ]
    },
    {
      "cell_type": "markdown",
      "source": [
        "Nessa tabela conseguimos ver com maior clareza que o Headphone Adapter for Contoso Phone E130 Silver foi o produto que mais vendeu em todas as lojas."
      ],
      "metadata": {
        "id": "G5yafpKEq65l"
      }
    },
    {
      "cell_type": "code",
      "source": [
        "df.head(1)"
      ],
      "metadata": {
        "colab": {
          "base_uri": "https://localhost:8080/",
          "height": 197
        },
        "id": "Crd10NCi3avK",
        "outputId": "fef52a62-b9fc-4ae8-81ba-3c4da0bc4d29"
      },
      "execution_count": 38,
      "outputs": [
        {
          "output_type": "execute_result",
          "data": {
            "text/plain": [
              "  data_venda data_envio  id_loja  id_produto  id_cliente       no._venda  \\\n",
              "0 2008-05-09 2008-05-29      199         384       18839  200805093CS607   \n",
              "\n",
              "        custo_unitário       preço_unitário  quantidade       valor_desconto  \\\n",
              "0               348.58               758.00           6                 0.00   \n",
              "\n",
              "           valor_venda                                produto  \\\n",
              "0             4,548.00  Adventure Works Laptop15.4W M1548 Red   \n",
              "\n",
              "        fabricante            marca   classe  cor          custo_total  \\\n",
              "0  Adventure Works  Adventure Works  Regular  Red             2,091.48   \n",
              "\n",
              "           lucro_total  tempo_para_envio  \n",
              "0             2,456.52                20  "
            ],
            "text/html": [
              "\n",
              "  <div id=\"df-3c194f74-0041-44a1-a946-cd9f67532be6\">\n",
              "    <div class=\"colab-df-container\">\n",
              "      <div>\n",
              "<style scoped>\n",
              "    .dataframe tbody tr th:only-of-type {\n",
              "        vertical-align: middle;\n",
              "    }\n",
              "\n",
              "    .dataframe tbody tr th {\n",
              "        vertical-align: top;\n",
              "    }\n",
              "\n",
              "    .dataframe thead th {\n",
              "        text-align: right;\n",
              "    }\n",
              "</style>\n",
              "<table border=\"1\" class=\"dataframe\">\n",
              "  <thead>\n",
              "    <tr style=\"text-align: right;\">\n",
              "      <th></th>\n",
              "      <th>data_venda</th>\n",
              "      <th>data_envio</th>\n",
              "      <th>id_loja</th>\n",
              "      <th>id_produto</th>\n",
              "      <th>id_cliente</th>\n",
              "      <th>no._venda</th>\n",
              "      <th>custo_unitário</th>\n",
              "      <th>preço_unitário</th>\n",
              "      <th>quantidade</th>\n",
              "      <th>valor_desconto</th>\n",
              "      <th>valor_venda</th>\n",
              "      <th>produto</th>\n",
              "      <th>fabricante</th>\n",
              "      <th>marca</th>\n",
              "      <th>classe</th>\n",
              "      <th>cor</th>\n",
              "      <th>custo_total</th>\n",
              "      <th>lucro_total</th>\n",
              "      <th>tempo_para_envio</th>\n",
              "    </tr>\n",
              "  </thead>\n",
              "  <tbody>\n",
              "    <tr>\n",
              "      <th>0</th>\n",
              "      <td>2008-05-09</td>\n",
              "      <td>2008-05-29</td>\n",
              "      <td>199</td>\n",
              "      <td>384</td>\n",
              "      <td>18839</td>\n",
              "      <td>200805093CS607</td>\n",
              "      <td>348.58</td>\n",
              "      <td>758.00</td>\n",
              "      <td>6</td>\n",
              "      <td>0.00</td>\n",
              "      <td>4,548.00</td>\n",
              "      <td>Adventure Works Laptop15.4W M1548 Red</td>\n",
              "      <td>Adventure Works</td>\n",
              "      <td>Adventure Works</td>\n",
              "      <td>Regular</td>\n",
              "      <td>Red</td>\n",
              "      <td>2,091.48</td>\n",
              "      <td>2,456.52</td>\n",
              "      <td>20</td>\n",
              "    </tr>\n",
              "  </tbody>\n",
              "</table>\n",
              "</div>\n",
              "      <button class=\"colab-df-convert\" onclick=\"convertToInteractive('df-3c194f74-0041-44a1-a946-cd9f67532be6')\"\n",
              "              title=\"Convert this dataframe to an interactive table.\"\n",
              "              style=\"display:none;\">\n",
              "        \n",
              "  <svg xmlns=\"http://www.w3.org/2000/svg\" height=\"24px\"viewBox=\"0 0 24 24\"\n",
              "       width=\"24px\">\n",
              "    <path d=\"M0 0h24v24H0V0z\" fill=\"none\"/>\n",
              "    <path d=\"M18.56 5.44l.94 2.06.94-2.06 2.06-.94-2.06-.94-.94-2.06-.94 2.06-2.06.94zm-11 1L8.5 8.5l.94-2.06 2.06-.94-2.06-.94L8.5 2.5l-.94 2.06-2.06.94zm10 10l.94 2.06.94-2.06 2.06-.94-2.06-.94-.94-2.06-.94 2.06-2.06.94z\"/><path d=\"M17.41 7.96l-1.37-1.37c-.4-.4-.92-.59-1.43-.59-.52 0-1.04.2-1.43.59L10.3 9.45l-7.72 7.72c-.78.78-.78 2.05 0 2.83L4 21.41c.39.39.9.59 1.41.59.51 0 1.02-.2 1.41-.59l7.78-7.78 2.81-2.81c.8-.78.8-2.07 0-2.86zM5.41 20L4 18.59l7.72-7.72 1.47 1.35L5.41 20z\"/>\n",
              "  </svg>\n",
              "      </button>\n",
              "      \n",
              "  <style>\n",
              "    .colab-df-container {\n",
              "      display:flex;\n",
              "      flex-wrap:wrap;\n",
              "      gap: 12px;\n",
              "    }\n",
              "\n",
              "    .colab-df-convert {\n",
              "      background-color: #E8F0FE;\n",
              "      border: none;\n",
              "      border-radius: 50%;\n",
              "      cursor: pointer;\n",
              "      display: none;\n",
              "      fill: #1967D2;\n",
              "      height: 32px;\n",
              "      padding: 0 0 0 0;\n",
              "      width: 32px;\n",
              "    }\n",
              "\n",
              "    .colab-df-convert:hover {\n",
              "      background-color: #E2EBFA;\n",
              "      box-shadow: 0px 1px 2px rgba(60, 64, 67, 0.3), 0px 1px 3px 1px rgba(60, 64, 67, 0.15);\n",
              "      fill: #174EA6;\n",
              "    }\n",
              "\n",
              "    [theme=dark] .colab-df-convert {\n",
              "      background-color: #3B4455;\n",
              "      fill: #D2E3FC;\n",
              "    }\n",
              "\n",
              "    [theme=dark] .colab-df-convert:hover {\n",
              "      background-color: #434B5C;\n",
              "      box-shadow: 0px 1px 3px 1px rgba(0, 0, 0, 0.15);\n",
              "      filter: drop-shadow(0px 1px 2px rgba(0, 0, 0, 0.3));\n",
              "      fill: #FFFFFF;\n",
              "    }\n",
              "  </style>\n",
              "\n",
              "      <script>\n",
              "        const buttonEl =\n",
              "          document.querySelector('#df-3c194f74-0041-44a1-a946-cd9f67532be6 button.colab-df-convert');\n",
              "        buttonEl.style.display =\n",
              "          google.colab.kernel.accessAllowed ? 'block' : 'none';\n",
              "\n",
              "        async function convertToInteractive(key) {\n",
              "          const element = document.querySelector('#df-3c194f74-0041-44a1-a946-cd9f67532be6');\n",
              "          const dataTable =\n",
              "            await google.colab.kernel.invokeFunction('convertToInteractive',\n",
              "                                                     [key], {});\n",
              "          if (!dataTable) return;\n",
              "\n",
              "          const docLinkHtml = 'Like what you see? Visit the ' +\n",
              "            '<a target=\"_blank\" href=https://colab.research.google.com/notebooks/data_table.ipynb>data table notebook</a>'\n",
              "            + ' to learn more about interactive tables.';\n",
              "          element.innerHTML = '';\n",
              "          dataTable['output_type'] = 'display_data';\n",
              "          await google.colab.output.renderOutput(dataTable, element);\n",
              "          const docLink = document.createElement('div');\n",
              "          docLink.innerHTML = docLinkHtml;\n",
              "          element.appendChild(docLink);\n",
              "        }\n",
              "      </script>\n",
              "    </div>\n",
              "  </div>\n",
              "  "
            ]
          },
          "metadata": {},
          "execution_count": 38
        }
      ]
    },
    {
      "cell_type": "code",
      "source": [
        "df.groupby(['marca','cor'])['quantidade'].sum()"
      ],
      "metadata": {
        "colab": {
          "base_uri": "https://localhost:8080/"
        },
        "id": "rB9EXI-X1lHT",
        "outputId": "e9072a7c-801a-49e1-8c38-6a0dbb233b4b"
      },
      "execution_count": 39,
      "outputs": [
        {
          "output_type": "execute_result",
          "data": {
            "text/plain": [
              "marca            cor   \n",
              "Adventure Works  Black      1089\n",
              "                 Red        1047\n",
              "Contoso          Silver    25232\n",
              "                 White     25008\n",
              "Fabrikam         Black      1810\n",
              "                 Grey       1932\n",
              "                 White       789\n",
              "Name: quantidade, dtype: int64"
            ]
          },
          "metadata": {},
          "execution_count": 39
        }
      ]
    },
    {
      "cell_type": "markdown",
      "source": [
        "Novamente sendo puxado pela grande venda dos headphones, as cores white e silver da marca contoso foram as cores mais vendidas entre os produtos."
      ],
      "metadata": {
        "id": "6DsoEj3KrQzq"
      }
    },
    {
      "cell_type": "code",
      "source": [
        "df['id_cliente'].value_counts()"
      ],
      "metadata": {
        "colab": {
          "base_uri": "https://localhost:8080/"
        },
        "id": "5fuSsTQY31-K",
        "outputId": "731c1b6e-e7e1-4bec-8fee-6fd31ae0646b"
      },
      "execution_count": 40,
      "outputs": [
        {
          "output_type": "execute_result",
          "data": {
            "text/plain": [
              "19060    27\n",
              "19094    22\n",
              "19057    22\n",
              "19052    21\n",
              "19053    18\n",
              "         ..\n",
              "18949     1\n",
              "18937     1\n",
              "19025     1\n",
              "18946     1\n",
              "18867     1\n",
              "Name: id_cliente, Length: 168, dtype: int64"
            ]
          },
          "metadata": {},
          "execution_count": 40
        }
      ]
    },
    {
      "cell_type": "code",
      "source": [
        "count = pd.DataFrame(data = df['id_cliente'].value_counts())\n",
        "count.head()"
      ],
      "metadata": {
        "colab": {
          "base_uri": "https://localhost:8080/",
          "height": 206
        },
        "id": "--Bk1Uyzrum9",
        "outputId": "ad0b07ee-45a2-422a-9876-9f803189a18e"
      },
      "execution_count": 49,
      "outputs": [
        {
          "output_type": "execute_result",
          "data": {
            "text/plain": [
              "       id_cliente\n",
              "19060          27\n",
              "19094          22\n",
              "19057          22\n",
              "19052          21\n",
              "19053          18"
            ],
            "text/html": [
              "\n",
              "  <div id=\"df-e649de7e-11e0-40fa-924e-59920884d7fd\">\n",
              "    <div class=\"colab-df-container\">\n",
              "      <div>\n",
              "<style scoped>\n",
              "    .dataframe tbody tr th:only-of-type {\n",
              "        vertical-align: middle;\n",
              "    }\n",
              "\n",
              "    .dataframe tbody tr th {\n",
              "        vertical-align: top;\n",
              "    }\n",
              "\n",
              "    .dataframe thead th {\n",
              "        text-align: right;\n",
              "    }\n",
              "</style>\n",
              "<table border=\"1\" class=\"dataframe\">\n",
              "  <thead>\n",
              "    <tr style=\"text-align: right;\">\n",
              "      <th></th>\n",
              "      <th>id_cliente</th>\n",
              "    </tr>\n",
              "  </thead>\n",
              "  <tbody>\n",
              "    <tr>\n",
              "      <th>19060</th>\n",
              "      <td>27</td>\n",
              "    </tr>\n",
              "    <tr>\n",
              "      <th>19094</th>\n",
              "      <td>22</td>\n",
              "    </tr>\n",
              "    <tr>\n",
              "      <th>19057</th>\n",
              "      <td>22</td>\n",
              "    </tr>\n",
              "    <tr>\n",
              "      <th>19052</th>\n",
              "      <td>21</td>\n",
              "    </tr>\n",
              "    <tr>\n",
              "      <th>19053</th>\n",
              "      <td>18</td>\n",
              "    </tr>\n",
              "  </tbody>\n",
              "</table>\n",
              "</div>\n",
              "      <button class=\"colab-df-convert\" onclick=\"convertToInteractive('df-e649de7e-11e0-40fa-924e-59920884d7fd')\"\n",
              "              title=\"Convert this dataframe to an interactive table.\"\n",
              "              style=\"display:none;\">\n",
              "        \n",
              "  <svg xmlns=\"http://www.w3.org/2000/svg\" height=\"24px\"viewBox=\"0 0 24 24\"\n",
              "       width=\"24px\">\n",
              "    <path d=\"M0 0h24v24H0V0z\" fill=\"none\"/>\n",
              "    <path d=\"M18.56 5.44l.94 2.06.94-2.06 2.06-.94-2.06-.94-.94-2.06-.94 2.06-2.06.94zm-11 1L8.5 8.5l.94-2.06 2.06-.94-2.06-.94L8.5 2.5l-.94 2.06-2.06.94zm10 10l.94 2.06.94-2.06 2.06-.94-2.06-.94-.94-2.06-.94 2.06-2.06.94z\"/><path d=\"M17.41 7.96l-1.37-1.37c-.4-.4-.92-.59-1.43-.59-.52 0-1.04.2-1.43.59L10.3 9.45l-7.72 7.72c-.78.78-.78 2.05 0 2.83L4 21.41c.39.39.9.59 1.41.59.51 0 1.02-.2 1.41-.59l7.78-7.78 2.81-2.81c.8-.78.8-2.07 0-2.86zM5.41 20L4 18.59l7.72-7.72 1.47 1.35L5.41 20z\"/>\n",
              "  </svg>\n",
              "      </button>\n",
              "      \n",
              "  <style>\n",
              "    .colab-df-container {\n",
              "      display:flex;\n",
              "      flex-wrap:wrap;\n",
              "      gap: 12px;\n",
              "    }\n",
              "\n",
              "    .colab-df-convert {\n",
              "      background-color: #E8F0FE;\n",
              "      border: none;\n",
              "      border-radius: 50%;\n",
              "      cursor: pointer;\n",
              "      display: none;\n",
              "      fill: #1967D2;\n",
              "      height: 32px;\n",
              "      padding: 0 0 0 0;\n",
              "      width: 32px;\n",
              "    }\n",
              "\n",
              "    .colab-df-convert:hover {\n",
              "      background-color: #E2EBFA;\n",
              "      box-shadow: 0px 1px 2px rgba(60, 64, 67, 0.3), 0px 1px 3px 1px rgba(60, 64, 67, 0.15);\n",
              "      fill: #174EA6;\n",
              "    }\n",
              "\n",
              "    [theme=dark] .colab-df-convert {\n",
              "      background-color: #3B4455;\n",
              "      fill: #D2E3FC;\n",
              "    }\n",
              "\n",
              "    [theme=dark] .colab-df-convert:hover {\n",
              "      background-color: #434B5C;\n",
              "      box-shadow: 0px 1px 3px 1px rgba(0, 0, 0, 0.15);\n",
              "      filter: drop-shadow(0px 1px 2px rgba(0, 0, 0, 0.3));\n",
              "      fill: #FFFFFF;\n",
              "    }\n",
              "  </style>\n",
              "\n",
              "      <script>\n",
              "        const buttonEl =\n",
              "          document.querySelector('#df-e649de7e-11e0-40fa-924e-59920884d7fd button.colab-df-convert');\n",
              "        buttonEl.style.display =\n",
              "          google.colab.kernel.accessAllowed ? 'block' : 'none';\n",
              "\n",
              "        async function convertToInteractive(key) {\n",
              "          const element = document.querySelector('#df-e649de7e-11e0-40fa-924e-59920884d7fd');\n",
              "          const dataTable =\n",
              "            await google.colab.kernel.invokeFunction('convertToInteractive',\n",
              "                                                     [key], {});\n",
              "          if (!dataTable) return;\n",
              "\n",
              "          const docLinkHtml = 'Like what you see? Visit the ' +\n",
              "            '<a target=\"_blank\" href=https://colab.research.google.com/notebooks/data_table.ipynb>data table notebook</a>'\n",
              "            + ' to learn more about interactive tables.';\n",
              "          element.innerHTML = '';\n",
              "          dataTable['output_type'] = 'display_data';\n",
              "          await google.colab.output.renderOutput(dataTable, element);\n",
              "          const docLink = document.createElement('div');\n",
              "          docLink.innerHTML = docLinkHtml;\n",
              "          element.appendChild(docLink);\n",
              "        }\n",
              "      </script>\n",
              "    </div>\n",
              "  </div>\n",
              "  "
            ]
          },
          "metadata": {},
          "execution_count": 49
        }
      ]
    },
    {
      "cell_type": "code",
      "source": [
        "count.value_counts()"
      ],
      "metadata": {
        "colab": {
          "base_uri": "https://localhost:8080/"
        },
        "id": "y0LVnpWHSmwm",
        "outputId": "0073666d-8121-4253-bb1d-24f3f8a0a434"
      },
      "execution_count": 52,
      "outputs": [
        {
          "output_type": "execute_result",
          "data": {
            "text/plain": [
              "id_cliente\n",
              "2             34\n",
              "3             27\n",
              "1             26\n",
              "4             19\n",
              "6              9\n",
              "9              8\n",
              "14             7\n",
              "10             7\n",
              "5              7\n",
              "7              5\n",
              "11             4\n",
              "15             3\n",
              "16             3\n",
              "8              2\n",
              "13             2\n",
              "22             2\n",
              "18             1\n",
              "21             1\n",
              "27             1\n",
              "dtype: int64"
            ]
          },
          "metadata": {},
          "execution_count": 52
        }
      ]
    },
    {
      "cell_type": "markdown",
      "source": [
        "Podemos observar que apenas 26 clientes do 168 cadastrados no sistema voltaram somente uma vez. Isso mostrar boa qualiade de atendimento dos vendedores. É um valor muito baixo se comparado ao sistema por um todo SIM, mas pode ser mehlorado para diminuir essa quantidade de clientes que só foram uma vez"
      ],
      "metadata": {
        "id": "nqTEdl_OTF3b"
      }
    },
    {
      "cell_type": "markdown",
      "source": [
        "# **Conclusão**"
      ],
      "metadata": {
        "id": "YVgx4DKDUK72"
      }
    },
    {
      "cell_type": "markdown",
      "source": [
        "  Para a analise desse dataset foi necessario fazer algumas modificações sutis nele para que facilitasse todo o desenvolvimento do projeto. Foi possivel perceber que no dataset não se tinha valores nulos mas que foi encontrado um outlier no tempo de envio. Foram feitas novas colunas para ajudar ainda mais na interpretação do dataset e chegou-se a conclusão de:\n",
        "  \n",
        "  A loja teve muito seus altos e baixos em relação ao Lucro Total, sendo o mês de Junho de 2008 sua maior alta nos lucros. O lucro total alcançado pela empresa foi de R$ 3497823.09.\n",
        "\n",
        "  A analise nos mostrou que o produto que mais vendeu, não foi aquele que deu o maior lucro a empresa e isso se deu devido ao seu valor ser bem inferior aos outros produtos vendidos na loja. A marca Fabrikan foi aquele que trouxe mais lucro para a empresa com seus produtos, mas a marca Contoso foi a que vendeu mais produtos no quesito quantidade.\n",
        "\n",
        "  Levando em consideração tempo de envio, as marcas pertencentes a empresa tem uma média de 8-9 dias para entregar os seus produtos, só tivemos um problema com uma das entregas que demorou 20 dias, mas como não tivemos mais informações sobre o caso iremo levar em consideração que foi erro de logistica da Marca."
      ],
      "metadata": {
        "id": "H8rhf3vqUP94"
      }
    },
    {
      "cell_type": "code",
      "source": [],
      "metadata": {
        "id": "HxLPRKOEYkdl"
      },
      "execution_count": null,
      "outputs": []
    }
  ]
}