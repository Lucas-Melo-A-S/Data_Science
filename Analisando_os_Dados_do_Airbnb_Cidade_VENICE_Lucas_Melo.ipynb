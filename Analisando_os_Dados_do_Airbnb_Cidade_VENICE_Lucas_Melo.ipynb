{
  "nbformat": 4,
  "nbformat_minor": 0,
  "metadata": {
    "colab": {
      "name": " Analisando os Dados do Airbnb Cidade VENICE - Lucas Melo.ipynb",
      "provenance": [],
      "collapsed_sections": [
        "0zxQHhIUDF_2",
        "yz1urSUGW9iE",
        "iHXvvHIxaoNc",
        "7x4aw1j5wNmn",
        "IXn2oIo5qx-w",
        "7b6RMWpuHKN-",
        "MFa5NbnLJMcd",
        "vTneAMRUYvr1"
      ],
      "include_colab_link": true
    },
    "kernelspec": {
      "name": "python3",
      "display_name": "Python 3"
    }
  },
  "cells": [
    {
      "cell_type": "markdown",
      "metadata": {
        "id": "view-in-github",
        "colab_type": "text"
      },
      "source": [
        "<a href=\"https://colab.research.google.com/github/Lucas-Melo-A-S/Data_Science/blob/main/Analisando_os_Dados_do_Airbnb_Cidade_VENICE_Lucas_Melo.ipynb\" target=\"_parent\"><img src=\"https://colab.research.google.com/assets/colab-badge.svg\" alt=\"Open In Colab\"/></a>"
      ]
    },
    {
      "cell_type": "markdown",
      "metadata": {
        "id": "kLI0gJtzDGuQ"
      },
      "source": [
        "<img alt=\"Colaboratory logo\" width=\"15%\" src=\"https://raw.githubusercontent.com/carlosfab/escola-data-science/master/img/novo_logo_bg_claro.png\">\n",
        "\n",
        "#### **Data Science na Prática 3.0**\n",
        "*by [sigmoidal.ai](https://sigmoidal.ai)*\n",
        "\n",
        "---\n",
        "\n",
        "# Análise dos Dados do Airbnb - *Venice Itália*\n",
        "\n",
        "O [Airbnb](https://www.airbnb.com.br/) já é considerado como sendo a **maior empresa hoteleira da atualidade**. Ah, o detalhe é que ele **não possui nenhum hotel**!\n",
        "\n",
        "Conectando pessoas que querem viajar (e se hospedar) com anfitriões que querem alugar seus imóveis de maneira prática, o Airbnb fornece uma plataforma inovadora para tornar essa hospedagem alternativa.\n",
        "\n",
        "No final de 2018, a Startup fundada 10 anos atrás, já havia **hospedado mais de 300 milhões** de pessoas ao redor de todo o mundo, desafiando as redes hoteleiras tradicionais.\n",
        "\n",
        "Uma das iniciativas do Airbnb é disponibilizar dados do site, para algumas das principais cidades do mundo. Por meio do portal [Inside Airbnb](http://insideairbnb.com/get-the-data.html), é possível baixar uma grande quantidade de dados para desenvolver projetos e soluções de *Data Science*.\n",
        "\n",
        "<center><img alt=\"Analisando Airbnb\" width=\"10%\" src=\"https://www.area360.com.au/wp-content/uploads/2017/09/airbnb-logo.jpg\"></center>\n",
        "\n",
        "**Neste *notebook*, iremos analisar os dados referentes à cidade VENICE situada na região de Veneto - Itália , e ver quais insights podem ser extraídos a partir de dados brutos.**\n",
        "\n",
        "\n",
        "**Autor: LUCAS DE MELO E ALVIM DA SILVA**"
      ]
    },
    {
      "cell_type": "markdown",
      "metadata": {
        "id": "0zxQHhIUDF_2"
      },
      "source": [
        "## Obtenção dos Dados\n"
      ]
    },
    {
      "cell_type": "code",
      "metadata": {
        "id": "Vhp2wMPgJ6zX"
      },
      "source": [
        "# importar os pacotes necessarios\n",
        "import pandas as pd"
      ],
      "execution_count": null,
      "outputs": []
    },
    {
      "cell_type": "code",
      "metadata": {
        "id": "tUmoAT8DLQ5T"
      },
      "source": [
        "# importar o arquivo listings.csv para um DataFrame\n",
        "df = pd.read_csv('http://data.insideairbnb.com/italy/veneto/venice/2021-11-04/visualisations/listings.csv')"
      ],
      "execution_count": null,
      "outputs": []
    },
    {
      "cell_type": "markdown",
      "metadata": {
        "id": "qb5By2nIMS6m"
      },
      "source": [
        "## Análise dos Dados\n"
      ]
    },
    {
      "cell_type": "markdown",
      "metadata": {
        "id": "RYgvuebKNg8-"
      },
      "source": [
        "**Dicionário das variáveis**\n",
        "\n",
        "Para melhor entedimento de todos foi feito um dicionario com todas as possiveis possiveis informações que poderão ajduar na melhor compreensão do texto.\n",
        "\n",
        "\n",
        "* id - número de id gerado para identificar o imóvel\n",
        "* name - nome da propriedade anunciada\n",
        "* host_id - número de id do proprietário (anfitrião) da propriedade\n",
        "* host_name - Nome do anfitrião\n",
        "* neighbourhood_group - esta coluna não contém nenhum valor válido\n",
        "* neighbourhood - nome do bairro\n",
        "* latitude - coordenada da latitude da propriedade\n",
        "* longitude - coordenada da longitude da propriedade\n",
        "* room_type - informa o tipo de quarto que é oferecido\n",
        "* price - preço para alugar o imóvel\n",
        "* minimum_nights - quantidade mínima de noites para reservar\n",
        "* number_of_reviews - número de reviews que a propriedade possui\n",
        "* last_review - data do último review\n",
        "* reviews_per_month - quantidade de reviews por mês\n",
        "* calculated_host_listings_count - quantidade de imóveis do mesmo anfitrião\n",
        "* availability_365 - número de dias de disponibilidade dentro de 365 dias \n",
        "\n",
        "\n"
      ]
    },
    {
      "cell_type": "markdown",
      "source": [
        "Antes de iniciar será verificado as 5 primeiras linhas do **DATASET** para melhor visualizar a distribuição dos dados."
      ],
      "metadata": {
        "id": "XsTxm1Lc6nMP"
      }
    },
    {
      "cell_type": "code",
      "source": [
        "df.head(5)"
      ],
      "metadata": {
        "colab": {
          "base_uri": "https://localhost:8080/",
          "height": 600
        },
        "id": "KjliKFc70rCN",
        "outputId": "c3a3eef4-280e-4c57-f52a-563549192136"
      },
      "execution_count": null,
      "outputs": [
        {
          "output_type": "execute_result",
          "data": {
            "text/html": [
              "\n",
              "  <div id=\"df-5303b46c-9161-4d20-b9c1-db25a1678290\">\n",
              "    <div class=\"colab-df-container\">\n",
              "      <div>\n",
              "<style scoped>\n",
              "    .dataframe tbody tr th:only-of-type {\n",
              "        vertical-align: middle;\n",
              "    }\n",
              "\n",
              "    .dataframe tbody tr th {\n",
              "        vertical-align: top;\n",
              "    }\n",
              "\n",
              "    .dataframe thead th {\n",
              "        text-align: right;\n",
              "    }\n",
              "</style>\n",
              "<table border=\"1\" class=\"dataframe\">\n",
              "  <thead>\n",
              "    <tr style=\"text-align: right;\">\n",
              "      <th></th>\n",
              "      <th>id</th>\n",
              "      <th>name</th>\n",
              "      <th>host_id</th>\n",
              "      <th>host_name</th>\n",
              "      <th>neighbourhood_group</th>\n",
              "      <th>neighbourhood</th>\n",
              "      <th>latitude</th>\n",
              "      <th>longitude</th>\n",
              "      <th>room_type</th>\n",
              "      <th>price</th>\n",
              "      <th>minimum_nights</th>\n",
              "      <th>number_of_reviews</th>\n",
              "      <th>last_review</th>\n",
              "      <th>reviews_per_month</th>\n",
              "      <th>calculated_host_listings_count</th>\n",
              "      <th>availability_365</th>\n",
              "      <th>number_of_reviews_ltm</th>\n",
              "      <th>license</th>\n",
              "      <th>available_year_%</th>\n",
              "    </tr>\n",
              "  </thead>\n",
              "  <tbody>\n",
              "    <tr>\n",
              "      <th>0</th>\n",
              "      <td>6623</td>\n",
              "      <td>Venice Blue on Canal apartment</td>\n",
              "      <td>15016</td>\n",
              "      <td>Francesca</td>\n",
              "      <td>Isole</td>\n",
              "      <td>San Polo</td>\n",
              "      <td>45.43817</td>\n",
              "      <td>12.32739</td>\n",
              "      <td>Entire home/apt</td>\n",
              "      <td>225</td>\n",
              "      <td>3</td>\n",
              "      <td>163</td>\n",
              "      <td>2019-06-26</td>\n",
              "      <td>1.52</td>\n",
              "      <td>3</td>\n",
              "      <td>364</td>\n",
              "      <td>1</td>\n",
              "      <td>NaN</td>\n",
              "      <td>99.726027</td>\n",
              "    </tr>\n",
              "    <tr>\n",
              "      <th>1</th>\n",
              "      <td>6624</td>\n",
              "      <td>Venice garden charme and canal view!</td>\n",
              "      <td>15016</td>\n",
              "      <td>Francesca</td>\n",
              "      <td>Isole</td>\n",
              "      <td>Santa Croce</td>\n",
              "      <td>45.43977</td>\n",
              "      <td>12.32736</td>\n",
              "      <td>Entire home/apt</td>\n",
              "      <td>213</td>\n",
              "      <td>4</td>\n",
              "      <td>64</td>\n",
              "      <td>2016-07-17</td>\n",
              "      <td>0.66</td>\n",
              "      <td>3</td>\n",
              "      <td>357</td>\n",
              "      <td>0</td>\n",
              "      <td>NaN</td>\n",
              "      <td>97.808219</td>\n",
              "    </tr>\n",
              "    <tr>\n",
              "      <th>2</th>\n",
              "      <td>12074</td>\n",
              "      <td>Venice home to relax and emotions</td>\n",
              "      <td>15016</td>\n",
              "      <td>Francesca</td>\n",
              "      <td>Isole</td>\n",
              "      <td>San Polo</td>\n",
              "      <td>45.43896</td>\n",
              "      <td>12.32970</td>\n",
              "      <td>Entire home/apt</td>\n",
              "      <td>122</td>\n",
              "      <td>4</td>\n",
              "      <td>186</td>\n",
              "      <td>2021-10-20</td>\n",
              "      <td>1.52</td>\n",
              "      <td>3</td>\n",
              "      <td>351</td>\n",
              "      <td>2</td>\n",
              "      <td>NaN</td>\n",
              "      <td>96.164384</td>\n",
              "    </tr>\n",
              "    <tr>\n",
              "      <th>3</th>\n",
              "      <td>27116</td>\n",
              "      <td>Junior Suite with balcony overlooking canal</td>\n",
              "      <td>116144</td>\n",
              "      <td>Giò&amp;Giò</td>\n",
              "      <td>Isole</td>\n",
              "      <td>San Marco</td>\n",
              "      <td>45.43277</td>\n",
              "      <td>12.33456</td>\n",
              "      <td>Private room</td>\n",
              "      <td>193</td>\n",
              "      <td>1</td>\n",
              "      <td>412</td>\n",
              "      <td>2021-10-16</td>\n",
              "      <td>3.29</td>\n",
              "      <td>2</td>\n",
              "      <td>201</td>\n",
              "      <td>2</td>\n",
              "      <td>NaN</td>\n",
              "      <td>55.068493</td>\n",
              "    </tr>\n",
              "    <tr>\n",
              "      <th>4</th>\n",
              "      <td>44527</td>\n",
              "      <td>Historical Luxury Apartment on Calm Sunny Canal</td>\n",
              "      <td>120215</td>\n",
              "      <td>Marc &amp; Elisabeth</td>\n",
              "      <td>Isole</td>\n",
              "      <td>Cannaregio</td>\n",
              "      <td>45.44569</td>\n",
              "      <td>12.32902</td>\n",
              "      <td>Entire home/apt</td>\n",
              "      <td>280</td>\n",
              "      <td>2</td>\n",
              "      <td>81</td>\n",
              "      <td>2021-08-24</td>\n",
              "      <td>1.42</td>\n",
              "      <td>1</td>\n",
              "      <td>289</td>\n",
              "      <td>9</td>\n",
              "      <td>NaN</td>\n",
              "      <td>79.178082</td>\n",
              "    </tr>\n",
              "  </tbody>\n",
              "</table>\n",
              "</div>\n",
              "      <button class=\"colab-df-convert\" onclick=\"convertToInteractive('df-5303b46c-9161-4d20-b9c1-db25a1678290')\"\n",
              "              title=\"Convert this dataframe to an interactive table.\"\n",
              "              style=\"display:none;\">\n",
              "        \n",
              "  <svg xmlns=\"http://www.w3.org/2000/svg\" height=\"24px\"viewBox=\"0 0 24 24\"\n",
              "       width=\"24px\">\n",
              "    <path d=\"M0 0h24v24H0V0z\" fill=\"none\"/>\n",
              "    <path d=\"M18.56 5.44l.94 2.06.94-2.06 2.06-.94-2.06-.94-.94-2.06-.94 2.06-2.06.94zm-11 1L8.5 8.5l.94-2.06 2.06-.94-2.06-.94L8.5 2.5l-.94 2.06-2.06.94zm10 10l.94 2.06.94-2.06 2.06-.94-2.06-.94-.94-2.06-.94 2.06-2.06.94z\"/><path d=\"M17.41 7.96l-1.37-1.37c-.4-.4-.92-.59-1.43-.59-.52 0-1.04.2-1.43.59L10.3 9.45l-7.72 7.72c-.78.78-.78 2.05 0 2.83L4 21.41c.39.39.9.59 1.41.59.51 0 1.02-.2 1.41-.59l7.78-7.78 2.81-2.81c.8-.78.8-2.07 0-2.86zM5.41 20L4 18.59l7.72-7.72 1.47 1.35L5.41 20z\"/>\n",
              "  </svg>\n",
              "      </button>\n",
              "      \n",
              "  <style>\n",
              "    .colab-df-container {\n",
              "      display:flex;\n",
              "      flex-wrap:wrap;\n",
              "      gap: 12px;\n",
              "    }\n",
              "\n",
              "    .colab-df-convert {\n",
              "      background-color: #E8F0FE;\n",
              "      border: none;\n",
              "      border-radius: 50%;\n",
              "      cursor: pointer;\n",
              "      display: none;\n",
              "      fill: #1967D2;\n",
              "      height: 32px;\n",
              "      padding: 0 0 0 0;\n",
              "      width: 32px;\n",
              "    }\n",
              "\n",
              "    .colab-df-convert:hover {\n",
              "      background-color: #E2EBFA;\n",
              "      box-shadow: 0px 1px 2px rgba(60, 64, 67, 0.3), 0px 1px 3px 1px rgba(60, 64, 67, 0.15);\n",
              "      fill: #174EA6;\n",
              "    }\n",
              "\n",
              "    [theme=dark] .colab-df-convert {\n",
              "      background-color: #3B4455;\n",
              "      fill: #D2E3FC;\n",
              "    }\n",
              "\n",
              "    [theme=dark] .colab-df-convert:hover {\n",
              "      background-color: #434B5C;\n",
              "      box-shadow: 0px 1px 3px 1px rgba(0, 0, 0, 0.15);\n",
              "      filter: drop-shadow(0px 1px 2px rgba(0, 0, 0, 0.3));\n",
              "      fill: #FFFFFF;\n",
              "    }\n",
              "  </style>\n",
              "\n",
              "      <script>\n",
              "        const buttonEl =\n",
              "          document.querySelector('#df-5303b46c-9161-4d20-b9c1-db25a1678290 button.colab-df-convert');\n",
              "        buttonEl.style.display =\n",
              "          google.colab.kernel.accessAllowed ? 'block' : 'none';\n",
              "\n",
              "        async function convertToInteractive(key) {\n",
              "          const element = document.querySelector('#df-5303b46c-9161-4d20-b9c1-db25a1678290');\n",
              "          const dataTable =\n",
              "            await google.colab.kernel.invokeFunction('convertToInteractive',\n",
              "                                                     [key], {});\n",
              "          if (!dataTable) return;\n",
              "\n",
              "          const docLinkHtml = 'Like what you see? Visit the ' +\n",
              "            '<a target=\"_blank\" href=https://colab.research.google.com/notebooks/data_table.ipynb>data table notebook</a>'\n",
              "            + ' to learn more about interactive tables.';\n",
              "          element.innerHTML = '';\n",
              "          dataTable['output_type'] = 'display_data';\n",
              "          await google.colab.output.renderOutput(dataTable, element);\n",
              "          const docLink = document.createElement('div');\n",
              "          docLink.innerHTML = docLinkHtml;\n",
              "          element.appendChild(docLink);\n",
              "        }\n",
              "      </script>\n",
              "    </div>\n",
              "  </div>\n",
              "  "
            ],
            "text/plain": [
              "      id  ... available_year_%\n",
              "0   6623  ...        99.726027\n",
              "1   6624  ...        97.808219\n",
              "2  12074  ...        96.164384\n",
              "3  27116  ...        55.068493\n",
              "4  44527  ...        79.178082\n",
              "\n",
              "[5 rows x 19 columns]"
            ]
          },
          "metadata": {},
          "execution_count": 162
        }
      ]
    },
    {
      "cell_type": "markdown",
      "metadata": {
        "id": "6-B_qtEaYEd-"
      },
      "source": [
        "### **Q1. Quantos atributos (variáveis) e quantas entradas o nosso conjunto de dados possui? Quais os tipos das variáveis?**"
      ]
    },
    {
      "cell_type": "markdown",
      "source": [
        "O arquico CSV retirado do site da airbnb é uma versão resumida dos dados coletados pela propria empresa, onde é disponibilizado no site ([*Airbnb*](http://insideairbnb.com/get-the-data.html)). O arquivo em execução possui 7370 Entradas(Linhas) e 18 Variaveis(Colunas/Series).\n",
        "\n",
        "Antes do incio da analise dos dados devemos analisar se existe algum dado outliner no DATASET, dados outliner são aqueles que tem uma diferença discrepante dos outros dados do DATASET\n",
        "* Durante o processo observamos que o valor do preço('price') era um outliner já que seu valor maximo (9999) é muito diferento do seu valor de 75% (145)\n"
      ],
      "metadata": {
        "id": "ObyU1ZC8OmA6"
      }
    },
    {
      "cell_type": "code",
      "metadata": {
        "id": "TFRK0tniLV-G",
        "colab": {
          "base_uri": "https://localhost:8080/",
          "height": 655
        },
        "outputId": "cba4721b-9a6e-4819-854b-becc1cb6ddf9"
      },
      "source": [
        "# identificar o volume de dados do DataFrame\n",
        "print(' DATASET AIRBNB - CIDADE VENICE ')\n",
        "print(f'     Entrada: {df.shape[0]}    ')\n",
        "print(f'     Variáveis: {df.shape[1]}  ')\n",
        "\n",
        "# verificar as 5 primeiras entradas do dataset\n",
        "df.head()"
      ],
      "execution_count": null,
      "outputs": [
        {
          "output_type": "stream",
          "name": "stdout",
          "text": [
            " DATASET AIRBNB - CIDADE VENICE \n",
            "     Entrada: 7370    \n",
            "     Variáveis: 18  \n"
          ]
        },
        {
          "output_type": "execute_result",
          "data": {
            "text/html": [
              "\n",
              "  <div id=\"df-bfb27d74-a793-49fa-ad75-4901059c93dc\">\n",
              "    <div class=\"colab-df-container\">\n",
              "      <div>\n",
              "<style scoped>\n",
              "    .dataframe tbody tr th:only-of-type {\n",
              "        vertical-align: middle;\n",
              "    }\n",
              "\n",
              "    .dataframe tbody tr th {\n",
              "        vertical-align: top;\n",
              "    }\n",
              "\n",
              "    .dataframe thead th {\n",
              "        text-align: right;\n",
              "    }\n",
              "</style>\n",
              "<table border=\"1\" class=\"dataframe\">\n",
              "  <thead>\n",
              "    <tr style=\"text-align: right;\">\n",
              "      <th></th>\n",
              "      <th>id</th>\n",
              "      <th>name</th>\n",
              "      <th>host_id</th>\n",
              "      <th>host_name</th>\n",
              "      <th>neighbourhood_group</th>\n",
              "      <th>neighbourhood</th>\n",
              "      <th>latitude</th>\n",
              "      <th>longitude</th>\n",
              "      <th>room_type</th>\n",
              "      <th>price</th>\n",
              "      <th>minimum_nights</th>\n",
              "      <th>number_of_reviews</th>\n",
              "      <th>last_review</th>\n",
              "      <th>reviews_per_month</th>\n",
              "      <th>calculated_host_listings_count</th>\n",
              "      <th>availability_365</th>\n",
              "      <th>number_of_reviews_ltm</th>\n",
              "      <th>license</th>\n",
              "    </tr>\n",
              "  </thead>\n",
              "  <tbody>\n",
              "    <tr>\n",
              "      <th>0</th>\n",
              "      <td>6623</td>\n",
              "      <td>Venice Blue on Canal apartment</td>\n",
              "      <td>15016</td>\n",
              "      <td>Francesca</td>\n",
              "      <td>Isole</td>\n",
              "      <td>San Polo</td>\n",
              "      <td>45.43817</td>\n",
              "      <td>12.32739</td>\n",
              "      <td>Entire home/apt</td>\n",
              "      <td>225</td>\n",
              "      <td>3</td>\n",
              "      <td>163</td>\n",
              "      <td>2019-06-26</td>\n",
              "      <td>1.52</td>\n",
              "      <td>3</td>\n",
              "      <td>364</td>\n",
              "      <td>1</td>\n",
              "      <td>NaN</td>\n",
              "    </tr>\n",
              "    <tr>\n",
              "      <th>1</th>\n",
              "      <td>6624</td>\n",
              "      <td>Venice garden charme and canal view!</td>\n",
              "      <td>15016</td>\n",
              "      <td>Francesca</td>\n",
              "      <td>Isole</td>\n",
              "      <td>Santa Croce</td>\n",
              "      <td>45.43977</td>\n",
              "      <td>12.32736</td>\n",
              "      <td>Entire home/apt</td>\n",
              "      <td>213</td>\n",
              "      <td>4</td>\n",
              "      <td>64</td>\n",
              "      <td>2016-07-17</td>\n",
              "      <td>0.66</td>\n",
              "      <td>3</td>\n",
              "      <td>357</td>\n",
              "      <td>0</td>\n",
              "      <td>NaN</td>\n",
              "    </tr>\n",
              "    <tr>\n",
              "      <th>2</th>\n",
              "      <td>12074</td>\n",
              "      <td>Venice home to relax and emotions</td>\n",
              "      <td>15016</td>\n",
              "      <td>Francesca</td>\n",
              "      <td>Isole</td>\n",
              "      <td>San Polo</td>\n",
              "      <td>45.43896</td>\n",
              "      <td>12.32970</td>\n",
              "      <td>Entire home/apt</td>\n",
              "      <td>122</td>\n",
              "      <td>4</td>\n",
              "      <td>186</td>\n",
              "      <td>2021-10-20</td>\n",
              "      <td>1.52</td>\n",
              "      <td>3</td>\n",
              "      <td>351</td>\n",
              "      <td>2</td>\n",
              "      <td>NaN</td>\n",
              "    </tr>\n",
              "    <tr>\n",
              "      <th>3</th>\n",
              "      <td>27116</td>\n",
              "      <td>Junior Suite with balcony overlooking canal</td>\n",
              "      <td>116144</td>\n",
              "      <td>Giò&amp;Giò</td>\n",
              "      <td>Isole</td>\n",
              "      <td>San Marco</td>\n",
              "      <td>45.43277</td>\n",
              "      <td>12.33456</td>\n",
              "      <td>Private room</td>\n",
              "      <td>193</td>\n",
              "      <td>1</td>\n",
              "      <td>412</td>\n",
              "      <td>2021-10-16</td>\n",
              "      <td>3.29</td>\n",
              "      <td>2</td>\n",
              "      <td>201</td>\n",
              "      <td>2</td>\n",
              "      <td>NaN</td>\n",
              "    </tr>\n",
              "    <tr>\n",
              "      <th>4</th>\n",
              "      <td>44527</td>\n",
              "      <td>Historical Luxury Apartment on Calm Sunny Canal</td>\n",
              "      <td>120215</td>\n",
              "      <td>Marc &amp; Elisabeth</td>\n",
              "      <td>Isole</td>\n",
              "      <td>Cannaregio</td>\n",
              "      <td>45.44569</td>\n",
              "      <td>12.32902</td>\n",
              "      <td>Entire home/apt</td>\n",
              "      <td>280</td>\n",
              "      <td>2</td>\n",
              "      <td>81</td>\n",
              "      <td>2021-08-24</td>\n",
              "      <td>1.42</td>\n",
              "      <td>1</td>\n",
              "      <td>289</td>\n",
              "      <td>9</td>\n",
              "      <td>NaN</td>\n",
              "    </tr>\n",
              "  </tbody>\n",
              "</table>\n",
              "</div>\n",
              "      <button class=\"colab-df-convert\" onclick=\"convertToInteractive('df-bfb27d74-a793-49fa-ad75-4901059c93dc')\"\n",
              "              title=\"Convert this dataframe to an interactive table.\"\n",
              "              style=\"display:none;\">\n",
              "        \n",
              "  <svg xmlns=\"http://www.w3.org/2000/svg\" height=\"24px\"viewBox=\"0 0 24 24\"\n",
              "       width=\"24px\">\n",
              "    <path d=\"M0 0h24v24H0V0z\" fill=\"none\"/>\n",
              "    <path d=\"M18.56 5.44l.94 2.06.94-2.06 2.06-.94-2.06-.94-.94-2.06-.94 2.06-2.06.94zm-11 1L8.5 8.5l.94-2.06 2.06-.94-2.06-.94L8.5 2.5l-.94 2.06-2.06.94zm10 10l.94 2.06.94-2.06 2.06-.94-2.06-.94-.94-2.06-.94 2.06-2.06.94z\"/><path d=\"M17.41 7.96l-1.37-1.37c-.4-.4-.92-.59-1.43-.59-.52 0-1.04.2-1.43.59L10.3 9.45l-7.72 7.72c-.78.78-.78 2.05 0 2.83L4 21.41c.39.39.9.59 1.41.59.51 0 1.02-.2 1.41-.59l7.78-7.78 2.81-2.81c.8-.78.8-2.07 0-2.86zM5.41 20L4 18.59l7.72-7.72 1.47 1.35L5.41 20z\"/>\n",
              "  </svg>\n",
              "      </button>\n",
              "      \n",
              "  <style>\n",
              "    .colab-df-container {\n",
              "      display:flex;\n",
              "      flex-wrap:wrap;\n",
              "      gap: 12px;\n",
              "    }\n",
              "\n",
              "    .colab-df-convert {\n",
              "      background-color: #E8F0FE;\n",
              "      border: none;\n",
              "      border-radius: 50%;\n",
              "      cursor: pointer;\n",
              "      display: none;\n",
              "      fill: #1967D2;\n",
              "      height: 32px;\n",
              "      padding: 0 0 0 0;\n",
              "      width: 32px;\n",
              "    }\n",
              "\n",
              "    .colab-df-convert:hover {\n",
              "      background-color: #E2EBFA;\n",
              "      box-shadow: 0px 1px 2px rgba(60, 64, 67, 0.3), 0px 1px 3px 1px rgba(60, 64, 67, 0.15);\n",
              "      fill: #174EA6;\n",
              "    }\n",
              "\n",
              "    [theme=dark] .colab-df-convert {\n",
              "      background-color: #3B4455;\n",
              "      fill: #D2E3FC;\n",
              "    }\n",
              "\n",
              "    [theme=dark] .colab-df-convert:hover {\n",
              "      background-color: #434B5C;\n",
              "      box-shadow: 0px 1px 3px 1px rgba(0, 0, 0, 0.15);\n",
              "      filter: drop-shadow(0px 1px 2px rgba(0, 0, 0, 0.3));\n",
              "      fill: #FFFFFF;\n",
              "    }\n",
              "  </style>\n",
              "\n",
              "      <script>\n",
              "        const buttonEl =\n",
              "          document.querySelector('#df-bfb27d74-a793-49fa-ad75-4901059c93dc button.colab-df-convert');\n",
              "        buttonEl.style.display =\n",
              "          google.colab.kernel.accessAllowed ? 'block' : 'none';\n",
              "\n",
              "        async function convertToInteractive(key) {\n",
              "          const element = document.querySelector('#df-bfb27d74-a793-49fa-ad75-4901059c93dc');\n",
              "          const dataTable =\n",
              "            await google.colab.kernel.invokeFunction('convertToInteractive',\n",
              "                                                     [key], {});\n",
              "          if (!dataTable) return;\n",
              "\n",
              "          const docLinkHtml = 'Like what you see? Visit the ' +\n",
              "            '<a target=\"_blank\" href=https://colab.research.google.com/notebooks/data_table.ipynb>data table notebook</a>'\n",
              "            + ' to learn more about interactive tables.';\n",
              "          element.innerHTML = '';\n",
              "          dataTable['output_type'] = 'display_data';\n",
              "          await google.colab.output.renderOutput(dataTable, element);\n",
              "          const docLink = document.createElement('div');\n",
              "          docLink.innerHTML = docLinkHtml;\n",
              "          element.appendChild(docLink);\n",
              "        }\n",
              "      </script>\n",
              "    </div>\n",
              "  </div>\n",
              "  "
            ],
            "text/plain": [
              "      id  ... license\n",
              "0   6623  ...     NaN\n",
              "1   6624  ...     NaN\n",
              "2  12074  ...     NaN\n",
              "3  27116  ...     NaN\n",
              "4  44527  ...     NaN\n",
              "\n",
              "[5 rows x 18 columns]"
            ]
          },
          "metadata": {},
          "execution_count": 4
        }
      ]
    },
    {
      "cell_type": "code",
      "source": [
        "#Utilizando a função Describe para analise do DataSet\n",
        "df.describe()"
      ],
      "metadata": {
        "colab": {
          "base_uri": "https://localhost:8080/",
          "height": 364
        },
        "id": "5lzbd8aalczX",
        "outputId": "3128542c-4adb-4d7a-a950-bc368c5359c4"
      },
      "execution_count": null,
      "outputs": [
        {
          "output_type": "execute_result",
          "data": {
            "text/html": [
              "\n",
              "  <div id=\"df-02f33c29-bf11-4367-85d0-63195c5305a0\">\n",
              "    <div class=\"colab-df-container\">\n",
              "      <div>\n",
              "<style scoped>\n",
              "    .dataframe tbody tr th:only-of-type {\n",
              "        vertical-align: middle;\n",
              "    }\n",
              "\n",
              "    .dataframe tbody tr th {\n",
              "        vertical-align: top;\n",
              "    }\n",
              "\n",
              "    .dataframe thead th {\n",
              "        text-align: right;\n",
              "    }\n",
              "</style>\n",
              "<table border=\"1\" class=\"dataframe\">\n",
              "  <thead>\n",
              "    <tr style=\"text-align: right;\">\n",
              "      <th></th>\n",
              "      <th>id</th>\n",
              "      <th>host_id</th>\n",
              "      <th>latitude</th>\n",
              "      <th>longitude</th>\n",
              "      <th>price</th>\n",
              "      <th>minimum_nights</th>\n",
              "      <th>number_of_reviews</th>\n",
              "      <th>reviews_per_month</th>\n",
              "      <th>calculated_host_listings_count</th>\n",
              "      <th>availability_365</th>\n",
              "      <th>number_of_reviews_ltm</th>\n",
              "    </tr>\n",
              "  </thead>\n",
              "  <tbody>\n",
              "    <tr>\n",
              "      <th>count</th>\n",
              "      <td>7.370000e+03</td>\n",
              "      <td>7.370000e+03</td>\n",
              "      <td>7370.000000</td>\n",
              "      <td>7370.000000</td>\n",
              "      <td>7370.000000</td>\n",
              "      <td>7370.000000</td>\n",
              "      <td>7370.000000</td>\n",
              "      <td>6429.000000</td>\n",
              "      <td>7370.000000</td>\n",
              "      <td>7370.000000</td>\n",
              "      <td>7370.000000</td>\n",
              "    </tr>\n",
              "    <tr>\n",
              "      <th>mean</th>\n",
              "      <td>2.574112e+07</td>\n",
              "      <td>1.096562e+08</td>\n",
              "      <td>45.444376</td>\n",
              "      <td>12.320997</td>\n",
              "      <td>138.226323</td>\n",
              "      <td>2.458345</td>\n",
              "      <td>63.365129</td>\n",
              "      <td>1.694592</td>\n",
              "      <td>10.413840</td>\n",
              "      <td>217.012890</td>\n",
              "      <td>7.358480</td>\n",
              "    </tr>\n",
              "    <tr>\n",
              "      <th>std</th>\n",
              "      <td>1.578385e+07</td>\n",
              "      <td>1.171311e+08</td>\n",
              "      <td>0.023370</td>\n",
              "      <td>0.039068</td>\n",
              "      <td>265.954523</td>\n",
              "      <td>8.497872</td>\n",
              "      <td>91.785263</td>\n",
              "      <td>1.714124</td>\n",
              "      <td>22.540107</td>\n",
              "      <td>132.458323</td>\n",
              "      <td>12.506136</td>\n",
              "    </tr>\n",
              "    <tr>\n",
              "      <th>min</th>\n",
              "      <td>6.623000e+03</td>\n",
              "      <td>1.501600e+04</td>\n",
              "      <td>45.274390</td>\n",
              "      <td>12.173216</td>\n",
              "      <td>0.000000</td>\n",
              "      <td>1.000000</td>\n",
              "      <td>0.000000</td>\n",
              "      <td>0.010000</td>\n",
              "      <td>1.000000</td>\n",
              "      <td>0.000000</td>\n",
              "      <td>0.000000</td>\n",
              "    </tr>\n",
              "    <tr>\n",
              "      <th>25%</th>\n",
              "      <td>1.271823e+07</td>\n",
              "      <td>1.265229e+07</td>\n",
              "      <td>45.434213</td>\n",
              "      <td>12.323552</td>\n",
              "      <td>71.000000</td>\n",
              "      <td>1.000000</td>\n",
              "      <td>4.000000</td>\n",
              "      <td>0.450000</td>\n",
              "      <td>1.000000</td>\n",
              "      <td>89.000000</td>\n",
              "      <td>0.000000</td>\n",
              "    </tr>\n",
              "    <tr>\n",
              "      <th>50%</th>\n",
              "      <td>2.484466e+07</td>\n",
              "      <td>5.897951e+07</td>\n",
              "      <td>45.438080</td>\n",
              "      <td>12.331470</td>\n",
              "      <td>100.000000</td>\n",
              "      <td>2.000000</td>\n",
              "      <td>24.000000</td>\n",
              "      <td>1.200000</td>\n",
              "      <td>3.000000</td>\n",
              "      <td>267.000000</td>\n",
              "      <td>2.000000</td>\n",
              "    </tr>\n",
              "    <tr>\n",
              "      <th>75%</th>\n",
              "      <td>3.947916e+07</td>\n",
              "      <td>1.797234e+08</td>\n",
              "      <td>45.444120</td>\n",
              "      <td>12.340012</td>\n",
              "      <td>145.000000</td>\n",
              "      <td>3.000000</td>\n",
              "      <td>86.000000</td>\n",
              "      <td>2.400000</td>\n",
              "      <td>7.000000</td>\n",
              "      <td>338.000000</td>\n",
              "      <td>10.000000</td>\n",
              "    </tr>\n",
              "    <tr>\n",
              "      <th>max</th>\n",
              "      <td>5.314402e+07</td>\n",
              "      <td>4.285418e+08</td>\n",
              "      <td>45.537350</td>\n",
              "      <td>12.421370</td>\n",
              "      <td>9999.000000</td>\n",
              "      <td>400.000000</td>\n",
              "      <td>765.000000</td>\n",
              "      <td>27.500000</td>\n",
              "      <td>132.000000</td>\n",
              "      <td>365.000000</td>\n",
              "      <td>387.000000</td>\n",
              "    </tr>\n",
              "  </tbody>\n",
              "</table>\n",
              "</div>\n",
              "      <button class=\"colab-df-convert\" onclick=\"convertToInteractive('df-02f33c29-bf11-4367-85d0-63195c5305a0')\"\n",
              "              title=\"Convert this dataframe to an interactive table.\"\n",
              "              style=\"display:none;\">\n",
              "        \n",
              "  <svg xmlns=\"http://www.w3.org/2000/svg\" height=\"24px\"viewBox=\"0 0 24 24\"\n",
              "       width=\"24px\">\n",
              "    <path d=\"M0 0h24v24H0V0z\" fill=\"none\"/>\n",
              "    <path d=\"M18.56 5.44l.94 2.06.94-2.06 2.06-.94-2.06-.94-.94-2.06-.94 2.06-2.06.94zm-11 1L8.5 8.5l.94-2.06 2.06-.94-2.06-.94L8.5 2.5l-.94 2.06-2.06.94zm10 10l.94 2.06.94-2.06 2.06-.94-2.06-.94-.94-2.06-.94 2.06-2.06.94z\"/><path d=\"M17.41 7.96l-1.37-1.37c-.4-.4-.92-.59-1.43-.59-.52 0-1.04.2-1.43.59L10.3 9.45l-7.72 7.72c-.78.78-.78 2.05 0 2.83L4 21.41c.39.39.9.59 1.41.59.51 0 1.02-.2 1.41-.59l7.78-7.78 2.81-2.81c.8-.78.8-2.07 0-2.86zM5.41 20L4 18.59l7.72-7.72 1.47 1.35L5.41 20z\"/>\n",
              "  </svg>\n",
              "      </button>\n",
              "      \n",
              "  <style>\n",
              "    .colab-df-container {\n",
              "      display:flex;\n",
              "      flex-wrap:wrap;\n",
              "      gap: 12px;\n",
              "    }\n",
              "\n",
              "    .colab-df-convert {\n",
              "      background-color: #E8F0FE;\n",
              "      border: none;\n",
              "      border-radius: 50%;\n",
              "      cursor: pointer;\n",
              "      display: none;\n",
              "      fill: #1967D2;\n",
              "      height: 32px;\n",
              "      padding: 0 0 0 0;\n",
              "      width: 32px;\n",
              "    }\n",
              "\n",
              "    .colab-df-convert:hover {\n",
              "      background-color: #E2EBFA;\n",
              "      box-shadow: 0px 1px 2px rgba(60, 64, 67, 0.3), 0px 1px 3px 1px rgba(60, 64, 67, 0.15);\n",
              "      fill: #174EA6;\n",
              "    }\n",
              "\n",
              "    [theme=dark] .colab-df-convert {\n",
              "      background-color: #3B4455;\n",
              "      fill: #D2E3FC;\n",
              "    }\n",
              "\n",
              "    [theme=dark] .colab-df-convert:hover {\n",
              "      background-color: #434B5C;\n",
              "      box-shadow: 0px 1px 3px 1px rgba(0, 0, 0, 0.15);\n",
              "      filter: drop-shadow(0px 1px 2px rgba(0, 0, 0, 0.3));\n",
              "      fill: #FFFFFF;\n",
              "    }\n",
              "  </style>\n",
              "\n",
              "      <script>\n",
              "        const buttonEl =\n",
              "          document.querySelector('#df-02f33c29-bf11-4367-85d0-63195c5305a0 button.colab-df-convert');\n",
              "        buttonEl.style.display =\n",
              "          google.colab.kernel.accessAllowed ? 'block' : 'none';\n",
              "\n",
              "        async function convertToInteractive(key) {\n",
              "          const element = document.querySelector('#df-02f33c29-bf11-4367-85d0-63195c5305a0');\n",
              "          const dataTable =\n",
              "            await google.colab.kernel.invokeFunction('convertToInteractive',\n",
              "                                                     [key], {});\n",
              "          if (!dataTable) return;\n",
              "\n",
              "          const docLinkHtml = 'Like what you see? Visit the ' +\n",
              "            '<a target=\"_blank\" href=https://colab.research.google.com/notebooks/data_table.ipynb>data table notebook</a>'\n",
              "            + ' to learn more about interactive tables.';\n",
              "          element.innerHTML = '';\n",
              "          dataTable['output_type'] = 'display_data';\n",
              "          await google.colab.output.renderOutput(dataTable, element);\n",
              "          const docLink = document.createElement('div');\n",
              "          docLink.innerHTML = docLinkHtml;\n",
              "          element.appendChild(docLink);\n",
              "        }\n",
              "      </script>\n",
              "    </div>\n",
              "  </div>\n",
              "  "
            ],
            "text/plain": [
              "                 id       host_id  ...  availability_365  number_of_reviews_ltm\n",
              "count  7.370000e+03  7.370000e+03  ...       7370.000000            7370.000000\n",
              "mean   2.574112e+07  1.096562e+08  ...        217.012890               7.358480\n",
              "std    1.578385e+07  1.171311e+08  ...        132.458323              12.506136\n",
              "min    6.623000e+03  1.501600e+04  ...          0.000000               0.000000\n",
              "25%    1.271823e+07  1.265229e+07  ...         89.000000               0.000000\n",
              "50%    2.484466e+07  5.897951e+07  ...        267.000000               2.000000\n",
              "75%    3.947916e+07  1.797234e+08  ...        338.000000              10.000000\n",
              "max    5.314402e+07  4.285418e+08  ...        365.000000             387.000000\n",
              "\n",
              "[8 rows x 11 columns]"
            ]
          },
          "metadata": {},
          "execution_count": 5
        }
      ]
    },
    {
      "cell_type": "code",
      "source": [
        ""
      ],
      "metadata": {
        "id": "OZrRcdnrmR_2"
      },
      "execution_count": null,
      "outputs": []
    },
    {
      "cell_type": "markdown",
      "metadata": {
        "id": "yz1urSUGW9iE"
      },
      "source": [
        "### **Q2. Qual a porcentagem de valores ausentes no *dataset*?**"
      ]
    },
    {
      "cell_type": "markdown",
      "source": [
        "O tratamento dos dados ausentes é de suma importância em qualquer analise de dados.A retirada desses dados servirá para melhor avaliação e automatização do DATASET, mas a sua apariação também pode mostrar falhas no sistema ou no input dos dados. \n",
        "\n",
        "* A variavel 'licence' possui 6147 entradas com valores ausentes, sendo esta representado 84,1% de todas as sua entradas não preenchidas. Com esse dado é exposto que 84,1% dos comodos não possui nenhum tipo de licença de funcionamento.\n",
        "\n",
        "* Já as variaveis 'reviews_per_month' e 'last_review' possuem 941 valores ausentes, sendo este representando que 12,77% das pessoas que visitam algum lugar na região não da nenhum feedback via app.\n"
      ],
      "metadata": {
        "id": "nW03gm2dQVYi"
      }
    },
    {
      "cell_type": "code",
      "metadata": {
        "id": "plk2FjbCXOqP",
        "colab": {
          "base_uri": "https://localhost:8080/"
        },
        "outputId": "f3bab203-5d8f-4df6-91aa-8106a76c88e2"
      },
      "source": [
        "\n",
        "# ordenar em ordem decrescente as variáveis por seus valores ausentes\n",
        "df_null = df.isnull().sum()\n",
        "df_test = df_null.values > 0\n",
        "df_null1 = df_null.sort_values(ascending= False)\n",
        "print(df_null1)"
      ],
      "execution_count": null,
      "outputs": [
        {
          "output_type": "stream",
          "name": "stdout",
          "text": [
            "license                           6197\n",
            "reviews_per_month                  941\n",
            "last_review                        941\n",
            "host_name                           17\n",
            "longitude                            0\n",
            "name                                 0\n",
            "host_id                              0\n",
            "neighbourhood_group                  0\n",
            "neighbourhood                        0\n",
            "latitude                             0\n",
            "room_type                            0\n",
            "number_of_reviews_ltm                0\n",
            "price                                0\n",
            "minimum_nights                       0\n",
            "number_of_reviews                    0\n",
            "calculated_host_listings_count       0\n",
            "availability_365                     0\n",
            "id                                   0\n",
            "dtype: int64\n"
          ]
        }
      ]
    },
    {
      "cell_type": "code",
      "source": [
        "df_null_porcent = (df_null1/df.shape[0])*100\n",
        "print(f'''A porcentagem de valores ausentes em relação a quantidade de linhas:\n",
        " {df_null_porcent}''')"
      ],
      "metadata": {
        "colab": {
          "base_uri": "https://localhost:8080/"
        },
        "id": "jabZnFk3UDLi",
        "outputId": "55224f25-1ab3-48e0-b574-ea640fc49a59"
      },
      "execution_count": null,
      "outputs": [
        {
          "output_type": "stream",
          "name": "stdout",
          "text": [
            "A porcentagem de valores ausentes em relação a quantidade de linhas:\n",
            " license                           84.084125\n",
            "reviews_per_month                 12.767978\n",
            "last_review                       12.767978\n",
            "host_name                          0.230665\n",
            "longitude                          0.000000\n",
            "name                               0.000000\n",
            "host_id                            0.000000\n",
            "neighbourhood_group                0.000000\n",
            "neighbourhood                      0.000000\n",
            "latitude                           0.000000\n",
            "room_type                          0.000000\n",
            "number_of_reviews_ltm              0.000000\n",
            "price                              0.000000\n",
            "minimum_nights                     0.000000\n",
            "number_of_reviews                  0.000000\n",
            "calculated_host_listings_count     0.000000\n",
            "availability_365                   0.000000\n",
            "id                                 0.000000\n",
            "dtype: float64\n"
          ]
        }
      ]
    },
    {
      "cell_type": "code",
      "source": [
        "df_null1.hist(figsize=(10,8))"
      ],
      "metadata": {
        "colab": {
          "base_uri": "https://localhost:8080/",
          "height": 501
        },
        "id": "UpOWx1DsbDCp",
        "outputId": "e32f2065-3e42-49d6-b79a-c47f825561e4"
      },
      "execution_count": null,
      "outputs": [
        {
          "output_type": "execute_result",
          "data": {
            "text/plain": [
              "<matplotlib.axes._subplots.AxesSubplot at 0x7f13b9dded10>"
            ]
          },
          "metadata": {},
          "execution_count": 68
        },
        {
          "output_type": "display_data",
          "data": {
            "image/png": "[encoded data removed]",
            "text/plain": [
              "<Figure size 720x576 with 1 Axes>"
            ]
          },
          "metadata": {
            "needs_background": "light"
          }
        }
      ]
    },
    {
      "cell_type": "code",
      "source": [
        "df_null_porcent.hist(figsize=(10,8))"
      ],
      "metadata": {
        "colab": {
          "base_uri": "https://localhost:8080/",
          "height": 501
        },
        "id": "ecSwSIxQbTqW",
        "outputId": "59ac4c3f-46d6-42cd-b99a-61e1ee382748"
      },
      "execution_count": null,
      "outputs": [
        {
          "output_type": "execute_result",
          "data": {
            "text/plain": [
              "<matplotlib.axes._subplots.AxesSubplot at 0x7f13b9d44350>"
            ]
          },
          "metadata": {},
          "execution_count": 69
        },
        {
          "output_type": "display_data",
          "data": {
            "image/png": "[encoded data removed]",
            "text/plain": [
              "<Figure size 720x576 with 1 Axes>"
            ]
          },
          "metadata": {
            "needs_background": "light"
          }
        }
      ]
    },
    {
      "cell_type": "markdown",
      "source": [
        "Utilizando o comando 'Duplicate' com o comando 'Value_Counts' podemos chegar a conclusão que não temos nenhum valor duplicado no DataSet."
      ],
      "metadata": {
        "id": "vxxb9C1cJw8E"
      }
    },
    {
      "cell_type": "code",
      "source": [
        "df.duplicated().value_counts()\n"
      ],
      "metadata": {
        "colab": {
          "base_uri": "https://localhost:8080/"
        },
        "id": "MqdjeKhqD4St",
        "outputId": "f12b63d6-ffb2-4d40-9cd7-803b975fd0da"
      },
      "execution_count": null,
      "outputs": [
        {
          "output_type": "execute_result",
          "data": {
            "text/plain": [
              "False    7370\n",
              "dtype: int64"
            ]
          },
          "metadata": {},
          "execution_count": 42
        }
      ]
    },
    {
      "cell_type": "code",
      "source": [
        ""
      ],
      "metadata": {
        "id": "tKwrp5s0D3tQ"
      },
      "execution_count": null,
      "outputs": []
    },
    {
      "cell_type": "markdown",
      "metadata": {
        "id": "iHXvvHIxaoNc"
      },
      "source": [
        "### **Q3. Qual o tipo de distribuição das variáveis?** "
      ]
    },
    {
      "cell_type": "markdown",
      "source": [
        "É de suma importância conhecer todos os tipos(types) das variaveis, para que possamos ter ciência de como nossas entradas irão se comportar e como podemos fazer para manipula-las.\n",
        "\n",
        "A utilização de graficos, facilita a visualização dos dados da tabela, a visualiazação torna a leitura dele mais simples(para muitas pessoas), fazendo com que se tira conclusões que se apenas olhassemos os dados na tabela não seria possivel."
      ],
      "metadata": {
        "id": "p2PliXz-YHCe"
      }
    },
    {
      "cell_type": "code",
      "source": [
        "df.info()\n"
      ],
      "metadata": {
        "id": "piP3zrNuzQLY",
        "outputId": "690b29cb-24dd-4052-ed4a-ecac1792cc52",
        "colab": {
          "base_uri": "https://localhost:8080/"
        }
      },
      "execution_count": null,
      "outputs": [
        {
          "output_type": "stream",
          "name": "stdout",
          "text": [
            "<class 'pandas.core.frame.DataFrame'>\n",
            "RangeIndex: 7370 entries, 0 to 7369\n",
            "Data columns (total 18 columns):\n",
            " #   Column                          Non-Null Count  Dtype  \n",
            "---  ------                          --------------  -----  \n",
            " 0   id                              7370 non-null   int64  \n",
            " 1   name                            7370 non-null   object \n",
            " 2   host_id                         7370 non-null   int64  \n",
            " 3   host_name                       7353 non-null   object \n",
            " 4   neighbourhood_group             7370 non-null   object \n",
            " 5   neighbourhood                   7370 non-null   object \n",
            " 6   latitude                        7370 non-null   float64\n",
            " 7   longitude                       7370 non-null   float64\n",
            " 8   room_type                       7370 non-null   object \n",
            " 9   price                           7370 non-null   int64  \n",
            " 10  minimum_nights                  7370 non-null   int64  \n",
            " 11  number_of_reviews               7370 non-null   int64  \n",
            " 12  last_review                     6429 non-null   object \n",
            " 13  reviews_per_month               6429 non-null   float64\n",
            " 14  calculated_host_listings_count  7370 non-null   int64  \n",
            " 15  availability_365                7370 non-null   int64  \n",
            " 16  number_of_reviews_ltm           7370 non-null   int64  \n",
            " 17  license                         1173 non-null   object \n",
            "dtypes: float64(3), int64(8), object(7)\n",
            "memory usage: 1.0+ MB\n"
          ]
        }
      ]
    },
    {
      "cell_type": "code",
      "metadata": {
        "id": "q2wWSfeRbmBo",
        "colab": {
          "base_uri": "https://localhost:8080/",
          "height": 734
        },
        "outputId": "5381f179-0381-4387-e2b8-45ea76d2f7f8"
      },
      "source": [
        "\n",
        "# plotar o histograma das variáveis numéricas\n",
        "df.hist(xlabelsize=7,ylabelsize=6,bins=7,figsize=(10,8))\n"
      ],
      "execution_count": null,
      "outputs": [
        {
          "output_type": "execute_result",
          "data": {
            "text/plain": [
              "array([[<matplotlib.axes._subplots.AxesSubplot object at 0x7f13b79f68d0>,\n",
              "        <matplotlib.axes._subplots.AxesSubplot object at 0x7f13b7950a50>,\n",
              "        <matplotlib.axes._subplots.AxesSubplot object at 0x7f13b7901c90>],\n",
              "       [<matplotlib.axes._subplots.AxesSubplot object at 0x7f13b78c11d0>,\n",
              "        <matplotlib.axes._subplots.AxesSubplot object at 0x7f13b78788d0>,\n",
              "        <matplotlib.axes._subplots.AxesSubplot object at 0x7f13b783c150>],\n",
              "       [<matplotlib.axes._subplots.AxesSubplot object at 0x7f13b7876410>,\n",
              "        <matplotlib.axes._subplots.AxesSubplot object at 0x7f13b7829650>,\n",
              "        <matplotlib.axes._subplots.AxesSubplot object at 0x7f13b77deb90>],\n",
              "       [<matplotlib.axes._subplots.AxesSubplot object at 0x7f13b77a00d0>,\n",
              "        <matplotlib.axes._subplots.AxesSubplot object at 0x7f13b7757590>,\n",
              "        <matplotlib.axes._subplots.AxesSubplot object at 0x7f13b770ca90>]],\n",
              "      dtype=object)"
            ]
          },
          "metadata": {},
          "execution_count": 74
        },
        {
          "output_type": "display_data",
          "data": {
            "image/png": "[encoded data removed]",
            "text/plain": [
              "<Figure size 720x576 with 12 Axes>"
            ]
          },
          "metadata": {
            "needs_background": "light"
          }
        }
      ]
    },
    {
      "cell_type": "markdown",
      "source": [
        "  Fazendo a analise dos graficos foi possivel verificar que alguns valores estavam bem diferentes dos demais e para conseguirmos verificar com maior exatidão, utiliza-se o comando describe() para sabermos alguns argumentos"
      ],
      "metadata": {
        "id": "Karvn3ruKwRp"
      }
    },
    {
      "cell_type": "code",
      "source": [
        "df.describe()"
      ],
      "metadata": {
        "colab": {
          "base_uri": "https://localhost:8080/",
          "height": 364
        },
        "id": "gFV--wSeLJuL",
        "outputId": "9c8e5b57-869c-4aa8-a23e-680fb7fd3ba5"
      },
      "execution_count": null,
      "outputs": [
        {
          "output_type": "execute_result",
          "data": {
            "text/html": [
              "\n",
              "  <div id=\"df-4f9bff29-38a2-4cfc-aed2-29d69cf1a5ab\">\n",
              "    <div class=\"colab-df-container\">\n",
              "      <div>\n",
              "<style scoped>\n",
              "    .dataframe tbody tr th:only-of-type {\n",
              "        vertical-align: middle;\n",
              "    }\n",
              "\n",
              "    .dataframe tbody tr th {\n",
              "        vertical-align: top;\n",
              "    }\n",
              "\n",
              "    .dataframe thead th {\n",
              "        text-align: right;\n",
              "    }\n",
              "</style>\n",
              "<table border=\"1\" class=\"dataframe\">\n",
              "  <thead>\n",
              "    <tr style=\"text-align: right;\">\n",
              "      <th></th>\n",
              "      <th>id</th>\n",
              "      <th>host_id</th>\n",
              "      <th>latitude</th>\n",
              "      <th>longitude</th>\n",
              "      <th>price</th>\n",
              "      <th>minimum_nights</th>\n",
              "      <th>number_of_reviews</th>\n",
              "      <th>reviews_per_month</th>\n",
              "      <th>calculated_host_listings_count</th>\n",
              "      <th>availability_365</th>\n",
              "      <th>number_of_reviews_ltm</th>\n",
              "    </tr>\n",
              "  </thead>\n",
              "  <tbody>\n",
              "    <tr>\n",
              "      <th>count</th>\n",
              "      <td>7.370000e+03</td>\n",
              "      <td>7.370000e+03</td>\n",
              "      <td>7370.000000</td>\n",
              "      <td>7370.000000</td>\n",
              "      <td>7370.000000</td>\n",
              "      <td>7370.000000</td>\n",
              "      <td>7370.000000</td>\n",
              "      <td>6429.000000</td>\n",
              "      <td>7370.000000</td>\n",
              "      <td>7370.000000</td>\n",
              "      <td>7370.000000</td>\n",
              "    </tr>\n",
              "    <tr>\n",
              "      <th>mean</th>\n",
              "      <td>2.574112e+07</td>\n",
              "      <td>1.096562e+08</td>\n",
              "      <td>45.444376</td>\n",
              "      <td>12.320997</td>\n",
              "      <td>138.226323</td>\n",
              "      <td>2.458345</td>\n",
              "      <td>63.365129</td>\n",
              "      <td>1.694592</td>\n",
              "      <td>10.413840</td>\n",
              "      <td>217.012890</td>\n",
              "      <td>7.358480</td>\n",
              "    </tr>\n",
              "    <tr>\n",
              "      <th>std</th>\n",
              "      <td>1.578385e+07</td>\n",
              "      <td>1.171311e+08</td>\n",
              "      <td>0.023370</td>\n",
              "      <td>0.039068</td>\n",
              "      <td>265.954523</td>\n",
              "      <td>8.497872</td>\n",
              "      <td>91.785263</td>\n",
              "      <td>1.714124</td>\n",
              "      <td>22.540107</td>\n",
              "      <td>132.458323</td>\n",
              "      <td>12.506136</td>\n",
              "    </tr>\n",
              "    <tr>\n",
              "      <th>min</th>\n",
              "      <td>6.623000e+03</td>\n",
              "      <td>1.501600e+04</td>\n",
              "      <td>45.274390</td>\n",
              "      <td>12.173216</td>\n",
              "      <td>0.000000</td>\n",
              "      <td>1.000000</td>\n",
              "      <td>0.000000</td>\n",
              "      <td>0.010000</td>\n",
              "      <td>1.000000</td>\n",
              "      <td>0.000000</td>\n",
              "      <td>0.000000</td>\n",
              "    </tr>\n",
              "    <tr>\n",
              "      <th>25%</th>\n",
              "      <td>1.271823e+07</td>\n",
              "      <td>1.265229e+07</td>\n",
              "      <td>45.434213</td>\n",
              "      <td>12.323552</td>\n",
              "      <td>71.000000</td>\n",
              "      <td>1.000000</td>\n",
              "      <td>4.000000</td>\n",
              "      <td>0.450000</td>\n",
              "      <td>1.000000</td>\n",
              "      <td>89.000000</td>\n",
              "      <td>0.000000</td>\n",
              "    </tr>\n",
              "    <tr>\n",
              "      <th>50%</th>\n",
              "      <td>2.484466e+07</td>\n",
              "      <td>5.897951e+07</td>\n",
              "      <td>45.438080</td>\n",
              "      <td>12.331470</td>\n",
              "      <td>100.000000</td>\n",
              "      <td>2.000000</td>\n",
              "      <td>24.000000</td>\n",
              "      <td>1.200000</td>\n",
              "      <td>3.000000</td>\n",
              "      <td>267.000000</td>\n",
              "      <td>2.000000</td>\n",
              "    </tr>\n",
              "    <tr>\n",
              "      <th>75%</th>\n",
              "      <td>3.947916e+07</td>\n",
              "      <td>1.797234e+08</td>\n",
              "      <td>45.444120</td>\n",
              "      <td>12.340012</td>\n",
              "      <td>145.000000</td>\n",
              "      <td>3.000000</td>\n",
              "      <td>86.000000</td>\n",
              "      <td>2.400000</td>\n",
              "      <td>7.000000</td>\n",
              "      <td>338.000000</td>\n",
              "      <td>10.000000</td>\n",
              "    </tr>\n",
              "    <tr>\n",
              "      <th>max</th>\n",
              "      <td>5.314402e+07</td>\n",
              "      <td>4.285418e+08</td>\n",
              "      <td>45.537350</td>\n",
              "      <td>12.421370</td>\n",
              "      <td>9999.000000</td>\n",
              "      <td>400.000000</td>\n",
              "      <td>765.000000</td>\n",
              "      <td>27.500000</td>\n",
              "      <td>132.000000</td>\n",
              "      <td>365.000000</td>\n",
              "      <td>387.000000</td>\n",
              "    </tr>\n",
              "  </tbody>\n",
              "</table>\n",
              "</div>\n",
              "      <button class=\"colab-df-convert\" onclick=\"convertToInteractive('df-4f9bff29-38a2-4cfc-aed2-29d69cf1a5ab')\"\n",
              "              title=\"Convert this dataframe to an interactive table.\"\n",
              "              style=\"display:none;\">\n",
              "        \n",
              "  <svg xmlns=\"http://www.w3.org/2000/svg\" height=\"24px\"viewBox=\"0 0 24 24\"\n",
              "       width=\"24px\">\n",
              "    <path d=\"M0 0h24v24H0V0z\" fill=\"none\"/>\n",
              "    <path d=\"M18.56 5.44l.94 2.06.94-2.06 2.06-.94-2.06-.94-.94-2.06-.94 2.06-2.06.94zm-11 1L8.5 8.5l.94-2.06 2.06-.94-2.06-.94L8.5 2.5l-.94 2.06-2.06.94zm10 10l.94 2.06.94-2.06 2.06-.94-2.06-.94-.94-2.06-.94 2.06-2.06.94z\"/><path d=\"M17.41 7.96l-1.37-1.37c-.4-.4-.92-.59-1.43-.59-.52 0-1.04.2-1.43.59L10.3 9.45l-7.72 7.72c-.78.78-.78 2.05 0 2.83L4 21.41c.39.39.9.59 1.41.59.51 0 1.02-.2 1.41-.59l7.78-7.78 2.81-2.81c.8-.78.8-2.07 0-2.86zM5.41 20L4 18.59l7.72-7.72 1.47 1.35L5.41 20z\"/>\n",
              "  </svg>\n",
              "      </button>\n",
              "      \n",
              "  <style>\n",
              "    .colab-df-container {\n",
              "      display:flex;\n",
              "      flex-wrap:wrap;\n",
              "      gap: 12px;\n",
              "    }\n",
              "\n",
              "    .colab-df-convert {\n",
              "      background-color: #E8F0FE;\n",
              "      border: none;\n",
              "      border-radius: 50%;\n",
              "      cursor: pointer;\n",
              "      display: none;\n",
              "      fill: #1967D2;\n",
              "      height: 32px;\n",
              "      padding: 0 0 0 0;\n",
              "      width: 32px;\n",
              "    }\n",
              "\n",
              "    .colab-df-convert:hover {\n",
              "      background-color: #E2EBFA;\n",
              "      box-shadow: 0px 1px 2px rgba(60, 64, 67, 0.3), 0px 1px 3px 1px rgba(60, 64, 67, 0.15);\n",
              "      fill: #174EA6;\n",
              "    }\n",
              "\n",
              "    [theme=dark] .colab-df-convert {\n",
              "      background-color: #3B4455;\n",
              "      fill: #D2E3FC;\n",
              "    }\n",
              "\n",
              "    [theme=dark] .colab-df-convert:hover {\n",
              "      background-color: #434B5C;\n",
              "      box-shadow: 0px 1px 3px 1px rgba(0, 0, 0, 0.15);\n",
              "      filter: drop-shadow(0px 1px 2px rgba(0, 0, 0, 0.3));\n",
              "      fill: #FFFFFF;\n",
              "    }\n",
              "  </style>\n",
              "\n",
              "      <script>\n",
              "        const buttonEl =\n",
              "          document.querySelector('#df-4f9bff29-38a2-4cfc-aed2-29d69cf1a5ab button.colab-df-convert');\n",
              "        buttonEl.style.display =\n",
              "          google.colab.kernel.accessAllowed ? 'block' : 'none';\n",
              "\n",
              "        async function convertToInteractive(key) {\n",
              "          const element = document.querySelector('#df-4f9bff29-38a2-4cfc-aed2-29d69cf1a5ab');\n",
              "          const dataTable =\n",
              "            await google.colab.kernel.invokeFunction('convertToInteractive',\n",
              "                                                     [key], {});\n",
              "          if (!dataTable) return;\n",
              "\n",
              "          const docLinkHtml = 'Like what you see? Visit the ' +\n",
              "            '<a target=\"_blank\" href=https://colab.research.google.com/notebooks/data_table.ipynb>data table notebook</a>'\n",
              "            + ' to learn more about interactive tables.';\n",
              "          element.innerHTML = '';\n",
              "          dataTable['output_type'] = 'display_data';\n",
              "          await google.colab.output.renderOutput(dataTable, element);\n",
              "          const docLink = document.createElement('div');\n",
              "          docLink.innerHTML = docLinkHtml;\n",
              "          element.appendChild(docLink);\n",
              "        }\n",
              "      </script>\n",
              "    </div>\n",
              "  </div>\n",
              "  "
            ],
            "text/plain": [
              "                 id       host_id  ...  availability_365  number_of_reviews_ltm\n",
              "count  7.370000e+03  7.370000e+03  ...       7370.000000            7370.000000\n",
              "mean   2.574112e+07  1.096562e+08  ...        217.012890               7.358480\n",
              "std    1.578385e+07  1.171311e+08  ...        132.458323              12.506136\n",
              "min    6.623000e+03  1.501600e+04  ...          0.000000               0.000000\n",
              "25%    1.271823e+07  1.265229e+07  ...         89.000000               0.000000\n",
              "50%    2.484466e+07  5.897951e+07  ...        267.000000               2.000000\n",
              "75%    3.947916e+07  1.797234e+08  ...        338.000000              10.000000\n",
              "max    5.314402e+07  4.285418e+08  ...        365.000000             387.000000\n",
              "\n",
              "[8 rows x 11 columns]"
            ]
          },
          "metadata": {},
          "execution_count": 43
        }
      ]
    },
    {
      "cell_type": "markdown",
      "source": [
        "Foi verificado que as variaveis ('price',\t'minimum_nights') tem seus valores maximos bem acima que os valores de 75% dos dados, confirmando que alguns dados estavam inseridos de maneira errada.\n",
        "\n",
        "> Determinado o valor do maximo para determinar o outlier\n",
        "* IQR = 75%(VALUE) - 25%(VALUE)\n",
        "* MAX_VALUE = (75%(VALUE) + IQR*1,5)\n",
        "* IQR = 145 - 71 = 74\n",
        "* MAX_VALUE = 145 + 74*1,5 = 256\n",
        "\n",
        "> Valores acima de 256 serão considerados \"outlier\"\n",
        "\n",
        "> Deve ser retirado também os valores iguais a 0, pois esses representam os locais que já fecharam.\n"
      ],
      "metadata": {
        "id": "27CjG5lrLPUW"
      }
    },
    {
      "cell_type": "code",
      "source": [
        "# minimum_nights\n",
        "df.minimum_nights.plot(kind='box', vert=False, figsize=(15, 3))\n",
        "plt.show()\n",
        "\n",
        "# ver quantidade de valores acima de 6 dias para minimum_nights\n",
        "print(f\"minimum_nights: valores acima de 6:\")\n",
        "print(f\"{(len(df[df.minimum_nights > 6]))} entradas\")\n",
        "print(f\"{(len(df[df.minimum_nights == 0]))} entradas\")\n",
        "print(f\"{(len(df[df.minimum_nights > 6]) / df.shape[0])*100:.4f}%\")"
      ],
      "metadata": {
        "colab": {
          "base_uri": "https://localhost:8080/",
          "height": 284
        },
        "id": "BeGTYzCSYxMc",
        "outputId": "6698ba0f-c977-4b3b-8b87-cf880062ad9c"
      },
      "execution_count": null,
      "outputs": [
        {
          "output_type": "display_data",
          "data": {
            "image/png": "[encoded data removed]",
            "text/plain": [
              "<Figure size 1080x216 with 1 Axes>"
            ]
          },
          "metadata": {
            "needs_background": "light"
          }
        },
        {
          "output_type": "stream",
          "name": "stdout",
          "text": [
            "minimum_nights: valores acima de 6:\n",
            "158 entradas\n",
            "0 entradas\n",
            "2.1438%\n"
          ]
        }
      ]
    },
    {
      "cell_type": "code",
      "source": [
        "# price\n",
        "df.price.plot(kind='box', vert=False, figsize=(15, 3),)\n",
        "plt.show()\n",
        "\n",
        "# ver quantidade de valores acima de 256 para price\n",
        "print(\"\\nprice: valores acima de 256 e iguais a 0\")\n",
        "print(f\"{len(df[df.price > 256])} entradas para maiores de 256\")\n",
        "print(f\"{len(df[df.price == 0])} entradas para iguais a 0\")\n",
        "value_dis=(len(df[df.price > 256]) + (len(df[df.price == 0])))\n",
        "print(f'{value_dis} para entradas maiores de 256 e iguais a 0')\n",
        "print (f\"{(value_dis/df.shape[0])*100:.2f}%\")"
      ],
      "metadata": {
        "colab": {
          "base_uri": "https://localhost:8080/",
          "height": 322
        },
        "id": "xRV6hXkKXMyn",
        "outputId": "30197da8-a59e-49a0-929a-1dd225041184"
      },
      "execution_count": null,
      "outputs": [
        {
          "output_type": "display_data",
          "data": {
            "image/png": "[encoded data removed]",
            "text/plain": [
              "<Figure size 1080x216 with 1 Axes>"
            ]
          },
          "metadata": {
            "needs_background": "light"
          }
        },
        {
          "output_type": "stream",
          "name": "stdout",
          "text": [
            "\n",
            "price: valores acima de 256 e iguais a 0\n",
            "519 entradas para maiores de 256\n",
            "3 entradas para iguais a 0\n",
            "522 para entradas maiores de 256 e iguais a 0\n",
            "7.08%\n"
          ]
        }
      ]
    },
    {
      "cell_type": "code",
      "source": [
        "# remover os *outliers* em um novo DataFrame\n",
        "df_clean = df.copy()\n",
        "df_clean.drop(df_clean[df_clean.price > 256 ].index, axis=0, inplace=True)\n",
        "df_clean.drop(df_clean[df_clean.price == 0 ].index, axis=0, inplace=True)\n",
        "df_clean.drop(df_clean[df_clean.minimum_nights > 6].index, axis=0, inplace=True)\n"
      ],
      "metadata": {
        "id": "aulXdj31L1n2"
      },
      "execution_count": null,
      "outputs": []
    },
    {
      "cell_type": "code",
      "source": [
        "df_clean.hist(xlabelsize=7,ylabelsize=6,bins=7,figsize=(10,8))"
      ],
      "metadata": {
        "colab": {
          "base_uri": "https://localhost:8080/",
          "height": 734
        },
        "id": "EZsueBsGaHAe",
        "outputId": "aa794f24-b634-4a39-b06a-45c3d9e6e26f"
      },
      "execution_count": null,
      "outputs": [
        {
          "output_type": "execute_result",
          "data": {
            "text/plain": [
              "array([[<matplotlib.axes._subplots.AxesSubplot object at 0x7f13b60bb750>,\n",
              "        <matplotlib.axes._subplots.AxesSubplot object at 0x7f13b6047a90>,\n",
              "        <matplotlib.axes._subplots.AxesSubplot object at 0x7f13b6007050>],\n",
              "       [<matplotlib.axes._subplots.AxesSubplot object at 0x7f13b5fc03d0>,\n",
              "        <matplotlib.axes._subplots.AxesSubplot object at 0x7f13b5ff48d0>,\n",
              "        <matplotlib.axes._subplots.AxesSubplot object at 0x7f13b5faadd0>],\n",
              "       [<matplotlib.axes._subplots.AxesSubplot object at 0x7f13b5f6e310>,\n",
              "        <matplotlib.axes._subplots.AxesSubplot object at 0x7f13b5f24810>,\n",
              "        <matplotlib.axes._subplots.AxesSubplot object at 0x7f13b5ed9d50>],\n",
              "       [<matplotlib.axes._subplots.AxesSubplot object at 0x7f13b5e9d250>,\n",
              "        <matplotlib.axes._subplots.AxesSubplot object at 0x7f13b5e53750>,\n",
              "        <matplotlib.axes._subplots.AxesSubplot object at 0x7f13b5e0ec50>]],\n",
              "      dtype=object)"
            ]
          },
          "metadata": {},
          "execution_count": 138
        },
        {
          "output_type": "display_data",
          "data": {
            "image/png": "[encoded data removed]",
            "text/plain": [
              "<Figure size 720x576 with 12 Axes>"
            ]
          },
          "metadata": {
            "needs_background": "light"
          }
        }
      ]
    },
    {
      "cell_type": "markdown",
      "source": [
        "Conseguimos verificar que os valores estão mais compativeis com a realidade. \n",
        "> Podemos verificar que as variaveis que envolvem reviews ainda estão com valores discrepantes, mas como essas variaveis envolve diretamente o feedback dos hospedes, não podemos verificar se os valores são validos ou invalidos."
      ],
      "metadata": {
        "id": "RgqPBvZsaYbW"
      }
    },
    {
      "cell_type": "markdown",
      "metadata": {
        "id": "7x4aw1j5wNmn"
      },
      "source": [
        "### **Q4. Qual a média dos preços de aluguel?**"
      ]
    },
    {
      "cell_type": "markdown",
      "source": [
        "A média de preço das acomodações na região da Venice é de $ 104,9 "
      ],
      "metadata": {
        "id": "VR5ekKNPbg3I"
      }
    },
    {
      "cell_type": "code",
      "metadata": {
        "id": "ff-8gUahLk-C",
        "colab": {
          "base_uri": "https://localhost:8080/"
        },
        "outputId": "2c63da6b-dbe4-4841-feae-b676582f4798"
      },
      "source": [
        "# ver a média da coluna `price``\n",
        "df_clean.price.mean()"
      ],
      "execution_count": null,
      "outputs": [
        {
          "output_type": "execute_result",
          "data": {
            "text/plain": [
              "104.79803395889186"
            ]
          },
          "metadata": {},
          "execution_count": 142
        }
      ]
    },
    {
      "cell_type": "markdown",
      "metadata": {
        "id": "IXn2oIo5qx-w"
      },
      "source": [
        "### **Q4. Qual a correlação existente entre as variáveis**"
      ]
    },
    {
      "cell_type": "markdown",
      "source": [
        "A correlação é uma associação estatística comumente referida como o grau pelo qual um par de variáveis estão linearmente relacionadas, se a correlação de duas variaveis for positiva significa que quando uma cresce a outra cresce junto, já se for negativa uma só irá cresce caso a outra desça.\n",
        "\n",
        "* No DATASET podemos levar desconsiderar muitas correlações, mads ainda conseguimos criar um grafico de calor que deixa exposto que os dados a maioria dos dados correalacionados são de correlação positiva, sendo assim uam necessita do crescimento do outro MESMO QUE COM POUCA INTENSIDADE."
      ],
      "metadata": {
        "id": "zkTRj8H7b31X"
      }
    },
    {
      "cell_type": "code",
      "metadata": {
        "id": "x2ayzBajqxyd",
        "colab": {
          "base_uri": "https://localhost:8080/",
          "height": 490
        },
        "outputId": "915552f3-2345-4064-ca5a-a364fd8ae53a"
      },
      "source": [
        "import matplotlib.pyplot as plt\n",
        "\n",
        "# criar uma matriz de correlação\n",
        "df_clean.corr()\n",
        "\n",
        "# mostrar a matriz de correlação"
      ],
      "execution_count": null,
      "outputs": [
        {
          "output_type": "execute_result",
          "data": {
            "text/html": [
              "\n",
              "  <div id=\"df-a23ffa42-28ab-4664-a2b3-1f74c2d37a1d\">\n",
              "    <div class=\"colab-df-container\">\n",
              "      <div>\n",
              "<style scoped>\n",
              "    .dataframe tbody tr th:only-of-type {\n",
              "        vertical-align: middle;\n",
              "    }\n",
              "\n",
              "    .dataframe tbody tr th {\n",
              "        vertical-align: top;\n",
              "    }\n",
              "\n",
              "    .dataframe thead th {\n",
              "        text-align: right;\n",
              "    }\n",
              "</style>\n",
              "<table border=\"1\" class=\"dataframe\">\n",
              "  <thead>\n",
              "    <tr style=\"text-align: right;\">\n",
              "      <th></th>\n",
              "      <th>id</th>\n",
              "      <th>host_id</th>\n",
              "      <th>latitude</th>\n",
              "      <th>longitude</th>\n",
              "      <th>price</th>\n",
              "      <th>minimum_nights</th>\n",
              "      <th>number_of_reviews</th>\n",
              "      <th>reviews_per_month</th>\n",
              "      <th>calculated_host_listings_count</th>\n",
              "      <th>availability_365</th>\n",
              "      <th>number_of_reviews_ltm</th>\n",
              "      <th>available_year_%</th>\n",
              "    </tr>\n",
              "  </thead>\n",
              "  <tbody>\n",
              "    <tr>\n",
              "      <th>id</th>\n",
              "      <td>1.000000</td>\n",
              "      <td>0.594553</td>\n",
              "      <td>0.061394</td>\n",
              "      <td>-0.079772</td>\n",
              "      <td>-0.005434</td>\n",
              "      <td>-0.233190</td>\n",
              "      <td>-0.507833</td>\n",
              "      <td>0.097664</td>\n",
              "      <td>0.097601</td>\n",
              "      <td>0.017996</td>\n",
              "      <td>0.015015</td>\n",
              "      <td>0.017996</td>\n",
              "    </tr>\n",
              "    <tr>\n",
              "      <th>host_id</th>\n",
              "      <td>0.594553</td>\n",
              "      <td>1.000000</td>\n",
              "      <td>0.097907</td>\n",
              "      <td>-0.119111</td>\n",
              "      <td>-0.081853</td>\n",
              "      <td>-0.185073</td>\n",
              "      <td>-0.292618</td>\n",
              "      <td>0.045184</td>\n",
              "      <td>-0.120721</td>\n",
              "      <td>-0.025183</td>\n",
              "      <td>0.010884</td>\n",
              "      <td>-0.025183</td>\n",
              "    </tr>\n",
              "    <tr>\n",
              "      <th>latitude</th>\n",
              "      <td>0.061394</td>\n",
              "      <td>0.097907</td>\n",
              "      <td>1.000000</td>\n",
              "      <td>-0.773417</td>\n",
              "      <td>-0.375734</td>\n",
              "      <td>-0.223598</td>\n",
              "      <td>0.020490</td>\n",
              "      <td>0.048734</td>\n",
              "      <td>-0.057743</td>\n",
              "      <td>-0.000614</td>\n",
              "      <td>-0.014087</td>\n",
              "      <td>-0.000614</td>\n",
              "    </tr>\n",
              "    <tr>\n",
              "      <th>longitude</th>\n",
              "      <td>-0.079772</td>\n",
              "      <td>-0.119111</td>\n",
              "      <td>-0.773417</td>\n",
              "      <td>1.000000</td>\n",
              "      <td>0.358276</td>\n",
              "      <td>0.213546</td>\n",
              "      <td>-0.012240</td>\n",
              "      <td>-0.052916</td>\n",
              "      <td>0.045113</td>\n",
              "      <td>0.039539</td>\n",
              "      <td>0.021780</td>\n",
              "      <td>0.039539</td>\n",
              "    </tr>\n",
              "    <tr>\n",
              "      <th>price</th>\n",
              "      <td>-0.005434</td>\n",
              "      <td>-0.081853</td>\n",
              "      <td>-0.375734</td>\n",
              "      <td>0.358276</td>\n",
              "      <td>1.000000</td>\n",
              "      <td>0.178031</td>\n",
              "      <td>-0.175542</td>\n",
              "      <td>-0.195191</td>\n",
              "      <td>0.187168</td>\n",
              "      <td>0.100599</td>\n",
              "      <td>-0.167564</td>\n",
              "      <td>0.100599</td>\n",
              "    </tr>\n",
              "    <tr>\n",
              "      <th>minimum_nights</th>\n",
              "      <td>-0.233190</td>\n",
              "      <td>-0.185073</td>\n",
              "      <td>-0.223598</td>\n",
              "      <td>0.213546</td>\n",
              "      <td>0.178031</td>\n",
              "      <td>1.000000</td>\n",
              "      <td>0.007655</td>\n",
              "      <td>-0.143271</td>\n",
              "      <td>-0.070031</td>\n",
              "      <td>-0.046029</td>\n",
              "      <td>-0.087062</td>\n",
              "      <td>-0.046029</td>\n",
              "    </tr>\n",
              "    <tr>\n",
              "      <th>number_of_reviews</th>\n",
              "      <td>-0.507833</td>\n",
              "      <td>-0.292618</td>\n",
              "      <td>0.020490</td>\n",
              "      <td>-0.012240</td>\n",
              "      <td>-0.175542</td>\n",
              "      <td>0.007655</td>\n",
              "      <td>1.000000</td>\n",
              "      <td>0.623693</td>\n",
              "      <td>-0.155351</td>\n",
              "      <td>0.004009</td>\n",
              "      <td>0.473386</td>\n",
              "      <td>0.004009</td>\n",
              "    </tr>\n",
              "    <tr>\n",
              "      <th>reviews_per_month</th>\n",
              "      <td>0.097664</td>\n",
              "      <td>0.045184</td>\n",
              "      <td>0.048734</td>\n",
              "      <td>-0.052916</td>\n",
              "      <td>-0.195191</td>\n",
              "      <td>-0.143271</td>\n",
              "      <td>0.623693</td>\n",
              "      <td>1.000000</td>\n",
              "      <td>-0.124443</td>\n",
              "      <td>0.030335</td>\n",
              "      <td>0.694097</td>\n",
              "      <td>0.030335</td>\n",
              "    </tr>\n",
              "    <tr>\n",
              "      <th>calculated_host_listings_count</th>\n",
              "      <td>0.097601</td>\n",
              "      <td>-0.120721</td>\n",
              "      <td>-0.057743</td>\n",
              "      <td>0.045113</td>\n",
              "      <td>0.187168</td>\n",
              "      <td>-0.070031</td>\n",
              "      <td>-0.155351</td>\n",
              "      <td>-0.124443</td>\n",
              "      <td>1.000000</td>\n",
              "      <td>0.116152</td>\n",
              "      <td>-0.082009</td>\n",
              "      <td>0.116152</td>\n",
              "    </tr>\n",
              "    <tr>\n",
              "      <th>availability_365</th>\n",
              "      <td>0.017996</td>\n",
              "      <td>-0.025183</td>\n",
              "      <td>-0.000614</td>\n",
              "      <td>0.039539</td>\n",
              "      <td>0.100599</td>\n",
              "      <td>-0.046029</td>\n",
              "      <td>0.004009</td>\n",
              "      <td>0.030335</td>\n",
              "      <td>0.116152</td>\n",
              "      <td>1.000000</td>\n",
              "      <td>0.084971</td>\n",
              "      <td>1.000000</td>\n",
              "    </tr>\n",
              "    <tr>\n",
              "      <th>number_of_reviews_ltm</th>\n",
              "      <td>0.015015</td>\n",
              "      <td>0.010884</td>\n",
              "      <td>-0.014087</td>\n",
              "      <td>0.021780</td>\n",
              "      <td>-0.167564</td>\n",
              "      <td>-0.087062</td>\n",
              "      <td>0.473386</td>\n",
              "      <td>0.694097</td>\n",
              "      <td>-0.082009</td>\n",
              "      <td>0.084971</td>\n",
              "      <td>1.000000</td>\n",
              "      <td>0.084971</td>\n",
              "    </tr>\n",
              "    <tr>\n",
              "      <th>available_year_%</th>\n",
              "      <td>0.017996</td>\n",
              "      <td>-0.025183</td>\n",
              "      <td>-0.000614</td>\n",
              "      <td>0.039539</td>\n",
              "      <td>0.100599</td>\n",
              "      <td>-0.046029</td>\n",
              "      <td>0.004009</td>\n",
              "      <td>0.030335</td>\n",
              "      <td>0.116152</td>\n",
              "      <td>1.000000</td>\n",
              "      <td>0.084971</td>\n",
              "      <td>1.000000</td>\n",
              "    </tr>\n",
              "  </tbody>\n",
              "</table>\n",
              "</div>\n",
              "      <button class=\"colab-df-convert\" onclick=\"convertToInteractive('df-a23ffa42-28ab-4664-a2b3-1f74c2d37a1d')\"\n",
              "              title=\"Convert this dataframe to an interactive table.\"\n",
              "              style=\"display:none;\">\n",
              "        \n",
              "  <svg xmlns=\"http://www.w3.org/2000/svg\" height=\"24px\"viewBox=\"0 0 24 24\"\n",
              "       width=\"24px\">\n",
              "    <path d=\"M0 0h24v24H0V0z\" fill=\"none\"/>\n",
              "    <path d=\"M18.56 5.44l.94 2.06.94-2.06 2.06-.94-2.06-.94-.94-2.06-.94 2.06-2.06.94zm-11 1L8.5 8.5l.94-2.06 2.06-.94-2.06-.94L8.5 2.5l-.94 2.06-2.06.94zm10 10l.94 2.06.94-2.06 2.06-.94-2.06-.94-.94-2.06-.94 2.06-2.06.94z\"/><path d=\"M17.41 7.96l-1.37-1.37c-.4-.4-.92-.59-1.43-.59-.52 0-1.04.2-1.43.59L10.3 9.45l-7.72 7.72c-.78.78-.78 2.05 0 2.83L4 21.41c.39.39.9.59 1.41.59.51 0 1.02-.2 1.41-.59l7.78-7.78 2.81-2.81c.8-.78.8-2.07 0-2.86zM5.41 20L4 18.59l7.72-7.72 1.47 1.35L5.41 20z\"/>\n",
              "  </svg>\n",
              "      </button>\n",
              "      \n",
              "  <style>\n",
              "    .colab-df-container {\n",
              "      display:flex;\n",
              "      flex-wrap:wrap;\n",
              "      gap: 12px;\n",
              "    }\n",
              "\n",
              "    .colab-df-convert {\n",
              "      background-color: #E8F0FE;\n",
              "      border: none;\n",
              "      border-radius: 50%;\n",
              "      cursor: pointer;\n",
              "      display: none;\n",
              "      fill: #1967D2;\n",
              "      height: 32px;\n",
              "      padding: 0 0 0 0;\n",
              "      width: 32px;\n",
              "    }\n",
              "\n",
              "    .colab-df-convert:hover {\n",
              "      background-color: #E2EBFA;\n",
              "      box-shadow: 0px 1px 2px rgba(60, 64, 67, 0.3), 0px 1px 3px 1px rgba(60, 64, 67, 0.15);\n",
              "      fill: #174EA6;\n",
              "    }\n",
              "\n",
              "    [theme=dark] .colab-df-convert {\n",
              "      background-color: #3B4455;\n",
              "      fill: #D2E3FC;\n",
              "    }\n",
              "\n",
              "    [theme=dark] .colab-df-convert:hover {\n",
              "      background-color: #434B5C;\n",
              "      box-shadow: 0px 1px 3px 1px rgba(0, 0, 0, 0.15);\n",
              "      filter: drop-shadow(0px 1px 2px rgba(0, 0, 0, 0.3));\n",
              "      fill: #FFFFFF;\n",
              "    }\n",
              "  </style>\n",
              "\n",
              "      <script>\n",
              "        const buttonEl =\n",
              "          document.querySelector('#df-a23ffa42-28ab-4664-a2b3-1f74c2d37a1d button.colab-df-convert');\n",
              "        buttonEl.style.display =\n",
              "          google.colab.kernel.accessAllowed ? 'block' : 'none';\n",
              "\n",
              "        async function convertToInteractive(key) {\n",
              "          const element = document.querySelector('#df-a23ffa42-28ab-4664-a2b3-1f74c2d37a1d');\n",
              "          const dataTable =\n",
              "            await google.colab.kernel.invokeFunction('convertToInteractive',\n",
              "                                                     [key], {});\n",
              "          if (!dataTable) return;\n",
              "\n",
              "          const docLinkHtml = 'Like what you see? Visit the ' +\n",
              "            '<a target=\"_blank\" href=https://colab.research.google.com/notebooks/data_table.ipynb>data table notebook</a>'\n",
              "            + ' to learn more about interactive tables.';\n",
              "          element.innerHTML = '';\n",
              "          dataTable['output_type'] = 'display_data';\n",
              "          await google.colab.output.renderOutput(dataTable, element);\n",
              "          const docLink = document.createElement('div');\n",
              "          docLink.innerHTML = docLinkHtml;\n",
              "          element.appendChild(docLink);\n",
              "        }\n",
              "      </script>\n",
              "    </div>\n",
              "  </div>\n",
              "  "
            ],
            "text/plain": [
              "                                      id  ...  available_year_%\n",
              "id                              1.000000  ...          0.017996\n",
              "host_id                         0.594553  ...         -0.025183\n",
              "latitude                        0.061394  ...         -0.000614\n",
              "longitude                      -0.079772  ...          0.039539\n",
              "price                          -0.005434  ...          0.100599\n",
              "minimum_nights                 -0.233190  ...         -0.046029\n",
              "number_of_reviews              -0.507833  ...          0.004009\n",
              "reviews_per_month               0.097664  ...          0.030335\n",
              "calculated_host_listings_count  0.097601  ...          0.116152\n",
              "availability_365                0.017996  ...          1.000000\n",
              "number_of_reviews_ltm           0.015015  ...          0.084971\n",
              "available_year_%                0.017996  ...          1.000000\n",
              "\n",
              "[12 rows x 12 columns]"
            ]
          },
          "metadata": {},
          "execution_count": 143
        }
      ]
    },
    {
      "cell_type": "code",
      "metadata": {
        "id": "91UujDr6ueqE",
        "colab": {
          "base_uri": "https://localhost:8080/",
          "height": 293
        },
        "outputId": "e81f8be0-0418-4a49-9b9c-e7f6029d7277"
      },
      "source": [
        "# plotar um heatmap a partir das correlações\n",
        "plt.matshow(df_clean.corr())"
      ],
      "execution_count": null,
      "outputs": [
        {
          "output_type": "execute_result",
          "data": {
            "text/plain": [
              "<matplotlib.image.AxesImage at 0x7f13b5b7bd50>"
            ]
          },
          "metadata": {},
          "execution_count": 144
        },
        {
          "output_type": "display_data",
          "data": {
            "image/png": "[encoded data removed]",
            "text/plain": [
              "<Figure size 288x288 with 1 Axes>"
            ]
          },
          "metadata": {
            "needs_background": "light"
          }
        }
      ]
    },
    {
      "cell_type": "markdown",
      "metadata": {
        "id": "7b6RMWpuHKN-"
      },
      "source": [
        "### **Q5. Qual o tipo de imóvel mais alugado no Airbnb?**"
      ]
    },
    {
      "cell_type": "markdown",
      "source": [
        "Na cidade de Venice possui uma vasta gama de tipos de imoveis que podem ser alugados por temporada, mas de todos os imoveis a modalidade 'Entire home/apt' se destaca uma quantidade de 5677 imoveis disponveis para aluguel, sendo este 77,02% dos immoveis disponiveis.\n",
        "\n",
        "\n",
        "\n",
        "\n"
      ],
      "metadata": {
        "id": "JdNDe11ljkYr"
      }
    },
    {
      "cell_type": "code",
      "metadata": {
        "id": "ueLPNWvPHgfB",
        "colab": {
          "base_uri": "https://localhost:8080/"
        },
        "outputId": "f2d4e091-2488-4051-c2b7-a088542d1bfb"
      },
      "source": [
        "# mostrar a quantidade de cada tipo de imóvel disponível\n",
        "df_clean.room_type.value_counts()\n"
      ],
      "execution_count": null,
      "outputs": [
        {
          "output_type": "execute_result",
          "data": {
            "text/plain": [
              "Entire home/apt    5101\n",
              "Private room       1399\n",
              "Hotel room          189\n",
              "Shared room          25\n",
              "Name: room_type, dtype: int64"
            ]
          },
          "metadata": {},
          "execution_count": 145
        }
      ]
    },
    {
      "cell_type": "code",
      "metadata": {
        "id": "EvwoO-XAHhIm",
        "colab": {
          "base_uri": "https://localhost:8080/"
        },
        "outputId": "17d26ac6-511b-4e3f-c1d9-33d9c95463a3"
      },
      "source": [
        "# mostrar a porcentagem de cada tipo de imóvel disponível\n",
        "df_clean.room_type.value_counts()/df.shape[0]"
      ],
      "execution_count": null,
      "outputs": [
        {
          "output_type": "execute_result",
          "data": {
            "text/plain": [
              "Entire home/apt    0.692130\n",
              "Private room       0.189824\n",
              "Hotel room         0.025645\n",
              "Shared room        0.003392\n",
              "Name: room_type, dtype: float64"
            ]
          },
          "metadata": {},
          "execution_count": 146
        }
      ]
    },
    {
      "cell_type": "code",
      "source": [
        ""
      ],
      "metadata": {
        "id": "SojlO13RC-xf"
      },
      "execution_count": null,
      "outputs": []
    },
    {
      "cell_type": "markdown",
      "source": [
        "A disponibilidade do imovel ao longo do ano é algo muito crucial quando está fazendo o levantamento dos dadosse ,podemos analisar na tabela que dos 5 imoveis mais disponiveis ao longo do ano, 3 são do tipo 'Entire home/apt'.\n"
      ],
      "metadata": {
        "id": "VZsJULLxDAE-"
      }
    },
    {
      "cell_type": "code",
      "source": [
        "#Criando uma serie para relacionar a quantidade de dias vagos com a quantidade de dias do ano.(Lucas)\n",
        "\n",
        "df_clean['available_year_%'] = df.availability_365/365*100\n"
      ],
      "metadata": {
        "id": "WzhypBFoGId3"
      },
      "execution_count": null,
      "outputs": []
    },
    {
      "cell_type": "code",
      "source": [
        "#mostrar probabilidade do quarto ter disponiblidade ao longo do ano. (Lucas)\n",
        "\n",
        "df_clean.loc[:,['name','room_type','available_year_%']]"
      ],
      "metadata": {
        "id": "hJFPkavfCfDW",
        "outputId": "c343616c-d60f-44c1-f3d5-a6e9790eae96",
        "colab": {
          "base_uri": "https://localhost:8080/",
          "height": 423
        }
      },
      "execution_count": null,
      "outputs": [
        {
          "output_type": "execute_result",
          "data": {
            "text/html": [
              "\n",
              "  <div id=\"df-5605f9aa-dcb2-45d6-86cc-e70fbdf74775\">\n",
              "    <div class=\"colab-df-container\">\n",
              "      <div>\n",
              "<style scoped>\n",
              "    .dataframe tbody tr th:only-of-type {\n",
              "        vertical-align: middle;\n",
              "    }\n",
              "\n",
              "    .dataframe tbody tr th {\n",
              "        vertical-align: top;\n",
              "    }\n",
              "\n",
              "    .dataframe thead th {\n",
              "        text-align: right;\n",
              "    }\n",
              "</style>\n",
              "<table border=\"1\" class=\"dataframe\">\n",
              "  <thead>\n",
              "    <tr style=\"text-align: right;\">\n",
              "      <th></th>\n",
              "      <th>name</th>\n",
              "      <th>room_type</th>\n",
              "      <th>available_year_%</th>\n",
              "    </tr>\n",
              "  </thead>\n",
              "  <tbody>\n",
              "    <tr>\n",
              "      <th>0</th>\n",
              "      <td>Venice Blue on Canal apartment</td>\n",
              "      <td>Entire home/apt</td>\n",
              "      <td>99.726027</td>\n",
              "    </tr>\n",
              "    <tr>\n",
              "      <th>1</th>\n",
              "      <td>Venice garden charme and canal view!</td>\n",
              "      <td>Entire home/apt</td>\n",
              "      <td>97.808219</td>\n",
              "    </tr>\n",
              "    <tr>\n",
              "      <th>2</th>\n",
              "      <td>Venice home to relax and emotions</td>\n",
              "      <td>Entire home/apt</td>\n",
              "      <td>96.164384</td>\n",
              "    </tr>\n",
              "    <tr>\n",
              "      <th>3</th>\n",
              "      <td>Junior Suite with balcony overlooking canal</td>\n",
              "      <td>Private room</td>\n",
              "      <td>55.068493</td>\n",
              "    </tr>\n",
              "    <tr>\n",
              "      <th>5</th>\n",
              "      <td>Ca' Barba B&amp;B: room n102 (jacuzzi shower)</td>\n",
              "      <td>Hotel room</td>\n",
              "      <td>94.520548</td>\n",
              "    </tr>\n",
              "    <tr>\n",
              "      <th>...</th>\n",
              "      <td>...</td>\n",
              "      <td>...</td>\n",
              "      <td>...</td>\n",
              "    </tr>\n",
              "    <tr>\n",
              "      <th>7365</th>\n",
              "      <td>Hotel al Sotoportego - Camera 1</td>\n",
              "      <td>Private room</td>\n",
              "      <td>67.945205</td>\n",
              "    </tr>\n",
              "    <tr>\n",
              "      <th>7366</th>\n",
              "      <td>S. MARCO APARTMENTS - DOUBLE ROOM 8</td>\n",
              "      <td>Private room</td>\n",
              "      <td>98.082192</td>\n",
              "    </tr>\n",
              "    <tr>\n",
              "      <th>7367</th>\n",
              "      <td>S. MARCO APARTMENTS - DOUBLE ROOM 9</td>\n",
              "      <td>Private room</td>\n",
              "      <td>98.082192</td>\n",
              "    </tr>\n",
              "    <tr>\n",
              "      <th>7368</th>\n",
              "      <td>Venice Mestre Entire Apartment</td>\n",
              "      <td>Entire home/apt</td>\n",
              "      <td>99.726027</td>\n",
              "    </tr>\n",
              "    <tr>\n",
              "      <th>7369</th>\n",
              "      <td>Venice Mestre City Center Entire Apartment</td>\n",
              "      <td>Entire home/apt</td>\n",
              "      <td>97.808219</td>\n",
              "    </tr>\n",
              "  </tbody>\n",
              "</table>\n",
              "<p>6714 rows × 3 columns</p>\n",
              "</div>\n",
              "      <button class=\"colab-df-convert\" onclick=\"convertToInteractive('df-5605f9aa-dcb2-45d6-86cc-e70fbdf74775')\"\n",
              "              title=\"Convert this dataframe to an interactive table.\"\n",
              "              style=\"display:none;\">\n",
              "        \n",
              "  <svg xmlns=\"http://www.w3.org/2000/svg\" height=\"24px\"viewBox=\"0 0 24 24\"\n",
              "       width=\"24px\">\n",
              "    <path d=\"M0 0h24v24H0V0z\" fill=\"none\"/>\n",
              "    <path d=\"M18.56 5.44l.94 2.06.94-2.06 2.06-.94-2.06-.94-.94-2.06-.94 2.06-2.06.94zm-11 1L8.5 8.5l.94-2.06 2.06-.94-2.06-.94L8.5 2.5l-.94 2.06-2.06.94zm10 10l.94 2.06.94-2.06 2.06-.94-2.06-.94-.94-2.06-.94 2.06-2.06.94z\"/><path d=\"M17.41 7.96l-1.37-1.37c-.4-.4-.92-.59-1.43-.59-.52 0-1.04.2-1.43.59L10.3 9.45l-7.72 7.72c-.78.78-.78 2.05 0 2.83L4 21.41c.39.39.9.59 1.41.59.51 0 1.02-.2 1.41-.59l7.78-7.78 2.81-2.81c.8-.78.8-2.07 0-2.86zM5.41 20L4 18.59l7.72-7.72 1.47 1.35L5.41 20z\"/>\n",
              "  </svg>\n",
              "      </button>\n",
              "      \n",
              "  <style>\n",
              "    .colab-df-container {\n",
              "      display:flex;\n",
              "      flex-wrap:wrap;\n",
              "      gap: 12px;\n",
              "    }\n",
              "\n",
              "    .colab-df-convert {\n",
              "      background-color: #E8F0FE;\n",
              "      border: none;\n",
              "      border-radius: 50%;\n",
              "      cursor: pointer;\n",
              "      display: none;\n",
              "      fill: #1967D2;\n",
              "      height: 32px;\n",
              "      padding: 0 0 0 0;\n",
              "      width: 32px;\n",
              "    }\n",
              "\n",
              "    .colab-df-convert:hover {\n",
              "      background-color: #E2EBFA;\n",
              "      box-shadow: 0px 1px 2px rgba(60, 64, 67, 0.3), 0px 1px 3px 1px rgba(60, 64, 67, 0.15);\n",
              "      fill: #174EA6;\n",
              "    }\n",
              "\n",
              "    [theme=dark] .colab-df-convert {\n",
              "      background-color: #3B4455;\n",
              "      fill: #D2E3FC;\n",
              "    }\n",
              "\n",
              "    [theme=dark] .colab-df-convert:hover {\n",
              "      background-color: #434B5C;\n",
              "      box-shadow: 0px 1px 3px 1px rgba(0, 0, 0, 0.15);\n",
              "      filter: drop-shadow(0px 1px 2px rgba(0, 0, 0, 0.3));\n",
              "      fill: #FFFFFF;\n",
              "    }\n",
              "  </style>\n",
              "\n",
              "      <script>\n",
              "        const buttonEl =\n",
              "          document.querySelector('#df-5605f9aa-dcb2-45d6-86cc-e70fbdf74775 button.colab-df-convert');\n",
              "        buttonEl.style.display =\n",
              "          google.colab.kernel.accessAllowed ? 'block' : 'none';\n",
              "\n",
              "        async function convertToInteractive(key) {\n",
              "          const element = document.querySelector('#df-5605f9aa-dcb2-45d6-86cc-e70fbdf74775');\n",
              "          const dataTable =\n",
              "            await google.colab.kernel.invokeFunction('convertToInteractive',\n",
              "                                                     [key], {});\n",
              "          if (!dataTable) return;\n",
              "\n",
              "          const docLinkHtml = 'Like what you see? Visit the ' +\n",
              "            '<a target=\"_blank\" href=https://colab.research.google.com/notebooks/data_table.ipynb>data table notebook</a>'\n",
              "            + ' to learn more about interactive tables.';\n",
              "          element.innerHTML = '';\n",
              "          dataTable['output_type'] = 'display_data';\n",
              "          await google.colab.output.renderOutput(dataTable, element);\n",
              "          const docLink = document.createElement('div');\n",
              "          docLink.innerHTML = docLinkHtml;\n",
              "          element.appendChild(docLink);\n",
              "        }\n",
              "      </script>\n",
              "    </div>\n",
              "  </div>\n",
              "  "
            ],
            "text/plain": [
              "                                             name  ... available_year_%\n",
              "0                  Venice Blue on Canal apartment  ...        99.726027\n",
              "1            Venice garden charme and canal view!  ...        97.808219\n",
              "2               Venice home to relax and emotions  ...        96.164384\n",
              "3     Junior Suite with balcony overlooking canal  ...        55.068493\n",
              "5       Ca' Barba B&B: room n102 (jacuzzi shower)  ...        94.520548\n",
              "...                                           ...  ...              ...\n",
              "7365              Hotel al Sotoportego - Camera 1  ...        67.945205\n",
              "7366          S. MARCO APARTMENTS - DOUBLE ROOM 8  ...        98.082192\n",
              "7367          S. MARCO APARTMENTS - DOUBLE ROOM 9  ...        98.082192\n",
              "7368               Venice Mestre Entire Apartment  ...        99.726027\n",
              "7369   Venice Mestre City Center Entire Apartment  ...        97.808219\n",
              "\n",
              "[6714 rows x 3 columns]"
            ]
          },
          "metadata": {},
          "execution_count": 150
        }
      ]
    },
    {
      "cell_type": "markdown",
      "metadata": {
        "id": "MFa5NbnLJMcd"
      },
      "source": [
        "### **Q6. Qual a localidade mais cara do dataset?**\n",
        "\n"
      ]
    },
    {
      "cell_type": "markdown",
      "source": [
        "Os preços variam de acordo com a localização de cada imovel, em média os bairros mais carros tem um valor de 200 DOLARES e os bairros mais baratos 30 DOLARES, sendo está uma cidade que engloba qualquer tipo de turista.\n",
        "\n"
      ],
      "metadata": {
        "id": "TD_EDJGrDoh5"
      }
    },
    {
      "cell_type": "code",
      "source": [
        "# ver preços por bairros, na média\n",
        "neigh_mean = df_clean.price.groupby(df.neighbourhood).mean()\n",
        "print(neigh_mean.sort_values(ascending = False))"
      ],
      "metadata": {
        "colab": {
          "base_uri": "https://localhost:8080/"
        },
        "id": "X2N6YC0DOasd",
        "outputId": "9c8bdccc-69c7-4088-dbbb-5ec2dd524cb4"
      },
      "execution_count": null,
      "outputs": [
        {
          "output_type": "stream",
          "name": "stdout",
          "text": [
            "neighbourhood\n",
            "Isola San Giorgio              200.000000\n",
            "Alberoni                       193.193548\n",
            "Torcello                       140.000000\n",
            "San Marco                      130.906448\n",
            "Case Dosa                      125.000000\n",
            "San Polo                       121.374510\n",
            "Burano                         120.500000\n",
            "Dorsoduro                      120.130346\n",
            "Santa Croce                    115.992218\n",
            "Lido                           109.653285\n",
            "Castello                       108.705836\n",
            "Cannaregio                     105.501853\n",
            "Giudecca                       103.643478\n",
            "Malamocco                      102.384615\n",
            "Murano                          98.756757\n",
            "San Pietro in Volta             97.500000\n",
            "Pellestrina                     97.000000\n",
            "Mazzorbo                        95.000000\n",
            "Sant'Elena                      94.956522\n",
            "Tessera                         93.037037\n",
            "Altobello                       85.566667\n",
            "Tronchetto                      84.000000\n",
            "Ca' Sabbioni                    78.333333\n",
            "Marghera Zona Industriale       77.888889\n",
            "Aeroporto                       77.875000\n",
            "Campalto                        77.250000\n",
            "Marocco Terraglio               73.090909\n",
            "Sacca Fisola                    73.000000\n",
            "La Favorita                     70.833333\n",
            "Chirignago                      70.233333\n",
            "Villabona                       66.250000\n",
            "Zona Commerciale via Torino     65.933333\n",
            "San Lorenzo XXV Aprile          65.683453\n",
            "Dese                            65.000000\n",
            "Favaro                          63.680851\n",
            "Campalto CEP                    63.500000\n",
            "Ca' Emiliani                    62.571429\n",
            "Carpenedo                       60.621622\n",
            "Piave 1860                      60.244726\n",
            "Villaggio Sartori               59.500000\n",
            "Sant'Erasmo                     58.285714\n",
            "Pra' Secco                      58.000000\n",
            "Santa Barbara                   56.500000\n",
            "Bissuola                        56.391304\n",
            "Villaggio San Marco             56.083333\n",
            "Marghera Catene                 53.352941\n",
            "Marghera                        53.166667\n",
            "Quartiere Pertini               53.000000\n",
            "Gatta - Bondu?                  52.500000\n",
            "Ca' Brentelle                   52.500000\n",
            "Campalto Bagaron                52.333333\n",
            "Zelarino                        49.666667\n",
            "Cipressina                      49.000000\n",
            "Gazzera                         45.388889\n",
            "Torre Antica                    45.000000\n",
            "Campalto Gobbi                  32.000000\n",
            "Giustizia                       30.000000\n",
            "Name: price, dtype: float64\n"
          ]
        }
      ]
    },
    {
      "cell_type": "code",
      "source": [
        "#Histograma para saber a quantidade de acomodações por preço\n",
        "df_clean.price.groupby(df.neighbourhood).mean().hist()"
      ],
      "metadata": {
        "colab": {
          "base_uri": "https://localhost:8080/",
          "height": 283
        },
        "id": "uFDnvtI6cEmF",
        "outputId": "e5cb16de-b7da-41fb-f29d-196db9daf666"
      },
      "execution_count": null,
      "outputs": [
        {
          "output_type": "execute_result",
          "data": {
            "text/plain": [
              "<matplotlib.axes._subplots.AxesSubplot at 0x7f13b5a58e90>"
            ]
          },
          "metadata": {},
          "execution_count": 152
        },
        {
          "output_type": "display_data",
          "data": {
            "image/png": "[encoded data removed]",
            "text/plain": [
              "<Figure size 432x288 with 1 Axes>"
            ]
          },
          "metadata": {
            "needs_background": "light"
          }
        }
      ]
    },
    {
      "cell_type": "markdown",
      "source": [
        "Pelo mapa de calor, pode-se notar que se tem uma grande leva de imoveis na região do centro da cidade."
      ],
      "metadata": {
        "id": "nRK5kDWFwzXn"
      }
    },
    {
      "cell_type": "code",
      "metadata": {
        "id": "UxVJqJ_3W59I",
        "colab": {
          "base_uri": "https://localhost:8080/",
          "height": 767
        },
        "outputId": "2e4f4c13-cbb9-48c7-b621-265738c8164d"
      },
      "source": [
        "# plotar os imóveis pela latitude-longitude\n",
        "id_lar = df_clean.groupby([df.name])[['longitude','latitude']]\n",
        "print(id_lar.first())\n",
        "\n",
        "df_clean.plot.scatter(y='latitude',x='longitude',figsize=(10,8), c=df_clean.price, cmap = 'RdYlGn')"
      ],
      "execution_count": null,
      "outputs": [
        {
          "output_type": "stream",
          "name": "stdout",
          "text": [
            "                                                   longitude  latitude\n",
            "name                                                                  \n",
            "! exceptional location ! Near the cruise terminal   12.31905  45.43860\n",
            "!!!COMPLETELY NEW- 6PAX-15 MIN.FROM VCE!!           12.22728  45.49201\n",
            "\" Alloggio Casa Loredan 1\"                          12.32543  45.43588\n",
            "\" Casa Zanchi - 2 \"                                 12.32438  45.43653\n",
            "\"Alle Rondini 2\"- Country House                     12.21644  45.53480\n",
            "...                                                      ...       ...\n",
            "🌻 Dreamy Garden Harmony House - Cannaregio 🌻        12.32090  45.44533\n",
            "🌼 Charming House with Courtyard - Cannaregio 🌼      12.32241  45.44410\n",
            "🍁En suite double room VillaVispaVenezia SouthWing   12.22965  45.47475\n",
            "💎 Luxury Apartment - Doge's Residence 💎             12.33083  45.44356\n",
            "🦢 San Marco Square Cinnamon Scent Ambience 🦢        12.33749  45.43638\n",
            "\n",
            "[6621 rows x 2 columns]\n"
          ]
        },
        {
          "output_type": "execute_result",
          "data": {
            "text/plain": [
              "<matplotlib.axes._subplots.AxesSubplot at 0x7f13b59e8a10>"
            ]
          },
          "metadata": {},
          "execution_count": 153
        },
        {
          "output_type": "display_data",
          "data": {
            "image/png": "[encoded data removed]",
            "text/plain": [
              "<Figure size 720x576 with 2 Axes>"
            ]
          },
          "metadata": {
            "needs_background": "light"
          }
        }
      ]
    },
    {
      "cell_type": "markdown",
      "source": [
        "Foi verificado os hosts que mais receberam guests ao longo do ano"
      ],
      "metadata": {
        "id": "m968ISjlxJA9"
      }
    },
    {
      "cell_type": "code",
      "source": [
        "# Verificando o host que mais recebeu pessoas.\n",
        "\n",
        "df_clean.host_name.value_counts(ascending= False)\n"
      ],
      "metadata": {
        "colab": {
          "base_uri": "https://localhost:8080/"
        },
        "id": "1s907FSQ2fbd",
        "outputId": "7c284b99-5258-42cd-9e2c-8b4a74eb6f76"
      },
      "execution_count": null,
      "outputs": [
        {
          "output_type": "execute_result",
          "data": {
            "text/plain": [
              "Andrea             133\n",
              "City Apartments    109\n",
              "Marco               97\n",
              "Pleuwy              91\n",
              "Stefano             91\n",
              "                  ... \n",
              "Paula                1\n",
              "Martine              1\n",
              "Ilia                 1\n",
              "Luca Pietro          1\n",
              "Ugolini              1\n",
              "Name: host_name, Length: 1232, dtype: int64"
            ]
          },
          "metadata": {},
          "execution_count": 155
        }
      ]
    },
    {
      "cell_type": "markdown",
      "source": [
        "Sabemos que o valor do aluguel tem uma grande influência na hora da escolha, mas podemos verificar que não é somente isso pois o Host mais barato (Dani) não se encontra nem entre os 5 hosts que mais receeberam."
      ],
      "metadata": {
        "id": "Fm9DD04_xQF2"
      }
    },
    {
      "cell_type": "code",
      "source": [
        "#Verificando o host com o imovel mais caro\n",
        "\n",
        "host_mean = df_clean.price.groupby(df.host_name).mean()\n",
        "print(host_mean.sort_values(ascending = False))"
      ],
      "metadata": {
        "colab": {
          "base_uri": "https://localhost:8080/"
        },
        "id": "l4TTcmAL8cBB",
        "outputId": "a2431b8b-9535-4f47-9b80-617eb418a333"
      },
      "execution_count": null,
      "outputs": [
        {
          "output_type": "stream",
          "name": "stdout",
          "text": [
            "host_name\n",
            "Moreno       254.000000\n",
            "Yourflat     250.000000\n",
            "Pafin Srl    250.000000\n",
            "Hanna        250.000000\n",
            "Philippe     250.000000\n",
            "                ...    \n",
            "Bottle        21.000000\n",
            "Nhat          18.000000\n",
            "Viorica       18.000000\n",
            "Xiaoyang      18.000000\n",
            "Dani           9.333333\n",
            "Name: price, Length: 1232, dtype: float64\n"
          ]
        }
      ]
    },
    {
      "cell_type": "code",
      "source": [
        "df_clean.host_name.value_counts().hist()"
      ],
      "metadata": {
        "colab": {
          "base_uri": "https://localhost:8080/",
          "height": 283
        },
        "id": "jZLDuMO8NjxM",
        "outputId": "873604c6-a3db-4855-cb9b-1a51f056ab71"
      },
      "execution_count": null,
      "outputs": [
        {
          "output_type": "execute_result",
          "data": {
            "text/plain": [
              "<matplotlib.axes._subplots.AxesSubplot at 0x7f13b59221d0>"
            ]
          },
          "metadata": {},
          "execution_count": 157
        },
        {
          "output_type": "display_data",
          "data": {
            "image/png": "[encoded data removed]",
            "text/plain": [
              "<Figure size 432x288 with 1 Axes>"
            ]
          },
          "metadata": {
            "needs_background": "light"
          }
        }
      ]
    },
    {
      "cell_type": "markdown",
      "metadata": {
        "id": "vTneAMRUYvr1"
      },
      "source": [
        "### **Q7. Qual é a média do mínimo de noites para aluguel (minimum_nights)?**"
      ]
    },
    {
      "cell_type": "markdown",
      "source": [
        "A média do minimo de noites passadas na cidade é de 1,97 ~= 2 noites."
      ],
      "metadata": {
        "id": "v3FxJeBtx0mU"
      }
    },
    {
      "cell_type": "code",
      "metadata": {
        "id": "_VzNhrEgY82N",
        "colab": {
          "base_uri": "https://localhost:8080/"
        },
        "outputId": "49380579-ea50-4956-f7a1-f4eec8f3016c"
      },
      "source": [
        "# ver a média da coluna `minimum_nights``\n",
        "df_clean.minimum_nights.mean()"
      ],
      "execution_count": null,
      "outputs": [
        {
          "output_type": "execute_result",
          "data": {
            "text/plain": [
              "1.9711051534107835"
            ]
          },
          "metadata": {},
          "execution_count": 161
        }
      ]
    },
    {
      "cell_type": "markdown",
      "metadata": {
        "id": "GkvAg623RjoR"
      },
      "source": [
        "## Conclusões\n"
      ]
    },
    {
      "cell_type": "markdown",
      "metadata": {
        "id": "rbZ3Hsy9Ypw8"
      },
      "source": [
        "\n",
        "\n",
        "*  Essa Análise de Dados se deu devido a uma atividade feita pelo curso Ciencia de Dados 3.0 ministrado pelo professor Carlos Melo.\n",
        "\n",
        "* Como falado anteriomente, esse DataSet é uma versão resumida do DataSet oferecido pela Airbnb, e possui poucas Series em relação a versão extendida.\n",
        "\n",
        "* Esse foi a minha primeira Analise de Dados feita, e com certeza tem alguns pontos que podem ser corrigidos, rumos diferentes que posso tomar, e estou aberto a novas ideias e correções. \n",
        "\n",
        "\n",
        "ISSO É APENAS O COMEÇO\n",
        "\n",
        "\n",
        "\n",
        "\n"
      ]
    },
    {
      "cell_type": "code",
      "source": [
        ""
      ],
      "metadata": {
        "id": "35XvQzm60KC0"
      },
      "execution_count": null,
      "outputs": []
    }
  ]
}
