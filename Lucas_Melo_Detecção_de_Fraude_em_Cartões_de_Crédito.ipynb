{
  "nbformat": 4,
  "nbformat_minor": 0,
  "metadata": {
    "colab": {
      "name": "Lucas Melo - Detecção de Fraude em Cartões de Crédito.ipynb",
      "provenance": [],
      "collapsed_sections": [
        "8UtXyZ6stlSM",
        "CTWLzA-A5PkN",
        "AEsuelQLyxg4",
        "eLRXdAgA0dyz",
        "DHrRnarJ04yZ",
        "c3Lujygq0_2q",
        "QoDS1kD3za0y",
        "6-4V7h8FCCwi",
        "8ROVWY5F6_8b",
        "BOS3ia0l8UTu",
        "4I-MTicLSPFH",
        "VX8JCUj9UI39"
      ],
      "include_colab_link": true
    },
    "kernelspec": {
      "name": "python3",
      "display_name": "Python 3"
    }
  },
  "cells": [
    {
      "cell_type": "markdown",
      "metadata": {
        "id": "view-in-github",
        "colab_type": "text"
      },
      "source": [
        "<a href=\"https://colab.research.google.com/github/Lucas-Melo-A-S/Data_Science/blob/main/Lucas_Melo_Detec%C3%A7%C3%A3o_de_Fraude_em_Cart%C3%B5es_de_Cr%C3%A9dito.ipynb\" target=\"_parent\"><img src=\"https://colab.research.google.com/assets/colab-badge.svg\" alt=\"Open In Colab\"/></a>"
      ]
    },
    {
      "cell_type": "markdown",
      "metadata": {
        "id": "sC2BFMOKN1M7"
      },
      "source": [
        "---\n",
        "<img alt=\"Colaboratory logo\" width=\"15%\" src=\"https://raw.githubusercontent.com/carlosfab/escola-data-science/master/img/novo_logo_bg_claro.png\">\n",
        "\n",
        "#### **Data Science na Prática 3.0**\n",
        "*by [sigmoidal.ai](https://sigmoidal.ai)*  \n",
        "\n",
        "---"
      ]
    },
    {
      "cell_type": "markdown",
      "metadata": {
        "id": "IR56trFcPcC1"
      },
      "source": [
        "# Detecção de Fraudes em Cartões de Crédito\n",
        "\n",
        "Neste projeto disponibilizado pela Sigmoidal, iremos abordar o problema das fraudes em cartões de crédito, uma das principais preocupações das instituições financeiras como bancos e fintechs.\n",
        "\n",
        "Apenas no Brasil, cerca de 12,1 milhões de pessoas já foram vítimas de algum tipo de fraude financeira no último ano. De acordo com Serasa Experian no ano de 2021 o país teve cerca de 4,1 milhões de movimentações suspeitas de fraude.Esse número representa um aumento de 16,8% em relação ao ultimo ano mas ele acaba chamando atenção pois foi o maior desde que esse estudou iniciou.\n",
        "\n",
        "<p align=center>\n",
        "<img src=\"https://images.unsplash.com/photo-1592772874383-d08932d29db7?ixid=MnwxMjA3fDB8MHxwaG90by1wYWdlfHx8fGVufDB8fHx8&ixlib=rb-1.2.1&auto=format&fit=crop&w=699&q=80\" width=\"60%\"></p>\n",
        "\n",
        "Dentra essas fraudes, aquelas envolvendo cartões de crédito são de grande relevância uma vez que a sua não-detecção acaretará em prejuízos consideráveis, tanto para o consumidor quanto para a instituição financeira. Um outro fator a ser considerado é a quantidade de falsos positivos, ou seja, aquelas vezes em que você tentou fazer uma compra e teve seu cartão bloqueado preventivamente podendo gerar estresse e constrangimento.\n",
        "\n",
        "Por todos esses motivos, o investimento na área de detecção de fraudes por meio de Inteligência Artificial vem crescendo a cada ano. Dispondo de grandes volumes de dados como base histórica, um algoritmo de machine learning apenas um pouco melhor que os anteriores já representa uma economia de milhões de Reais."
      ]
    },
    {
      "cell_type": "markdown",
      "metadata": {
        "id": "0HVmpIxQWT4Y"
      },
      "source": [
        "## Conhecendo o Banco de Dados\n",
        "\n",
        "Os dados que usaremos neste projeto foram disponibilizados por algumas empresas européias de cartão de crédito. O banco de dados representa operações financeiras que aconteçaram ao longo de dois dias. \n",
        "\n",
        "\n",
        "<p align=center>\n",
        "<img src=\"https://images.unsplash.com/photo-1620714223084-8fcacc6dfd8d?ixid=MnwxMjA3fDB8MHxwaG90by1wYWdlfHx8fGVufDB8fHx8&ixlib=rb-1.2.1&auto=format&fit=crop&w=1051&q=80\" width=\"50%\"></p>\n",
        "\n",
        "\n",
        "[Na página original dos dados](https://www.kaggle.com/mlg-ulb/creditcardfraud), também é informado que as variáveis passaram por uma transformação conhecida como Análise de Componentes Principais (*Principal Component Analysis* - PCA).\n",
        "\n",
        "A PCA permite a redução da dimensionalidade enquanto mantém o maior número possível de informações. Para conseguir isso, o algoritmo encontra um conjunto novo de recursos - os chamados componentes. Esses componentes são em número menor or igual às variáveis originais. No caso deste projeto, os componentes achados pela transformação da PCA são as próprias colunas $[V1, V2, V3 \\dots, V28]$.\n",
        "\n",
        "As features(colunas) são todas numéricas, e foram descaracterizadas (por problemas ligados à privacidade e segurança).\n",
        "\n",
        "Nesse Banco de Dados foram encontrados duas situações que foram classificadas como **Fraude (1) e Não Fraude(0)**.E através dessas situações será realizado um estudo comparativo entre métodos de Machine Learning para a **classificação**."
      ]
    },
    {
      "cell_type": "markdown",
      "source": [
        "Para iniciar todo o processo de limpeza, balanceamento e machine learning iremos importas todas as bibliotecas que serão importantes para o nosso projeto."
      ],
      "metadata": {
        "id": "6xzrThgL6OTR"
      }
    },
    {
      "cell_type": "code",
      "metadata": {
        "id": "oQ4bNy7udtEE"
      },
      "source": [
        "# importar os pacotes necessários\n",
        "import pandas as pd\n",
        "import numpy as np\n",
        "import seaborn as sns\n",
        "import matplotlib.pyplot as plt"
      ],
      "execution_count": 87,
      "outputs": []
    },
    {
      "cell_type": "markdown",
      "metadata": {
        "id": "g5XDTWW5LRVe"
      },
      "source": [
        "- Para importar o Banco de Dados iremos utilizar o link para lermos o arquivo CSV.\n",
        "\n",
        "- Após importar o banco de dados iremos utilizar o comando head para observarmos as 5 primeiras linhas do Banco de Dados."
      ]
    },
    {
      "cell_type": "code",
      "metadata": {
        "id": "4NxUOfDOj2j8",
        "colab": {
          "base_uri": "https://localhost:8080/",
          "height": 236
        },
        "outputId": "92436661-0f96-443e-b509-ffc6699d2270"
      },
      "source": [
        "url = \"https://www.dropbox.com/s/b44o3t3ehmnx2b7/creditcard.csv?dl=1\"\n",
        "\n",
        "df = pd.read_csv(url)\n",
        "\n",
        "df.head()\n"
      ],
      "execution_count": 88,
      "outputs": [
        {
          "output_type": "execute_result",
          "data": {
            "text/plain": [
              "   Time        V1        V2        V3        V4        V5        V6        V7  \\\n",
              "0   0.0 -1.359807 -0.072781  2.536347  1.378155 -0.338321  0.462388  0.239599   \n",
              "1   0.0  1.191857  0.266151  0.166480  0.448154  0.060018 -0.082361 -0.078803   \n",
              "2   1.0 -1.358354 -1.340163  1.773209  0.379780 -0.503198  1.800499  0.791461   \n",
              "3   1.0 -0.966272 -0.185226  1.792993 -0.863291 -0.010309  1.247203  0.237609   \n",
              "4   2.0 -1.158233  0.877737  1.548718  0.403034 -0.407193  0.095921  0.592941   \n",
              "\n",
              "         V8        V9  ...       V21       V22       V23       V24       V25  \\\n",
              "0  0.098698  0.363787  ... -0.018307  0.277838 -0.110474  0.066928  0.128539   \n",
              "1  0.085102 -0.255425  ... -0.225775 -0.638672  0.101288 -0.339846  0.167170   \n",
              "2  0.247676 -1.514654  ...  0.247998  0.771679  0.909412 -0.689281 -0.327642   \n",
              "3  0.377436 -1.387024  ... -0.108300  0.005274 -0.190321 -1.175575  0.647376   \n",
              "4 -0.270533  0.817739  ... -0.009431  0.798278 -0.137458  0.141267 -0.206010   \n",
              "\n",
              "        V26       V27       V28  Amount  Class  \n",
              "0 -0.189115  0.133558 -0.021053  149.62      0  \n",
              "1  0.125895 -0.008983  0.014724    2.69      0  \n",
              "2 -0.139097 -0.055353 -0.059752  378.66      0  \n",
              "3 -0.221929  0.062723  0.061458  123.50      0  \n",
              "4  0.502292  0.219422  0.215153   69.99      0  \n",
              "\n",
              "[5 rows x 31 columns]"
            ],
            "text/html": [
              "\n",
              "  <div id=\"df-0956e4f6-8126-43e3-ab0b-03382f205f7c\">\n",
              "    <div class=\"colab-df-container\">\n",
              "      <div>\n",
              "<style scoped>\n",
              "    .dataframe tbody tr th:only-of-type {\n",
              "        vertical-align: middle;\n",
              "    }\n",
              "\n",
              "    .dataframe tbody tr th {\n",
              "        vertical-align: top;\n",
              "    }\n",
              "\n",
              "    .dataframe thead th {\n",
              "        text-align: right;\n",
              "    }\n",
              "</style>\n",
              "<table border=\"1\" class=\"dataframe\">\n",
              "  <thead>\n",
              "    <tr style=\"text-align: right;\">\n",
              "      <th></th>\n",
              "      <th>Time</th>\n",
              "      <th>V1</th>\n",
              "      <th>V2</th>\n",
              "      <th>V3</th>\n",
              "      <th>V4</th>\n",
              "      <th>V5</th>\n",
              "      <th>V6</th>\n",
              "      <th>V7</th>\n",
              "      <th>V8</th>\n",
              "      <th>V9</th>\n",
              "      <th>...</th>\n",
              "      <th>V21</th>\n",
              "      <th>V22</th>\n",
              "      <th>V23</th>\n",
              "      <th>V24</th>\n",
              "      <th>V25</th>\n",
              "      <th>V26</th>\n",
              "      <th>V27</th>\n",
              "      <th>V28</th>\n",
              "      <th>Amount</th>\n",
              "      <th>Class</th>\n",
              "    </tr>\n",
              "  </thead>\n",
              "  <tbody>\n",
              "    <tr>\n",
              "      <th>0</th>\n",
              "      <td>0.0</td>\n",
              "      <td>-1.359807</td>\n",
              "      <td>-0.072781</td>\n",
              "      <td>2.536347</td>\n",
              "      <td>1.378155</td>\n",
              "      <td>-0.338321</td>\n",
              "      <td>0.462388</td>\n",
              "      <td>0.239599</td>\n",
              "      <td>0.098698</td>\n",
              "      <td>0.363787</td>\n",
              "      <td>...</td>\n",
              "      <td>-0.018307</td>\n",
              "      <td>0.277838</td>\n",
              "      <td>-0.110474</td>\n",
              "      <td>0.066928</td>\n",
              "      <td>0.128539</td>\n",
              "      <td>-0.189115</td>\n",
              "      <td>0.133558</td>\n",
              "      <td>-0.021053</td>\n",
              "      <td>149.62</td>\n",
              "      <td>0</td>\n",
              "    </tr>\n",
              "    <tr>\n",
              "      <th>1</th>\n",
              "      <td>0.0</td>\n",
              "      <td>1.191857</td>\n",
              "      <td>0.266151</td>\n",
              "      <td>0.166480</td>\n",
              "      <td>0.448154</td>\n",
              "      <td>0.060018</td>\n",
              "      <td>-0.082361</td>\n",
              "      <td>-0.078803</td>\n",
              "      <td>0.085102</td>\n",
              "      <td>-0.255425</td>\n",
              "      <td>...</td>\n",
              "      <td>-0.225775</td>\n",
              "      <td>-0.638672</td>\n",
              "      <td>0.101288</td>\n",
              "      <td>-0.339846</td>\n",
              "      <td>0.167170</td>\n",
              "      <td>0.125895</td>\n",
              "      <td>-0.008983</td>\n",
              "      <td>0.014724</td>\n",
              "      <td>2.69</td>\n",
              "      <td>0</td>\n",
              "    </tr>\n",
              "    <tr>\n",
              "      <th>2</th>\n",
              "      <td>1.0</td>\n",
              "      <td>-1.358354</td>\n",
              "      <td>-1.340163</td>\n",
              "      <td>1.773209</td>\n",
              "      <td>0.379780</td>\n",
              "      <td>-0.503198</td>\n",
              "      <td>1.800499</td>\n",
              "      <td>0.791461</td>\n",
              "      <td>0.247676</td>\n",
              "      <td>-1.514654</td>\n",
              "      <td>...</td>\n",
              "      <td>0.247998</td>\n",
              "      <td>0.771679</td>\n",
              "      <td>0.909412</td>\n",
              "      <td>-0.689281</td>\n",
              "      <td>-0.327642</td>\n",
              "      <td>-0.139097</td>\n",
              "      <td>-0.055353</td>\n",
              "      <td>-0.059752</td>\n",
              "      <td>378.66</td>\n",
              "      <td>0</td>\n",
              "    </tr>\n",
              "    <tr>\n",
              "      <th>3</th>\n",
              "      <td>1.0</td>\n",
              "      <td>-0.966272</td>\n",
              "      <td>-0.185226</td>\n",
              "      <td>1.792993</td>\n",
              "      <td>-0.863291</td>\n",
              "      <td>-0.010309</td>\n",
              "      <td>1.247203</td>\n",
              "      <td>0.237609</td>\n",
              "      <td>0.377436</td>\n",
              "      <td>-1.387024</td>\n",
              "      <td>...</td>\n",
              "      <td>-0.108300</td>\n",
              "      <td>0.005274</td>\n",
              "      <td>-0.190321</td>\n",
              "      <td>-1.175575</td>\n",
              "      <td>0.647376</td>\n",
              "      <td>-0.221929</td>\n",
              "      <td>0.062723</td>\n",
              "      <td>0.061458</td>\n",
              "      <td>123.50</td>\n",
              "      <td>0</td>\n",
              "    </tr>\n",
              "    <tr>\n",
              "      <th>4</th>\n",
              "      <td>2.0</td>\n",
              "      <td>-1.158233</td>\n",
              "      <td>0.877737</td>\n",
              "      <td>1.548718</td>\n",
              "      <td>0.403034</td>\n",
              "      <td>-0.407193</td>\n",
              "      <td>0.095921</td>\n",
              "      <td>0.592941</td>\n",
              "      <td>-0.270533</td>\n",
              "      <td>0.817739</td>\n",
              "      <td>...</td>\n",
              "      <td>-0.009431</td>\n",
              "      <td>0.798278</td>\n",
              "      <td>-0.137458</td>\n",
              "      <td>0.141267</td>\n",
              "      <td>-0.206010</td>\n",
              "      <td>0.502292</td>\n",
              "      <td>0.219422</td>\n",
              "      <td>0.215153</td>\n",
              "      <td>69.99</td>\n",
              "      <td>0</td>\n",
              "    </tr>\n",
              "  </tbody>\n",
              "</table>\n",
              "<p>5 rows × 31 columns</p>\n",
              "</div>\n",
              "      <button class=\"colab-df-convert\" onclick=\"convertToInteractive('df-0956e4f6-8126-43e3-ab0b-03382f205f7c')\"\n",
              "              title=\"Convert this dataframe to an interactive table.\"\n",
              "              style=\"display:none;\">\n",
              "        \n",
              "  <svg xmlns=\"http://www.w3.org/2000/svg\" height=\"24px\"viewBox=\"0 0 24 24\"\n",
              "       width=\"24px\">\n",
              "    <path d=\"M0 0h24v24H0V0z\" fill=\"none\"/>\n",
              "    <path d=\"M18.56 5.44l.94 2.06.94-2.06 2.06-.94-2.06-.94-.94-2.06-.94 2.06-2.06.94zm-11 1L8.5 8.5l.94-2.06 2.06-.94-2.06-.94L8.5 2.5l-.94 2.06-2.06.94zm10 10l.94 2.06.94-2.06 2.06-.94-2.06-.94-.94-2.06-.94 2.06-2.06.94z\"/><path d=\"M17.41 7.96l-1.37-1.37c-.4-.4-.92-.59-1.43-.59-.52 0-1.04.2-1.43.59L10.3 9.45l-7.72 7.72c-.78.78-.78 2.05 0 2.83L4 21.41c.39.39.9.59 1.41.59.51 0 1.02-.2 1.41-.59l7.78-7.78 2.81-2.81c.8-.78.8-2.07 0-2.86zM5.41 20L4 18.59l7.72-7.72 1.47 1.35L5.41 20z\"/>\n",
              "  </svg>\n",
              "      </button>\n",
              "      \n",
              "  <style>\n",
              "    .colab-df-container {\n",
              "      display:flex;\n",
              "      flex-wrap:wrap;\n",
              "      gap: 12px;\n",
              "    }\n",
              "\n",
              "    .colab-df-convert {\n",
              "      background-color: #E8F0FE;\n",
              "      border: none;\n",
              "      border-radius: 50%;\n",
              "      cursor: pointer;\n",
              "      display: none;\n",
              "      fill: #1967D2;\n",
              "      height: 32px;\n",
              "      padding: 0 0 0 0;\n",
              "      width: 32px;\n",
              "    }\n",
              "\n",
              "    .colab-df-convert:hover {\n",
              "      background-color: #E2EBFA;\n",
              "      box-shadow: 0px 1px 2px rgba(60, 64, 67, 0.3), 0px 1px 3px 1px rgba(60, 64, 67, 0.15);\n",
              "      fill: #174EA6;\n",
              "    }\n",
              "\n",
              "    [theme=dark] .colab-df-convert {\n",
              "      background-color: #3B4455;\n",
              "      fill: #D2E3FC;\n",
              "    }\n",
              "\n",
              "    [theme=dark] .colab-df-convert:hover {\n",
              "      background-color: #434B5C;\n",
              "      box-shadow: 0px 1px 3px 1px rgba(0, 0, 0, 0.15);\n",
              "      filter: drop-shadow(0px 1px 2px rgba(0, 0, 0, 0.3));\n",
              "      fill: #FFFFFF;\n",
              "    }\n",
              "  </style>\n",
              "\n",
              "      <script>\n",
              "        const buttonEl =\n",
              "          document.querySelector('#df-0956e4f6-8126-43e3-ab0b-03382f205f7c button.colab-df-convert');\n",
              "        buttonEl.style.display =\n",
              "          google.colab.kernel.accessAllowed ? 'block' : 'none';\n",
              "\n",
              "        async function convertToInteractive(key) {\n",
              "          const element = document.querySelector('#df-0956e4f6-8126-43e3-ab0b-03382f205f7c');\n",
              "          const dataTable =\n",
              "            await google.colab.kernel.invokeFunction('convertToInteractive',\n",
              "                                                     [key], {});\n",
              "          if (!dataTable) return;\n",
              "\n",
              "          const docLinkHtml = 'Like what you see? Visit the ' +\n",
              "            '<a target=\"_blank\" href=https://colab.research.google.com/notebooks/data_table.ipynb>data table notebook</a>'\n",
              "            + ' to learn more about interactive tables.';\n",
              "          element.innerHTML = '';\n",
              "          dataTable['output_type'] = 'display_data';\n",
              "          await google.colab.output.renderOutput(dataTable, element);\n",
              "          const docLink = document.createElement('div');\n",
              "          docLink.innerHTML = docLinkHtml;\n",
              "          element.appendChild(docLink);\n",
              "        }\n",
              "      </script>\n",
              "    </div>\n",
              "  </div>\n",
              "  "
            ]
          },
          "metadata": {},
          "execution_count": 88
        }
      ]
    },
    {
      "cell_type": "markdown",
      "source": [
        "Feito a exportação e observando que não será necessario a configuração do Banco de Dados, iremos iniciar a etapa da Analise Exploratoria, onde nesta iremos utilizar de comando para extrairmos irformações que poderão ser importante para todo processo que iremos realizar."
      ],
      "metadata": {
        "id": "JOrJcKkM7GfS"
      }
    },
    {
      "cell_type": "markdown",
      "metadata": {
        "id": "8UtXyZ6stlSM"
      },
      "source": [
        "## Análise Exploratória\n",
        "\n"
      ]
    },
    {
      "cell_type": "markdown",
      "source": [
        "Como primeira etapa da Analise, iremos verificar a quantidade de linhas(features) e colunas(labels) que esse dataframe tem, também iremos verificar se nesse dataframe tem a presença de valores nulos"
      ],
      "metadata": {
        "id": "YKM3HVGf7lRQ"
      }
    },
    {
      "cell_type": "code",
      "source": [
        "#Verificando quantas features e label tem o dataframe\n",
        "\n",
        "df.shape\n",
        "print(f'O dataframe tem {df.shape[0]} features')\n",
        "print(f'O dataframe tem {df.shape[1]} labels')"
      ],
      "metadata": {
        "colab": {
          "base_uri": "https://localhost:8080/"
        },
        "id": "6gBRxPLlpy9a",
        "outputId": "a2a22240-cfc1-4234-c597-7bb60b22f1f2"
      },
      "execution_count": 89,
      "outputs": [
        {
          "output_type": "stream",
          "name": "stdout",
          "text": [
            "O dataframe tem 284807 features\n",
            "O dataframe tem 31 labels\n"
          ]
        }
      ]
    },
    {
      "cell_type": "code",
      "source": [
        "df.info()"
      ],
      "metadata": {
        "colab": {
          "base_uri": "https://localhost:8080/"
        },
        "id": "c0OQAKqeqlnY",
        "outputId": "81fb8ea5-4a99-4fe6-c56f-b8f896fd845b"
      },
      "execution_count": 90,
      "outputs": [
        {
          "output_type": "stream",
          "name": "stdout",
          "text": [
            "<class 'pandas.core.frame.DataFrame'>\n",
            "RangeIndex: 284807 entries, 0 to 284806\n",
            "Data columns (total 31 columns):\n",
            " #   Column  Non-Null Count   Dtype  \n",
            "---  ------  --------------   -----  \n",
            " 0   Time    284807 non-null  float64\n",
            " 1   V1      284807 non-null  float64\n",
            " 2   V2      284807 non-null  float64\n",
            " 3   V3      284807 non-null  float64\n",
            " 4   V4      284807 non-null  float64\n",
            " 5   V5      284807 non-null  float64\n",
            " 6   V6      284807 non-null  float64\n",
            " 7   V7      284807 non-null  float64\n",
            " 8   V8      284807 non-null  float64\n",
            " 9   V9      284807 non-null  float64\n",
            " 10  V10     284807 non-null  float64\n",
            " 11  V11     284807 non-null  float64\n",
            " 12  V12     284807 non-null  float64\n",
            " 13  V13     284807 non-null  float64\n",
            " 14  V14     284807 non-null  float64\n",
            " 15  V15     284807 non-null  float64\n",
            " 16  V16     284807 non-null  float64\n",
            " 17  V17     284807 non-null  float64\n",
            " 18  V18     284807 non-null  float64\n",
            " 19  V19     284807 non-null  float64\n",
            " 20  V20     284807 non-null  float64\n",
            " 21  V21     284807 non-null  float64\n",
            " 22  V22     284807 non-null  float64\n",
            " 23  V23     284807 non-null  float64\n",
            " 24  V24     284807 non-null  float64\n",
            " 25  V25     284807 non-null  float64\n",
            " 26  V26     284807 non-null  float64\n",
            " 27  V27     284807 non-null  float64\n",
            " 28  V28     284807 non-null  float64\n",
            " 29  Amount  284807 non-null  float64\n",
            " 30  Class   284807 non-null  int64  \n",
            "dtypes: float64(30), int64(1)\n",
            "memory usage: 67.4 MB\n"
          ]
        }
      ]
    },
    {
      "cell_type": "code",
      "source": [
        "df.isnull().sum()"
      ],
      "metadata": {
        "colab": {
          "base_uri": "https://localhost:8080/"
        },
        "id": "Wk-PLv-nqtI6",
        "outputId": "67531607-0188-4a07-d427-f1133e1e24b1"
      },
      "execution_count": 91,
      "outputs": [
        {
          "output_type": "execute_result",
          "data": {
            "text/plain": [
              "Time      0\n",
              "V1        0\n",
              "V2        0\n",
              "V3        0\n",
              "V4        0\n",
              "V5        0\n",
              "V6        0\n",
              "V7        0\n",
              "V8        0\n",
              "V9        0\n",
              "V10       0\n",
              "V11       0\n",
              "V12       0\n",
              "V13       0\n",
              "V14       0\n",
              "V15       0\n",
              "V16       0\n",
              "V17       0\n",
              "V18       0\n",
              "V19       0\n",
              "V20       0\n",
              "V21       0\n",
              "V22       0\n",
              "V23       0\n",
              "V24       0\n",
              "V25       0\n",
              "V26       0\n",
              "V27       0\n",
              "V28       0\n",
              "Amount    0\n",
              "Class     0\n",
              "dtype: int64"
            ]
          },
          "metadata": {},
          "execution_count": 91
        }
      ]
    },
    {
      "cell_type": "markdown",
      "source": [
        "Após a verificação constatamos que não se tem valor nulo, algo muito bom pois não iremos precisar remover ou dar valor a nenhuma linhas ou coluna do Banco de Dados."
      ],
      "metadata": {
        "id": "iLhvqoSS74ga"
      }
    },
    {
      "cell_type": "code",
      "source": [
        "df.describe().applymap(lambda x: f\"{x:0.3f}\")"
      ],
      "metadata": {
        "colab": {
          "base_uri": "https://localhost:8080/",
          "height": 394
        },
        "id": "z8X9V8juoxlE",
        "outputId": "294ce7c6-42b7-4fd3-9d9e-ea5f2d398885"
      },
      "execution_count": 92,
      "outputs": [
        {
          "output_type": "execute_result",
          "data": {
            "text/plain": [
              "             Time          V1          V2          V3          V4          V5  \\\n",
              "count  284807.000  284807.000  284807.000  284807.000  284807.000  284807.000   \n",
              "mean    94813.860       0.000       0.000      -0.000       0.000      -0.000   \n",
              "std     47488.146       1.959       1.651       1.516       1.416       1.380   \n",
              "min         0.000     -56.408     -72.716     -48.326      -5.683    -113.743   \n",
              "25%     54201.500      -0.920      -0.599      -0.890      -0.849      -0.692   \n",
              "50%     84692.000       0.018       0.065       0.180      -0.020      -0.054   \n",
              "75%    139320.500       1.316       0.804       1.027       0.743       0.612   \n",
              "max    172792.000       2.455      22.058       9.383      16.875      34.802   \n",
              "\n",
              "               V6          V7          V8          V9  ...         V21  \\\n",
              "count  284807.000  284807.000  284807.000  284807.000  ...  284807.000   \n",
              "mean        0.000      -0.000      -0.000      -0.000  ...       0.000   \n",
              "std         1.332       1.237       1.194       1.099  ...       0.735   \n",
              "min       -26.161     -43.557     -73.217     -13.434  ...     -34.830   \n",
              "25%        -0.768      -0.554      -0.209      -0.643  ...      -0.228   \n",
              "50%        -0.274       0.040       0.022      -0.051  ...      -0.029   \n",
              "75%         0.399       0.570       0.327       0.597  ...       0.186   \n",
              "max        73.302     120.589      20.007      15.595  ...      27.203   \n",
              "\n",
              "              V22         V23         V24         V25         V26         V27  \\\n",
              "count  284807.000  284807.000  284807.000  284807.000  284807.000  284807.000   \n",
              "mean        0.000       0.000       0.000       0.000       0.000      -0.000   \n",
              "std         0.726       0.624       0.606       0.521       0.482       0.404   \n",
              "min       -10.933     -44.808      -2.837     -10.295      -2.605     -22.566   \n",
              "25%        -0.542      -0.162      -0.355      -0.317      -0.327      -0.071   \n",
              "50%         0.007      -0.011       0.041       0.017      -0.052       0.001   \n",
              "75%         0.529       0.148       0.440       0.351       0.241       0.091   \n",
              "max        10.503      22.528       4.585       7.520       3.517      31.612   \n",
              "\n",
              "              V28      Amount       Class  \n",
              "count  284807.000  284807.000  284807.000  \n",
              "mean       -0.000      88.350       0.002  \n",
              "std         0.330     250.120       0.042  \n",
              "min       -15.430       0.000       0.000  \n",
              "25%        -0.053       5.600       0.000  \n",
              "50%         0.011      22.000       0.000  \n",
              "75%         0.078      77.165       0.000  \n",
              "max        33.848   25691.160       1.000  \n",
              "\n",
              "[8 rows x 31 columns]"
            ],
            "text/html": [
              "\n",
              "  <div id=\"df-9cea5e0d-62fd-4afc-8e67-9465dbaba706\">\n",
              "    <div class=\"colab-df-container\">\n",
              "      <div>\n",
              "<style scoped>\n",
              "    .dataframe tbody tr th:only-of-type {\n",
              "        vertical-align: middle;\n",
              "    }\n",
              "\n",
              "    .dataframe tbody tr th {\n",
              "        vertical-align: top;\n",
              "    }\n",
              "\n",
              "    .dataframe thead th {\n",
              "        text-align: right;\n",
              "    }\n",
              "</style>\n",
              "<table border=\"1\" class=\"dataframe\">\n",
              "  <thead>\n",
              "    <tr style=\"text-align: right;\">\n",
              "      <th></th>\n",
              "      <th>Time</th>\n",
              "      <th>V1</th>\n",
              "      <th>V2</th>\n",
              "      <th>V3</th>\n",
              "      <th>V4</th>\n",
              "      <th>V5</th>\n",
              "      <th>V6</th>\n",
              "      <th>V7</th>\n",
              "      <th>V8</th>\n",
              "      <th>V9</th>\n",
              "      <th>...</th>\n",
              "      <th>V21</th>\n",
              "      <th>V22</th>\n",
              "      <th>V23</th>\n",
              "      <th>V24</th>\n",
              "      <th>V25</th>\n",
              "      <th>V26</th>\n",
              "      <th>V27</th>\n",
              "      <th>V28</th>\n",
              "      <th>Amount</th>\n",
              "      <th>Class</th>\n",
              "    </tr>\n",
              "  </thead>\n",
              "  <tbody>\n",
              "    <tr>\n",
              "      <th>count</th>\n",
              "      <td>284807.000</td>\n",
              "      <td>284807.000</td>\n",
              "      <td>284807.000</td>\n",
              "      <td>284807.000</td>\n",
              "      <td>284807.000</td>\n",
              "      <td>284807.000</td>\n",
              "      <td>284807.000</td>\n",
              "      <td>284807.000</td>\n",
              "      <td>284807.000</td>\n",
              "      <td>284807.000</td>\n",
              "      <td>...</td>\n",
              "      <td>284807.000</td>\n",
              "      <td>284807.000</td>\n",
              "      <td>284807.000</td>\n",
              "      <td>284807.000</td>\n",
              "      <td>284807.000</td>\n",
              "      <td>284807.000</td>\n",
              "      <td>284807.000</td>\n",
              "      <td>284807.000</td>\n",
              "      <td>284807.000</td>\n",
              "      <td>284807.000</td>\n",
              "    </tr>\n",
              "    <tr>\n",
              "      <th>mean</th>\n",
              "      <td>94813.860</td>\n",
              "      <td>0.000</td>\n",
              "      <td>0.000</td>\n",
              "      <td>-0.000</td>\n",
              "      <td>0.000</td>\n",
              "      <td>-0.000</td>\n",
              "      <td>0.000</td>\n",
              "      <td>-0.000</td>\n",
              "      <td>-0.000</td>\n",
              "      <td>-0.000</td>\n",
              "      <td>...</td>\n",
              "      <td>0.000</td>\n",
              "      <td>0.000</td>\n",
              "      <td>0.000</td>\n",
              "      <td>0.000</td>\n",
              "      <td>0.000</td>\n",
              "      <td>0.000</td>\n",
              "      <td>-0.000</td>\n",
              "      <td>-0.000</td>\n",
              "      <td>88.350</td>\n",
              "      <td>0.002</td>\n",
              "    </tr>\n",
              "    <tr>\n",
              "      <th>std</th>\n",
              "      <td>47488.146</td>\n",
              "      <td>1.959</td>\n",
              "      <td>1.651</td>\n",
              "      <td>1.516</td>\n",
              "      <td>1.416</td>\n",
              "      <td>1.380</td>\n",
              "      <td>1.332</td>\n",
              "      <td>1.237</td>\n",
              "      <td>1.194</td>\n",
              "      <td>1.099</td>\n",
              "      <td>...</td>\n",
              "      <td>0.735</td>\n",
              "      <td>0.726</td>\n",
              "      <td>0.624</td>\n",
              "      <td>0.606</td>\n",
              "      <td>0.521</td>\n",
              "      <td>0.482</td>\n",
              "      <td>0.404</td>\n",
              "      <td>0.330</td>\n",
              "      <td>250.120</td>\n",
              "      <td>0.042</td>\n",
              "    </tr>\n",
              "    <tr>\n",
              "      <th>min</th>\n",
              "      <td>0.000</td>\n",
              "      <td>-56.408</td>\n",
              "      <td>-72.716</td>\n",
              "      <td>-48.326</td>\n",
              "      <td>-5.683</td>\n",
              "      <td>-113.743</td>\n",
              "      <td>-26.161</td>\n",
              "      <td>-43.557</td>\n",
              "      <td>-73.217</td>\n",
              "      <td>-13.434</td>\n",
              "      <td>...</td>\n",
              "      <td>-34.830</td>\n",
              "      <td>-10.933</td>\n",
              "      <td>-44.808</td>\n",
              "      <td>-2.837</td>\n",
              "      <td>-10.295</td>\n",
              "      <td>-2.605</td>\n",
              "      <td>-22.566</td>\n",
              "      <td>-15.430</td>\n",
              "      <td>0.000</td>\n",
              "      <td>0.000</td>\n",
              "    </tr>\n",
              "    <tr>\n",
              "      <th>25%</th>\n",
              "      <td>54201.500</td>\n",
              "      <td>-0.920</td>\n",
              "      <td>-0.599</td>\n",
              "      <td>-0.890</td>\n",
              "      <td>-0.849</td>\n",
              "      <td>-0.692</td>\n",
              "      <td>-0.768</td>\n",
              "      <td>-0.554</td>\n",
              "      <td>-0.209</td>\n",
              "      <td>-0.643</td>\n",
              "      <td>...</td>\n",
              "      <td>-0.228</td>\n",
              "      <td>-0.542</td>\n",
              "      <td>-0.162</td>\n",
              "      <td>-0.355</td>\n",
              "      <td>-0.317</td>\n",
              "      <td>-0.327</td>\n",
              "      <td>-0.071</td>\n",
              "      <td>-0.053</td>\n",
              "      <td>5.600</td>\n",
              "      <td>0.000</td>\n",
              "    </tr>\n",
              "    <tr>\n",
              "      <th>50%</th>\n",
              "      <td>84692.000</td>\n",
              "      <td>0.018</td>\n",
              "      <td>0.065</td>\n",
              "      <td>0.180</td>\n",
              "      <td>-0.020</td>\n",
              "      <td>-0.054</td>\n",
              "      <td>-0.274</td>\n",
              "      <td>0.040</td>\n",
              "      <td>0.022</td>\n",
              "      <td>-0.051</td>\n",
              "      <td>...</td>\n",
              "      <td>-0.029</td>\n",
              "      <td>0.007</td>\n",
              "      <td>-0.011</td>\n",
              "      <td>0.041</td>\n",
              "      <td>0.017</td>\n",
              "      <td>-0.052</td>\n",
              "      <td>0.001</td>\n",
              "      <td>0.011</td>\n",
              "      <td>22.000</td>\n",
              "      <td>0.000</td>\n",
              "    </tr>\n",
              "    <tr>\n",
              "      <th>75%</th>\n",
              "      <td>139320.500</td>\n",
              "      <td>1.316</td>\n",
              "      <td>0.804</td>\n",
              "      <td>1.027</td>\n",
              "      <td>0.743</td>\n",
              "      <td>0.612</td>\n",
              "      <td>0.399</td>\n",
              "      <td>0.570</td>\n",
              "      <td>0.327</td>\n",
              "      <td>0.597</td>\n",
              "      <td>...</td>\n",
              "      <td>0.186</td>\n",
              "      <td>0.529</td>\n",
              "      <td>0.148</td>\n",
              "      <td>0.440</td>\n",
              "      <td>0.351</td>\n",
              "      <td>0.241</td>\n",
              "      <td>0.091</td>\n",
              "      <td>0.078</td>\n",
              "      <td>77.165</td>\n",
              "      <td>0.000</td>\n",
              "    </tr>\n",
              "    <tr>\n",
              "      <th>max</th>\n",
              "      <td>172792.000</td>\n",
              "      <td>2.455</td>\n",
              "      <td>22.058</td>\n",
              "      <td>9.383</td>\n",
              "      <td>16.875</td>\n",
              "      <td>34.802</td>\n",
              "      <td>73.302</td>\n",
              "      <td>120.589</td>\n",
              "      <td>20.007</td>\n",
              "      <td>15.595</td>\n",
              "      <td>...</td>\n",
              "      <td>27.203</td>\n",
              "      <td>10.503</td>\n",
              "      <td>22.528</td>\n",
              "      <td>4.585</td>\n",
              "      <td>7.520</td>\n",
              "      <td>3.517</td>\n",
              "      <td>31.612</td>\n",
              "      <td>33.848</td>\n",
              "      <td>25691.160</td>\n",
              "      <td>1.000</td>\n",
              "    </tr>\n",
              "  </tbody>\n",
              "</table>\n",
              "<p>8 rows × 31 columns</p>\n",
              "</div>\n",
              "      <button class=\"colab-df-convert\" onclick=\"convertToInteractive('df-9cea5e0d-62fd-4afc-8e67-9465dbaba706')\"\n",
              "              title=\"Convert this dataframe to an interactive table.\"\n",
              "              style=\"display:none;\">\n",
              "        \n",
              "  <svg xmlns=\"http://www.w3.org/2000/svg\" height=\"24px\"viewBox=\"0 0 24 24\"\n",
              "       width=\"24px\">\n",
              "    <path d=\"M0 0h24v24H0V0z\" fill=\"none\"/>\n",
              "    <path d=\"M18.56 5.44l.94 2.06.94-2.06 2.06-.94-2.06-.94-.94-2.06-.94 2.06-2.06.94zm-11 1L8.5 8.5l.94-2.06 2.06-.94-2.06-.94L8.5 2.5l-.94 2.06-2.06.94zm10 10l.94 2.06.94-2.06 2.06-.94-2.06-.94-.94-2.06-.94 2.06-2.06.94z\"/><path d=\"M17.41 7.96l-1.37-1.37c-.4-.4-.92-.59-1.43-.59-.52 0-1.04.2-1.43.59L10.3 9.45l-7.72 7.72c-.78.78-.78 2.05 0 2.83L4 21.41c.39.39.9.59 1.41.59.51 0 1.02-.2 1.41-.59l7.78-7.78 2.81-2.81c.8-.78.8-2.07 0-2.86zM5.41 20L4 18.59l7.72-7.72 1.47 1.35L5.41 20z\"/>\n",
              "  </svg>\n",
              "      </button>\n",
              "      \n",
              "  <style>\n",
              "    .colab-df-container {\n",
              "      display:flex;\n",
              "      flex-wrap:wrap;\n",
              "      gap: 12px;\n",
              "    }\n",
              "\n",
              "    .colab-df-convert {\n",
              "      background-color: #E8F0FE;\n",
              "      border: none;\n",
              "      border-radius: 50%;\n",
              "      cursor: pointer;\n",
              "      display: none;\n",
              "      fill: #1967D2;\n",
              "      height: 32px;\n",
              "      padding: 0 0 0 0;\n",
              "      width: 32px;\n",
              "    }\n",
              "\n",
              "    .colab-df-convert:hover {\n",
              "      background-color: #E2EBFA;\n",
              "      box-shadow: 0px 1px 2px rgba(60, 64, 67, 0.3), 0px 1px 3px 1px rgba(60, 64, 67, 0.15);\n",
              "      fill: #174EA6;\n",
              "    }\n",
              "\n",
              "    [theme=dark] .colab-df-convert {\n",
              "      background-color: #3B4455;\n",
              "      fill: #D2E3FC;\n",
              "    }\n",
              "\n",
              "    [theme=dark] .colab-df-convert:hover {\n",
              "      background-color: #434B5C;\n",
              "      box-shadow: 0px 1px 3px 1px rgba(0, 0, 0, 0.15);\n",
              "      filter: drop-shadow(0px 1px 2px rgba(0, 0, 0, 0.3));\n",
              "      fill: #FFFFFF;\n",
              "    }\n",
              "  </style>\n",
              "\n",
              "      <script>\n",
              "        const buttonEl =\n",
              "          document.querySelector('#df-9cea5e0d-62fd-4afc-8e67-9465dbaba706 button.colab-df-convert');\n",
              "        buttonEl.style.display =\n",
              "          google.colab.kernel.accessAllowed ? 'block' : 'none';\n",
              "\n",
              "        async function convertToInteractive(key) {\n",
              "          const element = document.querySelector('#df-9cea5e0d-62fd-4afc-8e67-9465dbaba706');\n",
              "          const dataTable =\n",
              "            await google.colab.kernel.invokeFunction('convertToInteractive',\n",
              "                                                     [key], {});\n",
              "          if (!dataTable) return;\n",
              "\n",
              "          const docLinkHtml = 'Like what you see? Visit the ' +\n",
              "            '<a target=\"_blank\" href=https://colab.research.google.com/notebooks/data_table.ipynb>data table notebook</a>'\n",
              "            + ' to learn more about interactive tables.';\n",
              "          element.innerHTML = '';\n",
              "          dataTable['output_type'] = 'display_data';\n",
              "          await google.colab.output.renderOutput(dataTable, element);\n",
              "          const docLink = document.createElement('div');\n",
              "          docLink.innerHTML = docLinkHtml;\n",
              "          element.appendChild(docLink);\n",
              "        }\n",
              "      </script>\n",
              "    </div>\n",
              "  </div>\n",
              "  "
            ]
          },
          "metadata": {},
          "execution_count": 92
        }
      ]
    },
    {
      "cell_type": "markdown",
      "source": [
        "Nessa situação acima, foi feito apenas uma formtação em toda a estrutura do Bando de Dados, onde todos os valores float tiveram suas casas decimais reduzidas em apenas duas. Foi utilizado ess tecnica apenas para melhor observação dos dados, já que não deixamos a tela tão poluída."
      ],
      "metadata": {
        "id": "UuxJNInH8KGr"
      }
    },
    {
      "cell_type": "markdown",
      "source": [
        "Como o label 'Class' será aquele que iremos utilizar para a tecnicas de Machine Learning, se faz necessario verificar como está o balanceamento dos dados, pois esse desbalanceamento pode alienar nossa aprendizado para apenas um lado."
      ],
      "metadata": {
        "id": "FjSgU5I88ja3"
      }
    },
    {
      "cell_type": "code",
      "source": [
        "fig, ax = plt.subplots(nrows=1, ncols = 1, figsize=(6,4))\n",
        "\n",
        "sns.countplot(x = df.Class, data = df)\n",
        "\n",
        "ax.set_title('Quantidade de Não - Fraudes (0) e Fraudes (1)',\n",
        "            fontsize = 15,\n",
        "            color = 'black',\n",
        "            loc = 'center',\n",
        "            pad = 20)\n",
        "\n",
        "ax.set_xlabel('CLASS', fontsize = 12)\n",
        "ax.set_ylabel('N° de ocorrências', fontsize = 12)\n",
        "\n",
        "ax.spines['top'].set_visible(False)\n",
        "ax.spines['right'].set_visible(False)"
      ],
      "metadata": {
        "colab": {
          "base_uri": "https://localhost:8080/",
          "height": 314
        },
        "id": "1WOdabgHr1nd",
        "outputId": "e6fd1190-e761-4218-e6db-a273c4510585"
      },
      "execution_count": 93,
      "outputs": [
        {
          "output_type": "display_data",
          "data": {
            "text/plain": [
              "<Figure size 432x288 with 1 Axes>"
            ],
            "image/png": "[encoded data removed]"
          },
          "metadata": {
            "needs_background": "light"
          }
        }
      ]
    },
    {
      "cell_type": "markdown",
      "source": [
        "Nessa situação podemos verificar um desbalanceamento da quantidade de valor 0(sem fraude) com a quantidade de valores 1(Fraudes) do Banco de Dados com isso temos que balancear ou normalizar essa diferença para que os dados possam ser medidos de maneira que não tenha uma convergencia para um dos dois lado. Ou seja, vamos pegar aleatoriamente apenas alguns valores que o resultado é 0 para equiapararmos com os valores com resultado 1, esse balanceamento deve ser feito antes do teste do dataframe.\n"
      ],
      "metadata": {
        "id": "WAgB5NsbsCH2"
      }
    },
    {
      "cell_type": "code",
      "source": [
        "df.Amount.shape"
      ],
      "metadata": {
        "colab": {
          "base_uri": "https://localhost:8080/"
        },
        "id": "wya_g-Dveplg",
        "outputId": "0a7e97f3-12f2-4b3b-d91f-a5b0c23edf8a"
      },
      "execution_count": 131,
      "outputs": [
        {
          "output_type": "execute_result",
          "data": {
            "text/plain": [
              "(284807,)"
            ]
          },
          "metadata": {},
          "execution_count": 131
        }
      ]
    },
    {
      "cell_type": "code",
      "source": [
        "print(f'No banco de dados é quantidade de não fraudes que ocorreram foi de  {df.Amount[df.Class == 0].shape[0]} vezes\\n')\n",
        "print(f'No banco de dados é quantidade de fraudes que ocorreram foi de {df.Amount[df.Class == 1].shape[0]} vezes\\n')\n",
        "\n",
        "print(f'Como você pode notar, este é um conjunto de dados extremamente desbalanceado, onde as fraudes representam apenas {((df.Amount[df.Class == 1].shape[0])/(df.Amount.shape[0])*100):.2f}% do total.')"
      ],
      "metadata": {
        "colab": {
          "base_uri": "https://localhost:8080/"
        },
        "id": "5bcMQCEX12Js",
        "outputId": "363d17d5-e3d9-4202-c068-ac6680f28442"
      },
      "execution_count": 140,
      "outputs": [
        {
          "output_type": "stream",
          "name": "stdout",
          "text": [
            "No banco de dados é quantidade de não fraudes que ocorreram foi de  284315 vezes\n",
            "\n",
            "No banco de dados é quantidade de fraudes que ocorreram foi de 492 vezes\n",
            "\n",
            "Como você pode notar, este é um conjunto de dados extremamente desbalanceado, onde as fraudes representam apenas 0.17% do total.\n"
          ]
        }
      ]
    },
    {
      "cell_type": "code",
      "source": [
        "print('Transações Não-fraudelentas')\n",
        "print(df.Amount[df.Class == 0].describe())\n",
        "print('\\nTransações Fraudulentas')\n",
        "print(df.Amount[df.Class == 1].describe())"
      ],
      "metadata": {
        "colab": {
          "base_uri": "https://localhost:8080/"
        },
        "id": "AIytkhKR1jPa",
        "outputId": "2b06a436-f84d-46af-e310-0d6d8b816e02"
      },
      "execution_count": 95,
      "outputs": [
        {
          "output_type": "stream",
          "name": "stdout",
          "text": [
            "Transações Não-fraudelentas\n",
            "count    284315.000000\n",
            "mean         88.291022\n",
            "std         250.105092\n",
            "min           0.000000\n",
            "25%           5.650000\n",
            "50%          22.000000\n",
            "75%          77.050000\n",
            "max       25691.160000\n",
            "Name: Amount, dtype: float64\n",
            "\n",
            "Transações Fraudulentas\n",
            "count     492.000000\n",
            "mean      122.211321\n",
            "std       256.683288\n",
            "min         0.000000\n",
            "25%         1.000000\n",
            "50%         9.250000\n",
            "75%       105.890000\n",
            "max      2125.870000\n",
            "Name: Amount, dtype: float64\n"
          ]
        }
      ]
    },
    {
      "cell_type": "markdown",
      "source": [
        "Com a analise do Banco de Dados também foi constatador que duas colunas(labels) estavama com valores bem desbalanceados, como o caso da coluna 'Time' que todas as transações estavam em segudos,l fazendo que o Banco de Dados seja muito sensivel para esse tipo de label. O label 'Amount' também é um outro exemplo, já que os valores estavam com uma variação muito alta."
      ],
      "metadata": {
        "id": "heO459b89nQW"
      }
    },
    {
      "cell_type": "code",
      "source": [
        "fig, ax = plt.subplots(nrows=2, ncols = 1, figsize=(12,10))\n",
        "\n",
        "ax[0].hist(df.Amount[df.Class == 1], bins = 30, color= '#000080', rwidth= 0.9)\n",
        "\n",
        "ax[0].text(1900,300,f'Média: {df.Amount[df.Class == 1].mean():.2f}', color = '#696969')\n",
        "\n",
        "ax[0].set_title('Transações Fraudulentas',\n",
        "            fontsize = 15,\n",
        "            color = 'black',\n",
        "            loc = 'left',\n",
        "            pad = 10)\n",
        "\n",
        "ax[0].set_xlabel('Quantidade', fontsize = 12)\n",
        "ax[0].set_ylabel('N° de ocorrências', fontsize = 12)\n",
        "\n",
        "ax[0].spines['top'].set_visible(False)\n",
        "ax[0].spines['right'].set_visible(False)\n",
        "\n",
        "\n",
        "#HISTOGRAMA Não Fraude\n",
        "ax[1].hist(df.Amount[df.Class == 0], bins = 30, color= '#DF610C', rwidth= 0.9)\n",
        "\n",
        "ax[1].text(23500,250000,f'Média: {df.Amount[df.Class == 0].mean():.2f}', color = '#696969')\n",
        "\n",
        "ax[1].set_title('Transações Não-Fraudulentas',\n",
        "            fontsize = 15,\n",
        "            color = 'black',\n",
        "            loc = 'left',\n",
        "            pad = 10)\n",
        "\n",
        "ax[1].set_xlabel('Quantidade', fontsize = 12)\n",
        "ax[1].set_ylabel('N° de ocorrências', fontsize = 12)\n",
        "\n",
        "ax[1].spines['top'].set_visible(False)\n",
        "ax[1].spines['right'].set_visible(False)\n",
        "\n",
        "# print(df.Amount[df.Class == 0].value_counts())\n",
        "\n",
        "# sns.histplot(df.Amount[df.Class == 0], bins = 100)\n",
        "# plt.xlim(0,1750)\n"
      ],
      "metadata": {
        "colab": {
          "base_uri": "https://localhost:8080/",
          "height": 630
        },
        "id": "ZuCG4PXkuyyK",
        "outputId": "e492a7f7-2f7b-4d9c-b443-a1cd1854d9b6"
      },
      "execution_count": 96,
      "outputs": [
        {
          "output_type": "display_data",
          "data": {
            "text/plain": [
              "<Figure size 864x720 with 2 Axes>"
            ],
            "image/png": "[encoded data removed]"
          },
          "metadata": {
            "needs_background": "light"
          }
        }
      ]
    },
    {
      "cell_type": "markdown",
      "source": [
        "Outra situação bem peculiar com o label 'Amount' é que ao utilizar o comando describe conseguimos verificar que tem uma variação muito grande entre os valores de 75% e 100%. De primeira somos levados a pensar que os valores são outliner e devemos fazer a correção desses valores, mas é nesse tipo de problema que devemos utilizar nossa interpretação mais afundo, pois não podemos levar em consideração que os valores são outliner pois estamos falando de transações, e esse vai depender exclusivamente do seu tipo de cliente, podendo ser grandes ou pequenas transações.\n",
        "\n"
      ],
      "metadata": {
        "id": "WwvZ-bcJ_YPf"
      }
    },
    {
      "cell_type": "code",
      "source": [
        "fig, ax = plt.subplots(nrows=2, ncols = 1, figsize=(12,10))\n",
        "\n",
        "ax[0].hist(df.Time[df.Class == 1], bins = 30, color= '#000080', rwidth= 0.9)\n",
        "\n",
        "ax[0].set_title('Transações Fraudulentas',\n",
        "            fontsize = 15,\n",
        "            color = 'black',\n",
        "            loc = 'left',\n",
        "            pad = 10)\n",
        "\n",
        "ax[0].set_xlabel('Tempo em segundos', fontsize = 12)\n",
        "ax[0].set_ylabel('N° de ocorrências', fontsize = 12)\n",
        "\n",
        "ax[0].spines['top'].set_visible(False)\n",
        "ax[0].spines['right'].set_visible(False)\n",
        "\n",
        "\n",
        "#HISTOGRAMA Não Fraude\n",
        "ax[1].hist(df.Time[df.Class == 0], bins = 30, color= '#DF610C', rwidth= 0.9)\n",
        "\n",
        "ax[1].set_title('Transações Não-Fraudulentas',\n",
        "            fontsize = 15,\n",
        "            color = 'black',\n",
        "            loc = 'left',\n",
        "            pad = 10)\n",
        "\n",
        "ax[1].set_xlabel('Tempo em segundos', fontsize = 12)\n",
        "ax[1].set_ylabel('N° de ocorrências', fontsize = 12)\n",
        "\n",
        "ax[1].spines['top'].set_visible(False)\n",
        "ax[1].spines['right'].set_visible(False)"
      ],
      "metadata": {
        "id": "vtaUQZrFuxjm",
        "colab": {
          "base_uri": "https://localhost:8080/",
          "height": 630
        },
        "outputId": "808fc078-6372-4afa-ffb2-83c845889764"
      },
      "execution_count": 97,
      "outputs": [
        {
          "output_type": "display_data",
          "data": {
            "text/plain": [
              "<Figure size 864x720 with 2 Axes>"
            ],
            "image/png": "[encoded data removed]"
          },
          "metadata": {
            "needs_background": "light"
          }
        }
      ]
    },
    {
      "cell_type": "markdown",
      "source": [
        "Após toda essa Analise do Banco de Dados, podemos observar que alguns dados precisão ser tratados para que o Machine Learning possa fluir da melhor maneira."
      ],
      "metadata": {
        "id": "fK7D6GD_-QpM"
      }
    },
    {
      "cell_type": "markdown",
      "source": [
        "# Preparação dos Dados\n",
        "\n"
      ],
      "metadata": {
        "id": "P4iIUf460MOB"
      }
    },
    {
      "cell_type": "markdown",
      "source": [
        "##Normalizando Dados (Time e Amount)"
      ],
      "metadata": {
        "id": "CTWLzA-A5PkN"
      }
    },
    {
      "cell_type": "markdown",
      "source": [
        "Essa grande variação de valores nos labels 'Time' e 'Amount' pode ser algo prejudicial já que os algoritmos de Machine Learning não funcionam tão bem quando os atributos numéricos de entrada tem escalas muito diferentes, com isso se faz necessario aplicar o 'Escalonamento das Caracteristicas'.\n",
        "\n",
        "Existem duas maneiras comuns dos atributos obterem a mesma escala:\n",
        "* Escala Min-Max: Normalmente chamado de normalização, onde o valor é deslocado e redimensionados para que acabem variando de 0 a 1.(Para chegar ao resultado  substraimos o valor minimo e dividimos pelo máximo menos o minimo). O sklearn tem um transformador que já faz essa função que é o MinMaxScaler.\n",
        "\n",
        "* Padronização: Para chegar no resultado da padronização, se faz necessario a subtração pelo valor médio e em seguida divide pela variancia, de modo que a distribuição resultante tenha variância unitária.\n",
        "obs:Ao contrario da normalização, a padronização não está vinculado a resultados fixos (0 e 1), sendo em alguns casos até prejudicial aos algoritmo de Machine Learning , mas está é muito menos afetada por OUTLINERS - StandardScale"
      ],
      "metadata": {
        "id": "4j-8p2dxCC-0"
      }
    },
    {
      "cell_type": "markdown",
      "source": [
        "Nessa situação foi preterido a utilização do StandartScale\n",
        "\n",
        "OBS:"
      ],
      "metadata": {
        "id": "pRt7VAVSCps5"
      }
    },
    {
      "cell_type": "code",
      "source": [
        "from sklearn.preprocessing import StandardScaler\n",
        "\n",
        "scaler = StandardScaler()"
      ],
      "metadata": {
        "id": "qwWaFPWL2Bsd"
      },
      "execution_count": 98,
      "outputs": []
    },
    {
      "cell_type": "markdown",
      "source": [
        "###Time"
      ],
      "metadata": {
        "id": "AEsuelQLyxg4"
      }
    },
    {
      "cell_type": "code",
      "execution_count": 99,
      "metadata": {
        "colab": {
          "base_uri": "https://localhost:8080/"
        },
        "id": "U-FF6Uf5tegu",
        "outputId": "cb638e32-e245-44b3-f794-ca339a193ba0"
      },
      "outputs": [
        {
          "output_type": "stream",
          "name": "stdout",
          "text": [
            "0              0.0\n",
            "1              0.0\n",
            "2              1.0\n",
            "3              1.0\n",
            "4              2.0\n",
            "            ...   \n",
            "284802    172786.0\n",
            "284803    172787.0\n",
            "284804    172788.0\n",
            "284805    172788.0\n",
            "284806    172792.0\n",
            "Name: Time, Length: 284807, dtype: float64\n"
          ]
        }
      ],
      "source": [
        "print(df['Time'])"
      ]
    },
    {
      "cell_type": "code",
      "source": [
        "scaler.fit(df[['Time']])\n",
        "df['Time'] = scaler.transform(df[['Time']])"
      ],
      "metadata": {
        "id": "wxQBxFaK2Vmp"
      },
      "execution_count": 100,
      "outputs": []
    },
    {
      "cell_type": "code",
      "execution_count": 101,
      "metadata": {
        "colab": {
          "base_uri": "https://localhost:8080/"
        },
        "id": "zFSe69oR9Bl8",
        "outputId": "eaa22b5f-6efa-4551-e6a8-76d8af849006"
      },
      "outputs": [
        {
          "output_type": "stream",
          "name": "stdout",
          "text": [
            "0        -1.996583\n",
            "1        -1.996583\n",
            "2        -1.996562\n",
            "3        -1.996562\n",
            "4        -1.996541\n",
            "            ...   \n",
            "284802    1.641931\n",
            "284803    1.641952\n",
            "284804    1.641974\n",
            "284805    1.641974\n",
            "284806    1.642058\n",
            "Name: Time, Length: 284807, dtype: float64\n"
          ]
        }
      ],
      "source": [
        "print(df.Time)"
      ]
    },
    {
      "cell_type": "markdown",
      "source": [
        "###Amount"
      ],
      "metadata": {
        "id": "eLRXdAgA0dyz"
      }
    },
    {
      "cell_type": "code",
      "execution_count": 102,
      "metadata": {
        "colab": {
          "base_uri": "https://localhost:8080/"
        },
        "outputId": "6dd1aa3c-30d2-448a-bbc1-5ded901d7911",
        "id": "Hd9MtZaN0h8q"
      },
      "outputs": [
        {
          "output_type": "stream",
          "name": "stdout",
          "text": [
            "15816         0.00\n",
            "77470         0.00\n",
            "190885        0.00\n",
            "87335         0.00\n",
            "174481        0.00\n",
            "            ...   \n",
            "54018     11898.09\n",
            "46841     12910.93\n",
            "151296    18910.00\n",
            "58465     19656.53\n",
            "274771    25691.16\n",
            "Name: Amount, Length: 284807, dtype: float64\n"
          ]
        }
      ],
      "source": [
        "print(df.Amount.sort_values())"
      ]
    },
    {
      "cell_type": "code",
      "source": [
        "scaler.fit(df[['Amount']])\n",
        "df['Amount'] = scaler.transform(df[['Amount']],)"
      ],
      "metadata": {
        "id": "yA_W2faY2u3F"
      },
      "execution_count": 103,
      "outputs": []
    },
    {
      "cell_type": "code",
      "execution_count": 104,
      "metadata": {
        "colab": {
          "base_uri": "https://localhost:8080/"
        },
        "outputId": "b735de85-493a-4bb3-fee1-ca7a9cd842a9",
        "id": "iinyfGQ-0h8s"
      },
      "outputs": [
        {
          "output_type": "stream",
          "name": "stdout",
          "text": [
            "15816      -0.353229\n",
            "77470      -0.353229\n",
            "190885     -0.353229\n",
            "87335      -0.353229\n",
            "174481     -0.353229\n",
            "             ...    \n",
            "54018      47.216360\n",
            "46841      51.265782\n",
            "151296     75.250581\n",
            "58465      78.235272\n",
            "274771    102.362243\n",
            "Name: Amount, Length: 284807, dtype: float64\n"
          ]
        }
      ],
      "source": [
        "print(df.Amount.sort_values())"
      ]
    },
    {
      "cell_type": "markdown",
      "source": [
        "## Divisão de modelo de teste com modelo de treino"
      ],
      "metadata": {
        "id": "DHrRnarJ04yZ"
      }
    },
    {
      "cell_type": "markdown",
      "source": [
        "Para evitar qualquer tipo de problema(Data Snooping bias) quando for realizado o aprendizado, devemos separar a parte do Banco de Dados que será utilizada para Teste e para Treino.\n",
        "\n",
        "- Data Snooping bias:Quando estimamos o erro de generalização usando um conjunto de testes, fazendo com que nossa estimativa fique otimista demais fazendo que tenha uma produção um sistema que não terá o desempenho esperado"
      ],
      "metadata": {
        "id": "etqQPlItD57V"
      }
    },
    {
      "cell_type": "code",
      "execution_count": 105,
      "metadata": {
        "id": "3ujZNeaN0h8w"
      },
      "outputs": [],
      "source": [
        "from sklearn.model_selection import train_test_split\n",
        "\n",
        "X = df.drop('Class',axis=1)\n",
        "y = df.Class\n",
        "\n",
        "X_train_raw,X_test,y_train_raw,y_test= train_test_split(X, y,test_size = 0.2, random_state=42)\n",
        "\n"
      ]
    },
    {
      "cell_type": "markdown",
      "source": [
        "##Balanceando Dados"
      ],
      "metadata": {
        "id": "c3Lujygq0_2q"
      }
    },
    {
      "cell_type": "code",
      "source": [
        "print(pd.Series(y_train_raw).value_counts())"
      ],
      "metadata": {
        "colab": {
          "base_uri": "https://localhost:8080/"
        },
        "outputId": "6bf0e253-071e-44fe-f43f-4ca313436ad7",
        "id": "H4dVbCDR0h8y"
      },
      "execution_count": 106,
      "outputs": [
        {
          "output_type": "stream",
          "name": "stdout",
          "text": [
            "0    227451\n",
            "1       394\n",
            "Name: Class, dtype: int64\n"
          ]
        }
      ]
    },
    {
      "cell_type": "markdown",
      "source": [
        "Como já tinha sido observado anteriomente, o dados de 'Class' estão muito desiguais onde 227451 desses dados são 'não fraudes' e apenas 394 são 'fraudes', essa grande diferença pode fazer com que a maquina seja tedencionada a apenas os valores de não fraude, por isos se faz necessario o balanceamento dos dados, para que os valores de treinamento possam ser iguais fazendo com que o sistema possa aprender de melhor maneira.\n",
        "\n",
        "Para esse balancemaento sera utilizado o comando RandomUnderSampler, onde pegará uma quantidade aleatoria de dados igualando com os outros valores da classe."
      ],
      "metadata": {
        "id": "4myKBeH1EoqJ"
      }
    },
    {
      "cell_type": "code",
      "execution_count": 107,
      "metadata": {
        "colab": {
          "base_uri": "https://localhost:8080/",
          "height": 0
        },
        "outputId": "44588603-d01a-4e31-dfbf-f9d6f66691a6",
        "id": "FyXeJ0ap0h8z"
      },
      "outputs": [
        {
          "output_type": "display_data",
          "data": {
            "text/plain": [
              "<Figure size 432x288 with 1 Axes>"
            ],
            "image/png": "[encoded data removed]"
          },
          "metadata": {
            "needs_background": "light"
          }
        }
      ],
      "source": [
        "#Balanceando dados\n",
        "from imblearn.under_sampling import RandomUnderSampler\n",
        "\n",
        "ru = RandomUnderSampler(random_state = 42)\n",
        "X_train,y_train = ru.fit_resample(X_train_raw,y_train_raw)\n",
        "\n",
        "\n",
        "fig, ax = plt.subplots(nrows=1, ncols = 1, figsize=(6,4))\n",
        "\n",
        "sns.countplot(x = y_train, data = df)\n",
        "\n",
        "ax.set_title('Quantidade de Não - Fraudes (0) e Fraudes (1)',\n",
        "            fontsize = 15,\n",
        "            color = 'black',\n",
        "            loc = 'center',\n",
        "            pad = 20)\n",
        "\n",
        "ax.set_xlabel('CLASS', fontsize = 12)\n",
        "ax.set_ylabel('N° de ocorrências', fontsize = 12)\n",
        "\n",
        "ax.spines['top'].set_visible(False)\n",
        "ax.spines['right'].set_visible(False)\n"
      ]
    },
    {
      "cell_type": "code",
      "source": [
        "print(f'No total temos: \\n{pd.Series(y_train).value_counts()}')"
      ],
      "metadata": {
        "colab": {
          "base_uri": "https://localhost:8080/"
        },
        "outputId": "4f1a69e9-7201-48a2-a555-58823b2e7661",
        "id": "ZeWcwpDl0h80"
      },
      "execution_count": 108,
      "outputs": [
        {
          "output_type": "stream",
          "name": "stdout",
          "text": [
            "No total temos: \n",
            "0    394\n",
            "1    394\n",
            "Name: Class, dtype: int64\n"
          ]
        }
      ]
    },
    {
      "cell_type": "markdown",
      "metadata": {
        "id": "QoDS1kD3za0y"
      },
      "source": [
        "# Modelo de Machine Learning\n"
      ]
    },
    {
      "cell_type": "markdown",
      "source": [
        "Todos os processos anteriores foram feitos para que ao chegar nessa etapa do processo nenhum tipo de erro apareça e aumente assim a veracidade do aprendizado da maquina.\n",
        "\n",
        "Para essa situação, iremos analisar diversos tipos de modelos de Machine Learning para que fizemos uma comparação e analise entre todos esses modelos para verificar qual o mais indicado para utilizar para esse sistema.\n"
      ],
      "metadata": {
        "id": "OVeq-RBvIRL3"
      }
    },
    {
      "cell_type": "code",
      "source": [
        "from sklearn.metrics import classification_report,accuracy_score"
      ],
      "metadata": {
        "id": "9ZkA_49fdbuJ"
      },
      "execution_count": 109,
      "outputs": []
    },
    {
      "cell_type": "markdown",
      "source": [
        "##SVM"
      ],
      "metadata": {
        "id": "6-4V7h8FCCwi"
      }
    },
    {
      "cell_type": "markdown",
      "source": [
        "A maquina de vetores de suportes(SVM) é um modelo robusto e versatil de aprendizado de maquina, capaz de fazer classificações lineares ou não lineares, de regressão e até mesmo de detecção de outlier. É um dos modelos mais populares, muito utilizadas para banco de dados pequenos ou médios."
      ],
      "metadata": {
        "id": "jiHYiBqCamMG"
      }
    },
    {
      "cell_type": "code",
      "source": [
        "from sklearn.svm import SVC\n",
        "\n",
        "svc = SVC()\n",
        "\n",
        "svc.fit(X_train, y_train)"
      ],
      "metadata": {
        "colab": {
          "base_uri": "https://localhost:8080/"
        },
        "id": "N200sRZ7CMYZ",
        "outputId": "4a05e7c9-ea21-4ae1-aa9d-7339678ed16e"
      },
      "execution_count": 110,
      "outputs": [
        {
          "output_type": "execute_result",
          "data": {
            "text/plain": [
              "SVC()"
            ]
          },
          "metadata": {},
          "execution_count": 110
        }
      ]
    },
    {
      "cell_type": "code",
      "source": [
        "svc_pred = svc.predict(X_test)\n",
        "\n",
        "svc_accuracy = (accuracy_score(y_test,svc_pred) * 100)\n",
        "print('Relatório de Classificação:\\n ', classification_report(y_test,svc_pred, digits = 2))\n",
        "print(f'{svc_accuracy:.2f}%')"
      ],
      "metadata": {
        "colab": {
          "base_uri": "https://localhost:8080/"
        },
        "id": "b5mxl2r6RHZZ",
        "outputId": "491a36c4-1790-43ae-e4d7-daac7efbbf01"
      },
      "execution_count": 111,
      "outputs": [
        {
          "output_type": "stream",
          "name": "stdout",
          "text": [
            "Relatório de Classificação:\n",
            "                precision    recall  f1-score   support\n",
            "\n",
            "           0       1.00      0.98      0.99     56864\n",
            "           1       0.08      0.89      0.15        98\n",
            "\n",
            "    accuracy                           0.98     56962\n",
            "   macro avg       0.54      0.94      0.57     56962\n",
            "weighted avg       1.00      0.98      0.99     56962\n",
            "\n",
            "98.29%\n"
          ]
        }
      ]
    },
    {
      "cell_type": "markdown",
      "source": [
        "##Logistic Regression"
      ],
      "metadata": {
        "id": "8ROVWY5F6_8b"
      }
    },
    {
      "cell_type": "markdown",
      "source": [
        "A regressão Logistica é um modelo comumente usada para estimar a probabilidade de uma intancia de permanecer a uma classe especifica, esse modelo como a Regressão Linear se utiliza das dados passados para prever os proximos dados que virão."
      ],
      "metadata": {
        "id": "FHE3U3bmZ_aX"
      }
    },
    {
      "cell_type": "code",
      "source": [
        "from sklearn.linear_model import LogisticRegression\n",
        "\n",
        "classifier = LogisticRegression()\n",
        "classifier.fit(X_train,y_train)"
      ],
      "metadata": {
        "colab": {
          "base_uri": "https://localhost:8080/"
        },
        "id": "jbjtR7m57UFN",
        "outputId": "eff3578f-9192-4b9d-f366-bc45d0944b8b"
      },
      "execution_count": 112,
      "outputs": [
        {
          "output_type": "execute_result",
          "data": {
            "text/plain": [
              "LogisticRegression()"
            ]
          },
          "metadata": {},
          "execution_count": 112
        }
      ]
    },
    {
      "cell_type": "code",
      "source": [
        "y_pred = classifier.predict(X_test)\n",
        "\n",
        "lr_accuracy = accuracy_score(y_test,y_pred) * 100\n",
        "print('Relatório de Classificação:\\n ', classification_report(y_test,y_pred, digits = 2))\n",
        "print(f'{lr_accuracy :.2f}')"
      ],
      "metadata": {
        "colab": {
          "base_uri": "https://localhost:8080/"
        },
        "id": "XG1-EZ4E7rft",
        "outputId": "18e6a4d1-e943-40ef-f991-62bb1716b83f"
      },
      "execution_count": 113,
      "outputs": [
        {
          "output_type": "stream",
          "name": "stdout",
          "text": [
            "Relatório de Classificação:\n",
            "                precision    recall  f1-score   support\n",
            "\n",
            "           0       1.00      0.96      0.98     56864\n",
            "           1       0.04      0.93      0.08        98\n",
            "\n",
            "    accuracy                           0.96     56962\n",
            "   macro avg       0.52      0.95      0.53     56962\n",
            "weighted avg       1.00      0.96      0.98     56962\n",
            "\n",
            "96.35\n"
          ]
        }
      ]
    },
    {
      "cell_type": "markdown",
      "source": [
        "##Decision Tree"
      ],
      "metadata": {
        "id": "BOS3ia0l8UTu"
      }
    },
    {
      "cell_type": "markdown",
      "source": [
        "A árvore de decisões é também um odelo muito versatil, este modelo pode executar tanto tarefas de classificação como tarefas multioutput. Esse modelo se utiliza de algoritmos poderosos que são capazes de se adaptar aos Bancos de Dados mais complexos."
      ],
      "metadata": {
        "id": "TXf8bz1nbT5B"
      }
    },
    {
      "cell_type": "code",
      "source": [
        ""
      ],
      "metadata": {
        "id": "33xoqYAVbTn0"
      },
      "execution_count": null,
      "outputs": []
    },
    {
      "cell_type": "code",
      "source": [
        "from sklearn.tree import DecisionTreeClassifier\n",
        "\n",
        "tree = DecisionTreeClassifier(max_depth = 10,\n",
        "                              criterion = 'entropy',\n",
        "                              random_state = 42)\n",
        "tree.fit(X_train, y_train)"
      ],
      "metadata": {
        "colab": {
          "base_uri": "https://localhost:8080/"
        },
        "id": "Xy5kPVP28t22",
        "outputId": "424d0c71-d4e4-466b-86e4-452d855c6153"
      },
      "execution_count": 114,
      "outputs": [
        {
          "output_type": "execute_result",
          "data": {
            "text/plain": [
              "DecisionTreeClassifier(criterion='entropy', max_depth=10, random_state=42)"
            ]
          },
          "metadata": {},
          "execution_count": 114
        }
      ]
    },
    {
      "cell_type": "code",
      "source": [
        "tree_pred = tree.predict(X_test)\n",
        "\n",
        "tree_accuracy = accuracy_score(y_test,tree_pred) * 100\n",
        "print('Relatório de Classificação:\\n ', classification_report(y_test,tree_pred, digits = 2))\n",
        "print(f'{tree_accuracy:.2f}%')"
      ],
      "metadata": {
        "colab": {
          "base_uri": "https://localhost:8080/"
        },
        "id": "D06sibqt9wIi",
        "outputId": "b4710257-38f2-4cc5-a242-11a9530411d7"
      },
      "execution_count": 115,
      "outputs": [
        {
          "output_type": "stream",
          "name": "stdout",
          "text": [
            "Relatório de Classificação:\n",
            "                precision    recall  f1-score   support\n",
            "\n",
            "           0       1.00      0.91      0.95     56864\n",
            "           1       0.02      0.89      0.03        98\n",
            "\n",
            "    accuracy                           0.91     56962\n",
            "   macro avg       0.51      0.90      0.49     56962\n",
            "weighted avg       1.00      0.91      0.95     56962\n",
            "\n",
            "90.72%\n"
          ]
        }
      ]
    },
    {
      "cell_type": "markdown",
      "source": [
        "##Forest Decision"
      ],
      "metadata": {
        "id": "4I-MTicLSPFH"
      }
    },
    {
      "cell_type": "markdown",
      "source": [
        "A floresta de Decisões é um agrupamento de árvores de decisão"
      ],
      "metadata": {
        "id": "9Gx2DssWcATO"
      }
    },
    {
      "cell_type": "code",
      "source": [
        "from sklearn.ensemble import RandomForestClassifier\n",
        "\n",
        "forest = RandomForestClassifier(max_depth = 10,\n",
        "                              criterion = 'entropy',\n",
        "                              random_state = 42)\n",
        "\n",
        "forest.fit(X_train, y_train)"
      ],
      "metadata": {
        "colab": {
          "base_uri": "https://localhost:8080/"
        },
        "id": "v8gkCAZLSOBF",
        "outputId": "821cc19d-6a4f-4d74-da18-3f49ad94cf40"
      },
      "execution_count": 116,
      "outputs": [
        {
          "output_type": "execute_result",
          "data": {
            "text/plain": [
              "RandomForestClassifier(criterion='entropy', max_depth=10, random_state=42)"
            ]
          },
          "metadata": {},
          "execution_count": 116
        }
      ]
    },
    {
      "cell_type": "code",
      "source": [
        "forest_pred = forest.predict(X_test)\n",
        "\n",
        "forest_accuracy = accuracy_score(y_test,forest_pred) * 100\n",
        "print('Relatório de Classificação:\\n ', classification_report(y_test,forest_pred, digits = 2))\n",
        "print(f'{forest_accuracy :.2f}%')"
      ],
      "metadata": {
        "colab": {
          "base_uri": "https://localhost:8080/"
        },
        "id": "XjqViKFoTGbJ",
        "outputId": "fdd62d7e-0e92-4f94-a8d9-8390ff90ba89"
      },
      "execution_count": 117,
      "outputs": [
        {
          "output_type": "stream",
          "name": "stdout",
          "text": [
            "Relatório de Classificação:\n",
            "                precision    recall  f1-score   support\n",
            "\n",
            "           0       1.00      0.98      0.99     56864\n",
            "           1       0.07      0.94      0.13        98\n",
            "\n",
            "    accuracy                           0.98     56962\n",
            "   macro avg       0.54      0.96      0.56     56962\n",
            "weighted avg       1.00      0.98      0.99     56962\n",
            "\n",
            "97.89%\n"
          ]
        }
      ]
    },
    {
      "cell_type": "markdown",
      "source": [
        "##K-Neighbor"
      ],
      "metadata": {
        "id": "VX8JCUj9UI39"
      }
    },
    {
      "cell_type": "markdown",
      "source": [
        "O algoritmo KNN (K Nearest Neighbor/Vizinho mais próximo) é um dos algoritmos mais utilizados em Machine Learning e também um dos mais simplistas. O método também pode ser utilizado tanto para classificação quanto para regressão em ambos os casos o algoritmo irá analisar diversas features (Colunas com dados, as quais geraram informação)."
      ],
      "metadata": {
        "id": "pKiF0Lg2cblI"
      }
    },
    {
      "cell_type": "code",
      "source": [
        "from sklearn.neighbors import KNeighborsClassifier\n",
        "\n",
        "neigh = KNeighborsClassifier(n_neighbors= 5)\n",
        "\n",
        "neigh.fit(X_train, y_train)"
      ],
      "metadata": {
        "colab": {
          "base_uri": "https://localhost:8080/"
        },
        "id": "6CUiOc95UHc4",
        "outputId": "1fff821c-85e4-4f5c-b8ad-0bdf9f405c18"
      },
      "execution_count": 118,
      "outputs": [
        {
          "output_type": "execute_result",
          "data": {
            "text/plain": [
              "KNeighborsClassifier()"
            ]
          },
          "metadata": {},
          "execution_count": 118
        }
      ]
    },
    {
      "cell_type": "code",
      "source": [
        "neigh_pred = neigh.predict(X_test)\n",
        "\n",
        "neigh_accuracy = accuracy_score(y_test,neigh_pred) * 100\n",
        "clf_report = classification_report(y_test,neigh_pred, digits = 2,output_dict=True)\n",
        "print('Relatório de Classificação:\\n ', classification_report(y_test,neigh_pred, digits = 2))\n",
        "print(f'{neigh_accuracy:.2f} %')"
      ],
      "metadata": {
        "colab": {
          "base_uri": "https://localhost:8080/"
        },
        "id": "lLaSYgCwVZT5",
        "outputId": "bec6ed20-83bb-4d04-d22b-80ca02cc5b6e"
      },
      "execution_count": 119,
      "outputs": [
        {
          "output_type": "stream",
          "name": "stdout",
          "text": [
            "Relatório de Classificação:\n",
            "                precision    recall  f1-score   support\n",
            "\n",
            "           0       1.00      0.97      0.99     56864\n",
            "           1       0.06      0.90      0.11        98\n",
            "\n",
            "    accuracy                           0.97     56962\n",
            "   macro avg       0.53      0.94      0.55     56962\n",
            "weighted avg       1.00      0.97      0.99     56962\n",
            "\n",
            "97.37 %\n"
          ]
        }
      ]
    },
    {
      "cell_type": "markdown",
      "metadata": {
        "id": "3e4ENOTYSUXi"
      },
      "source": [
        " # Avaliar o desempenho do modelo"
      ]
    },
    {
      "cell_type": "markdown",
      "source": [
        "Após todo o processo de aprendizagem de maquina, diversas nformações são geradas e será com essas informações que poderemos avaliar o melhor desempenho de todos esses métodos."
      ],
      "metadata": {
        "id": "nO2N09pdJRTo"
      }
    },
    {
      "cell_type": "markdown",
      "source": [
        "##Avaliando as Métricas do Modelo"
      ],
      "metadata": {
        "id": "WUi0yiAufuQV"
      }
    },
    {
      "cell_type": "markdown",
      "source": [
        "###Acurácia"
      ],
      "metadata": {
        "id": "y7qFsS1uc9Oi"
      }
    },
    {
      "cell_type": "markdown",
      "source": [
        "A acurácia é considerada uma das métricas mais importantes e simples, nela se faz possivel avaliar o percentual de acertos."
      ],
      "metadata": {
        "id": "44rnGt9YW0_w"
      }
    },
    {
      "cell_type": "code",
      "metadata": {
        "id": "H1jEi7gkSe2r"
      },
      "source": [
        "accuracy_list = {'Support Vector Machines' : svc_accuracy,\n",
        "                 'Regressão Logistica' : lr_accuracy,\n",
        "                 'Arvore de Decisões' : tree_accuracy,\n",
        "                 'Floresta de Decisões' : forest_accuracy,\n",
        "                 'K-Vizinhos': neigh_accuracy}     "
      ],
      "execution_count": 120,
      "outputs": []
    },
    {
      "cell_type": "code",
      "source": [
        "#Avaliando as métricas \n",
        "\n",
        "print(f'A accuracia do Support Vector Machines é {svc_accuracy:.2f} %')\n",
        "print(f'A accuracia do Regressão Logistica é {lr_accuracy:.2f} %')\n",
        "print(f'A accuracia do Arvore de Decisões é {tree_accuracy:.2f} %')\n",
        "print(f'A accuracia do Floresta de Decisões é {forest_accuracy:.2f} %')\n",
        "print(f'A accuracia do K-Vizinhos é {neigh_accuracy:.2f} %')"
      ],
      "metadata": {
        "colab": {
          "base_uri": "https://localhost:8080/"
        },
        "id": "8V7eXM6Kf8hh",
        "outputId": "dc4aa50c-10a3-43ca-a61e-059498e28871"
      },
      "execution_count": 121,
      "outputs": [
        {
          "output_type": "stream",
          "name": "stdout",
          "text": [
            "A accuracia do Support Vector Machines é 98.29 %\n",
            "A accuracia do Regressão Logistica é 96.35 %\n",
            "A accuracia do Arvore de Decisões é 90.72 %\n",
            "A accuracia do Floresta de Decisões é 97.89 %\n",
            "A accuracia do K-Vizinhos é 97.37 %\n"
          ]
        }
      ]
    },
    {
      "cell_type": "code",
      "source": [
        "print(f'O método com a maior accuracia é {max(accuracy_list)} com o valor de {accuracy_list[max(accuracy_list, key=accuracy_list.get)]:.2f}%.')"
      ],
      "metadata": {
        "colab": {
          "base_uri": "https://localhost:8080/"
        },
        "id": "U8vmdI1djTy6",
        "outputId": "33cf5d68-ca13-4d41-cfc6-e66bee6409fb"
      },
      "execution_count": 122,
      "outputs": [
        {
          "output_type": "stream",
          "name": "stdout",
          "text": [
            "O método com a maior accuracia é Support Vector Machines com o valor de 98.29%.\n"
          ]
        }
      ]
    },
    {
      "cell_type": "markdown",
      "source": [
        "###Classification Report"
      ],
      "metadata": {
        "id": "sTHI6NUJdKi6"
      }
    },
    {
      "cell_type": "code",
      "source": [
        "print('Relatório de Classificação SVM:\\n ', classification_report(y_test,svc_pred, digits = 2),'\\n')\n",
        "print('Relatório de Classificação Logistic Regression:\\n ', classification_report(y_test,y_pred, digits = 2),'\\n')\n",
        "print('Relatório de Classificação Decision Tree:\\n ', classification_report(y_test,tree_pred, digits = 2),'\\n')\n",
        "print('Relatório de Classificação Forest Decision:\\n ', classification_report(y_test,forest_pred, digits = 2),'\\n')\n",
        "print('Relatório de Classificação K-Neighbor:\\n ', classification_report(y_test,neigh_pred, digits = 2),'\\n')"
      ],
      "metadata": {
        "colab": {
          "base_uri": "https://localhost:8080/"
        },
        "id": "63hidmTugLhd",
        "outputId": "450342c0-9a19-47f8-efde-b1e9b8d1959f"
      },
      "execution_count": 123,
      "outputs": [
        {
          "output_type": "stream",
          "name": "stdout",
          "text": [
            "Relatório de Classificação SVM:\n",
            "                precision    recall  f1-score   support\n",
            "\n",
            "           0       1.00      0.98      0.99     56864\n",
            "           1       0.08      0.89      0.15        98\n",
            "\n",
            "    accuracy                           0.98     56962\n",
            "   macro avg       0.54      0.94      0.57     56962\n",
            "weighted avg       1.00      0.98      0.99     56962\n",
            " \n",
            "\n",
            "Relatório de Classificação Logistic Regression:\n",
            "                precision    recall  f1-score   support\n",
            "\n",
            "           0       1.00      0.96      0.98     56864\n",
            "           1       0.04      0.93      0.08        98\n",
            "\n",
            "    accuracy                           0.96     56962\n",
            "   macro avg       0.52      0.95      0.53     56962\n",
            "weighted avg       1.00      0.96      0.98     56962\n",
            " \n",
            "\n",
            "Relatório de Classificação Decision Tree:\n",
            "                precision    recall  f1-score   support\n",
            "\n",
            "           0       1.00      0.91      0.95     56864\n",
            "           1       0.02      0.89      0.03        98\n",
            "\n",
            "    accuracy                           0.91     56962\n",
            "   macro avg       0.51      0.90      0.49     56962\n",
            "weighted avg       1.00      0.91      0.95     56962\n",
            " \n",
            "\n",
            "Relatório de Classificação Forest Decision:\n",
            "                precision    recall  f1-score   support\n",
            "\n",
            "           0       1.00      0.98      0.99     56864\n",
            "           1       0.07      0.94      0.13        98\n",
            "\n",
            "    accuracy                           0.98     56962\n",
            "   macro avg       0.54      0.96      0.56     56962\n",
            "weighted avg       1.00      0.98      0.99     56962\n",
            " \n",
            "\n",
            "Relatório de Classificação K-Neighbor:\n",
            "                precision    recall  f1-score   support\n",
            "\n",
            "           0       1.00      0.97      0.99     56864\n",
            "           1       0.06      0.90      0.11        98\n",
            "\n",
            "    accuracy                           0.97     56962\n",
            "   macro avg       0.53      0.94      0.55     56962\n",
            "weighted avg       1.00      0.97      0.99     56962\n",
            " \n",
            "\n"
          ]
        }
      ]
    },
    {
      "cell_type": "markdown",
      "source": [
        "Com o relatorio de confusão além de termo a acuracia, podemos observar outras métricas que podemos utilizadas para a comparação de métodos de Machine Learning como:\n",
        "\n",
        "- **Sensibilidade/Recall:** Essa métrica avalia a capacidade do método de detectar com sucesso resultados classificados como positivos.\n",
        "\n",
        "- **Especificidade:** Essa métrica avalia a capacidade do método de detectar resultados negativos.\n",
        "\n",
        "- **Precisão:** Essa métrica que avalia a quantidade de verdadeiros positivos sobre a soma de todos os valores positivos.\n",
        "\n",
        "- **F1-score:** É uma média harmônica calculada com base na precisão e na revocação."
      ],
      "metadata": {
        "id": "6MdDp7nNW9If"
      }
    },
    {
      "cell_type": "markdown",
      "source": [
        "###HeatMap"
      ],
      "metadata": {
        "id": "jmxXnO6ldP4m"
      }
    },
    {
      "cell_type": "markdown",
      "source": [
        "Já com o HeatMap é possivel observar atravês do grafico com foi o comportamento do método em relação a aquele Banco de Dados, com esse gráfico nos podemos observar a quantidade ou a porcentagem de Verdadeiro Positivo, Verdadeiro Negativo, Falso Positivo e Falso Negativo."
      ],
      "metadata": {
        "id": "7sotuWVMYecP"
      }
    },
    {
      "cell_type": "code",
      "source": [
        "y_test.count()"
      ],
      "metadata": {
        "colab": {
          "base_uri": "https://localhost:8080/"
        },
        "id": "yhhk0913lKzj",
        "outputId": "d4fc4089-d1dc-4fdd-d0d1-934a606ba944"
      },
      "execution_count": 124,
      "outputs": [
        {
          "output_type": "execute_result",
          "data": {
            "text/plain": [
              "56962"
            ]
          },
          "metadata": {},
          "execution_count": 124
        }
      ]
    },
    {
      "cell_type": "code",
      "source": [
        "#SVC\n",
        "\n",
        "from sklearn.metrics import confusion_matrix\n",
        "from sklearn.metrics._plot.confusion_matrix import plot_confusion_matrix\n",
        "\n",
        "fig, ax = plt.subplots()\n",
        "sns.heatmap(confusion_matrix(y_test,svc_pred), annot=True, ax=ax,fmt='.1f')\n",
        "\n",
        "ax.set_title(\"Matriz de Confusão SVC\",\n",
        "             pad = 20,\n",
        "             fontsize = 15,\n",
        "             color = 'black')\n",
        "ax.set_ylabel(\"Verdadeiro\")\n",
        "ax.set_xlabel(\"Previsto\")"
      ],
      "metadata": {
        "colab": {
          "base_uri": "https://localhost:8080/",
          "height": 328
        },
        "id": "g1WHiE8nb6IM",
        "outputId": "509c5c17-e6a2-4b76-cdbb-0b74d6db447f"
      },
      "execution_count": 125,
      "outputs": [
        {
          "output_type": "execute_result",
          "data": {
            "text/plain": [
              "Text(0.5, 15.0, 'Previsto')"
            ]
          },
          "metadata": {},
          "execution_count": 125
        },
        {
          "output_type": "display_data",
          "data": {
            "text/plain": [
              "<Figure size 432x288 with 2 Axes>"
            ],
            "image/png": "[encoded data removed]"
          },
          "metadata": {
            "needs_background": "light"
          }
        }
      ]
    },
    {
      "cell_type": "code",
      "source": [
        "#Regressão Logistica\n",
        "\n",
        "from sklearn.metrics import confusion_matrix\n",
        "from sklearn.metrics._plot.confusion_matrix import plot_confusion_matrix\n",
        "\n",
        "fig, ax = plt.subplots()\n",
        "sns.heatmap(confusion_matrix(y_test,y_pred), annot=True, ax=ax,fmt='.1f')\n",
        "\n",
        "ax.set_title(\"Matriz de Confusão Regressão Logistica\",\n",
        "             pad = 20,\n",
        "             fontsize = 15,\n",
        "             color = 'black')\n",
        "ax.set_ylabel(\"Verdadeiro\")\n",
        "ax.set_xlabel(\"Previsto\")"
      ],
      "metadata": {
        "colab": {
          "base_uri": "https://localhost:8080/",
          "height": 328
        },
        "id": "ox7LLTb9b6CF",
        "outputId": "6b97f586-2e50-4346-a73f-baccfb752083"
      },
      "execution_count": 126,
      "outputs": [
        {
          "output_type": "execute_result",
          "data": {
            "text/plain": [
              "Text(0.5, 15.0, 'Previsto')"
            ]
          },
          "metadata": {},
          "execution_count": 126
        },
        {
          "output_type": "display_data",
          "data": {
            "text/plain": [
              "<Figure size 432x288 with 2 Axes>"
            ],
            "image/png": "[encoded data removed]"
          },
          "metadata": {
            "needs_background": "light"
          }
        }
      ]
    },
    {
      "cell_type": "code",
      "source": [
        "#Decison Tree\n",
        "\n",
        "\n",
        "fig, ax = plt.subplots()\n",
        "sns.heatmap(confusion_matrix(y_test,tree_pred), annot=True, ax=ax,fmt='.1f')\n",
        "\n",
        "ax.set_title(\"Matriz de Confusão SVC\",\n",
        "             pad = 20,\n",
        "             fontsize = 15,\n",
        "             color = 'black')\n",
        "ax.set_ylabel(\"Verdadeiro\")\n",
        "ax.set_xlabel(\"Previsto\")"
      ],
      "metadata": {
        "colab": {
          "base_uri": "https://localhost:8080/",
          "height": 328
        },
        "id": "C9DJIGZAb56k",
        "outputId": "423ebac2-0a41-417c-efc0-9c85ac987522"
      },
      "execution_count": 127,
      "outputs": [
        {
          "output_type": "execute_result",
          "data": {
            "text/plain": [
              "Text(0.5, 15.0, 'Previsto')"
            ]
          },
          "metadata": {},
          "execution_count": 127
        },
        {
          "output_type": "display_data",
          "data": {
            "text/plain": [
              "<Figure size 432x288 with 2 Axes>"
            ],
            "image/png": "[encoded data removed]"
          },
          "metadata": {
            "needs_background": "light"
          }
        }
      ]
    },
    {
      "cell_type": "code",
      "source": [
        "#Forest Decision\n",
        "\n",
        "fig, ax = plt.subplots()\n",
        "sns.heatmap(confusion_matrix(y_test,forest_pred), annot=True, ax=ax,fmt='.1f')\n",
        "\n",
        "ax.set_title(\"Matriz de Confusão SVC\",\n",
        "             pad = 20,\n",
        "             fontsize = 15,\n",
        "             color = 'black')\n",
        "ax.set_ylabel(\"Verdadeiro\")\n",
        "ax.set_xlabel(\"Previsto\")"
      ],
      "metadata": {
        "colab": {
          "base_uri": "https://localhost:8080/",
          "height": 328
        },
        "id": "h98fUWftb5zz",
        "outputId": "61636aad-dd39-4c63-aecd-59c74baeeb95"
      },
      "execution_count": 128,
      "outputs": [
        {
          "output_type": "execute_result",
          "data": {
            "text/plain": [
              "Text(0.5, 15.0, 'Previsto')"
            ]
          },
          "metadata": {},
          "execution_count": 128
        },
        {
          "output_type": "display_data",
          "data": {
            "text/plain": [
              "<Figure size 432x288 with 2 Axes>"
            ],
            "image/png": "[encoded data removed]"
          },
          "metadata": {
            "needs_background": "light"
          }
        }
      ]
    },
    {
      "cell_type": "code",
      "source": [
        "#K-Vizinhos\n",
        "\n",
        "\n",
        "fig, ax = plt.subplots()\n",
        "sns.heatmap(confusion_matrix(y_test,neigh_pred), annot=True, ax=ax,fmt='.1f')\n",
        "\n",
        "ax.set_title(\"Matriz de Confusão SVC\",\n",
        "             pad = 20,\n",
        "             fontsize = 15,\n",
        "             color = 'black')\n",
        "ax.set_ylabel(\"Verdadeiro\")\n",
        "ax.set_xlabel(\"Previsto\")"
      ],
      "metadata": {
        "colab": {
          "base_uri": "https://localhost:8080/",
          "height": 328
        },
        "id": "4HpOmn-ecWVz",
        "outputId": "9b49d204-642d-4745-9d4e-480ec44d1dc0"
      },
      "execution_count": 129,
      "outputs": [
        {
          "output_type": "execute_result",
          "data": {
            "text/plain": [
              "Text(0.5, 15.0, 'Previsto')"
            ]
          },
          "metadata": {},
          "execution_count": 129
        },
        {
          "output_type": "display_data",
          "data": {
            "text/plain": [
              "<Figure size 432x288 with 2 Axes>"
            ],
            "image/png": "[encoded data removed]"
          },
          "metadata": {
            "needs_background": "light"
          }
        }
      ]
    },
    {
      "cell_type": "markdown",
      "metadata": {
        "id": "0Bj7zRZMSfO7"
      },
      "source": [
        "## Conclusão\n",
        "\n"
      ]
    },
    {
      "cell_type": "markdown",
      "source": [
        "Avaliando as precisão(precision), a sensibilidade(recall),a acuracia(accuracy) e a matriz de confussão podemos chegar a conclusão que o melhor modelo para esse sistema de detectações de fraudes é o SVM (Support Vector Machine).\n",
        "\n",
        "\n",
        "Verificando as métricas podemos verificar que a sua precisão, recall e f1-score se destaca em relação aos outros, fazendo que chegamos a conclusão que o melhor método para essa situação é o SVM."
      ],
      "metadata": {
        "id": "4j27SLrpM-kb"
      }
    }
  ]
}