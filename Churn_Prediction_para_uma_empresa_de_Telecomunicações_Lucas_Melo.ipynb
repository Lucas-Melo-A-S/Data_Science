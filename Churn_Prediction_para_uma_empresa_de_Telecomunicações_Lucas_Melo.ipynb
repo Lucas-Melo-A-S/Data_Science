{
  "cells": [
    {
      "cell_type": "markdown",
      "metadata": {
        "id": "view-in-github",
        "colab_type": "text"
      },
      "source": [
        "<a href=\"https://colab.research.google.com/github/Lucas-Melo-A-S/Data_Science/blob/main/Churn_Prediction_para_uma_empresa_de_Telecomunica%C3%A7%C3%B5es_Lucas_Melo.ipynb\" target=\"_parent\"><img src=\"https://colab.research.google.com/assets/colab-badge.svg\" alt=\"Open In Colab\"/></a>"
      ]
    },
    {
      "cell_type": "markdown",
      "metadata": {
        "id": "sC2BFMOKN1M7"
      },
      "source": [
        "---\n",
        "<img alt=\"Colaboratory logo\" width=\"15%\" src=\"https://raw.githubusercontent.com/carlosfab/escola-data-science/master/img/novo_logo_bg_claro.png\">\n",
        "\n",
        "#### **Data Science na Prática 3.0**\n",
        "*by [sigmoidal.ai](https://sigmoidal.ai)*  \n",
        "\n",
        "---"
      ]
    },
    {
      "cell_type": "markdown",
      "metadata": {
        "id": "IR56trFcPcC1"
      },
      "source": [
        "# Churn Prediction\n",
        "\n",
        "*Churn rate*, ou simplesmente *churn*, representa a taxa de evasão da sua base de clientes. Em serviços como Spotify ou Netflix, ela representaria a taxa de cancelamento de assinaturas.\n",
        "\n",
        "<p align=center>\n",
        "<img src=\"https://raw.githubusercontent.com/carlosfab/dsnp2/master/img/churnrate.jpg\" width=\"60%\"></p>\n",
        "\n",
        "Ela é de extrema importância para a administração e sua análise ao longo do tempo pode mostrar que existe algum problema que deve ser atacado.\n",
        "\n",
        "*Churn* também pode ser usado para identificar potenciais cancelamentos, com um tempo de antecedência, e promover ações direcionadas para tentar reter tais clientes. Essa métrica deve receber atenção pelo fato de que o Custo de Aquisição de Cliente (CAC) é normalmente mais alto que o custo para mantê-los. Ou seja, um alto valor para o *churn rate* é o que não desejamos."
      ]
    },
    {
      "cell_type": "markdown",
      "metadata": {
        "id": "0HVmpIxQWT4Y"
      },
      "source": [
        "## Aquisição dos Dados\n",
        "\n",
        "Os dados utilizados neste projeto foram originalmente disponibilizados na [plataforma de ensino da IBM Developer](https://developer.ibm.com/technologies/data-science/patterns/predict-customer-churn-using-watson-studio-and-jupyter-notebooks/#), e tratam de um problema típico de uma companhia de telecomunicações. O *dataset* completo pode ser encontrado [neste link](https://raw.githubusercontent.com/carlosfab/dsnp2/master/datasets/WA_Fn-UseC_-Telco-Customer-Churn.csv).\n",
        "\n",
        "Apesar de não haver informações explícitas disponíves, os nomes das colunas permitem um entendimento a respeito do problema."
      ]
    },
    {
      "cell_type": "code",
      "execution_count": 107,
      "metadata": {
        "colab": {
          "base_uri": "https://localhost:8080/",
          "height": 386
        },
        "id": "oQ4bNy7udtEE",
        "outputId": "a342126a-85d6-447e-c22c-f3f5bce7fce3"
      },
      "outputs": [
        {
          "output_type": "execute_result",
          "data": {
            "text/plain": [
              "   customerID  gender  SeniorCitizen Partner Dependents  tenure PhoneService  \\\n",
              "0  7590-VHVEG  Female              0     Yes         No       1           No   \n",
              "1  5575-GNVDE    Male              0      No         No      34          Yes   \n",
              "2  3668-QPYBK    Male              0      No         No       2          Yes   \n",
              "3  7795-CFOCW    Male              0      No         No      45           No   \n",
              "4  9237-HQITU  Female              0      No         No       2          Yes   \n",
              "\n",
              "      MultipleLines InternetService OnlineSecurity  ... DeviceProtection  \\\n",
              "0  No phone service             DSL             No  ...               No   \n",
              "1                No             DSL            Yes  ...              Yes   \n",
              "2                No             DSL            Yes  ...               No   \n",
              "3  No phone service             DSL            Yes  ...              Yes   \n",
              "4                No     Fiber optic             No  ...               No   \n",
              "\n",
              "  TechSupport StreamingTV StreamingMovies        Contract PaperlessBilling  \\\n",
              "0          No          No              No  Month-to-month              Yes   \n",
              "1          No          No              No        One year               No   \n",
              "2          No          No              No  Month-to-month              Yes   \n",
              "3         Yes          No              No        One year               No   \n",
              "4          No          No              No  Month-to-month              Yes   \n",
              "\n",
              "               PaymentMethod MonthlyCharges  TotalCharges Churn  \n",
              "0           Electronic check          29.85         29.85    No  \n",
              "1               Mailed check          56.95        1889.5    No  \n",
              "2               Mailed check          53.85        108.15   Yes  \n",
              "3  Bank transfer (automatic)          42.30       1840.75    No  \n",
              "4           Electronic check          70.70        151.65   Yes  \n",
              "\n",
              "[5 rows x 21 columns]"
            ],
            "text/html": [
              "\n",
              "  <div id=\"df-9147cd4f-96d5-4483-8abe-5702a61692db\">\n",
              "    <div class=\"colab-df-container\">\n",
              "      <div>\n",
              "<style scoped>\n",
              "    .dataframe tbody tr th:only-of-type {\n",
              "        vertical-align: middle;\n",
              "    }\n",
              "\n",
              "    .dataframe tbody tr th {\n",
              "        vertical-align: top;\n",
              "    }\n",
              "\n",
              "    .dataframe thead th {\n",
              "        text-align: right;\n",
              "    }\n",
              "</style>\n",
              "<table border=\"1\" class=\"dataframe\">\n",
              "  <thead>\n",
              "    <tr style=\"text-align: right;\">\n",
              "      <th></th>\n",
              "      <th>customerID</th>\n",
              "      <th>gender</th>\n",
              "      <th>SeniorCitizen</th>\n",
              "      <th>Partner</th>\n",
              "      <th>Dependents</th>\n",
              "      <th>tenure</th>\n",
              "      <th>PhoneService</th>\n",
              "      <th>MultipleLines</th>\n",
              "      <th>InternetService</th>\n",
              "      <th>OnlineSecurity</th>\n",
              "      <th>...</th>\n",
              "      <th>DeviceProtection</th>\n",
              "      <th>TechSupport</th>\n",
              "      <th>StreamingTV</th>\n",
              "      <th>StreamingMovies</th>\n",
              "      <th>Contract</th>\n",
              "      <th>PaperlessBilling</th>\n",
              "      <th>PaymentMethod</th>\n",
              "      <th>MonthlyCharges</th>\n",
              "      <th>TotalCharges</th>\n",
              "      <th>Churn</th>\n",
              "    </tr>\n",
              "  </thead>\n",
              "  <tbody>\n",
              "    <tr>\n",
              "      <th>0</th>\n",
              "      <td>7590-VHVEG</td>\n",
              "      <td>Female</td>\n",
              "      <td>0</td>\n",
              "      <td>Yes</td>\n",
              "      <td>No</td>\n",
              "      <td>1</td>\n",
              "      <td>No</td>\n",
              "      <td>No phone service</td>\n",
              "      <td>DSL</td>\n",
              "      <td>No</td>\n",
              "      <td>...</td>\n",
              "      <td>No</td>\n",
              "      <td>No</td>\n",
              "      <td>No</td>\n",
              "      <td>No</td>\n",
              "      <td>Month-to-month</td>\n",
              "      <td>Yes</td>\n",
              "      <td>Electronic check</td>\n",
              "      <td>29.85</td>\n",
              "      <td>29.85</td>\n",
              "      <td>No</td>\n",
              "    </tr>\n",
              "    <tr>\n",
              "      <th>1</th>\n",
              "      <td>5575-GNVDE</td>\n",
              "      <td>Male</td>\n",
              "      <td>0</td>\n",
              "      <td>No</td>\n",
              "      <td>No</td>\n",
              "      <td>34</td>\n",
              "      <td>Yes</td>\n",
              "      <td>No</td>\n",
              "      <td>DSL</td>\n",
              "      <td>Yes</td>\n",
              "      <td>...</td>\n",
              "      <td>Yes</td>\n",
              "      <td>No</td>\n",
              "      <td>No</td>\n",
              "      <td>No</td>\n",
              "      <td>One year</td>\n",
              "      <td>No</td>\n",
              "      <td>Mailed check</td>\n",
              "      <td>56.95</td>\n",
              "      <td>1889.5</td>\n",
              "      <td>No</td>\n",
              "    </tr>\n",
              "    <tr>\n",
              "      <th>2</th>\n",
              "      <td>3668-QPYBK</td>\n",
              "      <td>Male</td>\n",
              "      <td>0</td>\n",
              "      <td>No</td>\n",
              "      <td>No</td>\n",
              "      <td>2</td>\n",
              "      <td>Yes</td>\n",
              "      <td>No</td>\n",
              "      <td>DSL</td>\n",
              "      <td>Yes</td>\n",
              "      <td>...</td>\n",
              "      <td>No</td>\n",
              "      <td>No</td>\n",
              "      <td>No</td>\n",
              "      <td>No</td>\n",
              "      <td>Month-to-month</td>\n",
              "      <td>Yes</td>\n",
              "      <td>Mailed check</td>\n",
              "      <td>53.85</td>\n",
              "      <td>108.15</td>\n",
              "      <td>Yes</td>\n",
              "    </tr>\n",
              "    <tr>\n",
              "      <th>3</th>\n",
              "      <td>7795-CFOCW</td>\n",
              "      <td>Male</td>\n",
              "      <td>0</td>\n",
              "      <td>No</td>\n",
              "      <td>No</td>\n",
              "      <td>45</td>\n",
              "      <td>No</td>\n",
              "      <td>No phone service</td>\n",
              "      <td>DSL</td>\n",
              "      <td>Yes</td>\n",
              "      <td>...</td>\n",
              "      <td>Yes</td>\n",
              "      <td>Yes</td>\n",
              "      <td>No</td>\n",
              "      <td>No</td>\n",
              "      <td>One year</td>\n",
              "      <td>No</td>\n",
              "      <td>Bank transfer (automatic)</td>\n",
              "      <td>42.30</td>\n",
              "      <td>1840.75</td>\n",
              "      <td>No</td>\n",
              "    </tr>\n",
              "    <tr>\n",
              "      <th>4</th>\n",
              "      <td>9237-HQITU</td>\n",
              "      <td>Female</td>\n",
              "      <td>0</td>\n",
              "      <td>No</td>\n",
              "      <td>No</td>\n",
              "      <td>2</td>\n",
              "      <td>Yes</td>\n",
              "      <td>No</td>\n",
              "      <td>Fiber optic</td>\n",
              "      <td>No</td>\n",
              "      <td>...</td>\n",
              "      <td>No</td>\n",
              "      <td>No</td>\n",
              "      <td>No</td>\n",
              "      <td>No</td>\n",
              "      <td>Month-to-month</td>\n",
              "      <td>Yes</td>\n",
              "      <td>Electronic check</td>\n",
              "      <td>70.70</td>\n",
              "      <td>151.65</td>\n",
              "      <td>Yes</td>\n",
              "    </tr>\n",
              "  </tbody>\n",
              "</table>\n",
              "<p>5 rows × 21 columns</p>\n",
              "</div>\n",
              "      <button class=\"colab-df-convert\" onclick=\"convertToInteractive('df-9147cd4f-96d5-4483-8abe-5702a61692db')\"\n",
              "              title=\"Convert this dataframe to an interactive table.\"\n",
              "              style=\"display:none;\">\n",
              "        \n",
              "  <svg xmlns=\"http://www.w3.org/2000/svg\" height=\"24px\"viewBox=\"0 0 24 24\"\n",
              "       width=\"24px\">\n",
              "    <path d=\"M0 0h24v24H0V0z\" fill=\"none\"/>\n",
              "    <path d=\"M18.56 5.44l.94 2.06.94-2.06 2.06-.94-2.06-.94-.94-2.06-.94 2.06-2.06.94zm-11 1L8.5 8.5l.94-2.06 2.06-.94-2.06-.94L8.5 2.5l-.94 2.06-2.06.94zm10 10l.94 2.06.94-2.06 2.06-.94-2.06-.94-.94-2.06-.94 2.06-2.06.94z\"/><path d=\"M17.41 7.96l-1.37-1.37c-.4-.4-.92-.59-1.43-.59-.52 0-1.04.2-1.43.59L10.3 9.45l-7.72 7.72c-.78.78-.78 2.05 0 2.83L4 21.41c.39.39.9.59 1.41.59.51 0 1.02-.2 1.41-.59l7.78-7.78 2.81-2.81c.8-.78.8-2.07 0-2.86zM5.41 20L4 18.59l7.72-7.72 1.47 1.35L5.41 20z\"/>\n",
              "  </svg>\n",
              "      </button>\n",
              "      \n",
              "  <style>\n",
              "    .colab-df-container {\n",
              "      display:flex;\n",
              "      flex-wrap:wrap;\n",
              "      gap: 12px;\n",
              "    }\n",
              "\n",
              "    .colab-df-convert {\n",
              "      background-color: #E8F0FE;\n",
              "      border: none;\n",
              "      border-radius: 50%;\n",
              "      cursor: pointer;\n",
              "      display: none;\n",
              "      fill: #1967D2;\n",
              "      height: 32px;\n",
              "      padding: 0 0 0 0;\n",
              "      width: 32px;\n",
              "    }\n",
              "\n",
              "    .colab-df-convert:hover {\n",
              "      background-color: #E2EBFA;\n",
              "      box-shadow: 0px 1px 2px rgba(60, 64, 67, 0.3), 0px 1px 3px 1px rgba(60, 64, 67, 0.15);\n",
              "      fill: #174EA6;\n",
              "    }\n",
              "\n",
              "    [theme=dark] .colab-df-convert {\n",
              "      background-color: #3B4455;\n",
              "      fill: #D2E3FC;\n",
              "    }\n",
              "\n",
              "    [theme=dark] .colab-df-convert:hover {\n",
              "      background-color: #434B5C;\n",
              "      box-shadow: 0px 1px 3px 1px rgba(0, 0, 0, 0.15);\n",
              "      filter: drop-shadow(0px 1px 2px rgba(0, 0, 0, 0.3));\n",
              "      fill: #FFFFFF;\n",
              "    }\n",
              "  </style>\n",
              "\n",
              "      <script>\n",
              "        const buttonEl =\n",
              "          document.querySelector('#df-9147cd4f-96d5-4483-8abe-5702a61692db button.colab-df-convert');\n",
              "        buttonEl.style.display =\n",
              "          google.colab.kernel.accessAllowed ? 'block' : 'none';\n",
              "\n",
              "        async function convertToInteractive(key) {\n",
              "          const element = document.querySelector('#df-9147cd4f-96d5-4483-8abe-5702a61692db');\n",
              "          const dataTable =\n",
              "            await google.colab.kernel.invokeFunction('convertToInteractive',\n",
              "                                                     [key], {});\n",
              "          if (!dataTable) return;\n",
              "\n",
              "          const docLinkHtml = 'Like what you see? Visit the ' +\n",
              "            '<a target=\"_blank\" href=https://colab.research.google.com/notebooks/data_table.ipynb>data table notebook</a>'\n",
              "            + ' to learn more about interactive tables.';\n",
              "          element.innerHTML = '';\n",
              "          dataTable['output_type'] = 'display_data';\n",
              "          await google.colab.output.renderOutput(dataTable, element);\n",
              "          const docLink = document.createElement('div');\n",
              "          docLink.innerHTML = docLinkHtml;\n",
              "          element.appendChild(docLink);\n",
              "        }\n",
              "      </script>\n",
              "    </div>\n",
              "  </div>\n",
              "  "
            ]
          },
          "metadata": {},
          "execution_count": 107
        }
      ],
      "source": [
        "# importar os pacotes necessários\n",
        "import pandas as pd\n",
        "import numpy as np\n",
        "import matplotlib.pyplot as plt\n",
        "import seaborn as sns\n",
        "\n",
        "# importar os dados\n",
        "DATA_PATH = \"https://raw.githubusercontent.com/carlosfab/dsnp2/master/datasets/WA_Fn-UseC_-Telco-Customer-Churn.csv\"\n",
        "df = pd.read_csv(DATA_PATH)\n",
        "\n",
        "# ver as 5 primeiras entradas\n",
        "df.head()"
      ]
    },
    {
      "cell_type": "markdown",
      "metadata": {
        "id": "nTtPAUDUtuYO"
      },
      "source": [
        "Lembrete: \n",
        "Churn YES - saiu da plataforma\n",
        "Churn No - não saiu da plataforma"
      ]
    },
    {
      "cell_type": "markdown",
      "source": [
        "#Conhecendo o Banco de Dados"
      ],
      "metadata": {
        "id": "XbjiSgYNw7wy"
      }
    },
    {
      "cell_type": "markdown",
      "source": [
        "O dataset possue 19 colunas que podem ser:\n",
        "\n",
        "**gender:** Se o cliente é homem(male) ou mulher(female).\n",
        "\n",
        "**SeniorCitizen:** Se o cliente é um senhor de idade ou não ( 0, 1).\n",
        "\n",
        "**Partner:** Se o cliente tem parceiro ou não (Yes, No).\n",
        "\n",
        "**Dependents:** Se o cliente tem dependentes ou não (Yes, No).\n",
        "\n",
        "**tenure:** Numero de meses que o cliente ficou na companhia.\n",
        "\n",
        "**Contract:** Tipo de contrato com o cliente:\n",
        "- Month-to-Month: Mensal;\n",
        "\n",
        "- One year: Anual;\n",
        "\n",
        "- Two year: A cada dois anos.\n",
        "\n",
        "**PaperlessBilling:** Pagamento com ou sem boleto (Yes, No).\n",
        "\n",
        "**PaymentMethod:** Método de Pagamento:\n",
        "\n",
        "- Electronic check: Cheque Eletronico;\n",
        "\n",
        "- Mailed check: Cheque por Email;\n",
        "\n",
        "- Bank transfer (automatic): Transferência Bancária (automática);\n",
        "\n",
        "- Credit Card (automatic)): Cartão de Crédito(automática).\n",
        "\n",
        "**MontlyCharges:** O valor mensal cobrado ao cliente.\n",
        "\n",
        "**TotalCharges:** Valor Total Cobrado ao cliente.\n",
        "\n",
        "**PhoneService:** Se o cliente tem serviço telefonico (Yes, No).\n",
        "\n",
        "**MultipleLines:** Se o cliente tem multiplas linhas telefonicas (No phone service, No, Yes).\n",
        "\n",
        "**InternetServices:** Se o cliente tem serviço de internet e qual (DSL, Fiber optic, No);\n",
        "\n",
        "**OnlineSecurity:** Se o cliente tem seguraça online (No internet service, No, Yes).\n",
        "\n",
        "**OnlineBackup:** Se o cliente tem backup online ou não (No internet service, No, Yes);\n",
        "\n",
        "**DeviceProtection:** Se o clinete tem proteção ao dispositivo ou não (No internet service, No, Yes).\n",
        "\n",
        "**TechSupport:** Se o cliente tem suporte técnico ou não (No internet service, No, Yes).\n",
        "\n",
        "**StreamingTV:** Se o cliente tem serviço de streaming de TV ou não (No internet service, No, Yes).\n",
        "\n",
        "**StreamingMovies:** Se o cliente tem serviço de straming de filme ou não (No internet service, No, Yes).\n",
        "\n",
        "\n",
        "Esses dados podem até ser divididos em:\n",
        "\n",
        "- Informações Demográficas\n",
        "- Informações da conta\n",
        "- Serviços"
      ],
      "metadata": {
        "id": "aDg9TijLxAVc"
      }
    },
    {
      "cell_type": "markdown",
      "metadata": {
        "id": "-4saUWp5ZZ90"
      },
      "source": [
        "#Analise do Banco de Dados"
      ]
    },
    {
      "cell_type": "code",
      "execution_count": 108,
      "metadata": {
        "colab": {
          "base_uri": "https://localhost:8080/"
        },
        "id": "JZ_ySet7bHUV",
        "outputId": "c14e10ce-9403-4b40-a271-c4b869189d98"
      },
      "outputs": [
        {
          "output_type": "stream",
          "name": "stdout",
          "text": [
            "     Entrada: 7043    \n",
            "     Variáveis: 21  \n"
          ]
        }
      ],
      "source": [
        "print(f'     Entrada: {df.shape[0]}    ')\n",
        "print(f'     Variáveis: {df.shape[1]}  ')"
      ]
    },
    {
      "cell_type": "markdown",
      "metadata": {
        "id": "5uzf6q5EbKjo"
      },
      "source": [
        "O dataset possui 21 variaveis (colunas) e 7043 entradas(linhas)"
      ]
    },
    {
      "cell_type": "code",
      "execution_count": 109,
      "metadata": {
        "colab": {
          "base_uri": "https://localhost:8080/"
        },
        "id": "20wv5f9hc-o8",
        "outputId": "ad8bf719-95c4-45f4-d886-f73887c81bd6"
      },
      "outputs": [
        {
          "output_type": "stream",
          "name": "stdout",
          "text": [
            "Column: customerID - Unique Values: ['7590-VHVEG' '5575-GNVDE' '3668-QPYBK' ... '4801-JZAZL' '8361-LTMKD'\n",
            " '3186-AJIEK'] - Type: object\n",
            "Column: gender - Unique Values: ['Female' 'Male'] - Type: object\n",
            "Column: SeniorCitizen - Unique Values: [0 1] - Type: int64\n",
            "Column: Partner - Unique Values: ['Yes' 'No'] - Type: object\n",
            "Column: Dependents - Unique Values: ['No' 'Yes'] - Type: object\n",
            "Column: tenure - Unique Values: [ 1 34  2 45  8 22 10 28 62 13 16 58 49 25 69 52 71 21 12 30 47 72 17 27\n",
            "  5 46 11 70 63 43 15 60 18 66  9  3 31 50 64 56  7 42 35 48 29 65 38 68\n",
            " 32 55 37 36 41  6  4 33 67 23 57 61 14 20 53 40 59 24 44 19 54 51 26  0\n",
            " 39] - Type: int64\n",
            "Column: PhoneService - Unique Values: ['No' 'Yes'] - Type: object\n",
            "Column: MultipleLines - Unique Values: ['No phone service' 'No' 'Yes'] - Type: object\n",
            "Column: InternetService - Unique Values: ['DSL' 'Fiber optic' 'No'] - Type: object\n",
            "Column: OnlineSecurity - Unique Values: ['No' 'Yes' 'No internet service'] - Type: object\n",
            "Column: OnlineBackup - Unique Values: ['Yes' 'No' 'No internet service'] - Type: object\n",
            "Column: DeviceProtection - Unique Values: ['No' 'Yes' 'No internet service'] - Type: object\n",
            "Column: TechSupport - Unique Values: ['No' 'Yes' 'No internet service'] - Type: object\n",
            "Column: StreamingTV - Unique Values: ['No' 'Yes' 'No internet service'] - Type: object\n",
            "Column: StreamingMovies - Unique Values: ['No' 'Yes' 'No internet service'] - Type: object\n",
            "Column: Contract - Unique Values: ['Month-to-month' 'One year' 'Two year'] - Type: object\n",
            "Column: PaperlessBilling - Unique Values: ['Yes' 'No'] - Type: object\n",
            "Column: PaymentMethod - Unique Values: ['Electronic check' 'Mailed check' 'Bank transfer (automatic)'\n",
            " 'Credit card (automatic)'] - Type: object\n",
            "Column: MonthlyCharges - Unique Values: [29.85 56.95 53.85 ... 63.1  44.2  78.7 ] - Type: float64\n",
            "Column: TotalCharges - Unique Values: ['29.85' '1889.5' '108.15' ... '346.45' '306.6' '6844.5'] - Type: object\n",
            "Column: Churn - Unique Values: ['No' 'Yes'] - Type: object\n"
          ]
        }
      ],
      "source": [
        "for column in df.columns:\n",
        "    print('Column: {} - Unique Values: {} - Type: {}'.format(column, df[column].unique(),df[column].dtypes))"
      ]
    },
    {
      "cell_type": "code",
      "execution_count": 110,
      "metadata": {
        "colab": {
          "base_uri": "https://localhost:8080/"
        },
        "id": "NSsw1fXJbi-c",
        "outputId": "56a3197d-ec45-4e49-abf4-22718fb47811"
      },
      "outputs": [
        {
          "output_type": "execute_result",
          "data": {
            "text/plain": [
              "customerID          0\n",
              "MonthlyCharges      0\n",
              "PaymentMethod       0\n",
              "PaperlessBilling    0\n",
              "Contract            0\n",
              "StreamingMovies     0\n",
              "StreamingTV         0\n",
              "TechSupport         0\n",
              "DeviceProtection    0\n",
              "TotalCharges        0\n",
              "OnlineBackup        0\n",
              "InternetService     0\n",
              "MultipleLines       0\n",
              "PhoneService        0\n",
              "tenure              0\n",
              "Dependents          0\n",
              "Partner             0\n",
              "SeniorCitizen       0\n",
              "gender              0\n",
              "OnlineSecurity      0\n",
              "Churn               0\n",
              "dtype: int64"
            ]
          },
          "metadata": {},
          "execution_count": 110
        }
      ],
      "source": [
        "df.isnull().sum().sort_values()"
      ]
    },
    {
      "cell_type": "code",
      "source": [
        "df.describe()"
      ],
      "metadata": {
        "colab": {
          "base_uri": "https://localhost:8080/",
          "height": 300
        },
        "id": "FxZplwWscZEx",
        "outputId": "8e0f04d1-8c1d-4a3f-9906-0f81a2b9b6d4"
      },
      "execution_count": 111,
      "outputs": [
        {
          "output_type": "execute_result",
          "data": {
            "text/plain": [
              "       SeniorCitizen       tenure  MonthlyCharges\n",
              "count    7043.000000  7043.000000     7043.000000\n",
              "mean        0.162147    32.371149       64.761692\n",
              "std         0.368612    24.559481       30.090047\n",
              "min         0.000000     0.000000       18.250000\n",
              "25%         0.000000     9.000000       35.500000\n",
              "50%         0.000000    29.000000       70.350000\n",
              "75%         0.000000    55.000000       89.850000\n",
              "max         1.000000    72.000000      118.750000"
            ],
            "text/html": [
              "\n",
              "  <div id=\"df-65168a07-55e3-467b-8c34-054bd8b36604\">\n",
              "    <div class=\"colab-df-container\">\n",
              "      <div>\n",
              "<style scoped>\n",
              "    .dataframe tbody tr th:only-of-type {\n",
              "        vertical-align: middle;\n",
              "    }\n",
              "\n",
              "    .dataframe tbody tr th {\n",
              "        vertical-align: top;\n",
              "    }\n",
              "\n",
              "    .dataframe thead th {\n",
              "        text-align: right;\n",
              "    }\n",
              "</style>\n",
              "<table border=\"1\" class=\"dataframe\">\n",
              "  <thead>\n",
              "    <tr style=\"text-align: right;\">\n",
              "      <th></th>\n",
              "      <th>SeniorCitizen</th>\n",
              "      <th>tenure</th>\n",
              "      <th>MonthlyCharges</th>\n",
              "    </tr>\n",
              "  </thead>\n",
              "  <tbody>\n",
              "    <tr>\n",
              "      <th>count</th>\n",
              "      <td>7043.000000</td>\n",
              "      <td>7043.000000</td>\n",
              "      <td>7043.000000</td>\n",
              "    </tr>\n",
              "    <tr>\n",
              "      <th>mean</th>\n",
              "      <td>0.162147</td>\n",
              "      <td>32.371149</td>\n",
              "      <td>64.761692</td>\n",
              "    </tr>\n",
              "    <tr>\n",
              "      <th>std</th>\n",
              "      <td>0.368612</td>\n",
              "      <td>24.559481</td>\n",
              "      <td>30.090047</td>\n",
              "    </tr>\n",
              "    <tr>\n",
              "      <th>min</th>\n",
              "      <td>0.000000</td>\n",
              "      <td>0.000000</td>\n",
              "      <td>18.250000</td>\n",
              "    </tr>\n",
              "    <tr>\n",
              "      <th>25%</th>\n",
              "      <td>0.000000</td>\n",
              "      <td>9.000000</td>\n",
              "      <td>35.500000</td>\n",
              "    </tr>\n",
              "    <tr>\n",
              "      <th>50%</th>\n",
              "      <td>0.000000</td>\n",
              "      <td>29.000000</td>\n",
              "      <td>70.350000</td>\n",
              "    </tr>\n",
              "    <tr>\n",
              "      <th>75%</th>\n",
              "      <td>0.000000</td>\n",
              "      <td>55.000000</td>\n",
              "      <td>89.850000</td>\n",
              "    </tr>\n",
              "    <tr>\n",
              "      <th>max</th>\n",
              "      <td>1.000000</td>\n",
              "      <td>72.000000</td>\n",
              "      <td>118.750000</td>\n",
              "    </tr>\n",
              "  </tbody>\n",
              "</table>\n",
              "</div>\n",
              "      <button class=\"colab-df-convert\" onclick=\"convertToInteractive('df-65168a07-55e3-467b-8c34-054bd8b36604')\"\n",
              "              title=\"Convert this dataframe to an interactive table.\"\n",
              "              style=\"display:none;\">\n",
              "        \n",
              "  <svg xmlns=\"http://www.w3.org/2000/svg\" height=\"24px\"viewBox=\"0 0 24 24\"\n",
              "       width=\"24px\">\n",
              "    <path d=\"M0 0h24v24H0V0z\" fill=\"none\"/>\n",
              "    <path d=\"M18.56 5.44l.94 2.06.94-2.06 2.06-.94-2.06-.94-.94-2.06-.94 2.06-2.06.94zm-11 1L8.5 8.5l.94-2.06 2.06-.94-2.06-.94L8.5 2.5l-.94 2.06-2.06.94zm10 10l.94 2.06.94-2.06 2.06-.94-2.06-.94-.94-2.06-.94 2.06-2.06.94z\"/><path d=\"M17.41 7.96l-1.37-1.37c-.4-.4-.92-.59-1.43-.59-.52 0-1.04.2-1.43.59L10.3 9.45l-7.72 7.72c-.78.78-.78 2.05 0 2.83L4 21.41c.39.39.9.59 1.41.59.51 0 1.02-.2 1.41-.59l7.78-7.78 2.81-2.81c.8-.78.8-2.07 0-2.86zM5.41 20L4 18.59l7.72-7.72 1.47 1.35L5.41 20z\"/>\n",
              "  </svg>\n",
              "      </button>\n",
              "      \n",
              "  <style>\n",
              "    .colab-df-container {\n",
              "      display:flex;\n",
              "      flex-wrap:wrap;\n",
              "      gap: 12px;\n",
              "    }\n",
              "\n",
              "    .colab-df-convert {\n",
              "      background-color: #E8F0FE;\n",
              "      border: none;\n",
              "      border-radius: 50%;\n",
              "      cursor: pointer;\n",
              "      display: none;\n",
              "      fill: #1967D2;\n",
              "      height: 32px;\n",
              "      padding: 0 0 0 0;\n",
              "      width: 32px;\n",
              "    }\n",
              "\n",
              "    .colab-df-convert:hover {\n",
              "      background-color: #E2EBFA;\n",
              "      box-shadow: 0px 1px 2px rgba(60, 64, 67, 0.3), 0px 1px 3px 1px rgba(60, 64, 67, 0.15);\n",
              "      fill: #174EA6;\n",
              "    }\n",
              "\n",
              "    [theme=dark] .colab-df-convert {\n",
              "      background-color: #3B4455;\n",
              "      fill: #D2E3FC;\n",
              "    }\n",
              "\n",
              "    [theme=dark] .colab-df-convert:hover {\n",
              "      background-color: #434B5C;\n",
              "      box-shadow: 0px 1px 3px 1px rgba(0, 0, 0, 0.15);\n",
              "      filter: drop-shadow(0px 1px 2px rgba(0, 0, 0, 0.3));\n",
              "      fill: #FFFFFF;\n",
              "    }\n",
              "  </style>\n",
              "\n",
              "      <script>\n",
              "        const buttonEl =\n",
              "          document.querySelector('#df-65168a07-55e3-467b-8c34-054bd8b36604 button.colab-df-convert');\n",
              "        buttonEl.style.display =\n",
              "          google.colab.kernel.accessAllowed ? 'block' : 'none';\n",
              "\n",
              "        async function convertToInteractive(key) {\n",
              "          const element = document.querySelector('#df-65168a07-55e3-467b-8c34-054bd8b36604');\n",
              "          const dataTable =\n",
              "            await google.colab.kernel.invokeFunction('convertToInteractive',\n",
              "                                                     [key], {});\n",
              "          if (!dataTable) return;\n",
              "\n",
              "          const docLinkHtml = 'Like what you see? Visit the ' +\n",
              "            '<a target=\"_blank\" href=https://colab.research.google.com/notebooks/data_table.ipynb>data table notebook</a>'\n",
              "            + ' to learn more about interactive tables.';\n",
              "          element.innerHTML = '';\n",
              "          dataTable['output_type'] = 'display_data';\n",
              "          await google.colab.output.renderOutput(dataTable, element);\n",
              "          const docLink = document.createElement('div');\n",
              "          docLink.innerHTML = docLinkHtml;\n",
              "          element.appendChild(docLink);\n",
              "        }\n",
              "      </script>\n",
              "    </div>\n",
              "  </div>\n",
              "  "
            ]
          },
          "metadata": {},
          "execution_count": 111
        }
      ]
    },
    {
      "cell_type": "code",
      "execution_count": 112,
      "metadata": {
        "colab": {
          "base_uri": "https://localhost:8080/"
        },
        "id": "Du-6IjY4ZdhJ",
        "outputId": "eb563e25-709e-47d9-861a-b0045520b1f4"
      },
      "outputs": [
        {
          "output_type": "stream",
          "name": "stdout",
          "text": [
            "<class 'pandas.core.frame.DataFrame'>\n",
            "RangeIndex: 7043 entries, 0 to 7042\n",
            "Data columns (total 21 columns):\n",
            " #   Column            Non-Null Count  Dtype  \n",
            "---  ------            --------------  -----  \n",
            " 0   customerID        7043 non-null   object \n",
            " 1   gender            7043 non-null   object \n",
            " 2   SeniorCitizen     7043 non-null   int64  \n",
            " 3   Partner           7043 non-null   object \n",
            " 4   Dependents        7043 non-null   object \n",
            " 5   tenure            7043 non-null   int64  \n",
            " 6   PhoneService      7043 non-null   object \n",
            " 7   MultipleLines     7043 non-null   object \n",
            " 8   InternetService   7043 non-null   object \n",
            " 9   OnlineSecurity    7043 non-null   object \n",
            " 10  OnlineBackup      7043 non-null   object \n",
            " 11  DeviceProtection  7043 non-null   object \n",
            " 12  TechSupport       7043 non-null   object \n",
            " 13  StreamingTV       7043 non-null   object \n",
            " 14  StreamingMovies   7043 non-null   object \n",
            " 15  Contract          7043 non-null   object \n",
            " 16  PaperlessBilling  7043 non-null   object \n",
            " 17  PaymentMethod     7043 non-null   object \n",
            " 18  MonthlyCharges    7043 non-null   float64\n",
            " 19  TotalCharges      7043 non-null   object \n",
            " 20  Churn             7043 non-null   object \n",
            "dtypes: float64(1), int64(2), object(18)\n",
            "memory usage: 1.1+ MB\n"
          ]
        }
      ],
      "source": [
        "#Verificando a presença de valores nulos\n",
        "\n",
        "df.info()"
      ]
    },
    {
      "cell_type": "markdown",
      "metadata": {
        "id": "WRdi0OxwZyCS"
      },
      "source": [
        "Verificando a quantidade de entrada (7043) podemos constatar que todos as colunas possuem a mesma quantidade, chegando a conclusão que nesse dataframe não tem valores nulos. Mas ao utilizarmos a função 'info' constatamos que a coluna 'TotalCharges' constatava que seu tipo era \"objeto\", fazendo com que fosse necessário mudar o tipo da coluna para assim realizarmos a verificação novamente."
      ]
    },
    {
      "cell_type": "code",
      "execution_count": 113,
      "metadata": {
        "id": "hr48T1Nhg0jv"
      },
      "outputs": [],
      "source": [
        " df['TotalCharges'] = pd.to_numeric(df['TotalCharges'],errors = 'coerce')"
      ]
    },
    {
      "cell_type": "code",
      "execution_count": 114,
      "metadata": {
        "colab": {
          "base_uri": "https://localhost:8080/"
        },
        "id": "2kCeU0jXjC1k",
        "outputId": "311c20d0-0a93-4640-ec6b-abeb43d18bec"
      },
      "outputs": [
        {
          "output_type": "stream",
          "name": "stdout",
          "text": [
            "<class 'pandas.core.frame.DataFrame'>\n",
            "RangeIndex: 7043 entries, 0 to 7042\n",
            "Data columns (total 21 columns):\n",
            " #   Column            Non-Null Count  Dtype  \n",
            "---  ------            --------------  -----  \n",
            " 0   customerID        7043 non-null   object \n",
            " 1   gender            7043 non-null   object \n",
            " 2   SeniorCitizen     7043 non-null   int64  \n",
            " 3   Partner           7043 non-null   object \n",
            " 4   Dependents        7043 non-null   object \n",
            " 5   tenure            7043 non-null   int64  \n",
            " 6   PhoneService      7043 non-null   object \n",
            " 7   MultipleLines     7043 non-null   object \n",
            " 8   InternetService   7043 non-null   object \n",
            " 9   OnlineSecurity    7043 non-null   object \n",
            " 10  OnlineBackup      7043 non-null   object \n",
            " 11  DeviceProtection  7043 non-null   object \n",
            " 12  TechSupport       7043 non-null   object \n",
            " 13  StreamingTV       7043 non-null   object \n",
            " 14  StreamingMovies   7043 non-null   object \n",
            " 15  Contract          7043 non-null   object \n",
            " 16  PaperlessBilling  7043 non-null   object \n",
            " 17  PaymentMethod     7043 non-null   object \n",
            " 18  MonthlyCharges    7043 non-null   float64\n",
            " 19  TotalCharges      7032 non-null   float64\n",
            " 20  Churn             7043 non-null   object \n",
            "dtypes: float64(2), int64(2), object(17)\n",
            "memory usage: 1.1+ MB\n"
          ]
        }
      ],
      "source": [
        "#Verificação após a mudança:\n",
        "\n",
        "df.info()"
      ]
    },
    {
      "cell_type": "markdown",
      "metadata": {
        "id": "7wFN3Aig0dgq"
      },
      "source": [
        "Após a mudança de *\"TotalCharges\"* para numericos, pode ser observado a falta de valores(celulas em branco), quando a coluna estavam do tipo \"objeto\" estas celulas constavam como se estivessem preenchidas (\" \"), após a mundança do tipo da coluna essas celulas foram tansformadas em NAN. Deve-se prestar bastante atenção com a situação, pois se caso não for observado pode comprometer todo o processo no treinamento para os modelos.\n",
        "\n",
        "Nessa situação, não irei preencher os valores pois não quero dar medianas ou valores errados para cobranças para que meu sistema não seja levado para algum determinado lado. Para essa situação, eu escolhi dessa maneira, mas alguns podem preencher (com mediana, média, zeros) pois são apenas 11 valores e possivelmente não irá influenciar tanto no sistema.\n"
      ]
    },
    {
      "cell_type": "code",
      "execution_count": 115,
      "metadata": {
        "id": "S7DgialHAhlN"
      },
      "outputs": [],
      "source": [
        "df = df.dropna(subset = ['TotalCharges'], axis = 0)"
      ]
    },
    {
      "cell_type": "code",
      "execution_count": 116,
      "metadata": {
        "colab": {
          "base_uri": "https://localhost:8080/"
        },
        "id": "ji4BkA41A2e2",
        "outputId": "cb2bb415-5685-45d5-c3ca-4b6a741a355a"
      },
      "outputs": [
        {
          "output_type": "stream",
          "name": "stdout",
          "text": [
            "<class 'pandas.core.frame.DataFrame'>\n",
            "Int64Index: 7032 entries, 0 to 7042\n",
            "Data columns (total 21 columns):\n",
            " #   Column            Non-Null Count  Dtype  \n",
            "---  ------            --------------  -----  \n",
            " 0   customerID        7032 non-null   object \n",
            " 1   gender            7032 non-null   object \n",
            " 2   SeniorCitizen     7032 non-null   int64  \n",
            " 3   Partner           7032 non-null   object \n",
            " 4   Dependents        7032 non-null   object \n",
            " 5   tenure            7032 non-null   int64  \n",
            " 6   PhoneService      7032 non-null   object \n",
            " 7   MultipleLines     7032 non-null   object \n",
            " 8   InternetService   7032 non-null   object \n",
            " 9   OnlineSecurity    7032 non-null   object \n",
            " 10  OnlineBackup      7032 non-null   object \n",
            " 11  DeviceProtection  7032 non-null   object \n",
            " 12  TechSupport       7032 non-null   object \n",
            " 13  StreamingTV       7032 non-null   object \n",
            " 14  StreamingMovies   7032 non-null   object \n",
            " 15  Contract          7032 non-null   object \n",
            " 16  PaperlessBilling  7032 non-null   object \n",
            " 17  PaymentMethod     7032 non-null   object \n",
            " 18  MonthlyCharges    7032 non-null   float64\n",
            " 19  TotalCharges      7032 non-null   float64\n",
            " 20  Churn             7032 non-null   object \n",
            "dtypes: float64(2), int64(2), object(17)\n",
            "memory usage: 1.2+ MB\n"
          ]
        }
      ],
      "source": [
        "df.info()"
      ]
    },
    {
      "cell_type": "code",
      "execution_count": 117,
      "metadata": {
        "colab": {
          "base_uri": "https://localhost:8080/",
          "height": 300
        },
        "id": "UhgiD0neoXDG",
        "outputId": "1b12dcf4-7e6f-4f9a-b9a7-16c12f79d0ed"
      },
      "outputs": [
        {
          "output_type": "execute_result",
          "data": {
            "text/plain": [
              "       SeniorCitizen       tenure  MonthlyCharges  TotalCharges\n",
              "count    7032.000000  7032.000000     7032.000000   7032.000000\n",
              "mean        0.162400    32.421786       64.798208   2283.300441\n",
              "std         0.368844    24.545260       30.085974   2266.771362\n",
              "min         0.000000     1.000000       18.250000     18.800000\n",
              "25%         0.000000     9.000000       35.587500    401.450000\n",
              "50%         0.000000    29.000000       70.350000   1397.475000\n",
              "75%         0.000000    55.000000       89.862500   3794.737500\n",
              "max         1.000000    72.000000      118.750000   8684.800000"
            ],
            "text/html": [
              "\n",
              "  <div id=\"df-4aae7c5f-f19d-4f67-9829-d1134f20fd00\">\n",
              "    <div class=\"colab-df-container\">\n",
              "      <div>\n",
              "<style scoped>\n",
              "    .dataframe tbody tr th:only-of-type {\n",
              "        vertical-align: middle;\n",
              "    }\n",
              "\n",
              "    .dataframe tbody tr th {\n",
              "        vertical-align: top;\n",
              "    }\n",
              "\n",
              "    .dataframe thead th {\n",
              "        text-align: right;\n",
              "    }\n",
              "</style>\n",
              "<table border=\"1\" class=\"dataframe\">\n",
              "  <thead>\n",
              "    <tr style=\"text-align: right;\">\n",
              "      <th></th>\n",
              "      <th>SeniorCitizen</th>\n",
              "      <th>tenure</th>\n",
              "      <th>MonthlyCharges</th>\n",
              "      <th>TotalCharges</th>\n",
              "    </tr>\n",
              "  </thead>\n",
              "  <tbody>\n",
              "    <tr>\n",
              "      <th>count</th>\n",
              "      <td>7032.000000</td>\n",
              "      <td>7032.000000</td>\n",
              "      <td>7032.000000</td>\n",
              "      <td>7032.000000</td>\n",
              "    </tr>\n",
              "    <tr>\n",
              "      <th>mean</th>\n",
              "      <td>0.162400</td>\n",
              "      <td>32.421786</td>\n",
              "      <td>64.798208</td>\n",
              "      <td>2283.300441</td>\n",
              "    </tr>\n",
              "    <tr>\n",
              "      <th>std</th>\n",
              "      <td>0.368844</td>\n",
              "      <td>24.545260</td>\n",
              "      <td>30.085974</td>\n",
              "      <td>2266.771362</td>\n",
              "    </tr>\n",
              "    <tr>\n",
              "      <th>min</th>\n",
              "      <td>0.000000</td>\n",
              "      <td>1.000000</td>\n",
              "      <td>18.250000</td>\n",
              "      <td>18.800000</td>\n",
              "    </tr>\n",
              "    <tr>\n",
              "      <th>25%</th>\n",
              "      <td>0.000000</td>\n",
              "      <td>9.000000</td>\n",
              "      <td>35.587500</td>\n",
              "      <td>401.450000</td>\n",
              "    </tr>\n",
              "    <tr>\n",
              "      <th>50%</th>\n",
              "      <td>0.000000</td>\n",
              "      <td>29.000000</td>\n",
              "      <td>70.350000</td>\n",
              "      <td>1397.475000</td>\n",
              "    </tr>\n",
              "    <tr>\n",
              "      <th>75%</th>\n",
              "      <td>0.000000</td>\n",
              "      <td>55.000000</td>\n",
              "      <td>89.862500</td>\n",
              "      <td>3794.737500</td>\n",
              "    </tr>\n",
              "    <tr>\n",
              "      <th>max</th>\n",
              "      <td>1.000000</td>\n",
              "      <td>72.000000</td>\n",
              "      <td>118.750000</td>\n",
              "      <td>8684.800000</td>\n",
              "    </tr>\n",
              "  </tbody>\n",
              "</table>\n",
              "</div>\n",
              "      <button class=\"colab-df-convert\" onclick=\"convertToInteractive('df-4aae7c5f-f19d-4f67-9829-d1134f20fd00')\"\n",
              "              title=\"Convert this dataframe to an interactive table.\"\n",
              "              style=\"display:none;\">\n",
              "        \n",
              "  <svg xmlns=\"http://www.w3.org/2000/svg\" height=\"24px\"viewBox=\"0 0 24 24\"\n",
              "       width=\"24px\">\n",
              "    <path d=\"M0 0h24v24H0V0z\" fill=\"none\"/>\n",
              "    <path d=\"M18.56 5.44l.94 2.06.94-2.06 2.06-.94-2.06-.94-.94-2.06-.94 2.06-2.06.94zm-11 1L8.5 8.5l.94-2.06 2.06-.94-2.06-.94L8.5 2.5l-.94 2.06-2.06.94zm10 10l.94 2.06.94-2.06 2.06-.94-2.06-.94-.94-2.06-.94 2.06-2.06.94z\"/><path d=\"M17.41 7.96l-1.37-1.37c-.4-.4-.92-.59-1.43-.59-.52 0-1.04.2-1.43.59L10.3 9.45l-7.72 7.72c-.78.78-.78 2.05 0 2.83L4 21.41c.39.39.9.59 1.41.59.51 0 1.02-.2 1.41-.59l7.78-7.78 2.81-2.81c.8-.78.8-2.07 0-2.86zM5.41 20L4 18.59l7.72-7.72 1.47 1.35L5.41 20z\"/>\n",
              "  </svg>\n",
              "      </button>\n",
              "      \n",
              "  <style>\n",
              "    .colab-df-container {\n",
              "      display:flex;\n",
              "      flex-wrap:wrap;\n",
              "      gap: 12px;\n",
              "    }\n",
              "\n",
              "    .colab-df-convert {\n",
              "      background-color: #E8F0FE;\n",
              "      border: none;\n",
              "      border-radius: 50%;\n",
              "      cursor: pointer;\n",
              "      display: none;\n",
              "      fill: #1967D2;\n",
              "      height: 32px;\n",
              "      padding: 0 0 0 0;\n",
              "      width: 32px;\n",
              "    }\n",
              "\n",
              "    .colab-df-convert:hover {\n",
              "      background-color: #E2EBFA;\n",
              "      box-shadow: 0px 1px 2px rgba(60, 64, 67, 0.3), 0px 1px 3px 1px rgba(60, 64, 67, 0.15);\n",
              "      fill: #174EA6;\n",
              "    }\n",
              "\n",
              "    [theme=dark] .colab-df-convert {\n",
              "      background-color: #3B4455;\n",
              "      fill: #D2E3FC;\n",
              "    }\n",
              "\n",
              "    [theme=dark] .colab-df-convert:hover {\n",
              "      background-color: #434B5C;\n",
              "      box-shadow: 0px 1px 3px 1px rgba(0, 0, 0, 0.15);\n",
              "      filter: drop-shadow(0px 1px 2px rgba(0, 0, 0, 0.3));\n",
              "      fill: #FFFFFF;\n",
              "    }\n",
              "  </style>\n",
              "\n",
              "      <script>\n",
              "        const buttonEl =\n",
              "          document.querySelector('#df-4aae7c5f-f19d-4f67-9829-d1134f20fd00 button.colab-df-convert');\n",
              "        buttonEl.style.display =\n",
              "          google.colab.kernel.accessAllowed ? 'block' : 'none';\n",
              "\n",
              "        async function convertToInteractive(key) {\n",
              "          const element = document.querySelector('#df-4aae7c5f-f19d-4f67-9829-d1134f20fd00');\n",
              "          const dataTable =\n",
              "            await google.colab.kernel.invokeFunction('convertToInteractive',\n",
              "                                                     [key], {});\n",
              "          if (!dataTable) return;\n",
              "\n",
              "          const docLinkHtml = 'Like what you see? Visit the ' +\n",
              "            '<a target=\"_blank\" href=https://colab.research.google.com/notebooks/data_table.ipynb>data table notebook</a>'\n",
              "            + ' to learn more about interactive tables.';\n",
              "          element.innerHTML = '';\n",
              "          dataTable['output_type'] = 'display_data';\n",
              "          await google.colab.output.renderOutput(dataTable, element);\n",
              "          const docLink = document.createElement('div');\n",
              "          docLink.innerHTML = docLinkHtml;\n",
              "          element.appendChild(docLink);\n",
              "        }\n",
              "      </script>\n",
              "    </div>\n",
              "  </div>\n",
              "  "
            ]
          },
          "metadata": {},
          "execution_count": 117
        }
      ],
      "source": [
        "df.describe()"
      ]
    },
    {
      "cell_type": "markdown",
      "metadata": {
        "id": "ZSRLI70baa_i"
      },
      "source": [
        "Podemos tambêm verificar que não se tem a presença de outliners, já que a diferença de 75% para Max está dentro da variação existente entre os quartz."
      ]
    },
    {
      "cell_type": "code",
      "source": [
        "#Colocar o grafico violino "
      ],
      "metadata": {
        "id": "9BqkTuCJce5o"
      },
      "execution_count": 118,
      "outputs": []
    },
    {
      "cell_type": "code",
      "execution_count": 119,
      "metadata": {
        "id": "JiXlGg0_pJSO"
      },
      "outputs": [],
      "source": [
        "#Mudando PaymentMethods\n",
        "\n",
        "df.PaymentMethod = df.PaymentMethod.replace(['Bank transfer (automatic)','Credit card (automatic)'],['Bank transfer','Credit card'])"
      ]
    },
    {
      "cell_type": "markdown",
      "source": [
        "Essa mudança foi realizada apenas para melhor compreensão e estetica da coluna.\n"
      ],
      "metadata": {
        "id": "xaNHbdHqckZh"
      }
    },
    {
      "cell_type": "code",
      "execution_count": 120,
      "metadata": {
        "colab": {
          "base_uri": "https://localhost:8080/",
          "height": 369
        },
        "id": "zCPuXAWRptVf",
        "outputId": "e69a84b8-e477-4046-fdbd-4b2adcc0a237"
      },
      "outputs": [
        {
          "output_type": "stream",
          "name": "stdout",
          "text": [
            "No     5163\n",
            "Yes    1869\n",
            "Name: Churn, dtype: int64\n"
          ]
        },
        {
          "output_type": "display_data",
          "data": {
            "text/plain": [
              "<Figure size 432x288 with 1 Axes>"
            ],
            "image/png": "[encoded data removed]"
          },
          "metadata": {
            "needs_background": "light"
          }
        }
      ],
      "source": [
        "#Verificando os SIM e Não da coluna churn\n",
        "\n",
        "fig,ax = plt.subplots(nrows= 1, ncols = 1, figsize = (6,4))\n",
        "sns.countplot(x = df.Churn, data = df)\n",
        "\n",
        "ax.set_title('Quantidade de YES e No',\n",
        "             fontsize = 15,\n",
        "             color = 'black',\n",
        "             loc = 'center',\n",
        "             pad = 20)\n",
        "ax.set_xlabel ('CHURN', fontsize = 12)\n",
        "ax.set_ylabel ('Nº DE OCORRENCÊNCIAS', fontsize = 12)\n",
        "\n",
        "ax.spines['top'].set_visible(False)\n",
        "ax.spines['right'].set_visible(False)\n",
        "\n",
        "print(df.Churn.value_counts())"
      ]
    },
    {
      "cell_type": "markdown",
      "source": [
        "Fazendo uma analise um pouco mais detalhada, eu resolvi não balancear o dataset em relação a quantidade de \"yes\" e \"no\", isso se deu devido a cada 1x \"yes\" eu tenho 3x \"No\", sendo essa diferença não sendo tão discrepante e não influênciando tanto assim no nosso resultado final.\n",
        "\n",
        "5163/1869 = 2,76 =~ 3"
      ],
      "metadata": {
        "id": "_rFUmkksdkEo"
      }
    },
    {
      "cell_type": "markdown",
      "metadata": {
        "id": "u7gN1TbmuP6b"
      },
      "source": [
        "#Ajustando os dados"
      ]
    },
    {
      "cell_type": "markdown",
      "source": [
        "Nessa situação estamos apenas verificando a quantidade de vezes que cada valor unico das colunas do tipo \"objeto\" se relacionam com os valores unicos da coluna \"Churn\" (\"Yes\",\"No\"). Ou seja quantas vez cada valor unico da coluna aparece quando a coluna \"Churn\" é \"No\" ou \"Yes\"\n"
      ],
      "metadata": {
        "id": "Pwlc79tifHxQ"
      }
    },
    {
      "cell_type": "code",
      "execution_count": 121,
      "metadata": {
        "colab": {
          "base_uri": "https://localhost:8080/"
        },
        "id": "MCYZ61S8uPKL",
        "outputId": "04f203ec-a154-45ee-ca8a-ce93e66a3c0a"
      },
      "outputs": [
        {
          "output_type": "stream",
          "name": "stdout",
          "text": [
            "Churn                        No        Yes\n",
            "gender SeniorCitizen                      \n",
            "Female 0              76.020583  23.979417\n",
            "       1              57.746479  42.253521\n",
            "Male   0              76.672269  23.327731\n",
            "       1              58.885017  41.114983\n",
            "Churn     No  Yes\n",
            "gender           \n",
            "Female  2544  939\n",
            "Male    2619  930\n"
          ]
        }
      ],
      "source": [
        "print(pd.crosstab([df.gender,df.SeniorCitizen],df.Churn).apply(lambda x: x/x.sum()*100, axis=1))\n",
        "print(pd.crosstab(df.gender,df.Churn))"
      ]
    },
    {
      "cell_type": "code",
      "execution_count": 122,
      "metadata": {
        "colab": {
          "base_uri": "https://localhost:8080/"
        },
        "id": "YhHRPlzd02U7",
        "outputId": "d6a91fb5-bf55-47d4-a07c-358c0aa5dd93"
      },
      "outputs": [
        {
          "output_type": "stream",
          "name": "stdout",
          "text": [
            "------------\n",
            "Churn     No  Yes\n",
            "gender           \n",
            "Female  2544  939\n",
            "Male    2619  930\n",
            "------------\n",
            "------------\n",
            "Churn      No   Yes\n",
            "Partner            \n",
            "No       2439  1200\n",
            "Yes      2724   669\n",
            "------------\n",
            "------------\n",
            "Churn         No   Yes\n",
            "Dependents            \n",
            "No          3390  1543\n",
            "Yes         1773   326\n",
            "------------\n",
            "------------\n",
            "Churn           No   Yes\n",
            "PhoneService            \n",
            "No             510   170\n",
            "Yes           4653  1699\n",
            "------------\n",
            "------------\n",
            "Churn               No  Yes\n",
            "MultipleLines              \n",
            "No                2536  849\n",
            "No phone service   510  170\n",
            "Yes               2117  850\n",
            "------------\n",
            "------------\n",
            "Churn              No   Yes\n",
            "InternetService            \n",
            "DSL              1957   459\n",
            "Fiber optic      1799  1297\n",
            "No               1407   113\n",
            "------------\n",
            "------------\n",
            "Churn                  No   Yes\n",
            "OnlineSecurity                 \n",
            "No                   2036  1461\n",
            "No internet service  1407   113\n",
            "Yes                  1720   295\n",
            "------------\n",
            "------------\n",
            "Churn                  No   Yes\n",
            "OnlineBackup                   \n",
            "No                   1854  1233\n",
            "No internet service  1407   113\n",
            "Yes                  1902   523\n",
            "------------\n",
            "------------\n",
            "Churn                  No   Yes\n",
            "DeviceProtection               \n",
            "No                   1883  1211\n",
            "No internet service  1407   113\n",
            "Yes                  1873   545\n",
            "------------\n",
            "------------\n",
            "Churn                  No   Yes\n",
            "TechSupport                    \n",
            "No                   2026  1446\n",
            "No internet service  1407   113\n",
            "Yes                  1730   310\n",
            "------------\n",
            "------------\n",
            "Churn                  No  Yes\n",
            "StreamingTV                   \n",
            "No                   1867  942\n",
            "No internet service  1407  113\n",
            "Yes                  1889  814\n",
            "------------\n",
            "------------\n",
            "Churn                  No  Yes\n",
            "StreamingMovies               \n",
            "No                   1843  938\n",
            "No internet service  1407  113\n",
            "Yes                  1913  818\n",
            "------------\n",
            "------------\n",
            "Churn             No   Yes\n",
            "Contract                  \n",
            "Month-to-month  2220  1655\n",
            "One year        1306   166\n",
            "Two year        1637    48\n",
            "------------\n",
            "------------\n",
            "Churn               No   Yes\n",
            "PaperlessBilling            \n",
            "No                2395   469\n",
            "Yes               2768  1400\n",
            "------------\n",
            "------------\n",
            "Churn               No   Yes\n",
            "PaymentMethod               \n",
            "Bank transfer     1284   258\n",
            "Credit card       1289   232\n",
            "Electronic check  1294  1071\n",
            "Mailed check      1296   308\n",
            "------------\n"
          ]
        }
      ],
      "source": [
        "for coluna in df.columns:\n",
        "  if df[coluna].dtypes == 'object' and df[coluna] is not (df['Churn']) and df[coluna] is not (df['customerID']) :\n",
        "    print(\"------------\")\n",
        "    print(pd.crosstab(df[coluna],df.Churn))\n",
        "    print(\"------------\")"
      ]
    },
    {
      "cell_type": "code",
      "execution_count": 123,
      "metadata": {
        "id": "OUe-A9XPAe5c"
      },
      "outputs": [],
      "source": [
        "from numpy.core.fromnumeric import size\n",
        "import math\n",
        "def plot_bar (list):\n",
        "\n",
        "  lista=[]\n",
        "  lista.extend(list)\n",
        "\n",
        "  nrow = math.ceil((len(lista)/2))\n",
        "  \n",
        "  fig,ax = plt.subplots(nrows= nrow, ncols = 2, figsize = (30,15))\n",
        "\n",
        "  index = 0\n",
        "  ax = ax.ravel()\n",
        "\n",
        "  for coluna in lista :\n",
        "    if df[coluna].dtypes == 'object' and df[coluna] is not (df['Churn']):\n",
        "      pd.crosstab(df[coluna],df.Churn).plot(kind = 'bar', ax=ax[index], stacked = True,\n",
        "                                            rot = 0, color = ['springgreen','salmon'])\n",
        "      \n",
        "      #title\n",
        "      ax[index].set_title('Proportion of observations by ' + coluna,\n",
        "                     fontsize=20, loc='center')\n",
        "       \n",
        "      #Spine\n",
        "      ax[index].spines['top'].set_visible(False)\n",
        "      ax[index].spines['right'].set_visible(False)\n",
        "\n",
        "      #Legend\n",
        "      ax[index].legend(loc=\"upper right\", bbox_to_anchor=(0.55, 0.5,0.5,0.5),\n",
        "                  title='Churn', fancybox=True,fontsize = 17)\n",
        "\n",
        "      ax[index].tick_params(rotation='auto')\n",
        "      index += 1\n",
        "      fig.tight_layout()"
      ]
    },
    {
      "cell_type": "code",
      "execution_count": 124,
      "metadata": {
        "colab": {
          "base_uri": "https://localhost:8080/",
          "height": 712
        },
        "id": "CnlTvswqfNMi",
        "outputId": "010c1305-726b-4184-d3b5-9ad066565071"
      },
      "outputs": [
        {
          "output_type": "display_data",
          "data": {
            "text/plain": [
              "<Figure size 2160x1080 with 4 Axes>"
            ],
            "image/png": "[encoded data removed]"
          },
          "metadata": {
            "needs_background": "light"
          }
        }
      ],
      "source": [
        "demographic_columns = ['gender', 'SeniorCitizen', 'Partner', 'Dependents']\n",
        "\n",
        "plot_bar(demographic_columns)"
      ]
    },
    {
      "cell_type": "markdown",
      "metadata": {
        "id": "tNhijE3C5Fno"
      },
      "source": [
        "Ideias retiradas do analise gráfico:\n",
        "- O gênero não tem influência na saida ou permanência na companhia;\n",
        "- Pessoas com parceiros tem uma tendência um pouco maior de permanecer na companhia.\n",
        "- Pessoas sem dependentes(filhos/agregados/amigos) dividindo a conta tem uma tendência maior a sair da empresa."
      ]
    },
    {
      "cell_type": "code",
      "execution_count": 125,
      "metadata": {
        "colab": {
          "base_uri": "https://localhost:8080/",
          "height": 712
        },
        "id": "OCcwq_-nnT0g",
        "outputId": "ffeab563-94eb-47aa-9744-e104696716ae"
      },
      "outputs": [
        {
          "output_type": "display_data",
          "data": {
            "text/plain": [
              "<Figure size 2160x1080 with 10 Axes>"
            ],
            "image/png": "[encoded data removed]"
          },
          "metadata": {
            "needs_background": "light"
          }
        }
      ],
      "source": [
        "services = ['PhoneService', 'MultipleLines', 'InternetService',\n",
        "       'OnlineSecurity', 'OnlineBackup', 'DeviceProtection', 'TechSupport',\n",
        "       'StreamingTV', 'StreamingMovies']\n",
        "\n",
        "plot_bar(services)"
      ]
    },
    {
      "cell_type": "markdown",
      "metadata": {
        "id": "2P3tJjwF6FfB"
      },
      "source": [
        "Resusltados:]\n",
        "- O serviço telefonico não influêmcia tanto na saida do cliênte;\n",
        "- O serviço de fibra optica é o algo que deve ser visto e analisado pela empresa, já que o serviço de melhor qualidade dela(fibra optica) está tendo uma taxa de churn maior que o dre internet discada[algo que devemos procurar]\n",
        "- Serviços que não tem suporte tecnico, proteção extra e backup online são aqueles com maior taxa de desistência. [Melhorar os pacotes com esses serviços]\n",
        "- Serviços de streaming ajudam bastante em manter os clientes na empresa."
      ]
    },
    {
      "cell_type": "code",
      "execution_count": 126,
      "metadata": {
        "colab": {
          "base_uri": "https://localhost:8080/",
          "height": 712
        },
        "id": "74Cw79Tzzalj",
        "outputId": "c6cafa53-2782-4f20-8152-f36094016e32"
      },
      "outputs": [
        {
          "output_type": "display_data",
          "data": {
            "text/plain": [
              "<Figure size 2160x1080 with 4 Axes>"
            ],
            "image/png": "[encoded data removed]"
          },
          "metadata": {
            "needs_background": "light"
          }
        }
      ],
      "source": [
        "contract = ['Contract', 'PaperlessBilling',\n",
        "       'PaymentMethod', 'MonthlyCharges']\n",
        "\n",
        "plot_bar(contract)"
      ]
    },
    {
      "cell_type": "markdown",
      "metadata": {
        "id": "K4yav6Z-sdSh"
      },
      "source": [
        "- Contratos feitos mensalmente são mais faceis e tem maior probabilidade da pessoa cancelar durante o uso;\n",
        "- Pagamento que são enviados boletos ou se utilizam papel também tem um grnade influência no chrurn de clientes;\n",
        "- A utilização de cheque eletronico tem quase 50% de possibilidade de ter um churn (40%)"
      ]
    },
    {
      "cell_type": "markdown",
      "metadata": {
        "id": "YgaH30v2tj1O"
      },
      "source": [
        "MODIFICAÇÕES A SEREME FEITAS NOS GRÁFICOS:\n",
        "- Colocar a porcentagem nos graficos\n",
        "- Aumentar os titulos e sticks\n"
      ]
    },
    {
      "cell_type": "markdown",
      "metadata": {
        "id": "HQUj5OV4t2tL"
      },
      "source": [
        "Brainstorm:\n",
        "- Como ja tenho os valores que eu quero chegar, utilizarei uma abordagem de Aprendizado Supervisionado, onde minha coluna a ser utilizada será a \"Churn\", com essa conseguirei utilizar as outras colunas para que se tenha um aprendizado da maquina.\n",
        "\n",
        "- Ideias para se utilizar no projeto:\n",
        "    - Eu quero saber o quanto o a falta desses serviços influênciam na saida do serviço de telefonia;\n",
        "\n",
        "- Na minha consepção não será necessario balancear nenhuma coluna."
      ]
    },
    {
      "cell_type": "markdown",
      "metadata": {
        "id": "GA4Qf55vvvS1"
      },
      "source": [
        "#Lidando com variáveis Catégoricas"
      ]
    },
    {
      "cell_type": "markdown",
      "metadata": {
        "id": "sKkVoNzg6BJO"
      },
      "source": [
        "Fazendo a analise dos dados, foi constatado que a coluna 'CustomerId' não irá influenciar em nada nosso estudo, então para evitar quaisquer problemas a coluna será retirada."
      ]
    },
    {
      "cell_type": "code",
      "execution_count": 127,
      "metadata": {
        "id": "iKBhTebo5_0q"
      },
      "outputs": [],
      "source": [
        "df = df.drop(columns = 'customerID')"
      ]
    },
    {
      "cell_type": "markdown",
      "metadata": {
        "id": "LyAaSNHs1i7P"
      },
      "source": [
        "Transformando todos os 'sim' e 'não' e 'man' e 'femele' em numeros binarios."
      ]
    },
    {
      "cell_type": "markdown",
      "source": [
        "Na analise feita as colunas que possuem 3 variaveis, sendo duas delas negativas uma delas pode ser padronizada com a outra já que as duas representam a mesma situação. Facilitando assim o estudo."
      ],
      "metadata": {
        "id": "KMm7w5GWdiYD"
      }
    },
    {
      "cell_type": "code",
      "source": [
        "for i in df.columns:\n",
        "  if len(df[i].unique()) == 3:\n",
        "    df[i] = df[i].replace('No phone service','No')\n",
        "    df[i] = df[i].replace('No internet service','No')"
      ],
      "metadata": {
        "id": "csqPWOvniAGN"
      },
      "execution_count": 128,
      "outputs": []
    },
    {
      "cell_type": "markdown",
      "source": [
        "Para melhor organização as colunas serão separadas por tipos, aquelas  não binarias serão separadas em uma lista com nome 'Dummies', as colunas do tipo numeral serão separadas em uma lista e o restante serão transformadas em binárias.\n",
        "\n",
        "Esssas listas criadas serão utilizadas mais na frente para possiveis ajustes."
      ],
      "metadata": {
        "id": "d9EK1VxmlYEz"
      }
    },
    {
      "cell_type": "code",
      "execution_count": 129,
      "metadata": {
        "id": "Ki8lfpLk19cF"
      },
      "outputs": [],
      "source": [
        "coluna_dummies = []\n",
        "coluna_numeral = []\n",
        "for i in df.columns:\n",
        "  if df[i] is df.gender:\n",
        "    df.gender = df.gender.replace(['Female','Male'],[0,1])\n",
        "  else:\n",
        "    if len(df[i].unique()) == 2:\n",
        "      df[i] = df[i].replace(['Yes','No'],[1,0])\n",
        "    elif df[i].dtypes == 'object' and df[i] is not (df['Churn']):\n",
        "      coluna_dummies.append(i)\n",
        "    else:\n",
        "      df[i] = df[i]\n",
        "      coluna_numeral.append(i)"
      ]
    },
    {
      "cell_type": "markdown",
      "metadata": {
        "id": "RX4ToiVP-IDE"
      },
      "source": [
        "- Como foi observado ao durante a analise dos dados, algumas colunas não tem apenas dois valores unicos([sim ou nao] e [female e man]). Para tratar esse tipo de coluna com mais exatidão, já que nenhum valor é mais importante que o outro, vou utilizar o get_dummies, pois serão criadas novas colunas para cada valor da coluna e com isso eu poderei transformar em binarios para melhor comprenssão da maquina."
      ]
    },
    {
      "cell_type": "code",
      "source": [
        "from sklearn.preprocessing import StandardScaler\n",
        "\n",
        "std = StandardScaler()\n",
        "\n",
        "std.fit(df[coluna_numeral])\n",
        "\n",
        "df[coluna_numeral] = std.transform(df[coluna_numeral])"
      ],
      "metadata": {
        "id": "gdTnxL32iwS2"
      },
      "execution_count": 130,
      "outputs": []
    },
    {
      "cell_type": "code",
      "source": [
        "df.head()"
      ],
      "metadata": {
        "colab": {
          "base_uri": "https://localhost:8080/",
          "height": 0
        },
        "id": "IZY36YHPkK6T",
        "outputId": "437379f0-836a-4eed-9c30-403daf12f226"
      },
      "execution_count": 131,
      "outputs": [
        {
          "output_type": "execute_result",
          "data": {
            "text/plain": [
              "   gender  SeniorCitizen  Partner  Dependents    tenure  PhoneService  \\\n",
              "0       0              0        1           0 -1.280248             0   \n",
              "1       1              0        0           0  0.064303             1   \n",
              "2       1              0        0           0 -1.239504             1   \n",
              "3       1              0        0           0  0.512486             0   \n",
              "4       0              0        0           0 -1.239504             1   \n",
              "\n",
              "   MultipleLines InternetService  OnlineSecurity  OnlineBackup  \\\n",
              "0              0             DSL               0             1   \n",
              "1              0             DSL               1             0   \n",
              "2              0             DSL               1             1   \n",
              "3              0             DSL               1             0   \n",
              "4              0     Fiber optic               0             0   \n",
              "\n",
              "   DeviceProtection  TechSupport  StreamingTV  StreamingMovies  \\\n",
              "0                 0            0            0                0   \n",
              "1                 1            0            0                0   \n",
              "2                 0            0            0                0   \n",
              "3                 1            1            0                0   \n",
              "4                 0            0            0                0   \n",
              "\n",
              "         Contract  PaperlessBilling     PaymentMethod  MonthlyCharges  \\\n",
              "0  Month-to-month                 1  Electronic check       -1.161694   \n",
              "1        One year                 0      Mailed check       -0.260878   \n",
              "2  Month-to-month                 1      Mailed check       -0.363923   \n",
              "3        One year                 0     Bank transfer       -0.747850   \n",
              "4  Month-to-month                 1  Electronic check        0.196178   \n",
              "\n",
              "   TotalCharges  Churn  \n",
              "0     -0.994194      0  \n",
              "1     -0.173740      0  \n",
              "2     -0.959649      1  \n",
              "3     -0.195248      0  \n",
              "4     -0.940457      1  "
            ],
            "text/html": [
              "\n",
              "  <div id=\"df-fc75fc3f-a2f5-48e7-943e-060abde2c508\">\n",
              "    <div class=\"colab-df-container\">\n",
              "      <div>\n",
              "<style scoped>\n",
              "    .dataframe tbody tr th:only-of-type {\n",
              "        vertical-align: middle;\n",
              "    }\n",
              "\n",
              "    .dataframe tbody tr th {\n",
              "        vertical-align: top;\n",
              "    }\n",
              "\n",
              "    .dataframe thead th {\n",
              "        text-align: right;\n",
              "    }\n",
              "</style>\n",
              "<table border=\"1\" class=\"dataframe\">\n",
              "  <thead>\n",
              "    <tr style=\"text-align: right;\">\n",
              "      <th></th>\n",
              "      <th>gender</th>\n",
              "      <th>SeniorCitizen</th>\n",
              "      <th>Partner</th>\n",
              "      <th>Dependents</th>\n",
              "      <th>tenure</th>\n",
              "      <th>PhoneService</th>\n",
              "      <th>MultipleLines</th>\n",
              "      <th>InternetService</th>\n",
              "      <th>OnlineSecurity</th>\n",
              "      <th>OnlineBackup</th>\n",
              "      <th>DeviceProtection</th>\n",
              "      <th>TechSupport</th>\n",
              "      <th>StreamingTV</th>\n",
              "      <th>StreamingMovies</th>\n",
              "      <th>Contract</th>\n",
              "      <th>PaperlessBilling</th>\n",
              "      <th>PaymentMethod</th>\n",
              "      <th>MonthlyCharges</th>\n",
              "      <th>TotalCharges</th>\n",
              "      <th>Churn</th>\n",
              "    </tr>\n",
              "  </thead>\n",
              "  <tbody>\n",
              "    <tr>\n",
              "      <th>0</th>\n",
              "      <td>0</td>\n",
              "      <td>0</td>\n",
              "      <td>1</td>\n",
              "      <td>0</td>\n",
              "      <td>-1.280248</td>\n",
              "      <td>0</td>\n",
              "      <td>0</td>\n",
              "      <td>DSL</td>\n",
              "      <td>0</td>\n",
              "      <td>1</td>\n",
              "      <td>0</td>\n",
              "      <td>0</td>\n",
              "      <td>0</td>\n",
              "      <td>0</td>\n",
              "      <td>Month-to-month</td>\n",
              "      <td>1</td>\n",
              "      <td>Electronic check</td>\n",
              "      <td>-1.161694</td>\n",
              "      <td>-0.994194</td>\n",
              "      <td>0</td>\n",
              "    </tr>\n",
              "    <tr>\n",
              "      <th>1</th>\n",
              "      <td>1</td>\n",
              "      <td>0</td>\n",
              "      <td>0</td>\n",
              "      <td>0</td>\n",
              "      <td>0.064303</td>\n",
              "      <td>1</td>\n",
              "      <td>0</td>\n",
              "      <td>DSL</td>\n",
              "      <td>1</td>\n",
              "      <td>0</td>\n",
              "      <td>1</td>\n",
              "      <td>0</td>\n",
              "      <td>0</td>\n",
              "      <td>0</td>\n",
              "      <td>One year</td>\n",
              "      <td>0</td>\n",
              "      <td>Mailed check</td>\n",
              "      <td>-0.260878</td>\n",
              "      <td>-0.173740</td>\n",
              "      <td>0</td>\n",
              "    </tr>\n",
              "    <tr>\n",
              "      <th>2</th>\n",
              "      <td>1</td>\n",
              "      <td>0</td>\n",
              "      <td>0</td>\n",
              "      <td>0</td>\n",
              "      <td>-1.239504</td>\n",
              "      <td>1</td>\n",
              "      <td>0</td>\n",
              "      <td>DSL</td>\n",
              "      <td>1</td>\n",
              "      <td>1</td>\n",
              "      <td>0</td>\n",
              "      <td>0</td>\n",
              "      <td>0</td>\n",
              "      <td>0</td>\n",
              "      <td>Month-to-month</td>\n",
              "      <td>1</td>\n",
              "      <td>Mailed check</td>\n",
              "      <td>-0.363923</td>\n",
              "      <td>-0.959649</td>\n",
              "      <td>1</td>\n",
              "    </tr>\n",
              "    <tr>\n",
              "      <th>3</th>\n",
              "      <td>1</td>\n",
              "      <td>0</td>\n",
              "      <td>0</td>\n",
              "      <td>0</td>\n",
              "      <td>0.512486</td>\n",
              "      <td>0</td>\n",
              "      <td>0</td>\n",
              "      <td>DSL</td>\n",
              "      <td>1</td>\n",
              "      <td>0</td>\n",
              "      <td>1</td>\n",
              "      <td>1</td>\n",
              "      <td>0</td>\n",
              "      <td>0</td>\n",
              "      <td>One year</td>\n",
              "      <td>0</td>\n",
              "      <td>Bank transfer</td>\n",
              "      <td>-0.747850</td>\n",
              "      <td>-0.195248</td>\n",
              "      <td>0</td>\n",
              "    </tr>\n",
              "    <tr>\n",
              "      <th>4</th>\n",
              "      <td>0</td>\n",
              "      <td>0</td>\n",
              "      <td>0</td>\n",
              "      <td>0</td>\n",
              "      <td>-1.239504</td>\n",
              "      <td>1</td>\n",
              "      <td>0</td>\n",
              "      <td>Fiber optic</td>\n",
              "      <td>0</td>\n",
              "      <td>0</td>\n",
              "      <td>0</td>\n",
              "      <td>0</td>\n",
              "      <td>0</td>\n",
              "      <td>0</td>\n",
              "      <td>Month-to-month</td>\n",
              "      <td>1</td>\n",
              "      <td>Electronic check</td>\n",
              "      <td>0.196178</td>\n",
              "      <td>-0.940457</td>\n",
              "      <td>1</td>\n",
              "    </tr>\n",
              "  </tbody>\n",
              "</table>\n",
              "</div>\n",
              "      <button class=\"colab-df-convert\" onclick=\"convertToInteractive('df-fc75fc3f-a2f5-48e7-943e-060abde2c508')\"\n",
              "              title=\"Convert this dataframe to an interactive table.\"\n",
              "              style=\"display:none;\">\n",
              "        \n",
              "  <svg xmlns=\"http://www.w3.org/2000/svg\" height=\"24px\"viewBox=\"0 0 24 24\"\n",
              "       width=\"24px\">\n",
              "    <path d=\"M0 0h24v24H0V0z\" fill=\"none\"/>\n",
              "    <path d=\"M18.56 5.44l.94 2.06.94-2.06 2.06-.94-2.06-.94-.94-2.06-.94 2.06-2.06.94zm-11 1L8.5 8.5l.94-2.06 2.06-.94-2.06-.94L8.5 2.5l-.94 2.06-2.06.94zm10 10l.94 2.06.94-2.06 2.06-.94-2.06-.94-.94-2.06-.94 2.06-2.06.94z\"/><path d=\"M17.41 7.96l-1.37-1.37c-.4-.4-.92-.59-1.43-.59-.52 0-1.04.2-1.43.59L10.3 9.45l-7.72 7.72c-.78.78-.78 2.05 0 2.83L4 21.41c.39.39.9.59 1.41.59.51 0 1.02-.2 1.41-.59l7.78-7.78 2.81-2.81c.8-.78.8-2.07 0-2.86zM5.41 20L4 18.59l7.72-7.72 1.47 1.35L5.41 20z\"/>\n",
              "  </svg>\n",
              "      </button>\n",
              "      \n",
              "  <style>\n",
              "    .colab-df-container {\n",
              "      display:flex;\n",
              "      flex-wrap:wrap;\n",
              "      gap: 12px;\n",
              "    }\n",
              "\n",
              "    .colab-df-convert {\n",
              "      background-color: #E8F0FE;\n",
              "      border: none;\n",
              "      border-radius: 50%;\n",
              "      cursor: pointer;\n",
              "      display: none;\n",
              "      fill: #1967D2;\n",
              "      height: 32px;\n",
              "      padding: 0 0 0 0;\n",
              "      width: 32px;\n",
              "    }\n",
              "\n",
              "    .colab-df-convert:hover {\n",
              "      background-color: #E2EBFA;\n",
              "      box-shadow: 0px 1px 2px rgba(60, 64, 67, 0.3), 0px 1px 3px 1px rgba(60, 64, 67, 0.15);\n",
              "      fill: #174EA6;\n",
              "    }\n",
              "\n",
              "    [theme=dark] .colab-df-convert {\n",
              "      background-color: #3B4455;\n",
              "      fill: #D2E3FC;\n",
              "    }\n",
              "\n",
              "    [theme=dark] .colab-df-convert:hover {\n",
              "      background-color: #434B5C;\n",
              "      box-shadow: 0px 1px 3px 1px rgba(0, 0, 0, 0.15);\n",
              "      filter: drop-shadow(0px 1px 2px rgba(0, 0, 0, 0.3));\n",
              "      fill: #FFFFFF;\n",
              "    }\n",
              "  </style>\n",
              "\n",
              "      <script>\n",
              "        const buttonEl =\n",
              "          document.querySelector('#df-fc75fc3f-a2f5-48e7-943e-060abde2c508 button.colab-df-convert');\n",
              "        buttonEl.style.display =\n",
              "          google.colab.kernel.accessAllowed ? 'block' : 'none';\n",
              "\n",
              "        async function convertToInteractive(key) {\n",
              "          const element = document.querySelector('#df-fc75fc3f-a2f5-48e7-943e-060abde2c508');\n",
              "          const dataTable =\n",
              "            await google.colab.kernel.invokeFunction('convertToInteractive',\n",
              "                                                     [key], {});\n",
              "          if (!dataTable) return;\n",
              "\n",
              "          const docLinkHtml = 'Like what you see? Visit the ' +\n",
              "            '<a target=\"_blank\" href=https://colab.research.google.com/notebooks/data_table.ipynb>data table notebook</a>'\n",
              "            + ' to learn more about interactive tables.';\n",
              "          element.innerHTML = '';\n",
              "          dataTable['output_type'] = 'display_data';\n",
              "          await google.colab.output.renderOutput(dataTable, element);\n",
              "          const docLink = document.createElement('div');\n",
              "          docLink.innerHTML = docLinkHtml;\n",
              "          element.appendChild(docLink);\n",
              "        }\n",
              "      </script>\n",
              "    </div>\n",
              "  </div>\n",
              "  "
            ]
          },
          "metadata": {},
          "execution_count": 131
        }
      ]
    },
    {
      "cell_type": "code",
      "execution_count": 132,
      "metadata": {
        "colab": {
          "base_uri": "https://localhost:8080/",
          "height": 0
        },
        "id": "NvFMitO_6uIt",
        "outputId": "0f5f838d-f2f4-4ecd-a7e4-4c8293b476c7"
      },
      "outputs": [
        {
          "output_type": "execute_result",
          "data": {
            "text/plain": [
              "   gender  SeniorCitizen  Partner  Dependents    tenure  PhoneService  \\\n",
              "0       0              0        1           0 -1.280248             0   \n",
              "1       1              0        0           0  0.064303             1   \n",
              "2       1              0        0           0 -1.239504             1   \n",
              "3       1              0        0           0  0.512486             0   \n",
              "4       0              0        0           0 -1.239504             1   \n",
              "\n",
              "   MultipleLines  OnlineSecurity  OnlineBackup  DeviceProtection  ...  \\\n",
              "0              0               0             1                 0  ...   \n",
              "1              0               1             0                 1  ...   \n",
              "2              0               1             1                 0  ...   \n",
              "3              0               1             0                 1  ...   \n",
              "4              0               0             0                 0  ...   \n",
              "\n",
              "   InternetService_DSL  InternetService_Fiber optic  InternetService_No  \\\n",
              "0                    1                            0                   0   \n",
              "1                    1                            0                   0   \n",
              "2                    1                            0                   0   \n",
              "3                    1                            0                   0   \n",
              "4                    0                            1                   0   \n",
              "\n",
              "   Contract_Month-to-month  Contract_One year  Contract_Two year  \\\n",
              "0                        1                  0                  0   \n",
              "1                        0                  1                  0   \n",
              "2                        1                  0                  0   \n",
              "3                        0                  1                  0   \n",
              "4                        1                  0                  0   \n",
              "\n",
              "   PaymentMethod_Bank transfer  PaymentMethod_Credit card  \\\n",
              "0                            0                          0   \n",
              "1                            0                          0   \n",
              "2                            0                          0   \n",
              "3                            1                          0   \n",
              "4                            0                          0   \n",
              "\n",
              "   PaymentMethod_Electronic check  PaymentMethod_Mailed check  \n",
              "0                               1                           0  \n",
              "1                               0                           1  \n",
              "2                               0                           1  \n",
              "3                               0                           0  \n",
              "4                               1                           0  \n",
              "\n",
              "[5 rows x 27 columns]"
            ],
            "text/html": [
              "\n",
              "  <div id=\"df-44b46011-9b07-46df-908a-1890e5f46d86\">\n",
              "    <div class=\"colab-df-container\">\n",
              "      <div>\n",
              "<style scoped>\n",
              "    .dataframe tbody tr th:only-of-type {\n",
              "        vertical-align: middle;\n",
              "    }\n",
              "\n",
              "    .dataframe tbody tr th {\n",
              "        vertical-align: top;\n",
              "    }\n",
              "\n",
              "    .dataframe thead th {\n",
              "        text-align: right;\n",
              "    }\n",
              "</style>\n",
              "<table border=\"1\" class=\"dataframe\">\n",
              "  <thead>\n",
              "    <tr style=\"text-align: right;\">\n",
              "      <th></th>\n",
              "      <th>gender</th>\n",
              "      <th>SeniorCitizen</th>\n",
              "      <th>Partner</th>\n",
              "      <th>Dependents</th>\n",
              "      <th>tenure</th>\n",
              "      <th>PhoneService</th>\n",
              "      <th>MultipleLines</th>\n",
              "      <th>OnlineSecurity</th>\n",
              "      <th>OnlineBackup</th>\n",
              "      <th>DeviceProtection</th>\n",
              "      <th>...</th>\n",
              "      <th>InternetService_DSL</th>\n",
              "      <th>InternetService_Fiber optic</th>\n",
              "      <th>InternetService_No</th>\n",
              "      <th>Contract_Month-to-month</th>\n",
              "      <th>Contract_One year</th>\n",
              "      <th>Contract_Two year</th>\n",
              "      <th>PaymentMethod_Bank transfer</th>\n",
              "      <th>PaymentMethod_Credit card</th>\n",
              "      <th>PaymentMethod_Electronic check</th>\n",
              "      <th>PaymentMethod_Mailed check</th>\n",
              "    </tr>\n",
              "  </thead>\n",
              "  <tbody>\n",
              "    <tr>\n",
              "      <th>0</th>\n",
              "      <td>0</td>\n",
              "      <td>0</td>\n",
              "      <td>1</td>\n",
              "      <td>0</td>\n",
              "      <td>-1.280248</td>\n",
              "      <td>0</td>\n",
              "      <td>0</td>\n",
              "      <td>0</td>\n",
              "      <td>1</td>\n",
              "      <td>0</td>\n",
              "      <td>...</td>\n",
              "      <td>1</td>\n",
              "      <td>0</td>\n",
              "      <td>0</td>\n",
              "      <td>1</td>\n",
              "      <td>0</td>\n",
              "      <td>0</td>\n",
              "      <td>0</td>\n",
              "      <td>0</td>\n",
              "      <td>1</td>\n",
              "      <td>0</td>\n",
              "    </tr>\n",
              "    <tr>\n",
              "      <th>1</th>\n",
              "      <td>1</td>\n",
              "      <td>0</td>\n",
              "      <td>0</td>\n",
              "      <td>0</td>\n",
              "      <td>0.064303</td>\n",
              "      <td>1</td>\n",
              "      <td>0</td>\n",
              "      <td>1</td>\n",
              "      <td>0</td>\n",
              "      <td>1</td>\n",
              "      <td>...</td>\n",
              "      <td>1</td>\n",
              "      <td>0</td>\n",
              "      <td>0</td>\n",
              "      <td>0</td>\n",
              "      <td>1</td>\n",
              "      <td>0</td>\n",
              "      <td>0</td>\n",
              "      <td>0</td>\n",
              "      <td>0</td>\n",
              "      <td>1</td>\n",
              "    </tr>\n",
              "    <tr>\n",
              "      <th>2</th>\n",
              "      <td>1</td>\n",
              "      <td>0</td>\n",
              "      <td>0</td>\n",
              "      <td>0</td>\n",
              "      <td>-1.239504</td>\n",
              "      <td>1</td>\n",
              "      <td>0</td>\n",
              "      <td>1</td>\n",
              "      <td>1</td>\n",
              "      <td>0</td>\n",
              "      <td>...</td>\n",
              "      <td>1</td>\n",
              "      <td>0</td>\n",
              "      <td>0</td>\n",
              "      <td>1</td>\n",
              "      <td>0</td>\n",
              "      <td>0</td>\n",
              "      <td>0</td>\n",
              "      <td>0</td>\n",
              "      <td>0</td>\n",
              "      <td>1</td>\n",
              "    </tr>\n",
              "    <tr>\n",
              "      <th>3</th>\n",
              "      <td>1</td>\n",
              "      <td>0</td>\n",
              "      <td>0</td>\n",
              "      <td>0</td>\n",
              "      <td>0.512486</td>\n",
              "      <td>0</td>\n",
              "      <td>0</td>\n",
              "      <td>1</td>\n",
              "      <td>0</td>\n",
              "      <td>1</td>\n",
              "      <td>...</td>\n",
              "      <td>1</td>\n",
              "      <td>0</td>\n",
              "      <td>0</td>\n",
              "      <td>0</td>\n",
              "      <td>1</td>\n",
              "      <td>0</td>\n",
              "      <td>1</td>\n",
              "      <td>0</td>\n",
              "      <td>0</td>\n",
              "      <td>0</td>\n",
              "    </tr>\n",
              "    <tr>\n",
              "      <th>4</th>\n",
              "      <td>0</td>\n",
              "      <td>0</td>\n",
              "      <td>0</td>\n",
              "      <td>0</td>\n",
              "      <td>-1.239504</td>\n",
              "      <td>1</td>\n",
              "      <td>0</td>\n",
              "      <td>0</td>\n",
              "      <td>0</td>\n",
              "      <td>0</td>\n",
              "      <td>...</td>\n",
              "      <td>0</td>\n",
              "      <td>1</td>\n",
              "      <td>0</td>\n",
              "      <td>1</td>\n",
              "      <td>0</td>\n",
              "      <td>0</td>\n",
              "      <td>0</td>\n",
              "      <td>0</td>\n",
              "      <td>1</td>\n",
              "      <td>0</td>\n",
              "    </tr>\n",
              "  </tbody>\n",
              "</table>\n",
              "<p>5 rows × 27 columns</p>\n",
              "</div>\n",
              "      <button class=\"colab-df-convert\" onclick=\"convertToInteractive('df-44b46011-9b07-46df-908a-1890e5f46d86')\"\n",
              "              title=\"Convert this dataframe to an interactive table.\"\n",
              "              style=\"display:none;\">\n",
              "        \n",
              "  <svg xmlns=\"http://www.w3.org/2000/svg\" height=\"24px\"viewBox=\"0 0 24 24\"\n",
              "       width=\"24px\">\n",
              "    <path d=\"M0 0h24v24H0V0z\" fill=\"none\"/>\n",
              "    <path d=\"M18.56 5.44l.94 2.06.94-2.06 2.06-.94-2.06-.94-.94-2.06-.94 2.06-2.06.94zm-11 1L8.5 8.5l.94-2.06 2.06-.94-2.06-.94L8.5 2.5l-.94 2.06-2.06.94zm10 10l.94 2.06.94-2.06 2.06-.94-2.06-.94-.94-2.06-.94 2.06-2.06.94z\"/><path d=\"M17.41 7.96l-1.37-1.37c-.4-.4-.92-.59-1.43-.59-.52 0-1.04.2-1.43.59L10.3 9.45l-7.72 7.72c-.78.78-.78 2.05 0 2.83L4 21.41c.39.39.9.59 1.41.59.51 0 1.02-.2 1.41-.59l7.78-7.78 2.81-2.81c.8-.78.8-2.07 0-2.86zM5.41 20L4 18.59l7.72-7.72 1.47 1.35L5.41 20z\"/>\n",
              "  </svg>\n",
              "      </button>\n",
              "      \n",
              "  <style>\n",
              "    .colab-df-container {\n",
              "      display:flex;\n",
              "      flex-wrap:wrap;\n",
              "      gap: 12px;\n",
              "    }\n",
              "\n",
              "    .colab-df-convert {\n",
              "      background-color: #E8F0FE;\n",
              "      border: none;\n",
              "      border-radius: 50%;\n",
              "      cursor: pointer;\n",
              "      display: none;\n",
              "      fill: #1967D2;\n",
              "      height: 32px;\n",
              "      padding: 0 0 0 0;\n",
              "      width: 32px;\n",
              "    }\n",
              "\n",
              "    .colab-df-convert:hover {\n",
              "      background-color: #E2EBFA;\n",
              "      box-shadow: 0px 1px 2px rgba(60, 64, 67, 0.3), 0px 1px 3px 1px rgba(60, 64, 67, 0.15);\n",
              "      fill: #174EA6;\n",
              "    }\n",
              "\n",
              "    [theme=dark] .colab-df-convert {\n",
              "      background-color: #3B4455;\n",
              "      fill: #D2E3FC;\n",
              "    }\n",
              "\n",
              "    [theme=dark] .colab-df-convert:hover {\n",
              "      background-color: #434B5C;\n",
              "      box-shadow: 0px 1px 3px 1px rgba(0, 0, 0, 0.15);\n",
              "      filter: drop-shadow(0px 1px 2px rgba(0, 0, 0, 0.3));\n",
              "      fill: #FFFFFF;\n",
              "    }\n",
              "  </style>\n",
              "\n",
              "      <script>\n",
              "        const buttonEl =\n",
              "          document.querySelector('#df-44b46011-9b07-46df-908a-1890e5f46d86 button.colab-df-convert');\n",
              "        buttonEl.style.display =\n",
              "          google.colab.kernel.accessAllowed ? 'block' : 'none';\n",
              "\n",
              "        async function convertToInteractive(key) {\n",
              "          const element = document.querySelector('#df-44b46011-9b07-46df-908a-1890e5f46d86');\n",
              "          const dataTable =\n",
              "            await google.colab.kernel.invokeFunction('convertToInteractive',\n",
              "                                                     [key], {});\n",
              "          if (!dataTable) return;\n",
              "\n",
              "          const docLinkHtml = 'Like what you see? Visit the ' +\n",
              "            '<a target=\"_blank\" href=https://colab.research.google.com/notebooks/data_table.ipynb>data table notebook</a>'\n",
              "            + ' to learn more about interactive tables.';\n",
              "          element.innerHTML = '';\n",
              "          dataTable['output_type'] = 'display_data';\n",
              "          await google.colab.output.renderOutput(dataTable, element);\n",
              "          const docLink = document.createElement('div');\n",
              "          docLink.innerHTML = docLinkHtml;\n",
              "          element.appendChild(docLink);\n",
              "        }\n",
              "      </script>\n",
              "    </div>\n",
              "  </div>\n",
              "  "
            ]
          },
          "metadata": {},
          "execution_count": 132
        }
      ],
      "source": [
        "df = pd.get_dummies(data = df, columns = coluna_dummies)\n",
        "df.head()"
      ]
    },
    {
      "cell_type": "markdown",
      "metadata": {
        "id": "0i-w-DWx9osL"
      },
      "source": [
        "Agora após todo o processo de tratamento dos dados, iremos iniciar o processo de aprendizado da maquina.\n"
      ]
    },
    {
      "cell_type": "markdown",
      "metadata": {
        "id": "kZPZUDVT_org"
      },
      "source": [
        "#Separando os dados para Teste e Treino"
      ]
    },
    {
      "cell_type": "code",
      "execution_count": 133,
      "metadata": {
        "id": "VWVj1aceAHnI"
      },
      "outputs": [],
      "source": [
        "X = df.drop('Churn', axis = 1)\n",
        "y = df.Churn"
      ]
    },
    {
      "cell_type": "code",
      "execution_count": 134,
      "metadata": {
        "id": "MCP_xsTuCQyO"
      },
      "outputs": [],
      "source": [
        "from sklearn.model_selection import train_test_split\n",
        "\n",
        "X_train,X_test,y_train,y_test = train_test_split(X, y, test_size = 0.2, random_state = 42)"
      ]
    },
    {
      "cell_type": "code",
      "execution_count": 135,
      "metadata": {
        "colab": {
          "base_uri": "https://localhost:8080/"
        },
        "id": "lvjgjQ6WDvzX",
        "outputId": "8681dc36-7613-44ba-987f-429cead5b84c"
      },
      "outputs": [
        {
          "output_type": "stream",
          "name": "stdout",
          "text": [
            "(5625, 26)\n",
            "(1407, 26)\n",
            "(5625,)\n",
            "(1407,)\n"
          ]
        }
      ],
      "source": [
        "print(X_train.shape)\n",
        "print(X_test.shape)\n",
        "print(y_train.shape)\n",
        "print(y_test.shape)"
      ]
    },
    {
      "cell_type": "code",
      "execution_count": 136,
      "metadata": {
        "colab": {
          "base_uri": "https://localhost:8080/"
        },
        "id": "U27qeoUjEzEZ",
        "outputId": "ef0f8fdb-36f7-4276-e173-004a20f8b218"
      },
      "outputs": [
        {
          "output_type": "stream",
          "name": "stdout",
          "text": [
            "0    4130\n",
            "1    1495\n",
            "Name: Churn, dtype: int64\n"
          ]
        }
      ],
      "source": [
        "print(pd.Series(y_train).value_counts())"
      ]
    },
    {
      "cell_type": "code",
      "execution_count": 137,
      "metadata": {
        "colab": {
          "base_uri": "https://localhost:8080/",
          "height": 0
        },
        "id": "BsRsCssiHXyB",
        "outputId": "2952d26b-3c2c-4ede-e14e-70b691127898"
      },
      "outputs": [
        {
          "output_type": "execute_result",
          "data": {
            "text/plain": [
              "                                  gender  SeniorCitizen   Partner  Dependents  \\\n",
              "gender                          1.000000      -0.001819 -0.001379    0.010349   \n",
              "SeniorCitizen                  -0.001819       1.000000  0.016957   -0.210550   \n",
              "Partner                        -0.001379       0.016957  1.000000    0.452269   \n",
              "Dependents                      0.010349      -0.210550  0.452269    1.000000   \n",
              "tenure                          0.005285       0.015683  0.381912    0.163386   \n",
              "PhoneService                   -0.007515       0.008392  0.018397   -0.001078   \n",
              "MultipleLines                  -0.008883       0.142996  0.142561   -0.024307   \n",
              "OnlineSecurity                 -0.016328      -0.038576  0.143346    0.080786   \n",
              "OnlineBackup                   -0.013093       0.066663  0.141849    0.023639   \n",
              "DeviceProtection               -0.000807       0.059514  0.153556    0.013900   \n",
              "TechSupport                    -0.008507      -0.060577  0.120206    0.063053   \n",
              "StreamingTV                    -0.007124       0.105445  0.124483   -0.016499   \n",
              "StreamingMovies                -0.010105       0.119842  0.118108   -0.038375   \n",
              "PaperlessBilling               -0.011902       0.156258 -0.013957   -0.110131   \n",
              "MonthlyCharges                 -0.013779       0.219874  0.097825   -0.112343   \n",
              "TotalCharges                    0.000048       0.102411  0.319072    0.064653   \n",
              "Churn                          -0.008545       0.150541 -0.149982   -0.163128   \n",
              "InternetService_DSL             0.007584      -0.108276 -0.001043    0.051593   \n",
              "InternetService_Fiber optic    -0.011189       0.254923  0.001235   -0.164101   \n",
              "InternetService_No              0.004745      -0.182519 -0.000286    0.138383   \n",
              "Contract_Month-to-month        -0.003251       0.137752 -0.280202   -0.229715   \n",
              "Contract_One year               0.007755      -0.046491  0.083067    0.069222   \n",
              "Contract_Two year              -0.003603      -0.116205  0.247334    0.201699   \n",
              "PaymentMethod_Bank transfer    -0.015973      -0.016235  0.111406    0.052369   \n",
              "PaymentMethod_Credit card       0.001632      -0.024359  0.082327    0.061134   \n",
              "PaymentMethod_Electronic check  0.000844       0.171322 -0.083207   -0.149274   \n",
              "PaymentMethod_Mailed check      0.013199      -0.152987 -0.096948    0.056448   \n",
              "\n",
              "                                  tenure  PhoneService  MultipleLines  \\\n",
              "gender                          0.005285     -0.007515      -0.008883   \n",
              "SeniorCitizen                   0.015683      0.008392       0.142996   \n",
              "Partner                         0.381912      0.018397       0.142561   \n",
              "Dependents                      0.163386     -0.001078      -0.024307   \n",
              "tenure                          1.000000      0.007877       0.332399   \n",
              "PhoneService                    0.007877      1.000000       0.279530   \n",
              "MultipleLines                   0.332399      0.279530       1.000000   \n",
              "OnlineSecurity                  0.328297     -0.091676       0.098592   \n",
              "OnlineBackup                    0.361138     -0.052133       0.202228   \n",
              "DeviceProtection                0.361520     -0.070076       0.201733   \n",
              "TechSupport                     0.325288     -0.095138       0.100421   \n",
              "StreamingTV                     0.280264     -0.021383       0.257804   \n",
              "StreamingMovies                 0.285402     -0.033477       0.259194   \n",
              "PaperlessBilling                0.004823      0.016696       0.163746   \n",
              "MonthlyCharges                  0.246862      0.248033       0.490912   \n",
              "TotalCharges                    0.825880      0.113008       0.469042   \n",
              "Churn                          -0.354049      0.011691       0.040033   \n",
              "InternetService_DSL             0.013786     -0.452255      -0.200318   \n",
              "InternetService_Fiber optic     0.017930      0.290183       0.366420   \n",
              "InternetService_No             -0.037529      0.171817      -0.210794   \n",
              "Contract_Month-to-month        -0.649346     -0.001243      -0.088558   \n",
              "Contract_One year               0.202338     -0.003142      -0.003594   \n",
              "Contract_Two year               0.563801      0.004442       0.106618   \n",
              "PaymentMethod_Bank transfer     0.243822      0.008271       0.075429   \n",
              "PaymentMethod_Credit card       0.232800     -0.006916       0.060319   \n",
              "PaymentMethod_Electronic check -0.210197      0.002747       0.083583   \n",
              "PaymentMethod_Mailed check     -0.232181     -0.004463      -0.227672   \n",
              "\n",
              "                                OnlineSecurity  OnlineBackup  \\\n",
              "gender                               -0.016328     -0.013093   \n",
              "SeniorCitizen                        -0.038576      0.066663   \n",
              "Partner                               0.143346      0.141849   \n",
              "Dependents                            0.080786      0.023639   \n",
              "tenure                                0.328297      0.361138   \n",
              "PhoneService                         -0.091676     -0.052133   \n",
              "MultipleLines                         0.098592      0.202228   \n",
              "OnlineSecurity                        1.000000      0.283285   \n",
              "OnlineBackup                          0.283285      1.000000   \n",
              "DeviceProtection                      0.274875      0.303058   \n",
              "TechSupport                           0.354458      0.293705   \n",
              "StreamingTV                           0.175514      0.281601   \n",
              "StreamingMovies                       0.187426      0.274523   \n",
              "PaperlessBilling                     -0.004051      0.127056   \n",
              "MonthlyCharges                        0.296447      0.441529   \n",
              "TotalCharges                          0.412619      0.510100   \n",
              "Churn                                -0.171270     -0.082307   \n",
              "InternetService_DSL                   0.320343      0.156765   \n",
              "InternetService_Fiber optic          -0.030506      0.165940   \n",
              "InternetService_No                   -0.332799     -0.380990   \n",
              "Contract_Month-to-month              -0.246844     -0.164393   \n",
              "Contract_One year                     0.100658      0.084113   \n",
              "Contract_Two year                     0.191698      0.111391   \n",
              "PaymentMethod_Bank transfer           0.094366      0.086942   \n",
              "PaymentMethod_Credit card             0.115473      0.090455   \n",
              "PaymentMethod_Electronic check       -0.112295     -0.000364   \n",
              "PaymentMethod_Mailed check           -0.079918     -0.174075   \n",
              "\n",
              "                                DeviceProtection  ...  InternetService_DSL  \\\n",
              "gender                                 -0.000807  ...             0.007584   \n",
              "SeniorCitizen                           0.059514  ...            -0.108276   \n",
              "Partner                                 0.153556  ...            -0.001043   \n",
              "Dependents                              0.013900  ...             0.051593   \n",
              "tenure                                  0.361520  ...             0.013786   \n",
              "PhoneService                           -0.070076  ...            -0.452255   \n",
              "MultipleLines                           0.201733  ...            -0.200318   \n",
              "OnlineSecurity                          0.274875  ...             0.320343   \n",
              "OnlineBackup                            0.303058  ...             0.156765   \n",
              "DeviceProtection                        1.000000  ...             0.145150   \n",
              "TechSupport                             0.332850  ...             0.312183   \n",
              "StreamingTV                             0.389924  ...             0.014973   \n",
              "StreamingMovies                         0.402309  ...             0.025623   \n",
              "PaperlessBilling                        0.104079  ...            -0.063390   \n",
              "MonthlyCharges                          0.482607  ...            -0.161368   \n",
              "TotalCharges                            0.522881  ...            -0.052190   \n",
              "Churn                                  -0.066193  ...            -0.124141   \n",
              "InternetService_DSL                     0.145150  ...             1.000000   \n",
              "InternetService_Fiber optic             0.176356  ...            -0.641636   \n",
              "InternetService_No                     -0.380151  ...            -0.379912   \n",
              "Contract_Month-to-month                -0.225988  ...            -0.065226   \n",
              "Contract_One year                       0.102911  ...             0.047300   \n",
              "Contract_Two year                       0.165248  ...             0.030924   \n",
              "PaymentMethod_Bank transfer             0.083047  ...             0.024760   \n",
              "PaymentMethod_Credit card               0.111252  ...             0.051222   \n",
              "PaymentMethod_Electronic check         -0.003308  ...            -0.104293   \n",
              "PaymentMethod_Mailed check             -0.187325  ...             0.042754   \n",
              "\n",
              "                                InternetService_Fiber optic  \\\n",
              "gender                                            -0.011189   \n",
              "SeniorCitizen                                      0.254923   \n",
              "Partner                                            0.001235   \n",
              "Dependents                                        -0.164101   \n",
              "tenure                                             0.017930   \n",
              "PhoneService                                       0.290183   \n",
              "MultipleLines                                      0.366420   \n",
              "OnlineSecurity                                    -0.030506   \n",
              "OnlineBackup                                       0.165940   \n",
              "DeviceProtection                                   0.176356   \n",
              "TechSupport                                       -0.020299   \n",
              "StreamingTV                                        0.329744   \n",
              "StreamingMovies                                    0.322457   \n",
              "PaperlessBilling                                   0.326470   \n",
              "MonthlyCharges                                     0.787195   \n",
              "TotalCharges                                       0.360769   \n",
              "Churn                                              0.307463   \n",
              "InternetService_DSL                               -0.641636   \n",
              "InternetService_Fiber optic                        1.000000   \n",
              "InternetService_No                                -0.465736   \n",
              "Contract_Month-to-month                            0.243014   \n",
              "Contract_One year                                 -0.076809   \n",
              "Contract_Two year                                 -0.209965   \n",
              "PaymentMethod_Bank transfer                       -0.022779   \n",
              "PaymentMethod_Credit card                         -0.050552   \n",
              "PaymentMethod_Electronic check                     0.335763   \n",
              "PaymentMethod_Mailed check                        -0.305984   \n",
              "\n",
              "                                InternetService_No  Contract_Month-to-month  \\\n",
              "gender                                    0.004745                -0.003251   \n",
              "SeniorCitizen                            -0.182519                 0.137752   \n",
              "Partner                                  -0.000286                -0.280202   \n",
              "Dependents                                0.138383                -0.229715   \n",
              "tenure                                   -0.037529                -0.649346   \n",
              "PhoneService                              0.171817                -0.001243   \n",
              "MultipleLines                            -0.210794                -0.088558   \n",
              "OnlineSecurity                           -0.332799                -0.246844   \n",
              "OnlineBackup                             -0.380990                -0.164393   \n",
              "DeviceProtection                         -0.380151                -0.225988   \n",
              "TechSupport                              -0.335695                -0.285491   \n",
              "StreamingTV                              -0.414951                -0.112550   \n",
              "StreamingMovies                          -0.418450                -0.117867   \n",
              "PaperlessBilling                         -0.320592                 0.168296   \n",
              "MonthlyCharges                           -0.763191                 0.058933   \n",
              "TotalCharges                             -0.374878                -0.446776   \n",
              "Churn                                    -0.227578                 0.404565   \n",
              "InternetService_DSL                      -0.379912                -0.065226   \n",
              "InternetService_Fiber optic              -0.465736                 0.243014   \n",
              "InternetService_No                        1.000000                -0.217824   \n",
              "Contract_Month-to-month                  -0.217824                 1.000000   \n",
              "Contract_One year                         0.038061                -0.570053   \n",
              "Contract_Two year                         0.217542                -0.621933   \n",
              "PaymentMethod_Bank transfer              -0.001094                -0.180159   \n",
              "PaymentMethod_Credit card                 0.001870                -0.204960   \n",
              "PaymentMethod_Electronic check           -0.284608                 0.330879   \n",
              "PaymentMethod_Mailed check                0.319694                 0.006209   \n",
              "\n",
              "                                Contract_One year  Contract_Two year  \\\n",
              "gender                                   0.007755          -0.003603   \n",
              "SeniorCitizen                           -0.046491          -0.116205   \n",
              "Partner                                  0.083067           0.247334   \n",
              "Dependents                               0.069222           0.201699   \n",
              "tenure                                   0.202338           0.563801   \n",
              "PhoneService                            -0.003142           0.004442   \n",
              "MultipleLines                           -0.003594           0.106618   \n",
              "OnlineSecurity                           0.100658           0.191698   \n",
              "OnlineBackup                             0.084113           0.111391   \n",
              "DeviceProtection                         0.102911           0.165248   \n",
              "TechSupport                              0.096258           0.240924   \n",
              "StreamingTV                              0.061930           0.072124   \n",
              "StreamingMovies                          0.064780           0.075603   \n",
              "PaperlessBilling                        -0.052278          -0.146281   \n",
              "MonthlyCharges                           0.004810          -0.073256   \n",
              "TotalCharges                             0.170569           0.358036   \n",
              "Churn                                   -0.178225          -0.301552   \n",
              "InternetService_DSL                      0.047300           0.030924   \n",
              "InternetService_Fiber optic             -0.076809          -0.209965   \n",
              "InternetService_No                       0.038061           0.217542   \n",
              "Contract_Month-to-month                 -0.570053          -0.621933   \n",
              "Contract_One year                        1.000000          -0.288843   \n",
              "Contract_Two year                       -0.288843           1.000000   \n",
              "PaymentMethod_Bank transfer              0.057629           0.155004   \n",
              "PaymentMethod_Credit card                0.067590           0.174410   \n",
              "PaymentMethod_Electronic check          -0.109546          -0.281147   \n",
              "PaymentMethod_Mailed check               0.000197          -0.007423   \n",
              "\n",
              "                                PaymentMethod_Bank transfer  \\\n",
              "gender                                            -0.015973   \n",
              "SeniorCitizen                                     -0.016235   \n",
              "Partner                                            0.111406   \n",
              "Dependents                                         0.052369   \n",
              "tenure                                             0.243822   \n",
              "PhoneService                                       0.008271   \n",
              "MultipleLines                                      0.075429   \n",
              "OnlineSecurity                                     0.094366   \n",
              "OnlineBackup                                       0.086942   \n",
              "DeviceProtection                                   0.083047   \n",
              "TechSupport                                        0.100472   \n",
              "StreamingTV                                        0.046121   \n",
              "StreamingMovies                                    0.048755   \n",
              "PaperlessBilling                                  -0.017469   \n",
              "MonthlyCharges                                     0.042410   \n",
              "TotalCharges                                       0.186119   \n",
              "Churn                                             -0.118136   \n",
              "InternetService_DSL                                0.024760   \n",
              "InternetService_Fiber optic                       -0.022779   \n",
              "InternetService_No                                -0.001094   \n",
              "Contract_Month-to-month                           -0.180159   \n",
              "Contract_One year                                  0.057629   \n",
              "Contract_Two year                                  0.155004   \n",
              "PaymentMethod_Bank transfer                        1.000000   \n",
              "PaymentMethod_Credit card                         -0.278423   \n",
              "PaymentMethod_Electronic check                    -0.377270   \n",
              "PaymentMethod_Mailed check                        -0.288097   \n",
              "\n",
              "                                PaymentMethod_Credit card  \\\n",
              "gender                                           0.001632   \n",
              "SeniorCitizen                                   -0.024359   \n",
              "Partner                                          0.082327   \n",
              "Dependents                                       0.061134   \n",
              "tenure                                           0.232800   \n",
              "PhoneService                                    -0.006916   \n",
              "MultipleLines                                    0.060319   \n",
              "OnlineSecurity                                   0.115473   \n",
              "OnlineBackup                                     0.090455   \n",
              "DeviceProtection                                 0.111252   \n",
              "TechSupport                                      0.117024   \n",
              "StreamingTV                                      0.040010   \n",
              "StreamingMovies                                  0.048398   \n",
              "PaperlessBilling                                -0.013726   \n",
              "MonthlyCharges                                   0.030055   \n",
              "TotalCharges                                     0.182663   \n",
              "Churn                                           -0.134687   \n",
              "InternetService_DSL                              0.051222   \n",
              "InternetService_Fiber optic                     -0.050552   \n",
              "InternetService_No                               0.001870   \n",
              "Contract_Month-to-month                         -0.204960   \n",
              "Contract_One year                                0.067590   \n",
              "Contract_Two year                                0.174410   \n",
              "PaymentMethod_Bank transfer                     -0.278423   \n",
              "PaymentMethod_Credit card                        1.000000   \n",
              "PaymentMethod_Electronic check                  -0.373978   \n",
              "PaymentMethod_Mailed check                      -0.285583   \n",
              "\n",
              "                                PaymentMethod_Electronic check  \\\n",
              "gender                                                0.000844   \n",
              "SeniorCitizen                                         0.171322   \n",
              "Partner                                              -0.083207   \n",
              "Dependents                                           -0.149274   \n",
              "tenure                                               -0.210197   \n",
              "PhoneService                                          0.002747   \n",
              "MultipleLines                                         0.083583   \n",
              "OnlineSecurity                                       -0.112295   \n",
              "OnlineBackup                                         -0.000364   \n",
              "DeviceProtection                                     -0.003308   \n",
              "TechSupport                                          -0.114807   \n",
              "StreamingTV                                           0.144747   \n",
              "StreamingMovies                                       0.137420   \n",
              "PaperlessBilling                                      0.208427   \n",
              "MonthlyCharges                                        0.271117   \n",
              "TotalCharges                                         -0.060436   \n",
              "Churn                                                 0.301455   \n",
              "InternetService_DSL                                  -0.104293   \n",
              "InternetService_Fiber optic                           0.335763   \n",
              "InternetService_No                                   -0.284608   \n",
              "Contract_Month-to-month                               0.330879   \n",
              "Contract_One year                                    -0.109546   \n",
              "Contract_Two year                                    -0.281147   \n",
              "PaymentMethod_Bank transfer                          -0.377270   \n",
              "PaymentMethod_Credit card                            -0.373978   \n",
              "PaymentMethod_Electronic check                        1.000000   \n",
              "PaymentMethod_Mailed check                           -0.386971   \n",
              "\n",
              "                                PaymentMethod_Mailed check  \n",
              "gender                                            0.013199  \n",
              "SeniorCitizen                                    -0.152987  \n",
              "Partner                                          -0.096948  \n",
              "Dependents                                        0.056448  \n",
              "tenure                                           -0.232181  \n",
              "PhoneService                                     -0.004463  \n",
              "MultipleLines                                    -0.227672  \n",
              "OnlineSecurity                                   -0.079918  \n",
              "OnlineBackup                                     -0.174075  \n",
              "DeviceProtection                                 -0.187325  \n",
              "TechSupport                                      -0.084631  \n",
              "StreamingTV                                      -0.247712  \n",
              "StreamingMovies                                  -0.250290  \n",
              "PaperlessBilling                                 -0.203981  \n",
              "MonthlyCharges                                   -0.376568  \n",
              "TotalCharges                                     -0.294708  \n",
              "Churn                                            -0.090773  \n",
              "InternetService_DSL                               0.042754  \n",
              "InternetService_Fiber optic                      -0.305984  \n",
              "InternetService_No                                0.319694  \n",
              "Contract_Month-to-month                           0.006209  \n",
              "Contract_One year                                 0.000197  \n",
              "Contract_Two year                                -0.007423  \n",
              "PaymentMethod_Bank transfer                      -0.288097  \n",
              "PaymentMethod_Credit card                        -0.285583  \n",
              "PaymentMethod_Electronic check                   -0.386971  \n",
              "PaymentMethod_Mailed check                        1.000000  \n",
              "\n",
              "[27 rows x 27 columns]"
            ],
            "text/html": [
              "\n",
              "  <div id=\"df-6ff7e3c4-336c-4887-96e4-20843894a715\">\n",
              "    <div class=\"colab-df-container\">\n",
              "      <div>\n",
              "<style scoped>\n",
              "    .dataframe tbody tr th:only-of-type {\n",
              "        vertical-align: middle;\n",
              "    }\n",
              "\n",
              "    .dataframe tbody tr th {\n",
              "        vertical-align: top;\n",
              "    }\n",
              "\n",
              "    .dataframe thead th {\n",
              "        text-align: right;\n",
              "    }\n",
              "</style>\n",
              "<table border=\"1\" class=\"dataframe\">\n",
              "  <thead>\n",
              "    <tr style=\"text-align: right;\">\n",
              "      <th></th>\n",
              "      <th>gender</th>\n",
              "      <th>SeniorCitizen</th>\n",
              "      <th>Partner</th>\n",
              "      <th>Dependents</th>\n",
              "      <th>tenure</th>\n",
              "      <th>PhoneService</th>\n",
              "      <th>MultipleLines</th>\n",
              "      <th>OnlineSecurity</th>\n",
              "      <th>OnlineBackup</th>\n",
              "      <th>DeviceProtection</th>\n",
              "      <th>...</th>\n",
              "      <th>InternetService_DSL</th>\n",
              "      <th>InternetService_Fiber optic</th>\n",
              "      <th>InternetService_No</th>\n",
              "      <th>Contract_Month-to-month</th>\n",
              "      <th>Contract_One year</th>\n",
              "      <th>Contract_Two year</th>\n",
              "      <th>PaymentMethod_Bank transfer</th>\n",
              "      <th>PaymentMethod_Credit card</th>\n",
              "      <th>PaymentMethod_Electronic check</th>\n",
              "      <th>PaymentMethod_Mailed check</th>\n",
              "    </tr>\n",
              "  </thead>\n",
              "  <tbody>\n",
              "    <tr>\n",
              "      <th>gender</th>\n",
              "      <td>1.000000</td>\n",
              "      <td>-0.001819</td>\n",
              "      <td>-0.001379</td>\n",
              "      <td>0.010349</td>\n",
              "      <td>0.005285</td>\n",
              "      <td>-0.007515</td>\n",
              "      <td>-0.008883</td>\n",
              "      <td>-0.016328</td>\n",
              "      <td>-0.013093</td>\n",
              "      <td>-0.000807</td>\n",
              "      <td>...</td>\n",
              "      <td>0.007584</td>\n",
              "      <td>-0.011189</td>\n",
              "      <td>0.004745</td>\n",
              "      <td>-0.003251</td>\n",
              "      <td>0.007755</td>\n",
              "      <td>-0.003603</td>\n",
              "      <td>-0.015973</td>\n",
              "      <td>0.001632</td>\n",
              "      <td>0.000844</td>\n",
              "      <td>0.013199</td>\n",
              "    </tr>\n",
              "    <tr>\n",
              "      <th>SeniorCitizen</th>\n",
              "      <td>-0.001819</td>\n",
              "      <td>1.000000</td>\n",
              "      <td>0.016957</td>\n",
              "      <td>-0.210550</td>\n",
              "      <td>0.015683</td>\n",
              "      <td>0.008392</td>\n",
              "      <td>0.142996</td>\n",
              "      <td>-0.038576</td>\n",
              "      <td>0.066663</td>\n",
              "      <td>0.059514</td>\n",
              "      <td>...</td>\n",
              "      <td>-0.108276</td>\n",
              "      <td>0.254923</td>\n",
              "      <td>-0.182519</td>\n",
              "      <td>0.137752</td>\n",
              "      <td>-0.046491</td>\n",
              "      <td>-0.116205</td>\n",
              "      <td>-0.016235</td>\n",
              "      <td>-0.024359</td>\n",
              "      <td>0.171322</td>\n",
              "      <td>-0.152987</td>\n",
              "    </tr>\n",
              "    <tr>\n",
              "      <th>Partner</th>\n",
              "      <td>-0.001379</td>\n",
              "      <td>0.016957</td>\n",
              "      <td>1.000000</td>\n",
              "      <td>0.452269</td>\n",
              "      <td>0.381912</td>\n",
              "      <td>0.018397</td>\n",
              "      <td>0.142561</td>\n",
              "      <td>0.143346</td>\n",
              "      <td>0.141849</td>\n",
              "      <td>0.153556</td>\n",
              "      <td>...</td>\n",
              "      <td>-0.001043</td>\n",
              "      <td>0.001235</td>\n",
              "      <td>-0.000286</td>\n",
              "      <td>-0.280202</td>\n",
              "      <td>0.083067</td>\n",
              "      <td>0.247334</td>\n",
              "      <td>0.111406</td>\n",
              "      <td>0.082327</td>\n",
              "      <td>-0.083207</td>\n",
              "      <td>-0.096948</td>\n",
              "    </tr>\n",
              "    <tr>\n",
              "      <th>Dependents</th>\n",
              "      <td>0.010349</td>\n",
              "      <td>-0.210550</td>\n",
              "      <td>0.452269</td>\n",
              "      <td>1.000000</td>\n",
              "      <td>0.163386</td>\n",
              "      <td>-0.001078</td>\n",
              "      <td>-0.024307</td>\n",
              "      <td>0.080786</td>\n",
              "      <td>0.023639</td>\n",
              "      <td>0.013900</td>\n",
              "      <td>...</td>\n",
              "      <td>0.051593</td>\n",
              "      <td>-0.164101</td>\n",
              "      <td>0.138383</td>\n",
              "      <td>-0.229715</td>\n",
              "      <td>0.069222</td>\n",
              "      <td>0.201699</td>\n",
              "      <td>0.052369</td>\n",
              "      <td>0.061134</td>\n",
              "      <td>-0.149274</td>\n",
              "      <td>0.056448</td>\n",
              "    </tr>\n",
              "    <tr>\n",
              "      <th>tenure</th>\n",
              "      <td>0.005285</td>\n",
              "      <td>0.015683</td>\n",
              "      <td>0.381912</td>\n",
              "      <td>0.163386</td>\n",
              "      <td>1.000000</td>\n",
              "      <td>0.007877</td>\n",
              "      <td>0.332399</td>\n",
              "      <td>0.328297</td>\n",
              "      <td>0.361138</td>\n",
              "      <td>0.361520</td>\n",
              "      <td>...</td>\n",
              "      <td>0.013786</td>\n",
              "      <td>0.017930</td>\n",
              "      <td>-0.037529</td>\n",
              "      <td>-0.649346</td>\n",
              "      <td>0.202338</td>\n",
              "      <td>0.563801</td>\n",
              "      <td>0.243822</td>\n",
              "      <td>0.232800</td>\n",
              "      <td>-0.210197</td>\n",
              "      <td>-0.232181</td>\n",
              "    </tr>\n",
              "    <tr>\n",
              "      <th>PhoneService</th>\n",
              "      <td>-0.007515</td>\n",
              "      <td>0.008392</td>\n",
              "      <td>0.018397</td>\n",
              "      <td>-0.001078</td>\n",
              "      <td>0.007877</td>\n",
              "      <td>1.000000</td>\n",
              "      <td>0.279530</td>\n",
              "      <td>-0.091676</td>\n",
              "      <td>-0.052133</td>\n",
              "      <td>-0.070076</td>\n",
              "      <td>...</td>\n",
              "      <td>-0.452255</td>\n",
              "      <td>0.290183</td>\n",
              "      <td>0.171817</td>\n",
              "      <td>-0.001243</td>\n",
              "      <td>-0.003142</td>\n",
              "      <td>0.004442</td>\n",
              "      <td>0.008271</td>\n",
              "      <td>-0.006916</td>\n",
              "      <td>0.002747</td>\n",
              "      <td>-0.004463</td>\n",
              "    </tr>\n",
              "    <tr>\n",
              "      <th>MultipleLines</th>\n",
              "      <td>-0.008883</td>\n",
              "      <td>0.142996</td>\n",
              "      <td>0.142561</td>\n",
              "      <td>-0.024307</td>\n",
              "      <td>0.332399</td>\n",
              "      <td>0.279530</td>\n",
              "      <td>1.000000</td>\n",
              "      <td>0.098592</td>\n",
              "      <td>0.202228</td>\n",
              "      <td>0.201733</td>\n",
              "      <td>...</td>\n",
              "      <td>-0.200318</td>\n",
              "      <td>0.366420</td>\n",
              "      <td>-0.210794</td>\n",
              "      <td>-0.088558</td>\n",
              "      <td>-0.003594</td>\n",
              "      <td>0.106618</td>\n",
              "      <td>0.075429</td>\n",
              "      <td>0.060319</td>\n",
              "      <td>0.083583</td>\n",
              "      <td>-0.227672</td>\n",
              "    </tr>\n",
              "    <tr>\n",
              "      <th>OnlineSecurity</th>\n",
              "      <td>-0.016328</td>\n",
              "      <td>-0.038576</td>\n",
              "      <td>0.143346</td>\n",
              "      <td>0.080786</td>\n",
              "      <td>0.328297</td>\n",
              "      <td>-0.091676</td>\n",
              "      <td>0.098592</td>\n",
              "      <td>1.000000</td>\n",
              "      <td>0.283285</td>\n",
              "      <td>0.274875</td>\n",
              "      <td>...</td>\n",
              "      <td>0.320343</td>\n",
              "      <td>-0.030506</td>\n",
              "      <td>-0.332799</td>\n",
              "      <td>-0.246844</td>\n",
              "      <td>0.100658</td>\n",
              "      <td>0.191698</td>\n",
              "      <td>0.094366</td>\n",
              "      <td>0.115473</td>\n",
              "      <td>-0.112295</td>\n",
              "      <td>-0.079918</td>\n",
              "    </tr>\n",
              "    <tr>\n",
              "      <th>OnlineBackup</th>\n",
              "      <td>-0.013093</td>\n",
              "      <td>0.066663</td>\n",
              "      <td>0.141849</td>\n",
              "      <td>0.023639</td>\n",
              "      <td>0.361138</td>\n",
              "      <td>-0.052133</td>\n",
              "      <td>0.202228</td>\n",
              "      <td>0.283285</td>\n",
              "      <td>1.000000</td>\n",
              "      <td>0.303058</td>\n",
              "      <td>...</td>\n",
              "      <td>0.156765</td>\n",
              "      <td>0.165940</td>\n",
              "      <td>-0.380990</td>\n",
              "      <td>-0.164393</td>\n",
              "      <td>0.084113</td>\n",
              "      <td>0.111391</td>\n",
              "      <td>0.086942</td>\n",
              "      <td>0.090455</td>\n",
              "      <td>-0.000364</td>\n",
              "      <td>-0.174075</td>\n",
              "    </tr>\n",
              "    <tr>\n",
              "      <th>DeviceProtection</th>\n",
              "      <td>-0.000807</td>\n",
              "      <td>0.059514</td>\n",
              "      <td>0.153556</td>\n",
              "      <td>0.013900</td>\n",
              "      <td>0.361520</td>\n",
              "      <td>-0.070076</td>\n",
              "      <td>0.201733</td>\n",
              "      <td>0.274875</td>\n",
              "      <td>0.303058</td>\n",
              "      <td>1.000000</td>\n",
              "      <td>...</td>\n",
              "      <td>0.145150</td>\n",
              "      <td>0.176356</td>\n",
              "      <td>-0.380151</td>\n",
              "      <td>-0.225988</td>\n",
              "      <td>0.102911</td>\n",
              "      <td>0.165248</td>\n",
              "      <td>0.083047</td>\n",
              "      <td>0.111252</td>\n",
              "      <td>-0.003308</td>\n",
              "      <td>-0.187325</td>\n",
              "    </tr>\n",
              "    <tr>\n",
              "      <th>TechSupport</th>\n",
              "      <td>-0.008507</td>\n",
              "      <td>-0.060577</td>\n",
              "      <td>0.120206</td>\n",
              "      <td>0.063053</td>\n",
              "      <td>0.325288</td>\n",
              "      <td>-0.095138</td>\n",
              "      <td>0.100421</td>\n",
              "      <td>0.354458</td>\n",
              "      <td>0.293705</td>\n",
              "      <td>0.332850</td>\n",
              "      <td>...</td>\n",
              "      <td>0.312183</td>\n",
              "      <td>-0.020299</td>\n",
              "      <td>-0.335695</td>\n",
              "      <td>-0.285491</td>\n",
              "      <td>0.096258</td>\n",
              "      <td>0.240924</td>\n",
              "      <td>0.100472</td>\n",
              "      <td>0.117024</td>\n",
              "      <td>-0.114807</td>\n",
              "      <td>-0.084631</td>\n",
              "    </tr>\n",
              "    <tr>\n",
              "      <th>StreamingTV</th>\n",
              "      <td>-0.007124</td>\n",
              "      <td>0.105445</td>\n",
              "      <td>0.124483</td>\n",
              "      <td>-0.016499</td>\n",
              "      <td>0.280264</td>\n",
              "      <td>-0.021383</td>\n",
              "      <td>0.257804</td>\n",
              "      <td>0.175514</td>\n",
              "      <td>0.281601</td>\n",
              "      <td>0.389924</td>\n",
              "      <td>...</td>\n",
              "      <td>0.014973</td>\n",
              "      <td>0.329744</td>\n",
              "      <td>-0.414951</td>\n",
              "      <td>-0.112550</td>\n",
              "      <td>0.061930</td>\n",
              "      <td>0.072124</td>\n",
              "      <td>0.046121</td>\n",
              "      <td>0.040010</td>\n",
              "      <td>0.144747</td>\n",
              "      <td>-0.247712</td>\n",
              "    </tr>\n",
              "    <tr>\n",
              "      <th>StreamingMovies</th>\n",
              "      <td>-0.010105</td>\n",
              "      <td>0.119842</td>\n",
              "      <td>0.118108</td>\n",
              "      <td>-0.038375</td>\n",
              "      <td>0.285402</td>\n",
              "      <td>-0.033477</td>\n",
              "      <td>0.259194</td>\n",
              "      <td>0.187426</td>\n",
              "      <td>0.274523</td>\n",
              "      <td>0.402309</td>\n",
              "      <td>...</td>\n",
              "      <td>0.025623</td>\n",
              "      <td>0.322457</td>\n",
              "      <td>-0.418450</td>\n",
              "      <td>-0.117867</td>\n",
              "      <td>0.064780</td>\n",
              "      <td>0.075603</td>\n",
              "      <td>0.048755</td>\n",
              "      <td>0.048398</td>\n",
              "      <td>0.137420</td>\n",
              "      <td>-0.250290</td>\n",
              "    </tr>\n",
              "    <tr>\n",
              "      <th>PaperlessBilling</th>\n",
              "      <td>-0.011902</td>\n",
              "      <td>0.156258</td>\n",
              "      <td>-0.013957</td>\n",
              "      <td>-0.110131</td>\n",
              "      <td>0.004823</td>\n",
              "      <td>0.016696</td>\n",
              "      <td>0.163746</td>\n",
              "      <td>-0.004051</td>\n",
              "      <td>0.127056</td>\n",
              "      <td>0.104079</td>\n",
              "      <td>...</td>\n",
              "      <td>-0.063390</td>\n",
              "      <td>0.326470</td>\n",
              "      <td>-0.320592</td>\n",
              "      <td>0.168296</td>\n",
              "      <td>-0.052278</td>\n",
              "      <td>-0.146281</td>\n",
              "      <td>-0.017469</td>\n",
              "      <td>-0.013726</td>\n",
              "      <td>0.208427</td>\n",
              "      <td>-0.203981</td>\n",
              "    </tr>\n",
              "    <tr>\n",
              "      <th>MonthlyCharges</th>\n",
              "      <td>-0.013779</td>\n",
              "      <td>0.219874</td>\n",
              "      <td>0.097825</td>\n",
              "      <td>-0.112343</td>\n",
              "      <td>0.246862</td>\n",
              "      <td>0.248033</td>\n",
              "      <td>0.490912</td>\n",
              "      <td>0.296447</td>\n",
              "      <td>0.441529</td>\n",
              "      <td>0.482607</td>\n",
              "      <td>...</td>\n",
              "      <td>-0.161368</td>\n",
              "      <td>0.787195</td>\n",
              "      <td>-0.763191</td>\n",
              "      <td>0.058933</td>\n",
              "      <td>0.004810</td>\n",
              "      <td>-0.073256</td>\n",
              "      <td>0.042410</td>\n",
              "      <td>0.030055</td>\n",
              "      <td>0.271117</td>\n",
              "      <td>-0.376568</td>\n",
              "    </tr>\n",
              "    <tr>\n",
              "      <th>TotalCharges</th>\n",
              "      <td>0.000048</td>\n",
              "      <td>0.102411</td>\n",
              "      <td>0.319072</td>\n",
              "      <td>0.064653</td>\n",
              "      <td>0.825880</td>\n",
              "      <td>0.113008</td>\n",
              "      <td>0.469042</td>\n",
              "      <td>0.412619</td>\n",
              "      <td>0.510100</td>\n",
              "      <td>0.522881</td>\n",
              "      <td>...</td>\n",
              "      <td>-0.052190</td>\n",
              "      <td>0.360769</td>\n",
              "      <td>-0.374878</td>\n",
              "      <td>-0.446776</td>\n",
              "      <td>0.170569</td>\n",
              "      <td>0.358036</td>\n",
              "      <td>0.186119</td>\n",
              "      <td>0.182663</td>\n",
              "      <td>-0.060436</td>\n",
              "      <td>-0.294708</td>\n",
              "    </tr>\n",
              "    <tr>\n",
              "      <th>Churn</th>\n",
              "      <td>-0.008545</td>\n",
              "      <td>0.150541</td>\n",
              "      <td>-0.149982</td>\n",
              "      <td>-0.163128</td>\n",
              "      <td>-0.354049</td>\n",
              "      <td>0.011691</td>\n",
              "      <td>0.040033</td>\n",
              "      <td>-0.171270</td>\n",
              "      <td>-0.082307</td>\n",
              "      <td>-0.066193</td>\n",
              "      <td>...</td>\n",
              "      <td>-0.124141</td>\n",
              "      <td>0.307463</td>\n",
              "      <td>-0.227578</td>\n",
              "      <td>0.404565</td>\n",
              "      <td>-0.178225</td>\n",
              "      <td>-0.301552</td>\n",
              "      <td>-0.118136</td>\n",
              "      <td>-0.134687</td>\n",
              "      <td>0.301455</td>\n",
              "      <td>-0.090773</td>\n",
              "    </tr>\n",
              "    <tr>\n",
              "      <th>InternetService_DSL</th>\n",
              "      <td>0.007584</td>\n",
              "      <td>-0.108276</td>\n",
              "      <td>-0.001043</td>\n",
              "      <td>0.051593</td>\n",
              "      <td>0.013786</td>\n",
              "      <td>-0.452255</td>\n",
              "      <td>-0.200318</td>\n",
              "      <td>0.320343</td>\n",
              "      <td>0.156765</td>\n",
              "      <td>0.145150</td>\n",
              "      <td>...</td>\n",
              "      <td>1.000000</td>\n",
              "      <td>-0.641636</td>\n",
              "      <td>-0.379912</td>\n",
              "      <td>-0.065226</td>\n",
              "      <td>0.047300</td>\n",
              "      <td>0.030924</td>\n",
              "      <td>0.024760</td>\n",
              "      <td>0.051222</td>\n",
              "      <td>-0.104293</td>\n",
              "      <td>0.042754</td>\n",
              "    </tr>\n",
              "    <tr>\n",
              "      <th>InternetService_Fiber optic</th>\n",
              "      <td>-0.011189</td>\n",
              "      <td>0.254923</td>\n",
              "      <td>0.001235</td>\n",
              "      <td>-0.164101</td>\n",
              "      <td>0.017930</td>\n",
              "      <td>0.290183</td>\n",
              "      <td>0.366420</td>\n",
              "      <td>-0.030506</td>\n",
              "      <td>0.165940</td>\n",
              "      <td>0.176356</td>\n",
              "      <td>...</td>\n",
              "      <td>-0.641636</td>\n",
              "      <td>1.000000</td>\n",
              "      <td>-0.465736</td>\n",
              "      <td>0.243014</td>\n",
              "      <td>-0.076809</td>\n",
              "      <td>-0.209965</td>\n",
              "      <td>-0.022779</td>\n",
              "      <td>-0.050552</td>\n",
              "      <td>0.335763</td>\n",
              "      <td>-0.305984</td>\n",
              "    </tr>\n",
              "    <tr>\n",
              "      <th>InternetService_No</th>\n",
              "      <td>0.004745</td>\n",
              "      <td>-0.182519</td>\n",
              "      <td>-0.000286</td>\n",
              "      <td>0.138383</td>\n",
              "      <td>-0.037529</td>\n",
              "      <td>0.171817</td>\n",
              "      <td>-0.210794</td>\n",
              "      <td>-0.332799</td>\n",
              "      <td>-0.380990</td>\n",
              "      <td>-0.380151</td>\n",
              "      <td>...</td>\n",
              "      <td>-0.379912</td>\n",
              "      <td>-0.465736</td>\n",
              "      <td>1.000000</td>\n",
              "      <td>-0.217824</td>\n",
              "      <td>0.038061</td>\n",
              "      <td>0.217542</td>\n",
              "      <td>-0.001094</td>\n",
              "      <td>0.001870</td>\n",
              "      <td>-0.284608</td>\n",
              "      <td>0.319694</td>\n",
              "    </tr>\n",
              "    <tr>\n",
              "      <th>Contract_Month-to-month</th>\n",
              "      <td>-0.003251</td>\n",
              "      <td>0.137752</td>\n",
              "      <td>-0.280202</td>\n",
              "      <td>-0.229715</td>\n",
              "      <td>-0.649346</td>\n",
              "      <td>-0.001243</td>\n",
              "      <td>-0.088558</td>\n",
              "      <td>-0.246844</td>\n",
              "      <td>-0.164393</td>\n",
              "      <td>-0.225988</td>\n",
              "      <td>...</td>\n",
              "      <td>-0.065226</td>\n",
              "      <td>0.243014</td>\n",
              "      <td>-0.217824</td>\n",
              "      <td>1.000000</td>\n",
              "      <td>-0.570053</td>\n",
              "      <td>-0.621933</td>\n",
              "      <td>-0.180159</td>\n",
              "      <td>-0.204960</td>\n",
              "      <td>0.330879</td>\n",
              "      <td>0.006209</td>\n",
              "    </tr>\n",
              "    <tr>\n",
              "      <th>Contract_One year</th>\n",
              "      <td>0.007755</td>\n",
              "      <td>-0.046491</td>\n",
              "      <td>0.083067</td>\n",
              "      <td>0.069222</td>\n",
              "      <td>0.202338</td>\n",
              "      <td>-0.003142</td>\n",
              "      <td>-0.003594</td>\n",
              "      <td>0.100658</td>\n",
              "      <td>0.084113</td>\n",
              "      <td>0.102911</td>\n",
              "      <td>...</td>\n",
              "      <td>0.047300</td>\n",
              "      <td>-0.076809</td>\n",
              "      <td>0.038061</td>\n",
              "      <td>-0.570053</td>\n",
              "      <td>1.000000</td>\n",
              "      <td>-0.288843</td>\n",
              "      <td>0.057629</td>\n",
              "      <td>0.067590</td>\n",
              "      <td>-0.109546</td>\n",
              "      <td>0.000197</td>\n",
              "    </tr>\n",
              "    <tr>\n",
              "      <th>Contract_Two year</th>\n",
              "      <td>-0.003603</td>\n",
              "      <td>-0.116205</td>\n",
              "      <td>0.247334</td>\n",
              "      <td>0.201699</td>\n",
              "      <td>0.563801</td>\n",
              "      <td>0.004442</td>\n",
              "      <td>0.106618</td>\n",
              "      <td>0.191698</td>\n",
              "      <td>0.111391</td>\n",
              "      <td>0.165248</td>\n",
              "      <td>...</td>\n",
              "      <td>0.030924</td>\n",
              "      <td>-0.209965</td>\n",
              "      <td>0.217542</td>\n",
              "      <td>-0.621933</td>\n",
              "      <td>-0.288843</td>\n",
              "      <td>1.000000</td>\n",
              "      <td>0.155004</td>\n",
              "      <td>0.174410</td>\n",
              "      <td>-0.281147</td>\n",
              "      <td>-0.007423</td>\n",
              "    </tr>\n",
              "    <tr>\n",
              "      <th>PaymentMethod_Bank transfer</th>\n",
              "      <td>-0.015973</td>\n",
              "      <td>-0.016235</td>\n",
              "      <td>0.111406</td>\n",
              "      <td>0.052369</td>\n",
              "      <td>0.243822</td>\n",
              "      <td>0.008271</td>\n",
              "      <td>0.075429</td>\n",
              "      <td>0.094366</td>\n",
              "      <td>0.086942</td>\n",
              "      <td>0.083047</td>\n",
              "      <td>...</td>\n",
              "      <td>0.024760</td>\n",
              "      <td>-0.022779</td>\n",
              "      <td>-0.001094</td>\n",
              "      <td>-0.180159</td>\n",
              "      <td>0.057629</td>\n",
              "      <td>0.155004</td>\n",
              "      <td>1.000000</td>\n",
              "      <td>-0.278423</td>\n",
              "      <td>-0.377270</td>\n",
              "      <td>-0.288097</td>\n",
              "    </tr>\n",
              "    <tr>\n",
              "      <th>PaymentMethod_Credit card</th>\n",
              "      <td>0.001632</td>\n",
              "      <td>-0.024359</td>\n",
              "      <td>0.082327</td>\n",
              "      <td>0.061134</td>\n",
              "      <td>0.232800</td>\n",
              "      <td>-0.006916</td>\n",
              "      <td>0.060319</td>\n",
              "      <td>0.115473</td>\n",
              "      <td>0.090455</td>\n",
              "      <td>0.111252</td>\n",
              "      <td>...</td>\n",
              "      <td>0.051222</td>\n",
              "      <td>-0.050552</td>\n",
              "      <td>0.001870</td>\n",
              "      <td>-0.204960</td>\n",
              "      <td>0.067590</td>\n",
              "      <td>0.174410</td>\n",
              "      <td>-0.278423</td>\n",
              "      <td>1.000000</td>\n",
              "      <td>-0.373978</td>\n",
              "      <td>-0.285583</td>\n",
              "    </tr>\n",
              "    <tr>\n",
              "      <th>PaymentMethod_Electronic check</th>\n",
              "      <td>0.000844</td>\n",
              "      <td>0.171322</td>\n",
              "      <td>-0.083207</td>\n",
              "      <td>-0.149274</td>\n",
              "      <td>-0.210197</td>\n",
              "      <td>0.002747</td>\n",
              "      <td>0.083583</td>\n",
              "      <td>-0.112295</td>\n",
              "      <td>-0.000364</td>\n",
              "      <td>-0.003308</td>\n",
              "      <td>...</td>\n",
              "      <td>-0.104293</td>\n",
              "      <td>0.335763</td>\n",
              "      <td>-0.284608</td>\n",
              "      <td>0.330879</td>\n",
              "      <td>-0.109546</td>\n",
              "      <td>-0.281147</td>\n",
              "      <td>-0.377270</td>\n",
              "      <td>-0.373978</td>\n",
              "      <td>1.000000</td>\n",
              "      <td>-0.386971</td>\n",
              "    </tr>\n",
              "    <tr>\n",
              "      <th>PaymentMethod_Mailed check</th>\n",
              "      <td>0.013199</td>\n",
              "      <td>-0.152987</td>\n",
              "      <td>-0.096948</td>\n",
              "      <td>0.056448</td>\n",
              "      <td>-0.232181</td>\n",
              "      <td>-0.004463</td>\n",
              "      <td>-0.227672</td>\n",
              "      <td>-0.079918</td>\n",
              "      <td>-0.174075</td>\n",
              "      <td>-0.187325</td>\n",
              "      <td>...</td>\n",
              "      <td>0.042754</td>\n",
              "      <td>-0.305984</td>\n",
              "      <td>0.319694</td>\n",
              "      <td>0.006209</td>\n",
              "      <td>0.000197</td>\n",
              "      <td>-0.007423</td>\n",
              "      <td>-0.288097</td>\n",
              "      <td>-0.285583</td>\n",
              "      <td>-0.386971</td>\n",
              "      <td>1.000000</td>\n",
              "    </tr>\n",
              "  </tbody>\n",
              "</table>\n",
              "<p>27 rows × 27 columns</p>\n",
              "</div>\n",
              "      <button class=\"colab-df-convert\" onclick=\"convertToInteractive('df-6ff7e3c4-336c-4887-96e4-20843894a715')\"\n",
              "              title=\"Convert this dataframe to an interactive table.\"\n",
              "              style=\"display:none;\">\n",
              "        \n",
              "  <svg xmlns=\"http://www.w3.org/2000/svg\" height=\"24px\"viewBox=\"0 0 24 24\"\n",
              "       width=\"24px\">\n",
              "    <path d=\"M0 0h24v24H0V0z\" fill=\"none\"/>\n",
              "    <path d=\"M18.56 5.44l.94 2.06.94-2.06 2.06-.94-2.06-.94-.94-2.06-.94 2.06-2.06.94zm-11 1L8.5 8.5l.94-2.06 2.06-.94-2.06-.94L8.5 2.5l-.94 2.06-2.06.94zm10 10l.94 2.06.94-2.06 2.06-.94-2.06-.94-.94-2.06-.94 2.06-2.06.94z\"/><path d=\"M17.41 7.96l-1.37-1.37c-.4-.4-.92-.59-1.43-.59-.52 0-1.04.2-1.43.59L10.3 9.45l-7.72 7.72c-.78.78-.78 2.05 0 2.83L4 21.41c.39.39.9.59 1.41.59.51 0 1.02-.2 1.41-.59l7.78-7.78 2.81-2.81c.8-.78.8-2.07 0-2.86zM5.41 20L4 18.59l7.72-7.72 1.47 1.35L5.41 20z\"/>\n",
              "  </svg>\n",
              "      </button>\n",
              "      \n",
              "  <style>\n",
              "    .colab-df-container {\n",
              "      display:flex;\n",
              "      flex-wrap:wrap;\n",
              "      gap: 12px;\n",
              "    }\n",
              "\n",
              "    .colab-df-convert {\n",
              "      background-color: #E8F0FE;\n",
              "      border: none;\n",
              "      border-radius: 50%;\n",
              "      cursor: pointer;\n",
              "      display: none;\n",
              "      fill: #1967D2;\n",
              "      height: 32px;\n",
              "      padding: 0 0 0 0;\n",
              "      width: 32px;\n",
              "    }\n",
              "\n",
              "    .colab-df-convert:hover {\n",
              "      background-color: #E2EBFA;\n",
              "      box-shadow: 0px 1px 2px rgba(60, 64, 67, 0.3), 0px 1px 3px 1px rgba(60, 64, 67, 0.15);\n",
              "      fill: #174EA6;\n",
              "    }\n",
              "\n",
              "    [theme=dark] .colab-df-convert {\n",
              "      background-color: #3B4455;\n",
              "      fill: #D2E3FC;\n",
              "    }\n",
              "\n",
              "    [theme=dark] .colab-df-convert:hover {\n",
              "      background-color: #434B5C;\n",
              "      box-shadow: 0px 1px 3px 1px rgba(0, 0, 0, 0.15);\n",
              "      filter: drop-shadow(0px 1px 2px rgba(0, 0, 0, 0.3));\n",
              "      fill: #FFFFFF;\n",
              "    }\n",
              "  </style>\n",
              "\n",
              "      <script>\n",
              "        const buttonEl =\n",
              "          document.querySelector('#df-6ff7e3c4-336c-4887-96e4-20843894a715 button.colab-df-convert');\n",
              "        buttonEl.style.display =\n",
              "          google.colab.kernel.accessAllowed ? 'block' : 'none';\n",
              "\n",
              "        async function convertToInteractive(key) {\n",
              "          const element = document.querySelector('#df-6ff7e3c4-336c-4887-96e4-20843894a715');\n",
              "          const dataTable =\n",
              "            await google.colab.kernel.invokeFunction('convertToInteractive',\n",
              "                                                     [key], {});\n",
              "          if (!dataTable) return;\n",
              "\n",
              "          const docLinkHtml = 'Like what you see? Visit the ' +\n",
              "            '<a target=\"_blank\" href=https://colab.research.google.com/notebooks/data_table.ipynb>data table notebook</a>'\n",
              "            + ' to learn more about interactive tables.';\n",
              "          element.innerHTML = '';\n",
              "          dataTable['output_type'] = 'display_data';\n",
              "          await google.colab.output.renderOutput(dataTable, element);\n",
              "          const docLink = document.createElement('div');\n",
              "          docLink.innerHTML = docLinkHtml;\n",
              "          element.appendChild(docLink);\n",
              "        }\n",
              "      </script>\n",
              "    </div>\n",
              "  </div>\n",
              "  "
            ]
          },
          "metadata": {},
          "execution_count": 137
        }
      ],
      "source": [
        "from sklearn.metrics import confusion_matrix\n",
        "df.corr()"
      ]
    },
    {
      "cell_type": "code",
      "execution_count": 138,
      "metadata": {
        "colab": {
          "base_uri": "https://localhost:8080/",
          "height": 0
        },
        "id": "UB09nteFIPZf",
        "outputId": "d15081e7-9a6b-41e4-cb97-706e94ed1f45"
      },
      "outputs": [
        {
          "output_type": "display_data",
          "data": {
            "text/plain": [
              "<Figure size 1080x720 with 2 Axes>"
            ],
            "image/png": "[encoded data removed]"
          },
          "metadata": {
            "needs_background": "light"
          }
        }
      ],
      "source": [
        "fig, ax = plt.subplots(figsize=(15\n",
        "                                ,10))\n",
        "sns.heatmap(df.corr(), fmt = '.2f', ax=ax, square = True, linecolor = 'white', annot_kws={'size': 20})\n",
        "plt.show()"
      ]
    },
    {
      "cell_type": "markdown",
      "metadata": {
        "id": "aXblprcOZy-O"
      },
      "source": [
        "#Analisando os métodos"
      ]
    },
    {
      "cell_type": "code",
      "execution_count": 139,
      "metadata": {
        "id": "DaqcO5DCEoC-"
      },
      "outputs": [],
      "source": [
        "from sklearn.metrics import classification_report, accuracy_score"
      ]
    },
    {
      "cell_type": "markdown",
      "metadata": {
        "id": "M5SLgi38aGw1"
      },
      "source": [
        "##Logistic Regression"
      ]
    },
    {
      "cell_type": "code",
      "execution_count": 140,
      "metadata": {
        "colab": {
          "base_uri": "https://localhost:8080/"
        },
        "id": "WZo-ecQ8aGOt",
        "outputId": "36422768-4f37-4693-ce04-ea3abfffa419"
      },
      "outputs": [
        {
          "output_type": "execute_result",
          "data": {
            "text/plain": [
              "LogisticRegression(max_iter=200)"
            ]
          },
          "metadata": {},
          "execution_count": 140
        }
      ],
      "source": [
        "from sklearn.linear_model import LogisticRegression\n",
        "\n",
        "lg = LogisticRegression(max_iter= 200)\n",
        "lg.fit(X_train,y_train)"
      ]
    },
    {
      "cell_type": "code",
      "execution_count": 141,
      "metadata": {
        "colab": {
          "base_uri": "https://localhost:8080/"
        },
        "id": "368tlM3rD2hA",
        "outputId": "d678d91a-99d0-4fab-eb4b-99592c02569b"
      },
      "outputs": [
        {
          "output_type": "stream",
          "name": "stdout",
          "text": [
            "Relatório de Classificação:\n",
            "                precision    recall  f1-score   support\n",
            "\n",
            "           0       0.84      0.89      0.86      1033\n",
            "           1       0.63      0.52      0.57       374\n",
            "\n",
            "    accuracy                           0.79      1407\n",
            "   macro avg       0.73      0.70      0.71      1407\n",
            "weighted avg       0.78      0.79      0.78      1407\n",
            "\n",
            "78.96\n"
          ]
        }
      ],
      "source": [
        "y_pred_lg = lg.predict(X_test)\n",
        "lg_accuracy = accuracy_score(y_test,y_pred_lg) * 100\n",
        "print('Relatório de Classificação:\\n ', classification_report(y_test,y_pred_lg, digits = 2))\n",
        "print(f'{lg_accuracy :.2f}')"
      ]
    },
    {
      "cell_type": "code",
      "source": [
        "from sklearn.model_selection import cross_val_score\n",
        "\n",
        "lg_recall = cross_val_score(lg,X_train,y_train, cv = 5, scoring = 'recall')\n",
        "print(lg_recall)\n",
        "print(lg_recall.mean())\n",
        "print(lg_recall.std())"
      ],
      "metadata": {
        "colab": {
          "base_uri": "https://localhost:8080/"
        },
        "id": "cRItXsaEXQjd",
        "outputId": "80ac68ad-0dbe-4e95-fbb6-ee034152bc07"
      },
      "execution_count": 142,
      "outputs": [
        {
          "output_type": "stream",
          "name": "stdout",
          "text": [
            "[0.57190635 0.56187291 0.51505017 0.5451505  0.58528428]\n",
            "0.5558528428093645\n",
            "0.024246914997179753\n"
          ]
        }
      ]
    },
    {
      "cell_type": "markdown",
      "metadata": {
        "id": "_C88nU8jRrjD"
      },
      "source": [
        "##ARVORE DE DECISÃO \n"
      ]
    },
    {
      "cell_type": "code",
      "execution_count": 143,
      "metadata": {
        "colab": {
          "base_uri": "https://localhost:8080/"
        },
        "id": "x5v9x501RrND",
        "outputId": "697a2668-4e97-4ba7-8380-6d23b695c366"
      },
      "outputs": [
        {
          "output_type": "execute_result",
          "data": {
            "text/plain": [
              "DecisionTreeClassifier(criterion='entropy', max_depth=10, random_state=42)"
            ]
          },
          "metadata": {},
          "execution_count": 143
        }
      ],
      "source": [
        "from sklearn.tree import DecisionTreeClassifier\n",
        "\n",
        "tree = DecisionTreeClassifier(max_depth = 10,\n",
        "                              random_state = 42,\n",
        "                              criterion = 'entropy')\n",
        "tree.fit(X_train,y_train)"
      ]
    },
    {
      "cell_type": "code",
      "execution_count": 144,
      "metadata": {
        "colab": {
          "base_uri": "https://localhost:8080/"
        },
        "id": "n4Nmre-zSdUa",
        "outputId": "bac179fe-2d30-460a-afa4-6d1d0e98a6ee"
      },
      "outputs": [
        {
          "output_type": "stream",
          "name": "stdout",
          "text": [
            "Relatório de Classificação:\n",
            "                precision    recall  f1-score   support\n",
            "\n",
            "           0       0.83      0.83      0.83      1033\n",
            "           1       0.54      0.55      0.54       374\n",
            "\n",
            "    accuracy                           0.75      1407\n",
            "   macro avg       0.69      0.69      0.69      1407\n",
            "weighted avg       0.76      0.75      0.76      1407\n",
            "\n",
            "75.48%\n"
          ]
        }
      ],
      "source": [
        "tree_pred = tree.predict(X_test)\n",
        "\n",
        "tree_accuracy = accuracy_score(y_test,tree_pred) * 100\n",
        "print('Relatório de Classificação:\\n ', classification_report(y_test,tree_pred, digits = 2))\n",
        "print(f'{tree_accuracy:.2f}%')"
      ]
    },
    {
      "cell_type": "markdown",
      "metadata": {
        "id": "zJvgnhSRSwaD"
      },
      "source": [
        "Nesse momento irei uttilizar a função grid_search para encontrar os melhores criterios para esse método."
      ]
    },
    {
      "cell_type": "code",
      "source": [
        "tree_recall = cross_val_score(tree,X_train,y_train, cv = 5, scoring = 'recall')\n",
        "print(tree_recall)\n",
        "print(tree_recall.mean())\n",
        "print(tree_recall.std())"
      ],
      "metadata": {
        "colab": {
          "base_uri": "https://localhost:8080/"
        },
        "id": "ylaTsbt_ZMQW",
        "outputId": "a523a4f0-12d4-4341-c084-9f7725268b74"
      },
      "execution_count": 145,
      "outputs": [
        {
          "output_type": "stream",
          "name": "stdout",
          "text": [
            "[0.55518395 0.55852843 0.54849498 0.4916388  0.47826087]\n",
            "0.5264214046822742\n",
            "0.034277265485803204\n"
          ]
        }
      ]
    },
    {
      "cell_type": "markdown",
      "metadata": {
        "id": "CzWrv0226Y2q"
      },
      "source": [
        "##SVM"
      ]
    },
    {
      "cell_type": "code",
      "execution_count": 146,
      "metadata": {
        "colab": {
          "base_uri": "https://localhost:8080/"
        },
        "id": "t45JO9C1fOTS",
        "outputId": "c59fccec-50b6-45e8-ad52-b5a05be40fb7"
      },
      "outputs": [
        {
          "output_type": "execute_result",
          "data": {
            "text/plain": [
              "SVC(random_state=42)"
            ]
          },
          "metadata": {},
          "execution_count": 146
        }
      ],
      "source": [
        "from sklearn.svm import SVC\n",
        "\n",
        "svc = SVC(random_state = 42)\n",
        "\n",
        "svc.fit(X_train, y_train)\n"
      ]
    },
    {
      "cell_type": "code",
      "execution_count": 147,
      "metadata": {
        "colab": {
          "base_uri": "https://localhost:8080/"
        },
        "id": "k7MfPPcE7AIk",
        "outputId": "a6ee0bac-9f50-4863-e104-bb05f1ed3358"
      },
      "outputs": [
        {
          "output_type": "stream",
          "name": "stdout",
          "text": [
            "Relatório de Classificação:\n",
            "                precision    recall  f1-score   support\n",
            "\n",
            "           0       0.83      0.91      0.87      1033\n",
            "           1       0.65      0.48      0.55       374\n",
            "\n",
            "    accuracy                           0.79      1407\n",
            "   macro avg       0.74      0.69      0.71      1407\n",
            "weighted avg       0.78      0.79      0.78      1407\n",
            "\n",
            "79.39%\n"
          ]
        }
      ],
      "source": [
        "svc_pred = svc.predict(X_test)\n",
        "\n",
        "svc_accuracy = (accuracy_score(y_test,svc_pred) * 100)\n",
        "print('Relatório de Classificação:\\n ', classification_report(y_test,svc_pred, digits = 2))\n",
        "print(f'{svc_accuracy:.2f}%')"
      ]
    },
    {
      "cell_type": "code",
      "source": [
        "svc_recall = cross_val_score(svc,X_train,y_train, cv = 5, scoring = 'recall')\n",
        "print(svc_recall)\n",
        "print(svc_recall.mean())\n",
        "print(svc_recall.std())"
      ],
      "metadata": {
        "colab": {
          "base_uri": "https://localhost:8080/"
        },
        "id": "tQ7p3On0ZV1w",
        "outputId": "86c2c78d-327d-4a3d-bd8c-2e9cb13e9962"
      },
      "execution_count": 148,
      "outputs": [
        {
          "output_type": "stream",
          "name": "stdout",
          "text": [
            "[0.49832776 0.49832776 0.49498328 0.5083612  0.5451505 ]\n",
            "0.5090301003344482\n",
            "0.018609267883937856\n"
          ]
        }
      ]
    },
    {
      "cell_type": "markdown",
      "source": [
        "##XGBOOST"
      ],
      "metadata": {
        "id": "4AjhbQ1Tnkxa"
      }
    },
    {
      "cell_type": "code",
      "source": [
        "from xgboost import XGBClassifier\n",
        "\n",
        "xgb = XGBClassifier()\n",
        "\n",
        "xgb.fit(X_train,y_train)"
      ],
      "metadata": {
        "colab": {
          "base_uri": "https://localhost:8080/"
        },
        "id": "GnJ__J_RnpTy",
        "outputId": "c43fd9da-31d0-4089-b96d-8a873c5f284f"
      },
      "execution_count": 149,
      "outputs": [
        {
          "output_type": "execute_result",
          "data": {
            "text/plain": [
              "XGBClassifier()"
            ]
          },
          "metadata": {},
          "execution_count": 149
        }
      ]
    },
    {
      "cell_type": "code",
      "source": [
        "xgb_pred = xgb.predict(X_test)\n",
        "\n",
        "xgb_accuracy = (accuracy_score(y_test,xgb_pred) * 100)\n",
        "print('Relatório de Classificação:\\n ', classification_report(y_test,xgb_pred, digits = 2))\n",
        "print(f'{xgb_accuracy:.2f}%')"
      ],
      "metadata": {
        "colab": {
          "base_uri": "https://localhost:8080/"
        },
        "id": "46zqenVqqS1F",
        "outputId": "5ad0228e-1f29-4ff8-d0a9-d5d3458f2303"
      },
      "execution_count": 150,
      "outputs": [
        {
          "output_type": "stream",
          "name": "stdout",
          "text": [
            "Relatório de Classificação:\n",
            "                precision    recall  f1-score   support\n",
            "\n",
            "           0       0.83      0.90      0.86      1033\n",
            "           1       0.64      0.49      0.55       374\n",
            "\n",
            "    accuracy                           0.79      1407\n",
            "   macro avg       0.73      0.69      0.71      1407\n",
            "weighted avg       0.78      0.79      0.78      1407\n",
            "\n",
            "78.96%\n"
          ]
        }
      ]
    },
    {
      "cell_type": "code",
      "source": [
        "xgb_recall = cross_val_score(xgb,X_train,y_train, cv = 5, scoring = 'recall')\n",
        "print(xgb_recall)\n",
        "print(xgb_recall.mean())\n",
        "print(xgb_recall.std())"
      ],
      "metadata": {
        "colab": {
          "base_uri": "https://localhost:8080/"
        },
        "id": "p4XY12jHZjz9",
        "outputId": "56919152-4656-47ed-97ec-6654108eac85"
      },
      "execution_count": 151,
      "outputs": [
        {
          "output_type": "stream",
          "name": "stdout",
          "text": [
            "[0.54849498 0.55183946 0.48829431 0.55183946 0.56187291]\n",
            "0.5404682274247492\n",
            "0.026470045401216544\n"
          ]
        }
      ]
    },
    {
      "cell_type": "markdown",
      "source": [
        "##Random Forest"
      ],
      "metadata": {
        "id": "UNqxG33juOA3"
      }
    },
    {
      "cell_type": "code",
      "source": [
        "from sklearn.ensemble import RandomForestClassifier\n",
        "\n",
        "forest = RandomForestClassifier(max_depth = 10,\n",
        "                              criterion = 'entropy',\n",
        "                              random_state = 42)\n",
        "\n",
        "forest.fit(X_train, y_train)"
      ],
      "metadata": {
        "colab": {
          "base_uri": "https://localhost:8080/"
        },
        "id": "eThX9KXOuTNf",
        "outputId": "1719b05b-b556-4b48-cb35-94ddfa1e9b3d"
      },
      "execution_count": 152,
      "outputs": [
        {
          "output_type": "execute_result",
          "data": {
            "text/plain": [
              "RandomForestClassifier(criterion='entropy', max_depth=10, random_state=42)"
            ]
          },
          "metadata": {},
          "execution_count": 152
        }
      ]
    },
    {
      "cell_type": "code",
      "source": [
        "forest_pred = forest.predict(X_test)\n",
        "\n",
        "forest_accuracy = (accuracy_score(y_test,forest_pred) * 100)\n",
        "print('Relatório de Classificação:\\n ', classification_report(y_test,forest_pred, digits = 2))\n",
        "print(f'{xgb_accuracy:.2f}%')"
      ],
      "metadata": {
        "colab": {
          "base_uri": "https://localhost:8080/"
        },
        "id": "ncgLJ53vuYYt",
        "outputId": "98e009af-d9c6-4b4e-d708-bf82290aa8a4"
      },
      "execution_count": 153,
      "outputs": [
        {
          "output_type": "stream",
          "name": "stdout",
          "text": [
            "Relatório de Classificação:\n",
            "                precision    recall  f1-score   support\n",
            "\n",
            "           0       0.83      0.90      0.86      1033\n",
            "           1       0.63      0.49      0.56       374\n",
            "\n",
            "    accuracy                           0.79      1407\n",
            "   macro avg       0.73      0.70      0.71      1407\n",
            "weighted avg       0.78      0.79      0.78      1407\n",
            "\n",
            "78.96%\n"
          ]
        }
      ]
    },
    {
      "cell_type": "code",
      "source": [
        "forest_recall = cross_val_score(forest,X_train,y_train, cv = 5, scoring = 'recall')\n",
        "print(forest_recall)\n",
        "print(forest_recall.mean())\n",
        "print(forest_recall.std())"
      ],
      "metadata": {
        "colab": {
          "base_uri": "https://localhost:8080/"
        },
        "id": "hNmls8UaZsCt",
        "outputId": "9e52cd80-12c7-41f0-ae2f-abd914f9b8e1"
      },
      "execution_count": 154,
      "outputs": [
        {
          "output_type": "stream",
          "name": "stdout",
          "text": [
            "[0.56187291 0.54180602 0.50167224 0.52508361 0.56856187]\n",
            "0.5397993311036788\n",
            "0.024449052685614786\n"
          ]
        }
      ]
    },
    {
      "cell_type": "markdown",
      "source": [
        "##LightTGBM\n"
      ],
      "metadata": {
        "id": "GdV0H1sjzVxV"
      }
    },
    {
      "cell_type": "code",
      "source": [
        "import lightgbm as ltb\n",
        "\n",
        "light = ltb.LGBMClassifier()\n",
        "\n",
        "light.fit(X_train,y_train)"
      ],
      "metadata": {
        "id": "q6E_hTwp6JtL",
        "colab": {
          "base_uri": "https://localhost:8080/"
        },
        "outputId": "99741406-6118-4306-fad7-cbf1293c643e"
      },
      "execution_count": 155,
      "outputs": [
        {
          "output_type": "execute_result",
          "data": {
            "text/plain": [
              "LGBMClassifier()"
            ]
          },
          "metadata": {},
          "execution_count": 155
        }
      ]
    },
    {
      "cell_type": "code",
      "source": [
        "light_pred = light.predict(X_test)\n",
        "\n",
        "light_accuracy = (accuracy_score(y_test,light_pred) * 100)\n",
        "print('Relatório de Classificação:\\n ', classification_report(y_test,light_pred, digits = 2))\n",
        "print(f'{xgb_accuracy:.2f}%')"
      ],
      "metadata": {
        "colab": {
          "base_uri": "https://localhost:8080/"
        },
        "id": "2NWgDkcnzwqZ",
        "outputId": "692dfb0b-b445-46ad-d45c-6b60a20f9f5e"
      },
      "execution_count": 156,
      "outputs": [
        {
          "output_type": "stream",
          "name": "stdout",
          "text": [
            "Relatório de Classificação:\n",
            "                precision    recall  f1-score   support\n",
            "\n",
            "           0       0.83      0.89      0.86      1033\n",
            "           1       0.62      0.51      0.56       374\n",
            "\n",
            "    accuracy                           0.79      1407\n",
            "   macro avg       0.73      0.70      0.71      1407\n",
            "weighted avg       0.78      0.79      0.78      1407\n",
            "\n",
            "78.96%\n"
          ]
        }
      ]
    },
    {
      "cell_type": "code",
      "source": [
        "light_recall = cross_val_score(light,X_train,y_train, cv = 5, scoring = 'recall')\n",
        "print(light_recall)\n",
        "print(light_recall.mean())\n",
        "print(light_recall.std())"
      ],
      "metadata": {
        "colab": {
          "base_uri": "https://localhost:8080/"
        },
        "id": "tsCjU1bUZ3Sx",
        "outputId": "9dbb54bc-19ca-4ece-c184-197db2223380"
      },
      "execution_count": 157,
      "outputs": [
        {
          "output_type": "stream",
          "name": "stdout",
          "text": [
            "[0.56521739 0.55183946 0.49498328 0.52842809 0.56521739]\n",
            "0.5411371237458193\n",
            "0.026705638498564704\n"
          ]
        }
      ]
    },
    {
      "cell_type": "markdown",
      "source": [
        "#Avaliando as Métricas"
      ],
      "metadata": {
        "id": "RcywzaEI6Gb7"
      }
    },
    {
      "cell_type": "code",
      "source": [
        "print(f'Acurácia Suport Vector Machine: {svc_accuracy:.2f} / Recall: {svc_recall.mean():.2f}')\n",
        "print(f'Acurácia Árvore de Decisão: {tree_accuracy:.2f} / Recall: {tree_recall.mean():.2f}')\n",
        "print(f'Acurácia Regressão Logistica: {lg_accuracy:.2f} / Recall: {lg_recall.mean():.2f}')\n",
        "print(f'Acurácia XGBOOST: {xgb_accuracy:.2f} / Recall: {xgb_recall.mean():.2f}')\n",
        "print(f'Acurácia Floresta de Decisão: {forest_accuracy:.2f} / Recall: {forest_recall.mean():.2f}')\n",
        "print(f'Acurácia LightTGBM: {light_accuracy:.2f} / Recall: {light_recall.mean():.2f}')"
      ],
      "metadata": {
        "colab": {
          "base_uri": "https://localhost:8080/"
        },
        "id": "zSZHEOu26Fjc",
        "outputId": "2576ba62-f91d-47ec-b368-258c423012de"
      },
      "execution_count": 158,
      "outputs": [
        {
          "output_type": "stream",
          "name": "stdout",
          "text": [
            "Acurácia Suport Vector Machine: 79.39 / Recall: 0.51\n",
            "Acurácia Árvore de Decisão: 75.48 / Recall: 0.53\n",
            "Acurácia Regressão Logistica: 78.96 / Recall: 0.56\n",
            "Acurácia XGBOOST: 78.96 / Recall: 0.54\n",
            "Acurácia Floresta de Decisão: 78.96 / Recall: 0.54\n",
            "Acurácia LightTGBM: 78.82 / Recall: 0.54\n"
          ]
        }
      ]
    },
    {
      "cell_type": "markdown",
      "source": [
        "Para essa situação a acurácia não é a melhor métrica para se avalia, já que não precisamos da porcentagem da exatidão entre os valores positivos e negativos do dataset. Nessa situação o objetivo é saber qual a porcentagem do nosso modelo para prever um resultado positivo, para essa essa situação precisamos ter uma maior sensibilidade em nosso sistema por isso iremos utilizar como base o \"Recall\"."
      ],
      "metadata": {
        "id": "KrHfzmkbaite"
      }
    },
    {
      "cell_type": "markdown",
      "source": [
        "Dentre esses modelos, o modelo ***XGBOOST*** será o utilizado ao longo desse trabalho. Esse modelo é muito utilizado nos desagios *Kaggle* e ele nos mostra uma amrgem de melhora bem maior que os outros modelos ao longo do Grid_Search que será a próxima etapa utilizada nesse modelo."
      ],
      "metadata": {
        "id": "DoLXetUpbxnU"
      }
    },
    {
      "cell_type": "markdown",
      "source": [
        "#Melhorando os Hiperparametros"
      ],
      "metadata": {
        "id": "0fpNsJN4eoK0"
      }
    },
    {
      "cell_type": "markdown",
      "source": [
        "###Grid Search"
      ],
      "metadata": {
        "id": "7jxUaKhbxvLk"
      }
    },
    {
      "cell_type": "markdown",
      "source": [
        "Para maior rapidez no processo, o grid search será dividido em diversas etapas para que possa ter uma maior fluidez do computador."
      ],
      "metadata": {
        "id": "tM5ym-kFuSii"
      }
    },
    {
      "cell_type": "code",
      "source": [
        "param = {\n",
        "    'n_estimators': range(0,1000,50)}"
      ],
      "metadata": {
        "id": "EK1Smz_aen1K"
      },
      "execution_count": 159,
      "outputs": []
    },
    {
      "cell_type": "code",
      "source": [
        "from sklearn.model_selection import GridSearchCV\n",
        "\n",
        "gs_xgb = GridSearchCV(estimator = xgb, param_grid = param,scoring = 'recall',cv = 5)\n",
        "gs_xgb.fit(X_train,y_train)\n",
        "print(f\"Melhor: {gs_xgb.best_score_} usando {gs_xgb.best_params_}\")"
      ],
      "metadata": {
        "id": "9RYObjhugmmh",
        "colab": {
          "base_uri": "https://localhost:8080/"
        },
        "outputId": "35fcf705-9841-49ec-ab5d-3d89b3dfbd33"
      },
      "execution_count": 160,
      "outputs": [
        {
          "output_type": "stream",
          "name": "stdout",
          "text": [
            "Melhor: 0.5518394648829431 usando {'n_estimators': 350}\n"
          ]
        }
      ]
    },
    {
      "cell_type": "code",
      "source": [
        "xgb = XGBClassifier(n_estimator = 350)"
      ],
      "metadata": {
        "id": "PenP8hNOu1uK"
      },
      "execution_count": 161,
      "outputs": []
    },
    {
      "cell_type": "code",
      "source": [
        "param = {\n",
        "    'max_depth': range(1,8,1),\n",
        "    'min_child_weight': (1,5,1)\n",
        "}"
      ],
      "metadata": {
        "id": "IDY0mwT_vTKc"
      },
      "execution_count": 162,
      "outputs": []
    },
    {
      "cell_type": "code",
      "source": [
        "from sklearn.model_selection import GridSearchCV\n",
        "\n",
        "gs_xgb = GridSearchCV(estimator = xgb, param_grid = param,scoring = 'recall',cv = 5)\n",
        "gs_xgb.fit(X_train,y_train)\n",
        "print(f\"Melhor: {gs_xgb.best_score_} usando {gs_xgb.best_params_}\")"
      ],
      "metadata": {
        "colab": {
          "base_uri": "https://localhost:8080/"
        },
        "id": "y1Jg6BhvwINL",
        "outputId": "ed85510d-04e1-4a76-e5f9-32a7274e3cf5"
      },
      "execution_count": 163,
      "outputs": [
        {
          "output_type": "stream",
          "name": "stdout",
          "text": [
            "Melhor: 0.5511705685618729 usando {'max_depth': 4, 'min_child_weight': 1}\n"
          ]
        }
      ]
    },
    {
      "cell_type": "code",
      "source": [
        "xgb = XGBClassifier(n_estimator = 350,max_depth = 4, min_child_weight = 1)"
      ],
      "metadata": {
        "id": "05HxBEDJwdgl"
      },
      "execution_count": 164,
      "outputs": []
    },
    {
      "cell_type": "code",
      "source": [
        "param = {\n",
        "    'gamma': [0,0.1,0.2,0.4,0.8,1.6,3.2,6.4,12.8,25.6,51.2,102.4, 200]}"
      ],
      "metadata": {
        "id": "Lka5J95Awrrd"
      },
      "execution_count": 165,
      "outputs": []
    },
    {
      "cell_type": "code",
      "source": [
        "gs_xgb = GridSearchCV(estimator = xgb, param_grid = param,scoring = 'recall',cv = 5)\n",
        "gs_xgb.fit(X_train,y_train)\n",
        "print(f\"Melhor: {gs_xgb.best_score_} usando {gs_xgb.best_params_}\")"
      ],
      "metadata": {
        "colab": {
          "base_uri": "https://localhost:8080/"
        },
        "id": "Hw5W60YUw0Hb",
        "outputId": "97e55407-1859-4b90-adf5-4a8fa7945c09"
      },
      "execution_count": 166,
      "outputs": [
        {
          "output_type": "stream",
          "name": "stdout",
          "text": [
            "Melhor: 0.5511705685618729 usando {'gamma': 0}\n"
          ]
        }
      ]
    },
    {
      "cell_type": "code",
      "source": [
        "xgb = XGBClassifier(n_estimator = 350,max_depth = 4, min_child_weight = 1,gamma = 0 )"
      ],
      "metadata": {
        "id": "mEx7h2cLxA3A"
      },
      "execution_count": 167,
      "outputs": []
    },
    {
      "cell_type": "code",
      "source": [
        "param = {\n",
        "    'learning_rate': [0.01, 0.03, 0.06, 0.1, 0.15, 0.2, 0.25, 0.300000012, 0.4, 0.5, 0.6, 0.7] }"
      ],
      "metadata": {
        "id": "AhgZquqvxIP5"
      },
      "execution_count": 168,
      "outputs": []
    },
    {
      "cell_type": "code",
      "source": [
        "gs_xgb = GridSearchCV(estimator = xgb, param_grid = param,scoring = 'recall',cv = 5)\n",
        "gs_xgb.fit(X_train,y_train)\n",
        "print(f\"Melhor: {gs_xgb.best_score_} usando {gs_xgb.best_params_}\")"
      ],
      "metadata": {
        "colab": {
          "base_uri": "https://localhost:8080/"
        },
        "id": "L4jTcNNmxPpC",
        "outputId": "d04d554e-b4d2-416c-fa05-e90d223a9312"
      },
      "execution_count": 169,
      "outputs": [
        {
          "output_type": "stream",
          "name": "stdout",
          "text": [
            "Melhor: 0.5511705685618729 usando {'learning_rate': 0.1}\n"
          ]
        }
      ]
    },
    {
      "cell_type": "markdown",
      "source": [
        "###Modelo Final\n"
      ],
      "metadata": {
        "id": "c2Z61h9GxgLy"
      }
    },
    {
      "cell_type": "code",
      "source": [
        "xgb = XGBClassifier(n_estimator = 350,max_depth = 4, min_child_weight = 1,gamma = 0, learning_rate = 0.1)\n",
        "\n",
        "xgb.fit(X_train,y_train)"
      ],
      "metadata": {
        "colab": {
          "base_uri": "https://localhost:8080/"
        },
        "id": "-dOQSGw0xjrV",
        "outputId": "7d7f984b-5e8b-4b73-b9f4-c12f4ffdf3eb"
      },
      "execution_count": 170,
      "outputs": [
        {
          "output_type": "execute_result",
          "data": {
            "text/plain": [
              "XGBClassifier(max_depth=4, n_estimator=350)"
            ]
          },
          "metadata": {},
          "execution_count": 170
        }
      ]
    },
    {
      "cell_type": "code",
      "source": [
        "xgb_pred = xgb.predict(X_test)\n",
        "\n",
        "xgb_accuracy_final = (accuracy_score(y_test,xgb_pred) * 100)\n",
        "print('Relatório de Classificação:\\n ', classification_report(y_test,xgb_pred, digits = 2))\n",
        "print(f'{xgb_accuracy:.2f}%')"
      ],
      "metadata": {
        "colab": {
          "base_uri": "https://localhost:8080/"
        },
        "id": "GrwAXfrEyAN6",
        "outputId": "fc381454-5c0b-4b5d-8292-54cc457fe289"
      },
      "execution_count": 171,
      "outputs": [
        {
          "output_type": "stream",
          "name": "stdout",
          "text": [
            "Relatório de Classificação:\n",
            "                precision    recall  f1-score   support\n",
            "\n",
            "           0       0.83      0.90      0.87      1033\n",
            "           1       0.65      0.50      0.56       374\n",
            "\n",
            "    accuracy                           0.79      1407\n",
            "   macro avg       0.74      0.70      0.71      1407\n",
            "weighted avg       0.78      0.79      0.79      1407\n",
            "\n",
            "78.96%\n"
          ]
        }
      ]
    },
    {
      "cell_type": "code",
      "source": [
        "xgb_recall_final = cross_val_score(xgb,X_train,y_train, cv = 5, scoring = 'recall')\n",
        "print(xgb_recall_final)\n",
        "print(xgb_recall_final.mean())\n",
        "print(xgb_recall_final.std())"
      ],
      "metadata": {
        "colab": {
          "base_uri": "https://localhost:8080/"
        },
        "id": "-WwPMkDyyOk5",
        "outputId": "4c7d1a08-2b3a-4e34-cf8b-56779d905a2e"
      },
      "execution_count": 172,
      "outputs": [
        {
          "output_type": "stream",
          "name": "stdout",
          "text": [
            "[0.57525084 0.54849498 0.51505017 0.56187291 0.55518395]\n",
            "0.5511705685618729\n",
            "0.02011143328210421\n"
          ]
        }
      ]
    },
    {
      "cell_type": "code",
      "source": [
        "print(f'Em relação ao modelo de XGBOOST anterior tivemos um aumento tanto na sua acurácia {(xgb_accuracy_final) - (xgb_accuracy)} e também tivemos o aumento do Recall {(xgb_recall_final.mean()) - (xgb_recall.mean())}' )"
      ],
      "metadata": {
        "colab": {
          "base_uri": "https://localhost:8080/"
        },
        "id": "_pryuTh-ykJN",
        "outputId": "5d8ba759-236b-47bc-c14e-55a14eeaeaf4"
      },
      "execution_count": 173,
      "outputs": [
        {
          "output_type": "stream",
          "name": "stdout",
          "text": [
            "Em relação ao modelo de XGBOOST anterior tivemos um aumento tanto na sua acurácia 0.4975124378109399 e também tivemos o aumento do Recall 0.01070234113712365\n"
          ]
        }
      ]
    },
    {
      "cell_type": "markdown",
      "source": [
        "Com a utilização do grid_search tivemos um aumento nas duas métricas que estavam sendo utilizadas no sistema. Mas podemos melhorar ainda mais o progrma utilizando o Ensemble Learning - Bagging."
      ],
      "metadata": {
        "id": "Fbeno2ZczeAN"
      }
    },
    {
      "cell_type": "markdown",
      "source": [
        "#Utilizando o Ensemble"
      ],
      "metadata": {
        "id": "SfT32u4Kz9pP"
      }
    },
    {
      "cell_type": "code",
      "source": [
        "from sklearn.ensemble import GradientBoostingClassifier\n",
        "\n",
        "gb = GradientBoostingClassifier(n_estimators = 350,max_depth = 4, learning_rate = 0.1,random_state = 42)"
      ],
      "metadata": {
        "id": "OVjBYviM0ClT"
      },
      "execution_count": 174,
      "outputs": []
    },
    {
      "cell_type": "code",
      "source": [
        "bag_recall = cross_val_score(gb,X_train,y_train, cv = 5, scoring = 'recall')\n",
        "print(bag_recall)\n",
        "print(bag_recall.mean())\n",
        "print(bag_recall.std())"
      ],
      "metadata": {
        "colab": {
          "base_uri": "https://localhost:8080/"
        },
        "id": "AlApBhIQ1hdS",
        "outputId": "f23f52f0-d1b3-4a40-efbf-4c566b3a4fbc"
      },
      "execution_count": 175,
      "outputs": [
        {
          "output_type": "stream",
          "name": "stdout",
          "text": [
            "[0.55518395 0.51839465 0.48829431 0.55183946 0.5451505 ]\n",
            "0.5317725752508361\n",
            "0.025294542342727794\n"
          ]
        }
      ]
    },
    {
      "cell_type": "code",
      "source": [
        "print(f'''Em relação ao modelo de XGBOOST anterior tivemos uma diferença no Recall de {(bag_recall.mean()) - (xgb_recall_final.mean())}''' )"
      ],
      "metadata": {
        "colab": {
          "base_uri": "https://localhost:8080/"
        },
        "id": "7mGRhE7V1rjY",
        "outputId": "2aef98f6-3050-43db-9751-7e5c817da5eb"
      },
      "execution_count": 176,
      "outputs": [
        {
          "output_type": "stream",
          "name": "stdout",
          "text": [
            "Em relação ao modelo de XGBOOST anterior tivemos uma diferença no Recall de -0.019397993311036754\n"
          ]
        }
      ]
    },
    {
      "cell_type": "markdown",
      "source": [
        "Para essa situação a utilização do ENSEMBLE não é boa para nosso sistema, sendo assim está será descartada."
      ],
      "metadata": {
        "id": "ngwOWZ725dUa"
      }
    },
    {
      "cell_type": "markdown",
      "source": [
        "#Conclusão\n"
      ],
      "metadata": {
        "id": "sdvSNmod6M_e"
      }
    },
    {
      "cell_type": "markdown",
      "source": [
        "Neste case, foi passado de ponta a ponta todos os processos que podem ser envolvidos em um caso de Machine Learning. As etapas foram se desenvolvendo ao longo de todo projeto, onde se inciou apenas exportando e limpando os dados do dataset até o melhoramento dos Hiperparametros do melhor método."
      ],
      "metadata": {
        "id": "g_NaBK-y6Pya"
      }
    }
  ],
  "metadata": {
    "colab": {
      "collapsed_sections": [
        "0HVmpIxQWT4Y",
        "-4saUWp5ZZ90",
        "u7gN1TbmuP6b",
        "GA4Qf55vvvS1",
        "kZPZUDVT_org",
        "aXblprcOZy-O",
        "M5SLgi38aGw1",
        "_C88nU8jRrjD",
        "CzWrv0226Y2q",
        "4AjhbQ1Tnkxa",
        "UNqxG33juOA3",
        "GdV0H1sjzVxV",
        "RcywzaEI6Gb7",
        "0fpNsJN4eoK0",
        "7jxUaKhbxvLk",
        "c2Z61h9GxgLy",
        "SfT32u4Kz9pP"
      ],
      "name": "Churn Prediction para uma empresa de Telecomunicações - Lucas Melo.ipynb",
      "provenance": [],
      "include_colab_link": true
    },
    "kernelspec": {
      "display_name": "Python 3",
      "name": "python3"
    }
  },
  "nbformat": 4,
  "nbformat_minor": 0
}