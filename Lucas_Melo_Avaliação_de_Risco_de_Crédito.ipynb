{
  "cells": [
    {
      "cell_type": "markdown",
      "metadata": {
        "id": "view-in-github",
        "colab_type": "text"
      },
      "source": [
        "<a href=\"https://colab.research.google.com/github/Lucas-Melo-A-S/Data_Science/blob/main/Lucas_Melo_Avalia%C3%A7%C3%A3o_de_Risco_de_Cr%C3%A9dito.ipynb\" target=\"_parent\"><img src=\"https://colab.research.google.com/assets/colab-badge.svg\" alt=\"Open In Colab\"/></a>"
      ]
    },
    {
      "cell_type": "markdown",
      "metadata": {
        "id": "X2k0C9ObFWpR"
      },
      "source": [
        "<img alt=\"Colaboratory logo\" width=\"15%\" src=\"https://raw.githubusercontent.com/carlosfab/escola-data-science/master/img/novo_logo_bg_claro.png\">\n",
        "\n",
        "#### **Data Science na Prática 3.0**\n",
        "*by [sigmoidal.ai](https://sigmoidal.ai)*\n",
        "\n",
        "---"
      ]
    },
    {
      "cell_type": "markdown",
      "metadata": {
        "id": "ZNvmL_lMsAqU"
      },
      "source": [
        "# Avaliação de Risco de Crédito\n",
        "\n",
        "Avaliar se uma pessoa irá deixar de cumprir com suas obrigações financeiras é de extrema importância, e pode causar um grande impacto no balanço da Instituição. Por isso é de extrema importancia para uma empresa analisar se vale apenas ou não oferecer qualquer tipo de crédito para determinada instituição ou pessoal. Segundo estudos realizados pelo Serasa em maio de 2021, \"o Mapa da Inadimplência, aponta que o Brasil apresenta cerca de 62,5 milhões de consumidores inadimplentes\", sendo este um dado preocupante para qualquer empresa que forneça crédito. \n",
        "\n",
        "Visando diminuir o numero de inadipplentes se utiliza o processo de analise de credito que consiste na busca do maior número de informações financeiras possíveis a respeito do solicitante, avaliando o potencial de retorno, para definir a concessão ou não do valor requisitado. Ou seja, a analise de crédito nada mais é que um processo que verifica e valida as informações dos solicitantes de financiamento, empréstimos e créditos pessoais, identificando os riscos para a instituição que está concedendo o valor solicitado.\n",
        "\n",
        "<p align=center>\n",
        "  <img src=\"https://www.fenacor.org.br/admin/conteudo/news/interna/0f7ce6b8-ff08-47f6-ac57-0ffcbf2a5f25.jpg\" width=\"60%\">\n",
        "</p>\n",
        "\n",
        "Muitas empresas já estão utilizando a tecnologia com o intuito de acelerar, automatizar e melhorar o processo de analises, estas estão se utilizando de ferramentas como Big Data e Inteligência Artificial, que tornam possível uma análise de crédito completa de seu próprio banco de dados e o do cliente, assim como diversas informações públicas e do mercado, cruzando as centenas de dados disponíveis em poucos minutos, com segurança, assertividade e de acordo com padrões pré-definidos pela companhia. Cada vez mais, soluções vêm sendo desenvolvidas e aprimoradas visando minimizar o risco de *default*. \n",
        "\n",
        "\n",
        "\n",
        "*Default* é o termo utilizado para indicado o não cumprimento das obrigações e/ou condições de um empréstimo (como financiamentos ou dívidas de cartão de crédito). Normalmente, o principal motivo para o descumprimento das condições de pagamento é incapacidade financeira do cliente.\n",
        "\n",
        "<p align=center>\n",
        "  <img src=\"https://images.unsplash.com/photo-1556742502-ec7c0e9f34b1?ixid=MnwxMjA3fDB8MHxwaG90by1wYWdlfHx8fGVufDB8fHx8&ixlib=rb-1.2.1&auto=format&fit=crop&w=687&q=80\" width=\"40%\">\n",
        "</p>\n",
        " \n",
        "Grandes bancos e Fintechs têm apostado cada vez mais em modelos de *Machine Learning* para previnir a inadimplência de alguns clientes.\n",
        "\n",
        "Dentre as principais instituições financeira, o [Nubank](https://nubank.com.br/sobre-nos) é uma das que mais tem se destacado no uso de Inteligência Artificial e times de *Data Science*.\n",
        "\n",
        "O conjunto de dados a ser utilizado neste Projeto de *Data Science* parte de uma competição realizada pela Startup [Nubank](https://nubank.com.br/sobre-nos) a fim de revelar talentos e potenciais contratações pela Fintech.\n"
      ]
    },
    {
      "cell_type": "markdown",
      "source": [
        "## Contextualização do Problema\n",
        "\n",
        "No problema que iremos trabalhar hoje tem como o objetivo prever qual a probabilidade de um cliente da Startup Nubank não coumprir com suas obrigações financeiras e deixar de pagar a sua fatura do Cartão de Crédito.\n",
        "\n",
        "<p align=center>\n",
        "<img src=\"https://www.authlete.com/img/news/20210524_nubank.png\" width=\"250px\"></p>\n",
        "\n",
        "A nubank é uma fintech brasileira fundada em 6 de maio de 2013 que ganhou notoriedade apenas em 2014, quando seu cartão de credito ROXO ganhou destaque por ser sem anuidade, sendo toda sua conta monitorada e controlada por um aplicativo de celular. Devido a essa adaptação ao mundo da tecnologia que cada dia crescia mais naquela época, a empresa começou a \"brigar\" com os grandes Bancos.\n",
        "Com o passar dos anos, a empresa foi ganhando cada vez mais notoriedade e poder no mercado até que em 2017 ela lançou a sua NuConta que tinha como destaque o rendimento automatico de 100% do CDI ( [Certificado de Depósito Interbancário](https://blog.nubank.com.br/cdi-o-que-e/?utm_source=google&utm_medium=cpc&utm_campaign=14894704957&utm_term=128624557615&utm_word=&utm_content=551305443344&ad_position=&match_type=&location=1001561&device=c&utm_keyword_id=aud-952478170209:dsa-19959388920&utm_placement=&extension=&geolocation=1001561&google_channel=google_gdn&gclid=CjwKCAjwpKyYBhB7EiwAU2Hn2URv4ZPw78wdoRwKqyZoUEvsf0C8GRrXNdx06Nya7I-Uy41wP0JVhRoCBn0QAvD_BwE)) (anos depois, a empresa mudou remunerando apenas 30 dias depois da injeção de dinheiro)\n",
        "\n",
        "  \n",
        "Vale ressaltar que esse tipo de avaliação deve ser realizada no momento em que o cliente solicita o cartão (normalmente no primeiro contato com a instituição).\n",
        "\n",
        "\n",
        "\n",
        "> OBJETIVO DO PROJETO: Criar um modelo que forneça a probabilidade de um cliente virar inadimplente.\n",
        "\n",
        "\n",
        "Espera-se que um modelo seja capaz de minimizar as perdas financeiras do Nubank, porém minimizando também os falsos positivos.\n"
      ],
      "metadata": {
        "id": "w1qYqZ9cRbFx"
      }
    },
    {
      "cell_type": "markdown",
      "metadata": {
        "id": "5PCK4RxLpqd8"
      },
      "source": [
        "## Importar os Dados\n",
        "\n",
        "Os dados que serão utilizados nesta análise estão disponíveis para download por meio [deste link](http://dl.dropboxusercontent.com/s/xn2a4kzf0zer0xu/acquisition_train.csv?dl=0).\n",
        "\n",
        "Este arquivo será importando para uma estrutura *DataFrame* utilizando a biblioteca `pandas` a fim de possibilitar sua manipulação e análise."
      ]
    },
    {
      "cell_type": "code",
      "execution_count": null,
      "metadata": {
        "id": "mktGqHoTQcoG"
      },
      "outputs": [],
      "source": [
        "import pandas as pd\n",
        "import numpy as np\n",
        "import matplotlib.pyplot as plt\n",
        "import seaborn as sns"
      ]
    },
    {
      "cell_type": "code",
      "execution_count": null,
      "metadata": {
        "id": "PqMaG41qo1Y4"
      },
      "outputs": [],
      "source": [
        "nubank = 'http://dl.dropboxusercontent.com/s/xn2a4kzf0zer0xu/acquisition_train.csv?dl=0'"
      ]
    },
    {
      "cell_type": "code",
      "execution_count": null,
      "metadata": {
        "colab": {
          "base_uri": "https://localhost:8080/",
          "height": 659
        },
        "id": "G7BAvYKuQ1fO",
        "outputId": "5ecd7cbe-b638-4edc-a2a3-94d0ab948031"
      },
      "outputs": [
        {
          "output_type": "execute_result",
          "data": {
            "text/plain": [
              "                                    ids target_default  \\\n",
              "0  343b7e7b-2cf8-e508-b8fd-0a0285af30aa          False   \n",
              "1  bc2c7502-bbad-0f8c-39c3-94e881967124          False   \n",
              "2  669630dd-2e6a-0396-84bf-455e5009c922           True   \n",
              "3  d235609e-b6cb-0ccc-a329-d4f12e7ebdc1          False   \n",
              "4  9e0eb880-e8f4-3faa-67d8-f5cdd2b3932b          False   \n",
              "\n",
              "                    score_1                   score_2  score_3     score_4  \\\n",
              "0  1Rk8w4Ucd5yR3KcqZzLdow==  IOVu8au3ISbo6+zmfnYwMg==    350.0  101.800832   \n",
              "1  DGCQep2AE5QRkNCshIAlFQ==  SaamrHMo23l/3TwXOWgVzw==    370.0   97.062615   \n",
              "2  DGCQep2AE5QRkNCshIAlFQ==  Fv28Bz0YRTVAT5kl1bAV6g==    360.0  100.027073   \n",
              "3  1Rk8w4Ucd5yR3KcqZzLdow==  dCm9hFKfdRm7ej3jW+gyxw==    510.0  101.599485   \n",
              "4  8k8UDR4Yx0qasAjkGrUZLw==  +CxEO4w7jv3QPI/BQbyqAA==    500.0   98.474289   \n",
              "\n",
              "    score_5     score_6  risk_rate  last_amount_borrowed  \\\n",
              "0  0.259555  108.427273       0.40              25033.92   \n",
              "1  0.942655   92.002546       0.24                   NaN   \n",
              "2  0.351918  112.892453       0.29               7207.92   \n",
              "3  0.987673   94.902491       0.32                   NaN   \n",
              "4  0.532539  118.126207       0.18                   NaN   \n",
              "\n",
              "   last_borrowed_in_months  credit_limit  \\\n",
              "0                     36.0           0.0   \n",
              "1                      NaN       39726.0   \n",
              "2                     36.0           NaN   \n",
              "3                      NaN       54591.0   \n",
              "4                      NaN           NaN   \n",
              "\n",
              "                                              reason     income  \\\n",
              "0  mLVIVxoGY7TUDJ1FyFoSIZi1SFcaBmO01AydRchaEiGYtU...   65014.12   \n",
              "1  mLVIVxoGY7TUDJ1FyFoSIZi1SFcaBmO01AydRchaEiGYtU...  100018.91   \n",
              "2  mLVIVxoGY7TUDJ1FyFoSIZi1SFcaBmO01AydRchaEiGYtU...   65023.65   \n",
              "3  mLVIVxoGY7TUDJ1FyFoSIZi1SFcaBmO01AydRchaEiGYtU...   68830.01   \n",
              "4  mLVIVxoGY7TUDJ1FyFoSIZi1SFcaBmO01AydRchaEiGYtU...   60011.29   \n",
              "\n",
              "  facebook_profile                     state                       zip  \\\n",
              "0             True  sjJbkqJS7cXalHLBFA+EOQ==  Ernn+uVXCMq/6ARrBCcd+A==   \n",
              "1            False  xsd3ZdsI3356I3xMxZeiqQ==  rlWIXTBO+VOa34+SpGyhlQ==   \n",
              "2              NaN  Ygq6MsM98oC8yceExr69Ig==  PjTIDfJsK0DKL9fO7vuW2g==   \n",
              "3            False  KET/Pmr6rHp1RJ/P9ymztw==  Cc/kWDLQH3dpHv5HU+pLVA==   \n",
              "4             True  xsd3ZdsI3356I3xMxZeiqQ==  i036nmJ7rfxo+3EvCD7Jnw==   \n",
              "\n",
              "                    channel  \\\n",
              "0  NCqL3QBx0pscDnx3ixKwXg==   \n",
              "1  NCqL3QBx0pscDnx3ixKwXg==   \n",
              "2  NCqL3QBx0pscDnx3ixKwXg==   \n",
              "3  NCqL3QBx0pscDnx3ixKwXg==   \n",
              "4  NCqL3QBx0pscDnx3ixKwXg==   \n",
              "\n",
              "                                            job_name  \\\n",
              "0  mLVIVxoGY7TUDJ1FyFoSIZi1SFcaBmO01AydRchaEiGYtU...   \n",
              "1  mLVIVxoGY7TUDJ1FyFoSIZi1SFcaBmO01AydRchaEiGYtU...   \n",
              "2  mLVIVxoGY7TUDJ1FyFoSIZi1SFcaBmO01AydRchaEiGYtU...   \n",
              "3  mLVIVxoGY7TUDJ1FyFoSIZi1SFcaBmO01AydRchaEiE56f...   \n",
              "4  mLVIVxoGY7TUDJ1FyFoSIZi1SFcaBmO01AydRchaEiGYtU...   \n",
              "\n",
              "                 real_state  ok_since  n_bankruptcies  n_defaulted_loans  \\\n",
              "0  N5/CE7lSkAfB04hVFFwllw==       NaN             0.0                0.0   \n",
              "1  N5/CE7lSkAfB04hVFFwllw==      50.0             0.0                0.0   \n",
              "2  n+xK9CfX0bCn77lClTWviw==       NaN             0.0                0.0   \n",
              "3  n+xK9CfX0bCn77lClTWviw==       NaN             1.0                0.0   \n",
              "4  n+xK9CfX0bCn77lClTWviw==       NaN             0.0                0.0   \n",
              "\n",
              "   n_accounts  n_issues application_time_applied  application_time_in_funnel  \\\n",
              "0        18.0      18.0                 07:52:34                         444   \n",
              "1        14.0      14.0                 02:34:29                         346   \n",
              "2        10.0       NaN                 00:60:02                           6   \n",
              "3        19.0      19.0                 11:20:49                         406   \n",
              "4        11.0       NaN                 13:39:03                         240   \n",
              "\n",
              "         email  external_data_provider_credit_checks_last_2_year  \\\n",
              "0  outlook.com                                               NaN   \n",
              "1    gmail.com                                               0.0   \n",
              "2    gmail.com                                               NaN   \n",
              "3    spgov.com                                               NaN   \n",
              "4    gmail.com                                               0.0   \n",
              "\n",
              "   external_data_provider_credit_checks_last_month  \\\n",
              "0                                                2   \n",
              "1                                                1   \n",
              "2                                                2   \n",
              "3                                                3   \n",
              "4                                                2   \n",
              "\n",
              "   external_data_provider_credit_checks_last_year  \\\n",
              "0                                             0.0   \n",
              "1                                             0.0   \n",
              "2                                             NaN   \n",
              "3                                             NaN   \n",
              "4                                             1.0   \n",
              "\n",
              "   external_data_provider_email_seen_before external_data_provider_first_name  \\\n",
              "0                                      51.0                        leidelaura   \n",
              "1                                      17.0                          diocezio   \n",
              "2                                       9.0                         veralucia   \n",
              "3                                      38.0                            venice   \n",
              "4                                      46.0                           darzisa   \n",
              "\n",
              "   external_data_provider_fraud_score  \\\n",
              "0                                 645   \n",
              "1                                 243   \n",
              "2                                  65   \n",
              "3                                 815   \n",
              "4                                 320   \n",
              "\n",
              "                                      lat_lon marketing_channel  \\\n",
              "0    (-29.151545708122246, -51.1386461804385)      Invite-email   \n",
              "1   (-19.687710705798963, -47.94151536525154)  Radio-commercial   \n",
              "2  (-28.748023890412284, -51.867279334353995)      Waiting-list   \n",
              "3   (-17.520650158450454, -39.75801139933186)      Waiting-list   \n",
              "4   (-16.574259446978008, -39.90990074785962)      Invite-email   \n",
              "\n",
              "  profile_phone_number  reported_income shipping_state  shipping_zip_code  \\\n",
              "0          514-9840782          57849.0          BR-MT              17528   \n",
              "1          251-3659293           4902.0          BR-RS              40933   \n",
              "2          230-6097993         163679.0          BR-RR              50985   \n",
              "3          261-3543751           1086.0          BR-RN              37825   \n",
              "4          102-3660162         198618.0          BR-MT              52827   \n",
              "\n",
              "                                profile_tags  \\\n",
              "0                    {'tags': ['n19', 'n8']}   \n",
              "1              {'tags': ['n6', 'n7', 'nim']}   \n",
              "2       {'tags': ['n0', 'n17', 'nim', 'da']}   \n",
              "3                           {'tags': ['n4']}   \n",
              "4  {'tags': ['pro+aty', 'n19', 'da', 'b19']}   \n",
              "\n",
              "                                          user_agent target_fraud  \n",
              "0  Mozilla/5.0 (Linux; Android 6.0.1; SGP771 Buil...          NaN  \n",
              "1  Mozilla/5.0 (Linux; Android 5.0.2; SAMSUNG SM-...          NaN  \n",
              "2  Mozilla/5.0 (Linux; Android 6.0.1; SGP771 Buil...          NaN  \n",
              "3  Mozilla/5.0 (Linux; Android 6.0; HTC One X10 B...          NaN  \n",
              "4  Mozilla/5.0 (Linux; Android 7.0; Pixel C Build...          NaN  "
            ],
            "text/html": [
              "\n",
              "  <div id=\"df-a4b558fe-c13b-448a-ac4d-2636e5a5ee03\">\n",
              "    <div class=\"colab-df-container\">\n",
              "      <div>\n",
              "<style scoped>\n",
              "    .dataframe tbody tr th:only-of-type {\n",
              "        vertical-align: middle;\n",
              "    }\n",
              "\n",
              "    .dataframe tbody tr th {\n",
              "        vertical-align: top;\n",
              "    }\n",
              "\n",
              "    .dataframe thead th {\n",
              "        text-align: right;\n",
              "    }\n",
              "</style>\n",
              "<table border=\"1\" class=\"dataframe\">\n",
              "  <thead>\n",
              "    <tr style=\"text-align: right;\">\n",
              "      <th></th>\n",
              "      <th>ids</th>\n",
              "      <th>target_default</th>\n",
              "      <th>score_1</th>\n",
              "      <th>score_2</th>\n",
              "      <th>score_3</th>\n",
              "      <th>score_4</th>\n",
              "      <th>score_5</th>\n",
              "      <th>score_6</th>\n",
              "      <th>risk_rate</th>\n",
              "      <th>last_amount_borrowed</th>\n",
              "      <th>last_borrowed_in_months</th>\n",
              "      <th>credit_limit</th>\n",
              "      <th>reason</th>\n",
              "      <th>income</th>\n",
              "      <th>facebook_profile</th>\n",
              "      <th>state</th>\n",
              "      <th>zip</th>\n",
              "      <th>channel</th>\n",
              "      <th>job_name</th>\n",
              "      <th>real_state</th>\n",
              "      <th>ok_since</th>\n",
              "      <th>n_bankruptcies</th>\n",
              "      <th>n_defaulted_loans</th>\n",
              "      <th>n_accounts</th>\n",
              "      <th>n_issues</th>\n",
              "      <th>application_time_applied</th>\n",
              "      <th>application_time_in_funnel</th>\n",
              "      <th>email</th>\n",
              "      <th>external_data_provider_credit_checks_last_2_year</th>\n",
              "      <th>external_data_provider_credit_checks_last_month</th>\n",
              "      <th>external_data_provider_credit_checks_last_year</th>\n",
              "      <th>external_data_provider_email_seen_before</th>\n",
              "      <th>external_data_provider_first_name</th>\n",
              "      <th>external_data_provider_fraud_score</th>\n",
              "      <th>lat_lon</th>\n",
              "      <th>marketing_channel</th>\n",
              "      <th>profile_phone_number</th>\n",
              "      <th>reported_income</th>\n",
              "      <th>shipping_state</th>\n",
              "      <th>shipping_zip_code</th>\n",
              "      <th>profile_tags</th>\n",
              "      <th>user_agent</th>\n",
              "      <th>target_fraud</th>\n",
              "    </tr>\n",
              "  </thead>\n",
              "  <tbody>\n",
              "    <tr>\n",
              "      <th>0</th>\n",
              "      <td>343b7e7b-2cf8-e508-b8fd-0a0285af30aa</td>\n",
              "      <td>False</td>\n",
              "      <td>1Rk8w4Ucd5yR3KcqZzLdow==</td>\n",
              "      <td>IOVu8au3ISbo6+zmfnYwMg==</td>\n",
              "      <td>350.0</td>\n",
              "      <td>101.800832</td>\n",
              "      <td>0.259555</td>\n",
              "      <td>108.427273</td>\n",
              "      <td>0.40</td>\n",
              "      <td>25033.92</td>\n",
              "      <td>36.0</td>\n",
              "      <td>0.0</td>\n",
              "      <td>mLVIVxoGY7TUDJ1FyFoSIZi1SFcaBmO01AydRchaEiGYtU...</td>\n",
              "      <td>65014.12</td>\n",
              "      <td>True</td>\n",
              "      <td>sjJbkqJS7cXalHLBFA+EOQ==</td>\n",
              "      <td>Ernn+uVXCMq/6ARrBCcd+A==</td>\n",
              "      <td>NCqL3QBx0pscDnx3ixKwXg==</td>\n",
              "      <td>mLVIVxoGY7TUDJ1FyFoSIZi1SFcaBmO01AydRchaEiGYtU...</td>\n",
              "      <td>N5/CE7lSkAfB04hVFFwllw==</td>\n",
              "      <td>NaN</td>\n",
              "      <td>0.0</td>\n",
              "      <td>0.0</td>\n",
              "      <td>18.0</td>\n",
              "      <td>18.0</td>\n",
              "      <td>07:52:34</td>\n",
              "      <td>444</td>\n",
              "      <td>outlook.com</td>\n",
              "      <td>NaN</td>\n",
              "      <td>2</td>\n",
              "      <td>0.0</td>\n",
              "      <td>51.0</td>\n",
              "      <td>leidelaura</td>\n",
              "      <td>645</td>\n",
              "      <td>(-29.151545708122246, -51.1386461804385)</td>\n",
              "      <td>Invite-email</td>\n",
              "      <td>514-9840782</td>\n",
              "      <td>57849.0</td>\n",
              "      <td>BR-MT</td>\n",
              "      <td>17528</td>\n",
              "      <td>{'tags': ['n19', 'n8']}</td>\n",
              "      <td>Mozilla/5.0 (Linux; Android 6.0.1; SGP771 Buil...</td>\n",
              "      <td>NaN</td>\n",
              "    </tr>\n",
              "    <tr>\n",
              "      <th>1</th>\n",
              "      <td>bc2c7502-bbad-0f8c-39c3-94e881967124</td>\n",
              "      <td>False</td>\n",
              "      <td>DGCQep2AE5QRkNCshIAlFQ==</td>\n",
              "      <td>SaamrHMo23l/3TwXOWgVzw==</td>\n",
              "      <td>370.0</td>\n",
              "      <td>97.062615</td>\n",
              "      <td>0.942655</td>\n",
              "      <td>92.002546</td>\n",
              "      <td>0.24</td>\n",
              "      <td>NaN</td>\n",
              "      <td>NaN</td>\n",
              "      <td>39726.0</td>\n",
              "      <td>mLVIVxoGY7TUDJ1FyFoSIZi1SFcaBmO01AydRchaEiGYtU...</td>\n",
              "      <td>100018.91</td>\n",
              "      <td>False</td>\n",
              "      <td>xsd3ZdsI3356I3xMxZeiqQ==</td>\n",
              "      <td>rlWIXTBO+VOa34+SpGyhlQ==</td>\n",
              "      <td>NCqL3QBx0pscDnx3ixKwXg==</td>\n",
              "      <td>mLVIVxoGY7TUDJ1FyFoSIZi1SFcaBmO01AydRchaEiGYtU...</td>\n",
              "      <td>N5/CE7lSkAfB04hVFFwllw==</td>\n",
              "      <td>50.0</td>\n",
              "      <td>0.0</td>\n",
              "      <td>0.0</td>\n",
              "      <td>14.0</td>\n",
              "      <td>14.0</td>\n",
              "      <td>02:34:29</td>\n",
              "      <td>346</td>\n",
              "      <td>gmail.com</td>\n",
              "      <td>0.0</td>\n",
              "      <td>1</td>\n",
              "      <td>0.0</td>\n",
              "      <td>17.0</td>\n",
              "      <td>diocezio</td>\n",
              "      <td>243</td>\n",
              "      <td>(-19.687710705798963, -47.94151536525154)</td>\n",
              "      <td>Radio-commercial</td>\n",
              "      <td>251-3659293</td>\n",
              "      <td>4902.0</td>\n",
              "      <td>BR-RS</td>\n",
              "      <td>40933</td>\n",
              "      <td>{'tags': ['n6', 'n7', 'nim']}</td>\n",
              "      <td>Mozilla/5.0 (Linux; Android 5.0.2; SAMSUNG SM-...</td>\n",
              "      <td>NaN</td>\n",
              "    </tr>\n",
              "    <tr>\n",
              "      <th>2</th>\n",
              "      <td>669630dd-2e6a-0396-84bf-455e5009c922</td>\n",
              "      <td>True</td>\n",
              "      <td>DGCQep2AE5QRkNCshIAlFQ==</td>\n",
              "      <td>Fv28Bz0YRTVAT5kl1bAV6g==</td>\n",
              "      <td>360.0</td>\n",
              "      <td>100.027073</td>\n",
              "      <td>0.351918</td>\n",
              "      <td>112.892453</td>\n",
              "      <td>0.29</td>\n",
              "      <td>7207.92</td>\n",
              "      <td>36.0</td>\n",
              "      <td>NaN</td>\n",
              "      <td>mLVIVxoGY7TUDJ1FyFoSIZi1SFcaBmO01AydRchaEiGYtU...</td>\n",
              "      <td>65023.65</td>\n",
              "      <td>NaN</td>\n",
              "      <td>Ygq6MsM98oC8yceExr69Ig==</td>\n",
              "      <td>PjTIDfJsK0DKL9fO7vuW2g==</td>\n",
              "      <td>NCqL3QBx0pscDnx3ixKwXg==</td>\n",
              "      <td>mLVIVxoGY7TUDJ1FyFoSIZi1SFcaBmO01AydRchaEiGYtU...</td>\n",
              "      <td>n+xK9CfX0bCn77lClTWviw==</td>\n",
              "      <td>NaN</td>\n",
              "      <td>0.0</td>\n",
              "      <td>0.0</td>\n",
              "      <td>10.0</td>\n",
              "      <td>NaN</td>\n",
              "      <td>00:60:02</td>\n",
              "      <td>6</td>\n",
              "      <td>gmail.com</td>\n",
              "      <td>NaN</td>\n",
              "      <td>2</td>\n",
              "      <td>NaN</td>\n",
              "      <td>9.0</td>\n",
              "      <td>veralucia</td>\n",
              "      <td>65</td>\n",
              "      <td>(-28.748023890412284, -51.867279334353995)</td>\n",
              "      <td>Waiting-list</td>\n",
              "      <td>230-6097993</td>\n",
              "      <td>163679.0</td>\n",
              "      <td>BR-RR</td>\n",
              "      <td>50985</td>\n",
              "      <td>{'tags': ['n0', 'n17', 'nim', 'da']}</td>\n",
              "      <td>Mozilla/5.0 (Linux; Android 6.0.1; SGP771 Buil...</td>\n",
              "      <td>NaN</td>\n",
              "    </tr>\n",
              "    <tr>\n",
              "      <th>3</th>\n",
              "      <td>d235609e-b6cb-0ccc-a329-d4f12e7ebdc1</td>\n",
              "      <td>False</td>\n",
              "      <td>1Rk8w4Ucd5yR3KcqZzLdow==</td>\n",
              "      <td>dCm9hFKfdRm7ej3jW+gyxw==</td>\n",
              "      <td>510.0</td>\n",
              "      <td>101.599485</td>\n",
              "      <td>0.987673</td>\n",
              "      <td>94.902491</td>\n",
              "      <td>0.32</td>\n",
              "      <td>NaN</td>\n",
              "      <td>NaN</td>\n",
              "      <td>54591.0</td>\n",
              "      <td>mLVIVxoGY7TUDJ1FyFoSIZi1SFcaBmO01AydRchaEiGYtU...</td>\n",
              "      <td>68830.01</td>\n",
              "      <td>False</td>\n",
              "      <td>KET/Pmr6rHp1RJ/P9ymztw==</td>\n",
              "      <td>Cc/kWDLQH3dpHv5HU+pLVA==</td>\n",
              "      <td>NCqL3QBx0pscDnx3ixKwXg==</td>\n",
              "      <td>mLVIVxoGY7TUDJ1FyFoSIZi1SFcaBmO01AydRchaEiE56f...</td>\n",
              "      <td>n+xK9CfX0bCn77lClTWviw==</td>\n",
              "      <td>NaN</td>\n",
              "      <td>1.0</td>\n",
              "      <td>0.0</td>\n",
              "      <td>19.0</td>\n",
              "      <td>19.0</td>\n",
              "      <td>11:20:49</td>\n",
              "      <td>406</td>\n",
              "      <td>spgov.com</td>\n",
              "      <td>NaN</td>\n",
              "      <td>3</td>\n",
              "      <td>NaN</td>\n",
              "      <td>38.0</td>\n",
              "      <td>venice</td>\n",
              "      <td>815</td>\n",
              "      <td>(-17.520650158450454, -39.75801139933186)</td>\n",
              "      <td>Waiting-list</td>\n",
              "      <td>261-3543751</td>\n",
              "      <td>1086.0</td>\n",
              "      <td>BR-RN</td>\n",
              "      <td>37825</td>\n",
              "      <td>{'tags': ['n4']}</td>\n",
              "      <td>Mozilla/5.0 (Linux; Android 6.0; HTC One X10 B...</td>\n",
              "      <td>NaN</td>\n",
              "    </tr>\n",
              "    <tr>\n",
              "      <th>4</th>\n",
              "      <td>9e0eb880-e8f4-3faa-67d8-f5cdd2b3932b</td>\n",
              "      <td>False</td>\n",
              "      <td>8k8UDR4Yx0qasAjkGrUZLw==</td>\n",
              "      <td>+CxEO4w7jv3QPI/BQbyqAA==</td>\n",
              "      <td>500.0</td>\n",
              "      <td>98.474289</td>\n",
              "      <td>0.532539</td>\n",
              "      <td>118.126207</td>\n",
              "      <td>0.18</td>\n",
              "      <td>NaN</td>\n",
              "      <td>NaN</td>\n",
              "      <td>NaN</td>\n",
              "      <td>mLVIVxoGY7TUDJ1FyFoSIZi1SFcaBmO01AydRchaEiGYtU...</td>\n",
              "      <td>60011.29</td>\n",
              "      <td>True</td>\n",
              "      <td>xsd3ZdsI3356I3xMxZeiqQ==</td>\n",
              "      <td>i036nmJ7rfxo+3EvCD7Jnw==</td>\n",
              "      <td>NCqL3QBx0pscDnx3ixKwXg==</td>\n",
              "      <td>mLVIVxoGY7TUDJ1FyFoSIZi1SFcaBmO01AydRchaEiGYtU...</td>\n",
              "      <td>n+xK9CfX0bCn77lClTWviw==</td>\n",
              "      <td>NaN</td>\n",
              "      <td>0.0</td>\n",
              "      <td>0.0</td>\n",
              "      <td>11.0</td>\n",
              "      <td>NaN</td>\n",
              "      <td>13:39:03</td>\n",
              "      <td>240</td>\n",
              "      <td>gmail.com</td>\n",
              "      <td>0.0</td>\n",
              "      <td>2</td>\n",
              "      <td>1.0</td>\n",
              "      <td>46.0</td>\n",
              "      <td>darzisa</td>\n",
              "      <td>320</td>\n",
              "      <td>(-16.574259446978008, -39.90990074785962)</td>\n",
              "      <td>Invite-email</td>\n",
              "      <td>102-3660162</td>\n",
              "      <td>198618.0</td>\n",
              "      <td>BR-MT</td>\n",
              "      <td>52827</td>\n",
              "      <td>{'tags': ['pro+aty', 'n19', 'da', 'b19']}</td>\n",
              "      <td>Mozilla/5.0 (Linux; Android 7.0; Pixel C Build...</td>\n",
              "      <td>NaN</td>\n",
              "    </tr>\n",
              "  </tbody>\n",
              "</table>\n",
              "</div>\n",
              "      <button class=\"colab-df-convert\" onclick=\"convertToInteractive('df-a4b558fe-c13b-448a-ac4d-2636e5a5ee03')\"\n",
              "              title=\"Convert this dataframe to an interactive table.\"\n",
              "              style=\"display:none;\">\n",
              "        \n",
              "  <svg xmlns=\"http://www.w3.org/2000/svg\" height=\"24px\"viewBox=\"0 0 24 24\"\n",
              "       width=\"24px\">\n",
              "    <path d=\"M0 0h24v24H0V0z\" fill=\"none\"/>\n",
              "    <path d=\"M18.56 5.44l.94 2.06.94-2.06 2.06-.94-2.06-.94-.94-2.06-.94 2.06-2.06.94zm-11 1L8.5 8.5l.94-2.06 2.06-.94-2.06-.94L8.5 2.5l-.94 2.06-2.06.94zm10 10l.94 2.06.94-2.06 2.06-.94-2.06-.94-.94-2.06-.94 2.06-2.06.94z\"/><path d=\"M17.41 7.96l-1.37-1.37c-.4-.4-.92-.59-1.43-.59-.52 0-1.04.2-1.43.59L10.3 9.45l-7.72 7.72c-.78.78-.78 2.05 0 2.83L4 21.41c.39.39.9.59 1.41.59.51 0 1.02-.2 1.41-.59l7.78-7.78 2.81-2.81c.8-.78.8-2.07 0-2.86zM5.41 20L4 18.59l7.72-7.72 1.47 1.35L5.41 20z\"/>\n",
              "  </svg>\n",
              "      </button>\n",
              "      \n",
              "  <style>\n",
              "    .colab-df-container {\n",
              "      display:flex;\n",
              "      flex-wrap:wrap;\n",
              "      gap: 12px;\n",
              "    }\n",
              "\n",
              "    .colab-df-convert {\n",
              "      background-color: #E8F0FE;\n",
              "      border: none;\n",
              "      border-radius: 50%;\n",
              "      cursor: pointer;\n",
              "      display: none;\n",
              "      fill: #1967D2;\n",
              "      height: 32px;\n",
              "      padding: 0 0 0 0;\n",
              "      width: 32px;\n",
              "    }\n",
              "\n",
              "    .colab-df-convert:hover {\n",
              "      background-color: #E2EBFA;\n",
              "      box-shadow: 0px 1px 2px rgba(60, 64, 67, 0.3), 0px 1px 3px 1px rgba(60, 64, 67, 0.15);\n",
              "      fill: #174EA6;\n",
              "    }\n",
              "\n",
              "    [theme=dark] .colab-df-convert {\n",
              "      background-color: #3B4455;\n",
              "      fill: #D2E3FC;\n",
              "    }\n",
              "\n",
              "    [theme=dark] .colab-df-convert:hover {\n",
              "      background-color: #434B5C;\n",
              "      box-shadow: 0px 1px 3px 1px rgba(0, 0, 0, 0.15);\n",
              "      filter: drop-shadow(0px 1px 2px rgba(0, 0, 0, 0.3));\n",
              "      fill: #FFFFFF;\n",
              "    }\n",
              "  </style>\n",
              "\n",
              "      <script>\n",
              "        const buttonEl =\n",
              "          document.querySelector('#df-a4b558fe-c13b-448a-ac4d-2636e5a5ee03 button.colab-df-convert');\n",
              "        buttonEl.style.display =\n",
              "          google.colab.kernel.accessAllowed ? 'block' : 'none';\n",
              "\n",
              "        async function convertToInteractive(key) {\n",
              "          const element = document.querySelector('#df-a4b558fe-c13b-448a-ac4d-2636e5a5ee03');\n",
              "          const dataTable =\n",
              "            await google.colab.kernel.invokeFunction('convertToInteractive',\n",
              "                                                     [key], {});\n",
              "          if (!dataTable) return;\n",
              "\n",
              "          const docLinkHtml = 'Like what you see? Visit the ' +\n",
              "            '<a target=\"_blank\" href=https://colab.research.google.com/notebooks/data_table.ipynb>data table notebook</a>'\n",
              "            + ' to learn more about interactive tables.';\n",
              "          element.innerHTML = '';\n",
              "          dataTable['output_type'] = 'display_data';\n",
              "          await google.colab.output.renderOutput(dataTable, element);\n",
              "          const docLink = document.createElement('div');\n",
              "          docLink.innerHTML = docLinkHtml;\n",
              "          element.appendChild(docLink);\n",
              "        }\n",
              "      </script>\n",
              "    </div>\n",
              "  </div>\n",
              "  "
            ]
          },
          "metadata": {},
          "execution_count": 3
        }
      ],
      "source": [
        "#Importando o Dados\n",
        "\n",
        "df = pd.read_csv(nubank)\n",
        "\n",
        "#Verificando as 5 primeiras linhas\n",
        "pd.set_option('display.max_columns',None)\n",
        "df.head()"
      ]
    },
    {
      "cell_type": "markdown",
      "metadata": {
        "id": "7Guk0AdLHksU"
      },
      "source": [
        "##Conhecendo o Banco de Dados"
      ]
    },
    {
      "cell_type": "code",
      "execution_count": null,
      "metadata": {
        "colab": {
          "base_uri": "https://localhost:8080/"
        },
        "id": "4Fll1_kb6UNj",
        "outputId": "17703eac-be9c-40d1-8a07-589aac1a555c"
      },
      "outputs": [
        {
          "output_type": "execute_result",
          "data": {
            "text/plain": [
              "Index(['ids', 'target_default', 'score_1', 'score_2', 'score_3', 'score_4',\n",
              "       'score_5', 'score_6', 'risk_rate', 'last_amount_borrowed',\n",
              "       'last_borrowed_in_months', 'credit_limit', 'reason', 'income',\n",
              "       'facebook_profile', 'state', 'zip', 'channel', 'job_name', 'real_state',\n",
              "       'ok_since', 'n_bankruptcies', 'n_defaulted_loans', 'n_accounts',\n",
              "       'n_issues', 'application_time_applied', 'application_time_in_funnel',\n",
              "       'email', 'external_data_provider_credit_checks_last_2_year',\n",
              "       'external_data_provider_credit_checks_last_month',\n",
              "       'external_data_provider_credit_checks_last_year',\n",
              "       'external_data_provider_email_seen_before',\n",
              "       'external_data_provider_first_name',\n",
              "       'external_data_provider_fraud_score', 'lat_lon', 'marketing_channel',\n",
              "       'profile_phone_number', 'reported_income', 'shipping_state',\n",
              "       'shipping_zip_code', 'profile_tags', 'user_agent', 'target_fraud'],\n",
              "      dtype='object')"
            ]
          },
          "metadata": {},
          "execution_count": 4
        }
      ],
      "source": [
        "df.columns"
      ]
    },
    {
      "cell_type": "code",
      "execution_count": null,
      "metadata": {
        "colab": {
          "base_uri": "https://localhost:8080/"
        },
        "id": "_t_qK-GOSCYR",
        "outputId": "4f60dfe8-e36e-430b-db8e-400dbea6eecf"
      },
      "outputs": [
        {
          "output_type": "stream",
          "name": "stdout",
          "text": [
            "(45000, 43)\n",
            "O banco de Dados possui: 45000 linhas\n",
            "O banco de Dados possui: 43 features\n"
          ]
        }
      ],
      "source": [
        "print(df.shape)\n",
        "print(f'O banco de Dados possui: {df.shape[0]} linhas')\n",
        "print(f'O banco de Dados possui: {df.shape[1]} features')"
      ]
    },
    {
      "cell_type": "code",
      "execution_count": null,
      "metadata": {
        "colab": {
          "base_uri": "https://localhost:8080/"
        },
        "id": "YY1gcbGCTUBR",
        "outputId": "21b5ed5b-0ddd-4279-acc2-e95b3fb4cbd5"
      },
      "outputs": [
        {
          "output_type": "stream",
          "name": "stdout",
          "text": [
            "<class 'pandas.core.frame.DataFrame'>\n",
            "RangeIndex: 45000 entries, 0 to 44999\n",
            "Data columns (total 43 columns):\n",
            " #   Column                                            Non-Null Count  Dtype  \n",
            "---  ------                                            --------------  -----  \n",
            " 0   ids                                               45000 non-null  object \n",
            " 1   target_default                                    41741 non-null  object \n",
            " 2   score_1                                           44438 non-null  object \n",
            " 3   score_2                                           44438 non-null  object \n",
            " 4   score_3                                           44438 non-null  float64\n",
            " 5   score_4                                           45000 non-null  float64\n",
            " 6   score_5                                           45000 non-null  float64\n",
            " 7   score_6                                           45000 non-null  float64\n",
            " 8   risk_rate                                         44438 non-null  float64\n",
            " 9   last_amount_borrowed                              15044 non-null  float64\n",
            " 10  last_borrowed_in_months                           15044 non-null  float64\n",
            " 11  credit_limit                                      31200 non-null  float64\n",
            " 12  reason                                            44434 non-null  object \n",
            " 13  income                                            44438 non-null  float64\n",
            " 14  facebook_profile                                  40542 non-null  object \n",
            " 15  state                                             44438 non-null  object \n",
            " 16  zip                                               44438 non-null  object \n",
            " 17  channel                                           44438 non-null  object \n",
            " 18  job_name                                          41664 non-null  object \n",
            " 19  real_state                                        44438 non-null  object \n",
            " 20  ok_since                                          18455 non-null  float64\n",
            " 21  n_bankruptcies                                    44303 non-null  float64\n",
            " 22  n_defaulted_loans                                 44426 non-null  float64\n",
            " 23  n_accounts                                        44438 non-null  float64\n",
            " 24  n_issues                                          33456 non-null  float64\n",
            " 25  application_time_applied                          45000 non-null  object \n",
            " 26  application_time_in_funnel                        45000 non-null  int64  \n",
            " 27  email                                             45000 non-null  object \n",
            " 28  external_data_provider_credit_checks_last_2_year  22372 non-null  float64\n",
            " 29  external_data_provider_credit_checks_last_month   45000 non-null  int64  \n",
            " 30  external_data_provider_credit_checks_last_year    29876 non-null  float64\n",
            " 31  external_data_provider_email_seen_before          42767 non-null  float64\n",
            " 32  external_data_provider_first_name                 45000 non-null  object \n",
            " 33  external_data_provider_fraud_score                45000 non-null  int64  \n",
            " 34  lat_lon                                           43637 non-null  object \n",
            " 35  marketing_channel                                 41422 non-null  object \n",
            " 36  profile_phone_number                              45000 non-null  object \n",
            " 37  reported_income                                   45000 non-null  float64\n",
            " 38  shipping_state                                    45000 non-null  object \n",
            " 39  shipping_zip_code                                 45000 non-null  int64  \n",
            " 40  profile_tags                                      45000 non-null  object \n",
            " 41  user_agent                                        44278 non-null  object \n",
            " 42  target_fraud                                      1522 non-null   object \n",
            "dtypes: float64(18), int64(4), object(21)\n",
            "memory usage: 14.8+ MB\n"
          ]
        }
      ],
      "source": [
        "df.info()"
      ]
    },
    {
      "cell_type": "code",
      "execution_count": null,
      "metadata": {
        "colab": {
          "base_uri": "https://localhost:8080/",
          "height": 361
        },
        "id": "9PDSSyEhTV0-",
        "outputId": "3157b68f-f752-4d1f-9311-4cf627ffdf32"
      },
      "outputs": [
        {
          "output_type": "execute_result",
          "data": {
            "text/plain": [
              "            score_3       score_4       score_5       score_6     risk_rate  \\\n",
              "count  44438.000000  45000.000000  45000.000000  45000.000000  44438.000000   \n",
              "mean     347.983258    100.006797      0.500037     99.925228      0.296717   \n",
              "std      110.429165      3.178080      0.288326     10.016549      0.101933   \n",
              "min        0.000000     86.191572      0.000035     60.663039      0.000000   \n",
              "25%      270.000000     97.867036      0.252150     93.198353      0.220000   \n",
              "50%      340.000000    100.018900      0.500753     99.974796      0.290000   \n",
              "75%      420.000000    102.141797      0.748816    106.640275      0.360000   \n",
              "max      990.000000    113.978234      0.999973    142.192400      0.900000   \n",
              "\n",
              "       last_amount_borrowed  last_borrowed_in_months   credit_limit  \\\n",
              "count          15044.000000             15044.000000   31200.000000   \n",
              "mean           13782.341991                41.763893   34381.951154   \n",
              "std             8077.571933                10.252705   36586.982218   \n",
              "min             1005.180000                36.000000       0.000000   \n",
              "25%             7519.502500                36.000000   10000.000000   \n",
              "50%            12023.465000                36.000000   25647.000000   \n",
              "75%            19220.270000                36.000000   47086.750000   \n",
              "max            35059.600000                60.000000  448269.000000   \n",
              "\n",
              "             income      ok_since  n_bankruptcies  n_defaulted_loans  \\\n",
              "count  4.443800e+04  18455.000000    44303.000000       44426.000000   \n",
              "mean   7.160739e+04     35.069737        0.076270           0.004569   \n",
              "std    5.185897e+04     21.663194        0.274052           0.079400   \n",
              "min    4.821180e+03      0.000000        0.000000           0.000000   \n",
              "25%    4.501078e+04     17.000000        0.000000           0.000000   \n",
              "50%    6.126676e+04     32.000000        0.000000           0.000000   \n",
              "75%    8.601923e+04     50.000000        0.000000           0.000000   \n",
              "max    5.000028e+06    141.000000        5.000000           5.000000   \n",
              "\n",
              "         n_accounts      n_issues  application_time_in_funnel  \\\n",
              "count  44438.000000  33456.000000                45000.000000   \n",
              "mean      10.696701     11.068119                  247.537000   \n",
              "std        4.592463      4.595501                  146.118398   \n",
              "min        0.000000      0.000000                    0.000000   \n",
              "25%        7.000000      8.000000                  120.000000   \n",
              "50%       10.000000     10.000000                  248.000000   \n",
              "75%       13.000000     14.000000                  375.000000   \n",
              "max       49.000000     49.000000                  500.000000   \n",
              "\n",
              "       external_data_provider_credit_checks_last_2_year  \\\n",
              "count                                           22372.0   \n",
              "mean                                                0.0   \n",
              "std                                                 0.0   \n",
              "min                                                 0.0   \n",
              "25%                                                 0.0   \n",
              "50%                                                 0.0   \n",
              "75%                                                 0.0   \n",
              "max                                                 0.0   \n",
              "\n",
              "       external_data_provider_credit_checks_last_month  \\\n",
              "count                                     45000.000000   \n",
              "mean                                          1.501067   \n",
              "std                                           1.114941   \n",
              "min                                           0.000000   \n",
              "25%                                           1.000000   \n",
              "50%                                           2.000000   \n",
              "75%                                           2.000000   \n",
              "max                                           3.000000   \n",
              "\n",
              "       external_data_provider_credit_checks_last_year  \\\n",
              "count                                    29876.000000   \n",
              "mean                                         0.503381   \n",
              "std                                          0.499997   \n",
              "min                                          0.000000   \n",
              "25%                                          0.000000   \n",
              "50%                                          1.000000   \n",
              "75%                                          1.000000   \n",
              "max                                          1.000000   \n",
              "\n",
              "       external_data_provider_email_seen_before  \\\n",
              "count                              42767.000000   \n",
              "mean                                  12.534781   \n",
              "std                                  126.530487   \n",
              "min                                 -999.000000   \n",
              "25%                                   11.000000   \n",
              "50%                                   27.000000   \n",
              "75%                                   43.000000   \n",
              "max                                   59.000000   \n",
              "\n",
              "       external_data_provider_fraud_score  reported_income  shipping_zip_code  \n",
              "count                        45000.000000         45000.00       45000.000000  \n",
              "mean                           500.399800              inf       33923.514844  \n",
              "std                            287.968873              NaN       12692.406382  \n",
              "min                              0.000000           403.00       12001.000000  \n",
              "25%                            252.000000         50948.25       22937.000000  \n",
              "50%                            503.000000        101779.00       33896.000000  \n",
              "75%                            747.000000        151337.25       44910.000000  \n",
              "max                           1000.000000              inf       56000.000000  "
            ],
            "text/html": [
              "\n",
              "  <div id=\"df-cf2c2a38-19a4-41ff-bd2b-3327437e1a6f\">\n",
              "    <div class=\"colab-df-container\">\n",
              "      <div>\n",
              "<style scoped>\n",
              "    .dataframe tbody tr th:only-of-type {\n",
              "        vertical-align: middle;\n",
              "    }\n",
              "\n",
              "    .dataframe tbody tr th {\n",
              "        vertical-align: top;\n",
              "    }\n",
              "\n",
              "    .dataframe thead th {\n",
              "        text-align: right;\n",
              "    }\n",
              "</style>\n",
              "<table border=\"1\" class=\"dataframe\">\n",
              "  <thead>\n",
              "    <tr style=\"text-align: right;\">\n",
              "      <th></th>\n",
              "      <th>score_3</th>\n",
              "      <th>score_4</th>\n",
              "      <th>score_5</th>\n",
              "      <th>score_6</th>\n",
              "      <th>risk_rate</th>\n",
              "      <th>last_amount_borrowed</th>\n",
              "      <th>last_borrowed_in_months</th>\n",
              "      <th>credit_limit</th>\n",
              "      <th>income</th>\n",
              "      <th>ok_since</th>\n",
              "      <th>n_bankruptcies</th>\n",
              "      <th>n_defaulted_loans</th>\n",
              "      <th>n_accounts</th>\n",
              "      <th>n_issues</th>\n",
              "      <th>application_time_in_funnel</th>\n",
              "      <th>external_data_provider_credit_checks_last_2_year</th>\n",
              "      <th>external_data_provider_credit_checks_last_month</th>\n",
              "      <th>external_data_provider_credit_checks_last_year</th>\n",
              "      <th>external_data_provider_email_seen_before</th>\n",
              "      <th>external_data_provider_fraud_score</th>\n",
              "      <th>reported_income</th>\n",
              "      <th>shipping_zip_code</th>\n",
              "    </tr>\n",
              "  </thead>\n",
              "  <tbody>\n",
              "    <tr>\n",
              "      <th>count</th>\n",
              "      <td>44438.000000</td>\n",
              "      <td>45000.000000</td>\n",
              "      <td>45000.000000</td>\n",
              "      <td>45000.000000</td>\n",
              "      <td>44438.000000</td>\n",
              "      <td>15044.000000</td>\n",
              "      <td>15044.000000</td>\n",
              "      <td>31200.000000</td>\n",
              "      <td>4.443800e+04</td>\n",
              "      <td>18455.000000</td>\n",
              "      <td>44303.000000</td>\n",
              "      <td>44426.000000</td>\n",
              "      <td>44438.000000</td>\n",
              "      <td>33456.000000</td>\n",
              "      <td>45000.000000</td>\n",
              "      <td>22372.0</td>\n",
              "      <td>45000.000000</td>\n",
              "      <td>29876.000000</td>\n",
              "      <td>42767.000000</td>\n",
              "      <td>45000.000000</td>\n",
              "      <td>45000.00</td>\n",
              "      <td>45000.000000</td>\n",
              "    </tr>\n",
              "    <tr>\n",
              "      <th>mean</th>\n",
              "      <td>347.983258</td>\n",
              "      <td>100.006797</td>\n",
              "      <td>0.500037</td>\n",
              "      <td>99.925228</td>\n",
              "      <td>0.296717</td>\n",
              "      <td>13782.341991</td>\n",
              "      <td>41.763893</td>\n",
              "      <td>34381.951154</td>\n",
              "      <td>7.160739e+04</td>\n",
              "      <td>35.069737</td>\n",
              "      <td>0.076270</td>\n",
              "      <td>0.004569</td>\n",
              "      <td>10.696701</td>\n",
              "      <td>11.068119</td>\n",
              "      <td>247.537000</td>\n",
              "      <td>0.0</td>\n",
              "      <td>1.501067</td>\n",
              "      <td>0.503381</td>\n",
              "      <td>12.534781</td>\n",
              "      <td>500.399800</td>\n",
              "      <td>inf</td>\n",
              "      <td>33923.514844</td>\n",
              "    </tr>\n",
              "    <tr>\n",
              "      <th>std</th>\n",
              "      <td>110.429165</td>\n",
              "      <td>3.178080</td>\n",
              "      <td>0.288326</td>\n",
              "      <td>10.016549</td>\n",
              "      <td>0.101933</td>\n",
              "      <td>8077.571933</td>\n",
              "      <td>10.252705</td>\n",
              "      <td>36586.982218</td>\n",
              "      <td>5.185897e+04</td>\n",
              "      <td>21.663194</td>\n",
              "      <td>0.274052</td>\n",
              "      <td>0.079400</td>\n",
              "      <td>4.592463</td>\n",
              "      <td>4.595501</td>\n",
              "      <td>146.118398</td>\n",
              "      <td>0.0</td>\n",
              "      <td>1.114941</td>\n",
              "      <td>0.499997</td>\n",
              "      <td>126.530487</td>\n",
              "      <td>287.968873</td>\n",
              "      <td>NaN</td>\n",
              "      <td>12692.406382</td>\n",
              "    </tr>\n",
              "    <tr>\n",
              "      <th>min</th>\n",
              "      <td>0.000000</td>\n",
              "      <td>86.191572</td>\n",
              "      <td>0.000035</td>\n",
              "      <td>60.663039</td>\n",
              "      <td>0.000000</td>\n",
              "      <td>1005.180000</td>\n",
              "      <td>36.000000</td>\n",
              "      <td>0.000000</td>\n",
              "      <td>4.821180e+03</td>\n",
              "      <td>0.000000</td>\n",
              "      <td>0.000000</td>\n",
              "      <td>0.000000</td>\n",
              "      <td>0.000000</td>\n",
              "      <td>0.000000</td>\n",
              "      <td>0.000000</td>\n",
              "      <td>0.0</td>\n",
              "      <td>0.000000</td>\n",
              "      <td>0.000000</td>\n",
              "      <td>-999.000000</td>\n",
              "      <td>0.000000</td>\n",
              "      <td>403.00</td>\n",
              "      <td>12001.000000</td>\n",
              "    </tr>\n",
              "    <tr>\n",
              "      <th>25%</th>\n",
              "      <td>270.000000</td>\n",
              "      <td>97.867036</td>\n",
              "      <td>0.252150</td>\n",
              "      <td>93.198353</td>\n",
              "      <td>0.220000</td>\n",
              "      <td>7519.502500</td>\n",
              "      <td>36.000000</td>\n",
              "      <td>10000.000000</td>\n",
              "      <td>4.501078e+04</td>\n",
              "      <td>17.000000</td>\n",
              "      <td>0.000000</td>\n",
              "      <td>0.000000</td>\n",
              "      <td>7.000000</td>\n",
              "      <td>8.000000</td>\n",
              "      <td>120.000000</td>\n",
              "      <td>0.0</td>\n",
              "      <td>1.000000</td>\n",
              "      <td>0.000000</td>\n",
              "      <td>11.000000</td>\n",
              "      <td>252.000000</td>\n",
              "      <td>50948.25</td>\n",
              "      <td>22937.000000</td>\n",
              "    </tr>\n",
              "    <tr>\n",
              "      <th>50%</th>\n",
              "      <td>340.000000</td>\n",
              "      <td>100.018900</td>\n",
              "      <td>0.500753</td>\n",
              "      <td>99.974796</td>\n",
              "      <td>0.290000</td>\n",
              "      <td>12023.465000</td>\n",
              "      <td>36.000000</td>\n",
              "      <td>25647.000000</td>\n",
              "      <td>6.126676e+04</td>\n",
              "      <td>32.000000</td>\n",
              "      <td>0.000000</td>\n",
              "      <td>0.000000</td>\n",
              "      <td>10.000000</td>\n",
              "      <td>10.000000</td>\n",
              "      <td>248.000000</td>\n",
              "      <td>0.0</td>\n",
              "      <td>2.000000</td>\n",
              "      <td>1.000000</td>\n",
              "      <td>27.000000</td>\n",
              "      <td>503.000000</td>\n",
              "      <td>101779.00</td>\n",
              "      <td>33896.000000</td>\n",
              "    </tr>\n",
              "    <tr>\n",
              "      <th>75%</th>\n",
              "      <td>420.000000</td>\n",
              "      <td>102.141797</td>\n",
              "      <td>0.748816</td>\n",
              "      <td>106.640275</td>\n",
              "      <td>0.360000</td>\n",
              "      <td>19220.270000</td>\n",
              "      <td>36.000000</td>\n",
              "      <td>47086.750000</td>\n",
              "      <td>8.601923e+04</td>\n",
              "      <td>50.000000</td>\n",
              "      <td>0.000000</td>\n",
              "      <td>0.000000</td>\n",
              "      <td>13.000000</td>\n",
              "      <td>14.000000</td>\n",
              "      <td>375.000000</td>\n",
              "      <td>0.0</td>\n",
              "      <td>2.000000</td>\n",
              "      <td>1.000000</td>\n",
              "      <td>43.000000</td>\n",
              "      <td>747.000000</td>\n",
              "      <td>151337.25</td>\n",
              "      <td>44910.000000</td>\n",
              "    </tr>\n",
              "    <tr>\n",
              "      <th>max</th>\n",
              "      <td>990.000000</td>\n",
              "      <td>113.978234</td>\n",
              "      <td>0.999973</td>\n",
              "      <td>142.192400</td>\n",
              "      <td>0.900000</td>\n",
              "      <td>35059.600000</td>\n",
              "      <td>60.000000</td>\n",
              "      <td>448269.000000</td>\n",
              "      <td>5.000028e+06</td>\n",
              "      <td>141.000000</td>\n",
              "      <td>5.000000</td>\n",
              "      <td>5.000000</td>\n",
              "      <td>49.000000</td>\n",
              "      <td>49.000000</td>\n",
              "      <td>500.000000</td>\n",
              "      <td>0.0</td>\n",
              "      <td>3.000000</td>\n",
              "      <td>1.000000</td>\n",
              "      <td>59.000000</td>\n",
              "      <td>1000.000000</td>\n",
              "      <td>inf</td>\n",
              "      <td>56000.000000</td>\n",
              "    </tr>\n",
              "  </tbody>\n",
              "</table>\n",
              "</div>\n",
              "      <button class=\"colab-df-convert\" onclick=\"convertToInteractive('df-cf2c2a38-19a4-41ff-bd2b-3327437e1a6f')\"\n",
              "              title=\"Convert this dataframe to an interactive table.\"\n",
              "              style=\"display:none;\">\n",
              "        \n",
              "  <svg xmlns=\"http://www.w3.org/2000/svg\" height=\"24px\"viewBox=\"0 0 24 24\"\n",
              "       width=\"24px\">\n",
              "    <path d=\"M0 0h24v24H0V0z\" fill=\"none\"/>\n",
              "    <path d=\"M18.56 5.44l.94 2.06.94-2.06 2.06-.94-2.06-.94-.94-2.06-.94 2.06-2.06.94zm-11 1L8.5 8.5l.94-2.06 2.06-.94-2.06-.94L8.5 2.5l-.94 2.06-2.06.94zm10 10l.94 2.06.94-2.06 2.06-.94-2.06-.94-.94-2.06-.94 2.06-2.06.94z\"/><path d=\"M17.41 7.96l-1.37-1.37c-.4-.4-.92-.59-1.43-.59-.52 0-1.04.2-1.43.59L10.3 9.45l-7.72 7.72c-.78.78-.78 2.05 0 2.83L4 21.41c.39.39.9.59 1.41.59.51 0 1.02-.2 1.41-.59l7.78-7.78 2.81-2.81c.8-.78.8-2.07 0-2.86zM5.41 20L4 18.59l7.72-7.72 1.47 1.35L5.41 20z\"/>\n",
              "  </svg>\n",
              "      </button>\n",
              "      \n",
              "  <style>\n",
              "    .colab-df-container {\n",
              "      display:flex;\n",
              "      flex-wrap:wrap;\n",
              "      gap: 12px;\n",
              "    }\n",
              "\n",
              "    .colab-df-convert {\n",
              "      background-color: #E8F0FE;\n",
              "      border: none;\n",
              "      border-radius: 50%;\n",
              "      cursor: pointer;\n",
              "      display: none;\n",
              "      fill: #1967D2;\n",
              "      height: 32px;\n",
              "      padding: 0 0 0 0;\n",
              "      width: 32px;\n",
              "    }\n",
              "\n",
              "    .colab-df-convert:hover {\n",
              "      background-color: #E2EBFA;\n",
              "      box-shadow: 0px 1px 2px rgba(60, 64, 67, 0.3), 0px 1px 3px 1px rgba(60, 64, 67, 0.15);\n",
              "      fill: #174EA6;\n",
              "    }\n",
              "\n",
              "    [theme=dark] .colab-df-convert {\n",
              "      background-color: #3B4455;\n",
              "      fill: #D2E3FC;\n",
              "    }\n",
              "\n",
              "    [theme=dark] .colab-df-convert:hover {\n",
              "      background-color: #434B5C;\n",
              "      box-shadow: 0px 1px 3px 1px rgba(0, 0, 0, 0.15);\n",
              "      filter: drop-shadow(0px 1px 2px rgba(0, 0, 0, 0.3));\n",
              "      fill: #FFFFFF;\n",
              "    }\n",
              "  </style>\n",
              "\n",
              "      <script>\n",
              "        const buttonEl =\n",
              "          document.querySelector('#df-cf2c2a38-19a4-41ff-bd2b-3327437e1a6f button.colab-df-convert');\n",
              "        buttonEl.style.display =\n",
              "          google.colab.kernel.accessAllowed ? 'block' : 'none';\n",
              "\n",
              "        async function convertToInteractive(key) {\n",
              "          const element = document.querySelector('#df-cf2c2a38-19a4-41ff-bd2b-3327437e1a6f');\n",
              "          const dataTable =\n",
              "            await google.colab.kernel.invokeFunction('convertToInteractive',\n",
              "                                                     [key], {});\n",
              "          if (!dataTable) return;\n",
              "\n",
              "          const docLinkHtml = 'Like what you see? Visit the ' +\n",
              "            '<a target=\"_blank\" href=https://colab.research.google.com/notebooks/data_table.ipynb>data table notebook</a>'\n",
              "            + ' to learn more about interactive tables.';\n",
              "          element.innerHTML = '';\n",
              "          dataTable['output_type'] = 'display_data';\n",
              "          await google.colab.output.renderOutput(dataTable, element);\n",
              "          const docLink = document.createElement('div');\n",
              "          docLink.innerHTML = docLinkHtml;\n",
              "          element.appendChild(docLink);\n",
              "        }\n",
              "      </script>\n",
              "    </div>\n",
              "  </div>\n",
              "  "
            ]
          },
          "metadata": {},
          "execution_count": 7
        }
      ],
      "source": [
        "pd.set_option('display.max_columns',None)\n",
        "df.describe()"
      ]
    },
    {
      "cell_type": "markdown",
      "metadata": {
        "id": "VfTAnKSsbxS7"
      },
      "source": [
        "Ideias levantadas com a função describe:\n",
        "- Podemos observar que não tem a presença de Outliers;\n",
        "- A coluna reported_income possui valor “inf” devemos substituir por ’nan’;\n",
        "- As colunas n_bankruptcies e n_defaulted_loan tem seu (min,25,50,75) sendo zero, observar se isso não afetará o sistema.\n",
        "- A coluna last_mounth_borrowed também tem seu (min,25,50,75) sendo 36, observar se isso não afetará o sistema;\n",
        "- A coluna external_data_provider_credit_checks_last_2_year possui todos os seus valores zerados;\n",
        "- A coluna external_data_provider_email_seen_before possui o seu valor minima negativo(-999);"
      ]
    },
    {
      "cell_type": "code",
      "execution_count": null,
      "metadata": {
        "colab": {
          "base_uri": "https://localhost:8080/"
        },
        "id": "T8QYQAuwA-8m",
        "outputId": "073de79c-9b3c-4526-8084-394b353d02cf"
      },
      "outputs": [
        {
          "output_type": "execute_result",
          "data": {
            "text/plain": [
              "ids                                                     0\n",
              "email                                                   0\n",
              "external_data_provider_credit_checks_last_month         0\n",
              "external_data_provider_first_name                       0\n",
              "external_data_provider_fraud_score                      0\n",
              "profile_phone_number                                    0\n",
              "application_time_applied                                0\n",
              "reported_income                                         0\n",
              "shipping_state                                          0\n",
              "application_time_in_funnel                              0\n",
              "score_6                                                 0\n",
              "profile_tags                                            0\n",
              "score_5                                                 0\n",
              "score_4                                                 0\n",
              "shipping_zip_code                                       0\n",
              "risk_rate                                             562\n",
              "n_accounts                                            562\n",
              "score_1                                               562\n",
              "score_2                                               562\n",
              "score_3                                               562\n",
              "channel                                               562\n",
              "zip                                                   562\n",
              "state                                                 562\n",
              "real_state                                            562\n",
              "income                                                562\n",
              "reason                                                566\n",
              "n_defaulted_loans                                     574\n",
              "n_bankruptcies                                        697\n",
              "user_agent                                            722\n",
              "lat_lon                                              1363\n",
              "external_data_provider_email_seen_before             2233\n",
              "target_default                                       3259\n",
              "job_name                                             3336\n",
              "marketing_channel                                    3578\n",
              "facebook_profile                                     4458\n",
              "n_issues                                            11544\n",
              "credit_limit                                        13800\n",
              "external_data_provider_credit_checks_last_year      15124\n",
              "external_data_provider_credit_checks_last_2_year    22628\n",
              "ok_since                                            26545\n",
              "last_borrowed_in_months                             29956\n",
              "last_amount_borrowed                                29956\n",
              "target_fraud                                        43478\n",
              "dtype: int64"
            ]
          },
          "metadata": {},
          "execution_count": 8
        }
      ],
      "source": [
        "df.isna().sum().sort_values()"
      ]
    },
    {
      "cell_type": "code",
      "execution_count": null,
      "metadata": {
        "colab": {
          "base_uri": "https://localhost:8080/"
        },
        "id": "ddlBC1jD5kQB",
        "outputId": "e64bcfbe-a8e2-4129-bb9b-67611cd9511d"
      },
      "outputs": [
        {
          "output_type": "execute_result",
          "data": {
            "text/plain": [
              "external_data_provider_credit_checks_last_2_year        1\n",
              "channel                                                 1\n",
              "target_fraud                                            2\n",
              "target_default                                          2\n",
              "external_data_provider_credit_checks_last_year          2\n",
              "facebook_profile                                        2\n",
              "last_borrowed_in_months                                 2\n",
              "external_data_provider_credit_checks_last_month         4\n",
              "n_defaulted_loans                                       5\n",
              "real_state                                              5\n",
              "email                                                   6\n",
              "n_bankruptcies                                          6\n",
              "score_1                                                 7\n",
              "marketing_channel                                       9\n",
              "shipping_state                                         25\n",
              "score_2                                                35\n",
              "n_issues                                               44\n",
              "n_accounts                                             44\n",
              "state                                                  50\n",
              "external_data_provider_email_seen_before               62\n",
              "risk_rate                                              82\n",
              "score_3                                                88\n",
              "ok_since                                              100\n",
              "user_agent                                            297\n",
              "application_time_in_funnel                            501\n",
              "zip                                                   823\n",
              "external_data_provider_fraud_score                   1001\n",
              "last_amount_borrowed                                14325\n",
              "reason                                              14874\n",
              "credit_limit                                        20928\n",
              "lat_lon                                             22412\n",
              "profile_tags                                        26131\n",
              "shipping_zip_code                                   28263\n",
              "job_name                                            32265\n",
              "external_data_provider_first_name                   32886\n",
              "application_time_applied                            35543\n",
              "reported_income                                     40025\n",
              "income                                              41211\n",
              "score_4                                             45000\n",
              "score_5                                             45000\n",
              "score_6                                             45000\n",
              "profile_phone_number                                45000\n",
              "ids                                                 45000\n",
              "dtype: int64"
            ]
          },
          "metadata": {},
          "execution_count": 9
        }
      ],
      "source": [
        "df.nunique().sort_values()"
      ]
    },
    {
      "cell_type": "markdown",
      "metadata": {
        "id": "9Rkr3Nu4chxF"
      },
      "source": [
        "Ideias levantadas com a função info:\n",
        "- A coluna external_data_provider_credit_checks_last_2_year e channel só possuem um unico valor, sendo esse não relevante para nosso estudo;\n",
        "- profile_phone_number possui 45000 valores univos, não trazedno nenhuma informação relevante para a analise;\n",
        "- A coluna target_default não possui todos os seus valores (Retirar as linhas que não tem valores)\n",
        "- A coluna target_default é binaria."
      ]
    },
    {
      "cell_type": "code",
      "execution_count": null,
      "metadata": {
        "colab": {
          "base_uri": "https://localhost:8080/",
          "height": 365
        },
        "id": "eGR1SwMXHfrY",
        "outputId": "64d2d212-dfa1-4924-906e-8b05ad7698b0"
      },
      "outputs": [
        {
          "output_type": "stream",
          "name": "stdout",
          "text": [
            "False    35080\n",
            "True      6661\n",
            "Name: target_default, dtype: int64\n"
          ]
        },
        {
          "output_type": "display_data",
          "data": {
            "text/plain": [
              "<Figure size 432x288 with 1 Axes>"
            ],
            "image/png": "[encoded data removed]"
          },
          "metadata": {
            "needs_background": "light"
          }
        }
      ],
      "source": [
        "#Verificando se a coluna alvo esá balanceada\n",
        "\n",
        "fig,ax = plt.subplots(nrows= 1, ncols = 1, figsize = (6,4))\n",
        "sns.countplot(x = df.target_default, data = df)\n",
        "\n",
        "ax.set_title('Inadiplentes',\n",
        "             fontsize = 15,\n",
        "             color = 'black',\n",
        "             loc = 'center',\n",
        "             pad = 20)\n",
        "ax.set_xlabel ('DEFAULT', fontsize = 12)\n",
        "ax.set_ylabel ('Nº DE OCORRENCÊNCIAS', fontsize = 12)\n",
        "\n",
        "ax.spines['top'].set_visible(False)\n",
        "ax.spines['right'].set_visible(False)\n",
        "\n",
        "print(df.target_default.value_counts())"
      ]
    },
    {
      "cell_type": "markdown",
      "metadata": {
        "id": "25pDqvWaIE47"
      },
      "source": [
        "- Nessa situação podemos perceber que nossa coluna alvo está desbalanceada, fazendo que seja necessario o balanceamento para evitar qualquer chance de tendencia para um dos lados.\n",
        "\n",
        "- Dados da coluna target_default = 35080 (false) + 6661 (true) + 3259 (dados faltantes) = 45000 dados\n",
        "  - Os valores ausentes serão retirados, motivo não podemos deduzir um resultado na nossa variavel principal (alvo)\n",
        "\n",
        "- Existem algumas possibilidade de balanceamento para essa situação, mas fazendo a analise mias profunda cheguei a conlusão que seria melhor fazer um Smote. O motivo se deu devido a caso um fosse fazer um oversampling ou undersampling, o meu data set téria muito mais dados replicados ou poderia está perdendo muitas informações que poderiam ser importantes"
      ]
    },
    {
      "cell_type": "markdown",
      "source": [
        "##Analise do Banco de Dados"
      ],
      "metadata": {
        "id": "3ofNL_NNg4Pz"
      }
    },
    {
      "cell_type": "code",
      "source": [
        "df_clean = df.copy()"
      ],
      "metadata": {
        "id": "Kz3pL9Vlj8fi"
      },
      "execution_count": null,
      "outputs": []
    },
    {
      "cell_type": "code",
      "source": [
        "#Criando duas listas\n",
        "lat = []\n",
        "lon = []\n",
        "\n",
        "#Fazendo um loop na feature lat_long\n",
        "for row in df_clean['lat_lon']:\n",
        "    try:\n",
        "        # Usando o split até a virgula e pegando o primeiro valor numerico [0]\n",
        "        # O primeiro valor é a latitude\n",
        "        lat.append(row.split(',')[0])\n",
        "        # Usando o split até a virgula e pegando o segundo valor numerico [1]\n",
        "        # O segundo valor é a longitude\n",
        "        lon.append(row.split(',')[1])\n",
        "    except:\n",
        "        # Se caso algum valor nan venha para latitude\n",
        "        lat.append(np.NaN)\n",
        "        # Se caso algum valor nan venha para longitude\n",
        "        lon.append(np.NaN)\n",
        "\n",
        "# Criando duas novas colunas latitude e longitude\n",
        "df_clean['Latitude'] = lat\n",
        "df_clean['Longitude'] = lon\n",
        "\n",
        "#Limpando as colunas\n",
        "df_clean[\"Latitude\"] = df_clean[\"Latitude\"].str.replace(\"(\", \"\")\n",
        "df_clean[\"Longitude\"] = df_clean[\"Longitude\"].str.replace(\")\", \"\")\n",
        "\n",
        "#Excluindo a coluna lat_lon\n",
        "df_clean.drop('lat_lon', axis=1, inplace=True)\n",
        "\n",
        "#Trnasoformando as colunas em numericos\n",
        "df_clean[\"Latitude\"] = pd.to_numeric(df_clean['Latitude'])\n",
        "df_clean[\"Longitude\"] = pd.to_numeric(df_clean['Longitude'])"
      ],
      "metadata": {
        "colab": {
          "base_uri": "https://localhost:8080/"
        },
        "id": "NDCr_zGOjiT_",
        "outputId": "2b66c6b7-5caf-4fa5-97ba-59e6aa4c2a80"
      },
      "execution_count": null,
      "outputs": [
        {
          "output_type": "stream",
          "name": "stderr",
          "text": [
            "/usr/local/lib/python3.7/dist-packages/ipykernel_launcher.py:25: FutureWarning: The default value of regex will change from True to False in a future version. In addition, single character regular expressions will *not* be treated as literal strings when regex=True.\n",
            "/usr/local/lib/python3.7/dist-packages/ipykernel_launcher.py:26: FutureWarning: The default value of regex will change from True to False in a future version. In addition, single character regular expressions will *not* be treated as literal strings when regex=True.\n"
          ]
        }
      ]
    },
    {
      "cell_type": "code",
      "source": [
        "plt.figure(figsize = (10,10))\n",
        "sns.scatterplot(x='Longitude', y= 'Latitude', hue = 'target_default', data = df_clean, s = 20, palette = 'RdYlGn_r')\n"
      ],
      "metadata": {
        "colab": {
          "base_uri": "https://localhost:8080/",
          "height": 623
        },
        "id": "LWKQ0wGIhz-Z",
        "outputId": "26526cdd-76fc-4c14-9348-ecc6e2ed164d"
      },
      "execution_count": null,
      "outputs": [
        {
          "output_type": "execute_result",
          "data": {
            "text/plain": [
              "<matplotlib.axes._subplots.AxesSubplot at 0x7f5d338a2950>"
            ]
          },
          "metadata": {},
          "execution_count": 77
        },
        {
          "output_type": "display_data",
          "data": {
            "text/plain": [
              "<Figure size 720x720 with 1 Axes>"
            ],
            "image/png": "[encoded data removed]"
          },
          "metadata": {
            "needs_background": "light"
          }
        }
      ]
    },
    {
      "cell_type": "code",
      "source": [
        "plt.figure(figsize = (10,10))\n",
        "sns.scatterplot(x='Longitude', y= 'Latitude', hue = 'marketing_channel', data = df_clean, s = 20, palette = 'RdYlGn_r')\n",
        "df_clean.marketing_channel.value_counts()"
      ],
      "metadata": {
        "colab": {
          "base_uri": "https://localhost:8080/",
          "height": 776
        },
        "id": "NnWoP_hxsBtc",
        "outputId": "83004d3d-5564-4154-d940-05394f825329"
      },
      "execution_count": null,
      "outputs": [
        {
          "output_type": "execute_result",
          "data": {
            "text/plain": [
              "Website             10950\n",
              "Waiting-list         7029\n",
              "Invite-web           3510\n",
              "Radio-commercial     3364\n",
              "Facebook             3341\n",
              "LinkedIn             3330\n",
              "Instagram            3314\n",
              "Twitter              3296\n",
              "Invite-email         3288\n",
              "Name: marketing_channel, dtype: int64"
            ]
          },
          "metadata": {},
          "execution_count": 87
        },
        {
          "output_type": "display_data",
          "data": {
            "text/plain": [
              "<Figure size 720x720 with 1 Axes>"
            ],
            "image/png": "[encoded data removed]"
          },
          "metadata": {
            "needs_background": "light"
          }
        }
      ]
    },
    {
      "cell_type": "code",
      "source": [
        "df_clean.groupby(['shipping_state']).size().sort_values(ascending = False)"
      ],
      "metadata": {
        "colab": {
          "base_uri": "https://localhost:8080/"
        },
        "id": "-jC65X1T1MGf",
        "outputId": "6e3d3a2d-33e9-43b8-edcf-3bf13eca9d00"
      },
      "execution_count": null,
      "outputs": [
        {
          "output_type": "execute_result",
          "data": {
            "text/plain": [
              "shipping_state\n",
              "BR-SP    6994\n",
              "BR-AM    4037\n",
              "BR-BA    2780\n",
              "BR-GO    2634\n",
              "BR-RR    1610\n",
              "BR-MG    1527\n",
              "BR-SE    1410\n",
              "BR-DF    1402\n",
              "BR-MA    1388\n",
              "BR-RO    1371\n",
              "BR-TO    1363\n",
              "BR-PR    1359\n",
              "BR-MS    1354\n",
              "BR-RS    1352\n",
              "BR-AP    1329\n",
              "BR-PA    1326\n",
              "BR-AC    1319\n",
              "BR-AL    1318\n",
              "BR-SC    1311\n",
              "BR-PE    1309\n",
              "BR-PB    1308\n",
              "BR-RN    1307\n",
              "BR-MT    1302\n",
              "BR-CE    1301\n",
              "BR-ES    1289\n",
              "dtype: int64"
            ]
          },
          "metadata": {},
          "execution_count": 154
        }
      ]
    },
    {
      "cell_type": "markdown",
      "source": [
        "- Podemos fazer a analise visual que não temos uma região especifica do país onde temos um maior numero de inadiplentes, podemos observar que há uma maior numero de inadiplentes na região sul e suldeste mas isso se dá devido a essa região ter o maior quantidade de pessoas que aderem ao banco;\n",
        "\n",
        "- A internet ainda continua sendo o principal meio de publicidade da Nubank e que o estado de São Paulo foi o local de maior aderencia."
      ],
      "metadata": {
        "id": "LkQerfQ-pU9i"
      }
    },
    {
      "cell_type": "markdown",
      "metadata": {
        "id": "lA6dUF4dY67j"
      },
      "source": [
        "##Limpeza de Dados"
      ]
    },
    {
      "cell_type": "markdown",
      "metadata": {
        "id": "DJv201foY-As"
      },
      "source": [
        "Para evitar problemas futuros com o meu dataset original, será feito uma copia do dataset original para que todas as mudanças possam ser feitas nele.\n",
        "\n",
        "Esse procedimento é algo rotineiro no mundo do machine learning, já que não é indicado mexer diretamente com o Banco de Dados original e se caso o Banco de Dados original fosse modificado poderiamos perder varios insights."
      ]
    },
    {
      "cell_type": "code",
      "execution_count": null,
      "metadata": {
        "id": "PPTlasqoZk1y"
      },
      "outputs": [],
      "source": [
        "df_copy = df.copy()"
      ]
    },
    {
      "cell_type": "code",
      "execution_count": null,
      "metadata": {
        "id": "LUPI2Y5FBw7M"
      },
      "outputs": [],
      "source": [
        "#Mudança do Valor np.if para np.nan\n",
        "\n",
        "df_copy.reported_income = df_copy.reported_income.replace(np.inf,np.nan)"
      ]
    },
    {
      "cell_type": "code",
      "execution_count": null,
      "metadata": {
        "id": "vAECoTBMaOeD"
      },
      "outputs": [],
      "source": [
        "#Mudando os valores -999 para np.nan\n",
        "\n",
        "df_copy.loc[df_copy['external_data_provider_email_seen_before']== -999.0,'external_data_provider_email_seen_before'] = np.nan"
      ]
    },
    {
      "cell_type": "code",
      "execution_count": null,
      "metadata": {
        "id": "dkis3LBJH6ji"
      },
      "outputs": [],
      "source": [
        "#Retirada da coluna fraud que não vai auxiliar em nada nesse estudo\n",
        "\n",
        "df_copy = df_copy.drop('target_fraud',axis = 1)"
      ]
    },
    {
      "cell_type": "code",
      "execution_count": null,
      "metadata": {
        "id": "yusDbcE2WT8O"
      },
      "outputs": [],
      "source": [
        "#Retirada das colunas que não irão influênciar nos estudos de risco de credito\n",
        "\n",
        "coluns_erase = ['user_agent','external_data_provider_first_name', 'ids', 'lat_lon', 'profile_tags', 'profile_phone_number', 'application_time_applied', 'email', 'marketing_channel', 'external_data_provider_credit_checks_last_2_year', 'channel', 'reason', 'shipping_state', 'application_time_in_funnel','external_data_provider_fraud_score', 'profile_tags','shipping_zip_code','job_name','external_data_provider_first_name', 'profile_phone_number', 'application_time_applied', 'zip']\n",
        "\n",
        "df_copy = df_copy.drop(labels = coluns_erase,axis = 1)"
      ]
    },
    {
      "cell_type": "code",
      "execution_count": null,
      "metadata": {
        "id": "KmcZRdw1pfb_"
      },
      "outputs": [],
      "source": [
        "#Retirada dos valores ausentes da variaveis target\n",
        "\n",
        "df_copy.dropna(subset = ['target_default'], inplace = True)"
      ]
    },
    {
      "cell_type": "code",
      "execution_count": null,
      "metadata": {
        "colab": {
          "base_uri": "https://localhost:8080/"
        },
        "id": "UsZno4SfRTal",
        "outputId": "e0bdde5f-0052-4a0b-b9d0-2892ef644cce"
      },
      "outputs": [
        {
          "output_type": "execute_result",
          "data": {
            "text/plain": [
              "Index(['target_default', 'score_1', 'score_2', 'score_3', 'score_4', 'score_5',\n",
              "       'score_6', 'risk_rate', 'last_amount_borrowed',\n",
              "       'last_borrowed_in_months', 'credit_limit', 'income', 'facebook_profile',\n",
              "       'state', 'real_state', 'ok_since', 'n_bankruptcies',\n",
              "       'n_defaulted_loans', 'n_accounts', 'n_issues',\n",
              "       'external_data_provider_credit_checks_last_month',\n",
              "       'external_data_provider_credit_checks_last_year',\n",
              "       'external_data_provider_email_seen_before', 'reported_income'],\n",
              "      dtype='object')"
            ]
          },
          "metadata": {},
          "execution_count": 17
        }
      ],
      "source": [
        "df_copy.columns"
      ]
    },
    {
      "cell_type": "code",
      "execution_count": null,
      "metadata": {
        "colab": {
          "base_uri": "https://localhost:8080/"
        },
        "id": "zFgdwKACykMZ",
        "outputId": "7c587a9b-2f23-4137-d7dc-2c9c0966bca2"
      },
      "outputs": [
        {
          "output_type": "execute_result",
          "data": {
            "text/plain": [
              "target_default                                         0\n",
              "external_data_provider_credit_checks_last_month        0\n",
              "n_accounts                                             0\n",
              "real_state                                             0\n",
              "state                                                  0\n",
              "risk_rate                                              0\n",
              "income                                                 0\n",
              "score_5                                                0\n",
              "score_1                                                0\n",
              "score_2                                                0\n",
              "score_6                                                0\n",
              "score_3                                                0\n",
              "score_4                                                0\n",
              "n_defaulted_loans                                     12\n",
              "reported_income                                       66\n",
              "n_bankruptcies                                       135\n",
              "external_data_provider_email_seen_before            2676\n",
              "facebook_profile                                    4153\n",
              "n_issues                                           10923\n",
              "credit_limit                                       13109\n",
              "external_data_provider_credit_checks_last_year     14021\n",
              "ok_since                                           24465\n",
              "last_borrowed_in_months                            27608\n",
              "last_amount_borrowed                               27608\n",
              "dtype: int64"
            ]
          },
          "metadata": {},
          "execution_count": 18
        }
      ],
      "source": [
        "df_copy.isna().sum().sort_values()"
      ]
    },
    {
      "cell_type": "markdown",
      "metadata": {
        "id": "d0T9ElEvy33A"
      },
      "source": [
        "Podemos verificar nessa situação uma grande quantidade de valores nulos no nosso dataframe, para essa situação será utilizado duas abordagens:\n",
        "- Para as colunas numericas, os valores nulos serão substituidos pela médiana da coluna;\n",
        "- Para as colunas categoricas, os valores nulos serão substituidos pela maior frequencia."
      ]
    },
    {
      "cell_type": "code",
      "execution_count": null,
      "metadata": {
        "id": "NLyuOCJCnl5I"
      },
      "outputs": [],
      "source": [
        "#Substituindo os valores ausentes Nan pelo Zero\n",
        "\n",
        "df_copy.last_amount_borrowed.fillna(value=0, inplace=True)\n",
        "df_copy.last_borrowed_in_months.fillna(value=0, inplace=True)\n",
        "df_copy.n_issues.fillna(value=0, inplace=True)"
      ]
    },
    {
      "cell_type": "markdown",
      "metadata": {
        "id": "EaWJl69as-IV"
      },
      "source": [
        "Na situação acima as variaveis, podemos levar em consideração que os valores ausentes nessas variaveis são 0, pois podemos levar em conta que são perguntas que não são obrigatorias ao cliente responder e também nenhum dessas variaveis possuem alguma referencia/observação, levando a entender que o 0 é o valor ideal para essas variaveis.\n",
        "    \n",
        "- Não pode deixar de esquecer que algumas features como a feature do perfil do facebook não são respostas obrigatorias no cadastro."
      ]
    },
    {
      "cell_type": "code",
      "execution_count": null,
      "metadata": {
        "id": "VpQa8TVdYTwF"
      },
      "outputs": [],
      "source": [
        "#Retirada de todos os valores NAN\n",
        "\n",
        "from sklearn.impute import SimpleImputer\n",
        "\n",
        "numeral = []\n",
        "categoricas =[]\n",
        "\n",
        "for columns in df_copy.columns:\n",
        "  if df_copy[columns].dtypes == np.int64 or df_copy[columns].dtypes == np.float64:\n",
        "    imputer_m = SimpleImputer(strategy='median', missing_values= np.nan)\n",
        "    imputer_m = imputer_m.fit(df_copy[[columns]])\n",
        "    df_copy[[columns]] = imputer_m.transform(df_copy[[columns]])\n",
        "    numeral.append(columns)\n",
        "  else:\n",
        "    categoricas.append(columns)\n",
        "    imputer_m = SimpleImputer(strategy='most_frequent', missing_values= np.nan)\n",
        "    imputer_m = imputer_m.fit(df[[columns]])\n",
        "    df_copy[[columns]] = imputer_m.transform(df_copy[[columns]])\n"
      ]
    },
    {
      "cell_type": "code",
      "execution_count": null,
      "metadata": {
        "colab": {
          "base_uri": "https://localhost:8080/"
        },
        "id": "ML4UDq86kwH8",
        "outputId": "2c3a3e0b-d64d-4de1-a183-92672e298b29"
      },
      "outputs": [
        {
          "output_type": "stream",
          "name": "stdout",
          "text": [
            "['score_3', 'score_4', 'score_5', 'score_6', 'risk_rate', 'last_amount_borrowed', 'last_borrowed_in_months', 'credit_limit', 'income', 'ok_since', 'n_bankruptcies', 'n_defaulted_loans', 'n_accounts', 'n_issues', 'external_data_provider_credit_checks_last_month', 'external_data_provider_credit_checks_last_year', 'external_data_provider_email_seen_before', 'reported_income']\n",
            "- -- -- -- -- -- -- -- -- -- -- -- -- -- -- -- -- -- -- -- -- -- -- -- -- -- -- -- -- -- -\n",
            "['target_default', 'score_1', 'score_2', 'facebook_profile', 'state', 'real_state']\n"
          ]
        }
      ],
      "source": [
        "print(numeral)\n",
        "print(30 * '- -')\n",
        "print(categoricas)"
      ]
    },
    {
      "cell_type": "code",
      "execution_count": null,
      "metadata": {
        "colab": {
          "base_uri": "https://localhost:8080/"
        },
        "id": "eV2htH1srg7x",
        "outputId": "2694afd7-99db-4474-a69d-642ba91197c3"
      },
      "outputs": [
        {
          "output_type": "execute_result",
          "data": {
            "text/plain": [
              "ids                                                     0\n",
              "target_default                                       3259\n",
              "score_1                                               562\n",
              "score_2                                               562\n",
              "score_3                                               562\n",
              "score_4                                                 0\n",
              "score_5                                                 0\n",
              "score_6                                                 0\n",
              "risk_rate                                             562\n",
              "last_amount_borrowed                                29956\n",
              "last_borrowed_in_months                             29956\n",
              "credit_limit                                        13800\n",
              "reason                                                566\n",
              "income                                                562\n",
              "facebook_profile                                     4458\n",
              "state                                                 562\n",
              "zip                                                   562\n",
              "channel                                               562\n",
              "job_name                                             3336\n",
              "real_state                                            562\n",
              "ok_since                                            26545\n",
              "n_bankruptcies                                        697\n",
              "n_defaulted_loans                                     574\n",
              "n_accounts                                            562\n",
              "n_issues                                            11544\n",
              "application_time_applied                                0\n",
              "application_time_in_funnel                              0\n",
              "email                                                   0\n",
              "external_data_provider_credit_checks_last_2_year    22628\n",
              "external_data_provider_credit_checks_last_month         0\n",
              "external_data_provider_credit_checks_last_year      15124\n",
              "external_data_provider_email_seen_before             2233\n",
              "external_data_provider_first_name                       0\n",
              "external_data_provider_fraud_score                      0\n",
              "lat_lon                                              1363\n",
              "marketing_channel                                    3578\n",
              "profile_phone_number                                    0\n",
              "reported_income                                         0\n",
              "shipping_state                                          0\n",
              "shipping_zip_code                                       0\n",
              "profile_tags                                            0\n",
              "user_agent                                            722\n",
              "target_fraud                                        43478\n",
              "dtype: int64"
            ]
          },
          "metadata": {},
          "execution_count": 22
        }
      ],
      "source": [
        "df.isna().sum()"
      ]
    },
    {
      "cell_type": "code",
      "execution_count": null,
      "metadata": {
        "colab": {
          "base_uri": "https://localhost:8080/",
          "height": 659
        },
        "id": "1lW2DUzDYKPq",
        "outputId": "eaecfffb-0404-4021-e1a3-b9abe839c8b7"
      },
      "outputs": [
        {
          "output_type": "execute_result",
          "data": {
            "text/plain": [
              "                                    ids target_default  \\\n",
              "0  343b7e7b-2cf8-e508-b8fd-0a0285af30aa          False   \n",
              "1  bc2c7502-bbad-0f8c-39c3-94e881967124          False   \n",
              "2  669630dd-2e6a-0396-84bf-455e5009c922           True   \n",
              "3  d235609e-b6cb-0ccc-a329-d4f12e7ebdc1          False   \n",
              "4  9e0eb880-e8f4-3faa-67d8-f5cdd2b3932b          False   \n",
              "\n",
              "                    score_1                   score_2  score_3     score_4  \\\n",
              "0  1Rk8w4Ucd5yR3KcqZzLdow==  IOVu8au3ISbo6+zmfnYwMg==    350.0  101.800832   \n",
              "1  DGCQep2AE5QRkNCshIAlFQ==  SaamrHMo23l/3TwXOWgVzw==    370.0   97.062615   \n",
              "2  DGCQep2AE5QRkNCshIAlFQ==  Fv28Bz0YRTVAT5kl1bAV6g==    360.0  100.027073   \n",
              "3  1Rk8w4Ucd5yR3KcqZzLdow==  dCm9hFKfdRm7ej3jW+gyxw==    510.0  101.599485   \n",
              "4  8k8UDR4Yx0qasAjkGrUZLw==  +CxEO4w7jv3QPI/BQbyqAA==    500.0   98.474289   \n",
              "\n",
              "    score_5     score_6  risk_rate  last_amount_borrowed  \\\n",
              "0  0.259555  108.427273       0.40              25033.92   \n",
              "1  0.942655   92.002546       0.24                   NaN   \n",
              "2  0.351918  112.892453       0.29               7207.92   \n",
              "3  0.987673   94.902491       0.32                   NaN   \n",
              "4  0.532539  118.126207       0.18                   NaN   \n",
              "\n",
              "   last_borrowed_in_months  credit_limit  \\\n",
              "0                     36.0           0.0   \n",
              "1                      NaN       39726.0   \n",
              "2                     36.0           NaN   \n",
              "3                      NaN       54591.0   \n",
              "4                      NaN           NaN   \n",
              "\n",
              "                                              reason     income  \\\n",
              "0  mLVIVxoGY7TUDJ1FyFoSIZi1SFcaBmO01AydRchaEiGYtU...   65014.12   \n",
              "1  mLVIVxoGY7TUDJ1FyFoSIZi1SFcaBmO01AydRchaEiGYtU...  100018.91   \n",
              "2  mLVIVxoGY7TUDJ1FyFoSIZi1SFcaBmO01AydRchaEiGYtU...   65023.65   \n",
              "3  mLVIVxoGY7TUDJ1FyFoSIZi1SFcaBmO01AydRchaEiGYtU...   68830.01   \n",
              "4  mLVIVxoGY7TUDJ1FyFoSIZi1SFcaBmO01AydRchaEiGYtU...   60011.29   \n",
              "\n",
              "  facebook_profile                     state                       zip  \\\n",
              "0             True  sjJbkqJS7cXalHLBFA+EOQ==  Ernn+uVXCMq/6ARrBCcd+A==   \n",
              "1            False  xsd3ZdsI3356I3xMxZeiqQ==  rlWIXTBO+VOa34+SpGyhlQ==   \n",
              "2              NaN  Ygq6MsM98oC8yceExr69Ig==  PjTIDfJsK0DKL9fO7vuW2g==   \n",
              "3            False  KET/Pmr6rHp1RJ/P9ymztw==  Cc/kWDLQH3dpHv5HU+pLVA==   \n",
              "4             True  xsd3ZdsI3356I3xMxZeiqQ==  i036nmJ7rfxo+3EvCD7Jnw==   \n",
              "\n",
              "                    channel  \\\n",
              "0  NCqL3QBx0pscDnx3ixKwXg==   \n",
              "1  NCqL3QBx0pscDnx3ixKwXg==   \n",
              "2  NCqL3QBx0pscDnx3ixKwXg==   \n",
              "3  NCqL3QBx0pscDnx3ixKwXg==   \n",
              "4  NCqL3QBx0pscDnx3ixKwXg==   \n",
              "\n",
              "                                            job_name  \\\n",
              "0  mLVIVxoGY7TUDJ1FyFoSIZi1SFcaBmO01AydRchaEiGYtU...   \n",
              "1  mLVIVxoGY7TUDJ1FyFoSIZi1SFcaBmO01AydRchaEiGYtU...   \n",
              "2  mLVIVxoGY7TUDJ1FyFoSIZi1SFcaBmO01AydRchaEiGYtU...   \n",
              "3  mLVIVxoGY7TUDJ1FyFoSIZi1SFcaBmO01AydRchaEiE56f...   \n",
              "4  mLVIVxoGY7TUDJ1FyFoSIZi1SFcaBmO01AydRchaEiGYtU...   \n",
              "\n",
              "                 real_state  ok_since  n_bankruptcies  n_defaulted_loans  \\\n",
              "0  N5/CE7lSkAfB04hVFFwllw==       NaN             0.0                0.0   \n",
              "1  N5/CE7lSkAfB04hVFFwllw==      50.0             0.0                0.0   \n",
              "2  n+xK9CfX0bCn77lClTWviw==       NaN             0.0                0.0   \n",
              "3  n+xK9CfX0bCn77lClTWviw==       NaN             1.0                0.0   \n",
              "4  n+xK9CfX0bCn77lClTWviw==       NaN             0.0                0.0   \n",
              "\n",
              "   n_accounts  n_issues application_time_applied  application_time_in_funnel  \\\n",
              "0        18.0      18.0                 07:52:34                         444   \n",
              "1        14.0      14.0                 02:34:29                         346   \n",
              "2        10.0       NaN                 00:60:02                           6   \n",
              "3        19.0      19.0                 11:20:49                         406   \n",
              "4        11.0       NaN                 13:39:03                         240   \n",
              "\n",
              "         email  external_data_provider_credit_checks_last_2_year  \\\n",
              "0  outlook.com                                               NaN   \n",
              "1    gmail.com                                               0.0   \n",
              "2    gmail.com                                               NaN   \n",
              "3    spgov.com                                               NaN   \n",
              "4    gmail.com                                               0.0   \n",
              "\n",
              "   external_data_provider_credit_checks_last_month  \\\n",
              "0                                                2   \n",
              "1                                                1   \n",
              "2                                                2   \n",
              "3                                                3   \n",
              "4                                                2   \n",
              "\n",
              "   external_data_provider_credit_checks_last_year  \\\n",
              "0                                             0.0   \n",
              "1                                             0.0   \n",
              "2                                             NaN   \n",
              "3                                             NaN   \n",
              "4                                             1.0   \n",
              "\n",
              "   external_data_provider_email_seen_before external_data_provider_first_name  \\\n",
              "0                                      51.0                        leidelaura   \n",
              "1                                      17.0                          diocezio   \n",
              "2                                       9.0                         veralucia   \n",
              "3                                      38.0                            venice   \n",
              "4                                      46.0                           darzisa   \n",
              "\n",
              "   external_data_provider_fraud_score  \\\n",
              "0                                 645   \n",
              "1                                 243   \n",
              "2                                  65   \n",
              "3                                 815   \n",
              "4                                 320   \n",
              "\n",
              "                                      lat_lon marketing_channel  \\\n",
              "0    (-29.151545708122246, -51.1386461804385)      Invite-email   \n",
              "1   (-19.687710705798963, -47.94151536525154)  Radio-commercial   \n",
              "2  (-28.748023890412284, -51.867279334353995)      Waiting-list   \n",
              "3   (-17.520650158450454, -39.75801139933186)      Waiting-list   \n",
              "4   (-16.574259446978008, -39.90990074785962)      Invite-email   \n",
              "\n",
              "  profile_phone_number  reported_income shipping_state  shipping_zip_code  \\\n",
              "0          514-9840782          57849.0          BR-MT              17528   \n",
              "1          251-3659293           4902.0          BR-RS              40933   \n",
              "2          230-6097993         163679.0          BR-RR              50985   \n",
              "3          261-3543751           1086.0          BR-RN              37825   \n",
              "4          102-3660162         198618.0          BR-MT              52827   \n",
              "\n",
              "                                profile_tags  \\\n",
              "0                    {'tags': ['n19', 'n8']}   \n",
              "1              {'tags': ['n6', 'n7', 'nim']}   \n",
              "2       {'tags': ['n0', 'n17', 'nim', 'da']}   \n",
              "3                           {'tags': ['n4']}   \n",
              "4  {'tags': ['pro+aty', 'n19', 'da', 'b19']}   \n",
              "\n",
              "                                          user_agent target_fraud  \n",
              "0  Mozilla/5.0 (Linux; Android 6.0.1; SGP771 Buil...          NaN  \n",
              "1  Mozilla/5.0 (Linux; Android 5.0.2; SAMSUNG SM-...          NaN  \n",
              "2  Mozilla/5.0 (Linux; Android 6.0.1; SGP771 Buil...          NaN  \n",
              "3  Mozilla/5.0 (Linux; Android 6.0; HTC One X10 B...          NaN  \n",
              "4  Mozilla/5.0 (Linux; Android 7.0; Pixel C Build...          NaN  "
            ],
            "text/html": [
              "\n",
              "  <div id=\"df-3fc2c0cd-7505-48f6-b810-5b775334d176\">\n",
              "    <div class=\"colab-df-container\">\n",
              "      <div>\n",
              "<style scoped>\n",
              "    .dataframe tbody tr th:only-of-type {\n",
              "        vertical-align: middle;\n",
              "    }\n",
              "\n",
              "    .dataframe tbody tr th {\n",
              "        vertical-align: top;\n",
              "    }\n",
              "\n",
              "    .dataframe thead th {\n",
              "        text-align: right;\n",
              "    }\n",
              "</style>\n",
              "<table border=\"1\" class=\"dataframe\">\n",
              "  <thead>\n",
              "    <tr style=\"text-align: right;\">\n",
              "      <th></th>\n",
              "      <th>ids</th>\n",
              "      <th>target_default</th>\n",
              "      <th>score_1</th>\n",
              "      <th>score_2</th>\n",
              "      <th>score_3</th>\n",
              "      <th>score_4</th>\n",
              "      <th>score_5</th>\n",
              "      <th>score_6</th>\n",
              "      <th>risk_rate</th>\n",
              "      <th>last_amount_borrowed</th>\n",
              "      <th>last_borrowed_in_months</th>\n",
              "      <th>credit_limit</th>\n",
              "      <th>reason</th>\n",
              "      <th>income</th>\n",
              "      <th>facebook_profile</th>\n",
              "      <th>state</th>\n",
              "      <th>zip</th>\n",
              "      <th>channel</th>\n",
              "      <th>job_name</th>\n",
              "      <th>real_state</th>\n",
              "      <th>ok_since</th>\n",
              "      <th>n_bankruptcies</th>\n",
              "      <th>n_defaulted_loans</th>\n",
              "      <th>n_accounts</th>\n",
              "      <th>n_issues</th>\n",
              "      <th>application_time_applied</th>\n",
              "      <th>application_time_in_funnel</th>\n",
              "      <th>email</th>\n",
              "      <th>external_data_provider_credit_checks_last_2_year</th>\n",
              "      <th>external_data_provider_credit_checks_last_month</th>\n",
              "      <th>external_data_provider_credit_checks_last_year</th>\n",
              "      <th>external_data_provider_email_seen_before</th>\n",
              "      <th>external_data_provider_first_name</th>\n",
              "      <th>external_data_provider_fraud_score</th>\n",
              "      <th>lat_lon</th>\n",
              "      <th>marketing_channel</th>\n",
              "      <th>profile_phone_number</th>\n",
              "      <th>reported_income</th>\n",
              "      <th>shipping_state</th>\n",
              "      <th>shipping_zip_code</th>\n",
              "      <th>profile_tags</th>\n",
              "      <th>user_agent</th>\n",
              "      <th>target_fraud</th>\n",
              "    </tr>\n",
              "  </thead>\n",
              "  <tbody>\n",
              "    <tr>\n",
              "      <th>0</th>\n",
              "      <td>343b7e7b-2cf8-e508-b8fd-0a0285af30aa</td>\n",
              "      <td>False</td>\n",
              "      <td>1Rk8w4Ucd5yR3KcqZzLdow==</td>\n",
              "      <td>IOVu8au3ISbo6+zmfnYwMg==</td>\n",
              "      <td>350.0</td>\n",
              "      <td>101.800832</td>\n",
              "      <td>0.259555</td>\n",
              "      <td>108.427273</td>\n",
              "      <td>0.40</td>\n",
              "      <td>25033.92</td>\n",
              "      <td>36.0</td>\n",
              "      <td>0.0</td>\n",
              "      <td>mLVIVxoGY7TUDJ1FyFoSIZi1SFcaBmO01AydRchaEiGYtU...</td>\n",
              "      <td>65014.12</td>\n",
              "      <td>True</td>\n",
              "      <td>sjJbkqJS7cXalHLBFA+EOQ==</td>\n",
              "      <td>Ernn+uVXCMq/6ARrBCcd+A==</td>\n",
              "      <td>NCqL3QBx0pscDnx3ixKwXg==</td>\n",
              "      <td>mLVIVxoGY7TUDJ1FyFoSIZi1SFcaBmO01AydRchaEiGYtU...</td>\n",
              "      <td>N5/CE7lSkAfB04hVFFwllw==</td>\n",
              "      <td>NaN</td>\n",
              "      <td>0.0</td>\n",
              "      <td>0.0</td>\n",
              "      <td>18.0</td>\n",
              "      <td>18.0</td>\n",
              "      <td>07:52:34</td>\n",
              "      <td>444</td>\n",
              "      <td>outlook.com</td>\n",
              "      <td>NaN</td>\n",
              "      <td>2</td>\n",
              "      <td>0.0</td>\n",
              "      <td>51.0</td>\n",
              "      <td>leidelaura</td>\n",
              "      <td>645</td>\n",
              "      <td>(-29.151545708122246, -51.1386461804385)</td>\n",
              "      <td>Invite-email</td>\n",
              "      <td>514-9840782</td>\n",
              "      <td>57849.0</td>\n",
              "      <td>BR-MT</td>\n",
              "      <td>17528</td>\n",
              "      <td>{'tags': ['n19', 'n8']}</td>\n",
              "      <td>Mozilla/5.0 (Linux; Android 6.0.1; SGP771 Buil...</td>\n",
              "      <td>NaN</td>\n",
              "    </tr>\n",
              "    <tr>\n",
              "      <th>1</th>\n",
              "      <td>bc2c7502-bbad-0f8c-39c3-94e881967124</td>\n",
              "      <td>False</td>\n",
              "      <td>DGCQep2AE5QRkNCshIAlFQ==</td>\n",
              "      <td>SaamrHMo23l/3TwXOWgVzw==</td>\n",
              "      <td>370.0</td>\n",
              "      <td>97.062615</td>\n",
              "      <td>0.942655</td>\n",
              "      <td>92.002546</td>\n",
              "      <td>0.24</td>\n",
              "      <td>NaN</td>\n",
              "      <td>NaN</td>\n",
              "      <td>39726.0</td>\n",
              "      <td>mLVIVxoGY7TUDJ1FyFoSIZi1SFcaBmO01AydRchaEiGYtU...</td>\n",
              "      <td>100018.91</td>\n",
              "      <td>False</td>\n",
              "      <td>xsd3ZdsI3356I3xMxZeiqQ==</td>\n",
              "      <td>rlWIXTBO+VOa34+SpGyhlQ==</td>\n",
              "      <td>NCqL3QBx0pscDnx3ixKwXg==</td>\n",
              "      <td>mLVIVxoGY7TUDJ1FyFoSIZi1SFcaBmO01AydRchaEiGYtU...</td>\n",
              "      <td>N5/CE7lSkAfB04hVFFwllw==</td>\n",
              "      <td>50.0</td>\n",
              "      <td>0.0</td>\n",
              "      <td>0.0</td>\n",
              "      <td>14.0</td>\n",
              "      <td>14.0</td>\n",
              "      <td>02:34:29</td>\n",
              "      <td>346</td>\n",
              "      <td>gmail.com</td>\n",
              "      <td>0.0</td>\n",
              "      <td>1</td>\n",
              "      <td>0.0</td>\n",
              "      <td>17.0</td>\n",
              "      <td>diocezio</td>\n",
              "      <td>243</td>\n",
              "      <td>(-19.687710705798963, -47.94151536525154)</td>\n",
              "      <td>Radio-commercial</td>\n",
              "      <td>251-3659293</td>\n",
              "      <td>4902.0</td>\n",
              "      <td>BR-RS</td>\n",
              "      <td>40933</td>\n",
              "      <td>{'tags': ['n6', 'n7', 'nim']}</td>\n",
              "      <td>Mozilla/5.0 (Linux; Android 5.0.2; SAMSUNG SM-...</td>\n",
              "      <td>NaN</td>\n",
              "    </tr>\n",
              "    <tr>\n",
              "      <th>2</th>\n",
              "      <td>669630dd-2e6a-0396-84bf-455e5009c922</td>\n",
              "      <td>True</td>\n",
              "      <td>DGCQep2AE5QRkNCshIAlFQ==</td>\n",
              "      <td>Fv28Bz0YRTVAT5kl1bAV6g==</td>\n",
              "      <td>360.0</td>\n",
              "      <td>100.027073</td>\n",
              "      <td>0.351918</td>\n",
              "      <td>112.892453</td>\n",
              "      <td>0.29</td>\n",
              "      <td>7207.92</td>\n",
              "      <td>36.0</td>\n",
              "      <td>NaN</td>\n",
              "      <td>mLVIVxoGY7TUDJ1FyFoSIZi1SFcaBmO01AydRchaEiGYtU...</td>\n",
              "      <td>65023.65</td>\n",
              "      <td>NaN</td>\n",
              "      <td>Ygq6MsM98oC8yceExr69Ig==</td>\n",
              "      <td>PjTIDfJsK0DKL9fO7vuW2g==</td>\n",
              "      <td>NCqL3QBx0pscDnx3ixKwXg==</td>\n",
              "      <td>mLVIVxoGY7TUDJ1FyFoSIZi1SFcaBmO01AydRchaEiGYtU...</td>\n",
              "      <td>n+xK9CfX0bCn77lClTWviw==</td>\n",
              "      <td>NaN</td>\n",
              "      <td>0.0</td>\n",
              "      <td>0.0</td>\n",
              "      <td>10.0</td>\n",
              "      <td>NaN</td>\n",
              "      <td>00:60:02</td>\n",
              "      <td>6</td>\n",
              "      <td>gmail.com</td>\n",
              "      <td>NaN</td>\n",
              "      <td>2</td>\n",
              "      <td>NaN</td>\n",
              "      <td>9.0</td>\n",
              "      <td>veralucia</td>\n",
              "      <td>65</td>\n",
              "      <td>(-28.748023890412284, -51.867279334353995)</td>\n",
              "      <td>Waiting-list</td>\n",
              "      <td>230-6097993</td>\n",
              "      <td>163679.0</td>\n",
              "      <td>BR-RR</td>\n",
              "      <td>50985</td>\n",
              "      <td>{'tags': ['n0', 'n17', 'nim', 'da']}</td>\n",
              "      <td>Mozilla/5.0 (Linux; Android 6.0.1; SGP771 Buil...</td>\n",
              "      <td>NaN</td>\n",
              "    </tr>\n",
              "    <tr>\n",
              "      <th>3</th>\n",
              "      <td>d235609e-b6cb-0ccc-a329-d4f12e7ebdc1</td>\n",
              "      <td>False</td>\n",
              "      <td>1Rk8w4Ucd5yR3KcqZzLdow==</td>\n",
              "      <td>dCm9hFKfdRm7ej3jW+gyxw==</td>\n",
              "      <td>510.0</td>\n",
              "      <td>101.599485</td>\n",
              "      <td>0.987673</td>\n",
              "      <td>94.902491</td>\n",
              "      <td>0.32</td>\n",
              "      <td>NaN</td>\n",
              "      <td>NaN</td>\n",
              "      <td>54591.0</td>\n",
              "      <td>mLVIVxoGY7TUDJ1FyFoSIZi1SFcaBmO01AydRchaEiGYtU...</td>\n",
              "      <td>68830.01</td>\n",
              "      <td>False</td>\n",
              "      <td>KET/Pmr6rHp1RJ/P9ymztw==</td>\n",
              "      <td>Cc/kWDLQH3dpHv5HU+pLVA==</td>\n",
              "      <td>NCqL3QBx0pscDnx3ixKwXg==</td>\n",
              "      <td>mLVIVxoGY7TUDJ1FyFoSIZi1SFcaBmO01AydRchaEiE56f...</td>\n",
              "      <td>n+xK9CfX0bCn77lClTWviw==</td>\n",
              "      <td>NaN</td>\n",
              "      <td>1.0</td>\n",
              "      <td>0.0</td>\n",
              "      <td>19.0</td>\n",
              "      <td>19.0</td>\n",
              "      <td>11:20:49</td>\n",
              "      <td>406</td>\n",
              "      <td>spgov.com</td>\n",
              "      <td>NaN</td>\n",
              "      <td>3</td>\n",
              "      <td>NaN</td>\n",
              "      <td>38.0</td>\n",
              "      <td>venice</td>\n",
              "      <td>815</td>\n",
              "      <td>(-17.520650158450454, -39.75801139933186)</td>\n",
              "      <td>Waiting-list</td>\n",
              "      <td>261-3543751</td>\n",
              "      <td>1086.0</td>\n",
              "      <td>BR-RN</td>\n",
              "      <td>37825</td>\n",
              "      <td>{'tags': ['n4']}</td>\n",
              "      <td>Mozilla/5.0 (Linux; Android 6.0; HTC One X10 B...</td>\n",
              "      <td>NaN</td>\n",
              "    </tr>\n",
              "    <tr>\n",
              "      <th>4</th>\n",
              "      <td>9e0eb880-e8f4-3faa-67d8-f5cdd2b3932b</td>\n",
              "      <td>False</td>\n",
              "      <td>8k8UDR4Yx0qasAjkGrUZLw==</td>\n",
              "      <td>+CxEO4w7jv3QPI/BQbyqAA==</td>\n",
              "      <td>500.0</td>\n",
              "      <td>98.474289</td>\n",
              "      <td>0.532539</td>\n",
              "      <td>118.126207</td>\n",
              "      <td>0.18</td>\n",
              "      <td>NaN</td>\n",
              "      <td>NaN</td>\n",
              "      <td>NaN</td>\n",
              "      <td>mLVIVxoGY7TUDJ1FyFoSIZi1SFcaBmO01AydRchaEiGYtU...</td>\n",
              "      <td>60011.29</td>\n",
              "      <td>True</td>\n",
              "      <td>xsd3ZdsI3356I3xMxZeiqQ==</td>\n",
              "      <td>i036nmJ7rfxo+3EvCD7Jnw==</td>\n",
              "      <td>NCqL3QBx0pscDnx3ixKwXg==</td>\n",
              "      <td>mLVIVxoGY7TUDJ1FyFoSIZi1SFcaBmO01AydRchaEiGYtU...</td>\n",
              "      <td>n+xK9CfX0bCn77lClTWviw==</td>\n",
              "      <td>NaN</td>\n",
              "      <td>0.0</td>\n",
              "      <td>0.0</td>\n",
              "      <td>11.0</td>\n",
              "      <td>NaN</td>\n",
              "      <td>13:39:03</td>\n",
              "      <td>240</td>\n",
              "      <td>gmail.com</td>\n",
              "      <td>0.0</td>\n",
              "      <td>2</td>\n",
              "      <td>1.0</td>\n",
              "      <td>46.0</td>\n",
              "      <td>darzisa</td>\n",
              "      <td>320</td>\n",
              "      <td>(-16.574259446978008, -39.90990074785962)</td>\n",
              "      <td>Invite-email</td>\n",
              "      <td>102-3660162</td>\n",
              "      <td>198618.0</td>\n",
              "      <td>BR-MT</td>\n",
              "      <td>52827</td>\n",
              "      <td>{'tags': ['pro+aty', 'n19', 'da', 'b19']}</td>\n",
              "      <td>Mozilla/5.0 (Linux; Android 7.0; Pixel C Build...</td>\n",
              "      <td>NaN</td>\n",
              "    </tr>\n",
              "  </tbody>\n",
              "</table>\n",
              "</div>\n",
              "      <button class=\"colab-df-convert\" onclick=\"convertToInteractive('df-3fc2c0cd-7505-48f6-b810-5b775334d176')\"\n",
              "              title=\"Convert this dataframe to an interactive table.\"\n",
              "              style=\"display:none;\">\n",
              "        \n",
              "  <svg xmlns=\"http://www.w3.org/2000/svg\" height=\"24px\"viewBox=\"0 0 24 24\"\n",
              "       width=\"24px\">\n",
              "    <path d=\"M0 0h24v24H0V0z\" fill=\"none\"/>\n",
              "    <path d=\"M18.56 5.44l.94 2.06.94-2.06 2.06-.94-2.06-.94-.94-2.06-.94 2.06-2.06.94zm-11 1L8.5 8.5l.94-2.06 2.06-.94-2.06-.94L8.5 2.5l-.94 2.06-2.06.94zm10 10l.94 2.06.94-2.06 2.06-.94-2.06-.94-.94-2.06-.94 2.06-2.06.94z\"/><path d=\"M17.41 7.96l-1.37-1.37c-.4-.4-.92-.59-1.43-.59-.52 0-1.04.2-1.43.59L10.3 9.45l-7.72 7.72c-.78.78-.78 2.05 0 2.83L4 21.41c.39.39.9.59 1.41.59.51 0 1.02-.2 1.41-.59l7.78-7.78 2.81-2.81c.8-.78.8-2.07 0-2.86zM5.41 20L4 18.59l7.72-7.72 1.47 1.35L5.41 20z\"/>\n",
              "  </svg>\n",
              "      </button>\n",
              "      \n",
              "  <style>\n",
              "    .colab-df-container {\n",
              "      display:flex;\n",
              "      flex-wrap:wrap;\n",
              "      gap: 12px;\n",
              "    }\n",
              "\n",
              "    .colab-df-convert {\n",
              "      background-color: #E8F0FE;\n",
              "      border: none;\n",
              "      border-radius: 50%;\n",
              "      cursor: pointer;\n",
              "      display: none;\n",
              "      fill: #1967D2;\n",
              "      height: 32px;\n",
              "      padding: 0 0 0 0;\n",
              "      width: 32px;\n",
              "    }\n",
              "\n",
              "    .colab-df-convert:hover {\n",
              "      background-color: #E2EBFA;\n",
              "      box-shadow: 0px 1px 2px rgba(60, 64, 67, 0.3), 0px 1px 3px 1px rgba(60, 64, 67, 0.15);\n",
              "      fill: #174EA6;\n",
              "    }\n",
              "\n",
              "    [theme=dark] .colab-df-convert {\n",
              "      background-color: #3B4455;\n",
              "      fill: #D2E3FC;\n",
              "    }\n",
              "\n",
              "    [theme=dark] .colab-df-convert:hover {\n",
              "      background-color: #434B5C;\n",
              "      box-shadow: 0px 1px 3px 1px rgba(0, 0, 0, 0.15);\n",
              "      filter: drop-shadow(0px 1px 2px rgba(0, 0, 0, 0.3));\n",
              "      fill: #FFFFFF;\n",
              "    }\n",
              "  </style>\n",
              "\n",
              "      <script>\n",
              "        const buttonEl =\n",
              "          document.querySelector('#df-3fc2c0cd-7505-48f6-b810-5b775334d176 button.colab-df-convert');\n",
              "        buttonEl.style.display =\n",
              "          google.colab.kernel.accessAllowed ? 'block' : 'none';\n",
              "\n",
              "        async function convertToInteractive(key) {\n",
              "          const element = document.querySelector('#df-3fc2c0cd-7505-48f6-b810-5b775334d176');\n",
              "          const dataTable =\n",
              "            await google.colab.kernel.invokeFunction('convertToInteractive',\n",
              "                                                     [key], {});\n",
              "          if (!dataTable) return;\n",
              "\n",
              "          const docLinkHtml = 'Like what you see? Visit the ' +\n",
              "            '<a target=\"_blank\" href=https://colab.research.google.com/notebooks/data_table.ipynb>data table notebook</a>'\n",
              "            + ' to learn more about interactive tables.';\n",
              "          element.innerHTML = '';\n",
              "          dataTable['output_type'] = 'display_data';\n",
              "          await google.colab.output.renderOutput(dataTable, element);\n",
              "          const docLink = document.createElement('div');\n",
              "          docLink.innerHTML = docLinkHtml;\n",
              "          element.appendChild(docLink);\n",
              "        }\n",
              "      </script>\n",
              "    </div>\n",
              "  </div>\n",
              "  "
            ]
          },
          "metadata": {},
          "execution_count": 23
        }
      ],
      "source": [
        "df.head()"
      ]
    },
    {
      "cell_type": "code",
      "execution_count": null,
      "metadata": {
        "colab": {
          "base_uri": "https://localhost:8080/",
          "height": 361
        },
        "id": "ut2mmGMEXzPB",
        "outputId": "8682b854-d706-4f6f-df9e-ebe197df0a6f"
      },
      "outputs": [
        {
          "output_type": "execute_result",
          "data": {
            "text/plain": [
              "            score_3       score_4       score_5       score_6     risk_rate  \\\n",
              "count  44438.000000  45000.000000  45000.000000  45000.000000  44438.000000   \n",
              "mean     347.983258    100.006797      0.500037     99.925228      0.296717   \n",
              "std      110.429165      3.178080      0.288326     10.016549      0.101933   \n",
              "min        0.000000     86.191572      0.000035     60.663039      0.000000   \n",
              "25%      270.000000     97.867036      0.252150     93.198353      0.220000   \n",
              "50%      340.000000    100.018900      0.500753     99.974796      0.290000   \n",
              "75%      420.000000    102.141797      0.748816    106.640275      0.360000   \n",
              "max      990.000000    113.978234      0.999973    142.192400      0.900000   \n",
              "\n",
              "       last_amount_borrowed  last_borrowed_in_months   credit_limit  \\\n",
              "count          15044.000000             15044.000000   31200.000000   \n",
              "mean           13782.341991                41.763893   34381.951154   \n",
              "std             8077.571933                10.252705   36586.982218   \n",
              "min             1005.180000                36.000000       0.000000   \n",
              "25%             7519.502500                36.000000   10000.000000   \n",
              "50%            12023.465000                36.000000   25647.000000   \n",
              "75%            19220.270000                36.000000   47086.750000   \n",
              "max            35059.600000                60.000000  448269.000000   \n",
              "\n",
              "             income      ok_since  n_bankruptcies  n_defaulted_loans  \\\n",
              "count  4.443800e+04  18455.000000    44303.000000       44426.000000   \n",
              "mean   7.160739e+04     35.069737        0.076270           0.004569   \n",
              "std    5.185897e+04     21.663194        0.274052           0.079400   \n",
              "min    4.821180e+03      0.000000        0.000000           0.000000   \n",
              "25%    4.501078e+04     17.000000        0.000000           0.000000   \n",
              "50%    6.126676e+04     32.000000        0.000000           0.000000   \n",
              "75%    8.601923e+04     50.000000        0.000000           0.000000   \n",
              "max    5.000028e+06    141.000000        5.000000           5.000000   \n",
              "\n",
              "         n_accounts      n_issues  application_time_in_funnel  \\\n",
              "count  44438.000000  33456.000000                45000.000000   \n",
              "mean      10.696701     11.068119                  247.537000   \n",
              "std        4.592463      4.595501                  146.118398   \n",
              "min        0.000000      0.000000                    0.000000   \n",
              "25%        7.000000      8.000000                  120.000000   \n",
              "50%       10.000000     10.000000                  248.000000   \n",
              "75%       13.000000     14.000000                  375.000000   \n",
              "max       49.000000     49.000000                  500.000000   \n",
              "\n",
              "       external_data_provider_credit_checks_last_2_year  \\\n",
              "count                                           22372.0   \n",
              "mean                                                0.0   \n",
              "std                                                 0.0   \n",
              "min                                                 0.0   \n",
              "25%                                                 0.0   \n",
              "50%                                                 0.0   \n",
              "75%                                                 0.0   \n",
              "max                                                 0.0   \n",
              "\n",
              "       external_data_provider_credit_checks_last_month  \\\n",
              "count                                     45000.000000   \n",
              "mean                                          1.501067   \n",
              "std                                           1.114941   \n",
              "min                                           0.000000   \n",
              "25%                                           1.000000   \n",
              "50%                                           2.000000   \n",
              "75%                                           2.000000   \n",
              "max                                           3.000000   \n",
              "\n",
              "       external_data_provider_credit_checks_last_year  \\\n",
              "count                                    29876.000000   \n",
              "mean                                         0.503381   \n",
              "std                                          0.499997   \n",
              "min                                          0.000000   \n",
              "25%                                          0.000000   \n",
              "50%                                          1.000000   \n",
              "75%                                          1.000000   \n",
              "max                                          1.000000   \n",
              "\n",
              "       external_data_provider_email_seen_before  \\\n",
              "count                              42767.000000   \n",
              "mean                                  12.534781   \n",
              "std                                  126.530487   \n",
              "min                                 -999.000000   \n",
              "25%                                   11.000000   \n",
              "50%                                   27.000000   \n",
              "75%                                   43.000000   \n",
              "max                                   59.000000   \n",
              "\n",
              "       external_data_provider_fraud_score  reported_income  shipping_zip_code  \n",
              "count                        45000.000000         45000.00       45000.000000  \n",
              "mean                           500.399800              inf       33923.514844  \n",
              "std                            287.968873              NaN       12692.406382  \n",
              "min                              0.000000           403.00       12001.000000  \n",
              "25%                            252.000000         50948.25       22937.000000  \n",
              "50%                            503.000000        101779.00       33896.000000  \n",
              "75%                            747.000000        151337.25       44910.000000  \n",
              "max                           1000.000000              inf       56000.000000  "
            ],
            "text/html": [
              "\n",
              "  <div id=\"df-eb0760ce-5ba9-4be1-bbae-4428777aa25d\">\n",
              "    <div class=\"colab-df-container\">\n",
              "      <div>\n",
              "<style scoped>\n",
              "    .dataframe tbody tr th:only-of-type {\n",
              "        vertical-align: middle;\n",
              "    }\n",
              "\n",
              "    .dataframe tbody tr th {\n",
              "        vertical-align: top;\n",
              "    }\n",
              "\n",
              "    .dataframe thead th {\n",
              "        text-align: right;\n",
              "    }\n",
              "</style>\n",
              "<table border=\"1\" class=\"dataframe\">\n",
              "  <thead>\n",
              "    <tr style=\"text-align: right;\">\n",
              "      <th></th>\n",
              "      <th>score_3</th>\n",
              "      <th>score_4</th>\n",
              "      <th>score_5</th>\n",
              "      <th>score_6</th>\n",
              "      <th>risk_rate</th>\n",
              "      <th>last_amount_borrowed</th>\n",
              "      <th>last_borrowed_in_months</th>\n",
              "      <th>credit_limit</th>\n",
              "      <th>income</th>\n",
              "      <th>ok_since</th>\n",
              "      <th>n_bankruptcies</th>\n",
              "      <th>n_defaulted_loans</th>\n",
              "      <th>n_accounts</th>\n",
              "      <th>n_issues</th>\n",
              "      <th>application_time_in_funnel</th>\n",
              "      <th>external_data_provider_credit_checks_last_2_year</th>\n",
              "      <th>external_data_provider_credit_checks_last_month</th>\n",
              "      <th>external_data_provider_credit_checks_last_year</th>\n",
              "      <th>external_data_provider_email_seen_before</th>\n",
              "      <th>external_data_provider_fraud_score</th>\n",
              "      <th>reported_income</th>\n",
              "      <th>shipping_zip_code</th>\n",
              "    </tr>\n",
              "  </thead>\n",
              "  <tbody>\n",
              "    <tr>\n",
              "      <th>count</th>\n",
              "      <td>44438.000000</td>\n",
              "      <td>45000.000000</td>\n",
              "      <td>45000.000000</td>\n",
              "      <td>45000.000000</td>\n",
              "      <td>44438.000000</td>\n",
              "      <td>15044.000000</td>\n",
              "      <td>15044.000000</td>\n",
              "      <td>31200.000000</td>\n",
              "      <td>4.443800e+04</td>\n",
              "      <td>18455.000000</td>\n",
              "      <td>44303.000000</td>\n",
              "      <td>44426.000000</td>\n",
              "      <td>44438.000000</td>\n",
              "      <td>33456.000000</td>\n",
              "      <td>45000.000000</td>\n",
              "      <td>22372.0</td>\n",
              "      <td>45000.000000</td>\n",
              "      <td>29876.000000</td>\n",
              "      <td>42767.000000</td>\n",
              "      <td>45000.000000</td>\n",
              "      <td>45000.00</td>\n",
              "      <td>45000.000000</td>\n",
              "    </tr>\n",
              "    <tr>\n",
              "      <th>mean</th>\n",
              "      <td>347.983258</td>\n",
              "      <td>100.006797</td>\n",
              "      <td>0.500037</td>\n",
              "      <td>99.925228</td>\n",
              "      <td>0.296717</td>\n",
              "      <td>13782.341991</td>\n",
              "      <td>41.763893</td>\n",
              "      <td>34381.951154</td>\n",
              "      <td>7.160739e+04</td>\n",
              "      <td>35.069737</td>\n",
              "      <td>0.076270</td>\n",
              "      <td>0.004569</td>\n",
              "      <td>10.696701</td>\n",
              "      <td>11.068119</td>\n",
              "      <td>247.537000</td>\n",
              "      <td>0.0</td>\n",
              "      <td>1.501067</td>\n",
              "      <td>0.503381</td>\n",
              "      <td>12.534781</td>\n",
              "      <td>500.399800</td>\n",
              "      <td>inf</td>\n",
              "      <td>33923.514844</td>\n",
              "    </tr>\n",
              "    <tr>\n",
              "      <th>std</th>\n",
              "      <td>110.429165</td>\n",
              "      <td>3.178080</td>\n",
              "      <td>0.288326</td>\n",
              "      <td>10.016549</td>\n",
              "      <td>0.101933</td>\n",
              "      <td>8077.571933</td>\n",
              "      <td>10.252705</td>\n",
              "      <td>36586.982218</td>\n",
              "      <td>5.185897e+04</td>\n",
              "      <td>21.663194</td>\n",
              "      <td>0.274052</td>\n",
              "      <td>0.079400</td>\n",
              "      <td>4.592463</td>\n",
              "      <td>4.595501</td>\n",
              "      <td>146.118398</td>\n",
              "      <td>0.0</td>\n",
              "      <td>1.114941</td>\n",
              "      <td>0.499997</td>\n",
              "      <td>126.530487</td>\n",
              "      <td>287.968873</td>\n",
              "      <td>NaN</td>\n",
              "      <td>12692.406382</td>\n",
              "    </tr>\n",
              "    <tr>\n",
              "      <th>min</th>\n",
              "      <td>0.000000</td>\n",
              "      <td>86.191572</td>\n",
              "      <td>0.000035</td>\n",
              "      <td>60.663039</td>\n",
              "      <td>0.000000</td>\n",
              "      <td>1005.180000</td>\n",
              "      <td>36.000000</td>\n",
              "      <td>0.000000</td>\n",
              "      <td>4.821180e+03</td>\n",
              "      <td>0.000000</td>\n",
              "      <td>0.000000</td>\n",
              "      <td>0.000000</td>\n",
              "      <td>0.000000</td>\n",
              "      <td>0.000000</td>\n",
              "      <td>0.000000</td>\n",
              "      <td>0.0</td>\n",
              "      <td>0.000000</td>\n",
              "      <td>0.000000</td>\n",
              "      <td>-999.000000</td>\n",
              "      <td>0.000000</td>\n",
              "      <td>403.00</td>\n",
              "      <td>12001.000000</td>\n",
              "    </tr>\n",
              "    <tr>\n",
              "      <th>25%</th>\n",
              "      <td>270.000000</td>\n",
              "      <td>97.867036</td>\n",
              "      <td>0.252150</td>\n",
              "      <td>93.198353</td>\n",
              "      <td>0.220000</td>\n",
              "      <td>7519.502500</td>\n",
              "      <td>36.000000</td>\n",
              "      <td>10000.000000</td>\n",
              "      <td>4.501078e+04</td>\n",
              "      <td>17.000000</td>\n",
              "      <td>0.000000</td>\n",
              "      <td>0.000000</td>\n",
              "      <td>7.000000</td>\n",
              "      <td>8.000000</td>\n",
              "      <td>120.000000</td>\n",
              "      <td>0.0</td>\n",
              "      <td>1.000000</td>\n",
              "      <td>0.000000</td>\n",
              "      <td>11.000000</td>\n",
              "      <td>252.000000</td>\n",
              "      <td>50948.25</td>\n",
              "      <td>22937.000000</td>\n",
              "    </tr>\n",
              "    <tr>\n",
              "      <th>50%</th>\n",
              "      <td>340.000000</td>\n",
              "      <td>100.018900</td>\n",
              "      <td>0.500753</td>\n",
              "      <td>99.974796</td>\n",
              "      <td>0.290000</td>\n",
              "      <td>12023.465000</td>\n",
              "      <td>36.000000</td>\n",
              "      <td>25647.000000</td>\n",
              "      <td>6.126676e+04</td>\n",
              "      <td>32.000000</td>\n",
              "      <td>0.000000</td>\n",
              "      <td>0.000000</td>\n",
              "      <td>10.000000</td>\n",
              "      <td>10.000000</td>\n",
              "      <td>248.000000</td>\n",
              "      <td>0.0</td>\n",
              "      <td>2.000000</td>\n",
              "      <td>1.000000</td>\n",
              "      <td>27.000000</td>\n",
              "      <td>503.000000</td>\n",
              "      <td>101779.00</td>\n",
              "      <td>33896.000000</td>\n",
              "    </tr>\n",
              "    <tr>\n",
              "      <th>75%</th>\n",
              "      <td>420.000000</td>\n",
              "      <td>102.141797</td>\n",
              "      <td>0.748816</td>\n",
              "      <td>106.640275</td>\n",
              "      <td>0.360000</td>\n",
              "      <td>19220.270000</td>\n",
              "      <td>36.000000</td>\n",
              "      <td>47086.750000</td>\n",
              "      <td>8.601923e+04</td>\n",
              "      <td>50.000000</td>\n",
              "      <td>0.000000</td>\n",
              "      <td>0.000000</td>\n",
              "      <td>13.000000</td>\n",
              "      <td>14.000000</td>\n",
              "      <td>375.000000</td>\n",
              "      <td>0.0</td>\n",
              "      <td>2.000000</td>\n",
              "      <td>1.000000</td>\n",
              "      <td>43.000000</td>\n",
              "      <td>747.000000</td>\n",
              "      <td>151337.25</td>\n",
              "      <td>44910.000000</td>\n",
              "    </tr>\n",
              "    <tr>\n",
              "      <th>max</th>\n",
              "      <td>990.000000</td>\n",
              "      <td>113.978234</td>\n",
              "      <td>0.999973</td>\n",
              "      <td>142.192400</td>\n",
              "      <td>0.900000</td>\n",
              "      <td>35059.600000</td>\n",
              "      <td>60.000000</td>\n",
              "      <td>448269.000000</td>\n",
              "      <td>5.000028e+06</td>\n",
              "      <td>141.000000</td>\n",
              "      <td>5.000000</td>\n",
              "      <td>5.000000</td>\n",
              "      <td>49.000000</td>\n",
              "      <td>49.000000</td>\n",
              "      <td>500.000000</td>\n",
              "      <td>0.0</td>\n",
              "      <td>3.000000</td>\n",
              "      <td>1.000000</td>\n",
              "      <td>59.000000</td>\n",
              "      <td>1000.000000</td>\n",
              "      <td>inf</td>\n",
              "      <td>56000.000000</td>\n",
              "    </tr>\n",
              "  </tbody>\n",
              "</table>\n",
              "</div>\n",
              "      <button class=\"colab-df-convert\" onclick=\"convertToInteractive('df-eb0760ce-5ba9-4be1-bbae-4428777aa25d')\"\n",
              "              title=\"Convert this dataframe to an interactive table.\"\n",
              "              style=\"display:none;\">\n",
              "        \n",
              "  <svg xmlns=\"http://www.w3.org/2000/svg\" height=\"24px\"viewBox=\"0 0 24 24\"\n",
              "       width=\"24px\">\n",
              "    <path d=\"M0 0h24v24H0V0z\" fill=\"none\"/>\n",
              "    <path d=\"M18.56 5.44l.94 2.06.94-2.06 2.06-.94-2.06-.94-.94-2.06-.94 2.06-2.06.94zm-11 1L8.5 8.5l.94-2.06 2.06-.94-2.06-.94L8.5 2.5l-.94 2.06-2.06.94zm10 10l.94 2.06.94-2.06 2.06-.94-2.06-.94-.94-2.06-.94 2.06-2.06.94z\"/><path d=\"M17.41 7.96l-1.37-1.37c-.4-.4-.92-.59-1.43-.59-.52 0-1.04.2-1.43.59L10.3 9.45l-7.72 7.72c-.78.78-.78 2.05 0 2.83L4 21.41c.39.39.9.59 1.41.59.51 0 1.02-.2 1.41-.59l7.78-7.78 2.81-2.81c.8-.78.8-2.07 0-2.86zM5.41 20L4 18.59l7.72-7.72 1.47 1.35L5.41 20z\"/>\n",
              "  </svg>\n",
              "      </button>\n",
              "      \n",
              "  <style>\n",
              "    .colab-df-container {\n",
              "      display:flex;\n",
              "      flex-wrap:wrap;\n",
              "      gap: 12px;\n",
              "    }\n",
              "\n",
              "    .colab-df-convert {\n",
              "      background-color: #E8F0FE;\n",
              "      border: none;\n",
              "      border-radius: 50%;\n",
              "      cursor: pointer;\n",
              "      display: none;\n",
              "      fill: #1967D2;\n",
              "      height: 32px;\n",
              "      padding: 0 0 0 0;\n",
              "      width: 32px;\n",
              "    }\n",
              "\n",
              "    .colab-df-convert:hover {\n",
              "      background-color: #E2EBFA;\n",
              "      box-shadow: 0px 1px 2px rgba(60, 64, 67, 0.3), 0px 1px 3px 1px rgba(60, 64, 67, 0.15);\n",
              "      fill: #174EA6;\n",
              "    }\n",
              "\n",
              "    [theme=dark] .colab-df-convert {\n",
              "      background-color: #3B4455;\n",
              "      fill: #D2E3FC;\n",
              "    }\n",
              "\n",
              "    [theme=dark] .colab-df-convert:hover {\n",
              "      background-color: #434B5C;\n",
              "      box-shadow: 0px 1px 3px 1px rgba(0, 0, 0, 0.15);\n",
              "      filter: drop-shadow(0px 1px 2px rgba(0, 0, 0, 0.3));\n",
              "      fill: #FFFFFF;\n",
              "    }\n",
              "  </style>\n",
              "\n",
              "      <script>\n",
              "        const buttonEl =\n",
              "          document.querySelector('#df-eb0760ce-5ba9-4be1-bbae-4428777aa25d button.colab-df-convert');\n",
              "        buttonEl.style.display =\n",
              "          google.colab.kernel.accessAllowed ? 'block' : 'none';\n",
              "\n",
              "        async function convertToInteractive(key) {\n",
              "          const element = document.querySelector('#df-eb0760ce-5ba9-4be1-bbae-4428777aa25d');\n",
              "          const dataTable =\n",
              "            await google.colab.kernel.invokeFunction('convertToInteractive',\n",
              "                                                     [key], {});\n",
              "          if (!dataTable) return;\n",
              "\n",
              "          const docLinkHtml = 'Like what you see? Visit the ' +\n",
              "            '<a target=\"_blank\" href=https://colab.research.google.com/notebooks/data_table.ipynb>data table notebook</a>'\n",
              "            + ' to learn more about interactive tables.';\n",
              "          element.innerHTML = '';\n",
              "          dataTable['output_type'] = 'display_data';\n",
              "          await google.colab.output.renderOutput(dataTable, element);\n",
              "          const docLink = document.createElement('div');\n",
              "          docLink.innerHTML = docLinkHtml;\n",
              "          element.appendChild(docLink);\n",
              "        }\n",
              "      </script>\n",
              "    </div>\n",
              "  </div>\n",
              "  "
            ]
          },
          "metadata": {},
          "execution_count": 24
        }
      ],
      "source": [
        "df.describe()"
      ]
    },
    {
      "cell_type": "markdown",
      "metadata": {
        "id": "xMqVz9Eq9in0"
      },
      "source": [
        "Nessa situação do estudos nos encontramos com dois problemas\n",
        "- Ao utilizarmos a função df.describe(), podemos observar que em algumas features a diferenças entre o menor e o maior valor são muito grande e isso pode acarretar em má performace do machine learning e com isso erá necessario mudar a escala dessas features.\n",
        "   - O método que será utilizado para esse Scale será o StandartScale.\n",
        "\n",
        "- Nas segunda situação podemos observar que as features do tipo objeto possuem informações importantes que serão de grande ajuda no machine learning, mas como essas estão em formato string o computador não conseguirá ler essas informações, então será necessario mudar o formato desses dados para um que a maquina possa entender.\n",
        "  - Para isso será utilizado o método LabelEnconder, onde que iremos numerar os dados. \n",
        "\n",
        "Para evitar qualquer tipo de data leaking todo esse processo será feito após a divisão dos dados em treino e test."
      ]
    },
    {
      "cell_type": "code",
      "execution_count": null,
      "metadata": {
        "id": "oh24nq8Az1a9"
      },
      "outputs": [],
      "source": [
        "from sklearn.model_selection import train_test_split\n",
        "\n",
        "X = df_copy.drop('target_default', axis = 1)\n",
        "y = df_copy['target_default']\n",
        "\n",
        "categoricas.remove('target_default')\n",
        "\n",
        "X_raw,X_test,y_raw,y_test = train_test_split(X, y, test_size = 0.3, random_state = 42, stratify = y)"
      ]
    },
    {
      "cell_type": "code",
      "execution_count": null,
      "metadata": {
        "id": "jTCbeS0K-S0a"
      },
      "outputs": [],
      "source": [
        "#Nessa situação, eu estou featuring Scale somente os valore numerais \n",
        "\n",
        "from sklearn.preprocessing import StandardScaler\n",
        "\n",
        "stdX = StandardScaler()\n",
        "stdX.fit(X_raw[numeral].values)\n",
        "X_raw[numeral] = stdX.transform(X_raw[numeral].values)\n",
        "X_test[numeral] = stdX.transform(X_test[numeral].values)\n"
      ]
    },
    {
      "cell_type": "code",
      "execution_count": null,
      "metadata": {
        "id": "2b4vPapu8arV"
      },
      "outputs": [],
      "source": [
        "#Lidando com os valores categoricos\n",
        "\n",
        "from sklearn.preprocessing import LabelEncoder\n",
        "\n",
        "for coluna in X_raw[categoricas].columns:\n",
        "  lbe_X = LabelEncoder()\n",
        "  X_raw[coluna] = lbe_X.fit_transform(X_raw[coluna])\n",
        "  X_test[coluna] = lbe_X.fit_transform(X_test[coluna])\n",
        "\n",
        "\n",
        "lbe_y_raw = LabelEncoder()\n",
        "lbe_y_raw.fit(y_raw)\n",
        "y_raw = lbe_y_raw.transform(y_raw)\n",
        "\n",
        "\n",
        "lbe_y_test = LabelEncoder()\n",
        "lbe_y_test.fit(y_test)\n",
        "y_test = lbe_y_test.transform(y_test)"
      ]
    },
    {
      "cell_type": "markdown",
      "source": [
        "Para o balanceamento dos dados vamos utilizar o método SMOTE onde será gerado uma amostra sintética baseado na similaridade entre as amostras no espaço n-dimensional de variáveis. Esta amostra possibilita ao classificador identificar regiões de decisão maiores e menos especificas, ao invés de regiões menores e mais especificas.\n",
        "\n",
        "É um dos modelos mais utilizados atualmente."
      ],
      "metadata": {
        "id": "vxk-qKW7BeUb"
      }
    },
    {
      "cell_type": "code",
      "execution_count": null,
      "metadata": {
        "id": "4nRQ0JFMcIaR"
      },
      "outputs": [],
      "source": [
        "from imblearn.over_sampling import SMOTE\n",
        "\n",
        "sm = SMOTE(random_state = 42)\n",
        "X_train,y_train = sm.fit_resample(X_raw,y_raw)"
      ]
    },
    {
      "cell_type": "code",
      "execution_count": null,
      "metadata": {
        "colab": {
          "base_uri": "https://localhost:8080/"
        },
        "id": "DDpu6o8pZqgq",
        "outputId": "1d3cec6a-e55d-4c49-99be-dd8552a18e24"
      },
      "outputs": [
        {
          "output_type": "stream",
          "name": "stdout",
          "text": [
            "(49110, 23)\n",
            "(12523, 23)\n",
            "(49110,)\n",
            "(12523,)\n"
          ]
        }
      ],
      "source": [
        "print(X_train.shape)\n",
        "print(X_test.shape)\n",
        "print(y_train.shape)\n",
        "print(y_test.shape)"
      ]
    },
    {
      "cell_type": "code",
      "execution_count": null,
      "metadata": {
        "colab": {
          "base_uri": "https://localhost:8080/"
        },
        "id": "EIcnOkT6dqgR",
        "outputId": "5ba842eb-76ce-4082-9c63-38a391789a58"
      },
      "outputs": [
        {
          "output_type": "stream",
          "name": "stdout",
          "text": [
            "No total temos: \n",
            "0    24555\n",
            "1    24555\n",
            "dtype: int64\n"
          ]
        }
      ],
      "source": [
        "print(f'No total temos: \\n{pd.Series(y_train).value_counts()}')"
      ]
    },
    {
      "cell_type": "markdown",
      "metadata": {
        "id": "eGd-0j_lX5aN"
      },
      "source": [
        "#Testando os Métodos"
      ]
    },
    {
      "cell_type": "code",
      "execution_count": null,
      "metadata": {
        "id": "ppn-nEBs053d"
      },
      "outputs": [],
      "source": [
        "from sklearn.metrics import classification_report, accuracy_score"
      ]
    },
    {
      "cell_type": "markdown",
      "metadata": {
        "id": "JVVTW7GvY9hD"
      },
      "source": [
        "##SVM"
      ]
    },
    {
      "cell_type": "code",
      "execution_count": null,
      "metadata": {
        "colab": {
          "base_uri": "https://localhost:8080/"
        },
        "id": "7M7s0fVRY9Qu",
        "outputId": "88f64ee4-859e-4889-85b3-c8b196c062ef"
      },
      "outputs": [
        {
          "output_type": "stream",
          "name": "stdout",
          "text": [
            "Relatorio de Classificação:\n",
            "                precision    recall  f1-score   support\n",
            "\n",
            "           0      0.881     0.543     0.672     10525\n",
            "           1      0.203     0.614     0.305      1998\n",
            "\n",
            "    accuracy                          0.554     12523\n",
            "   macro avg      0.542     0.578     0.489     12523\n",
            "weighted avg      0.773     0.554     0.614     12523\n",
            "\n",
            "55.45%\n"
          ]
        }
      ],
      "source": [
        "from sklearn.svm import SVC\n",
        "\n",
        "svm = SVC()\n",
        "svm.fit(X_train, y_train)\n",
        "\n",
        "y_pred_svm = svm.predict(X_test)\n",
        "svm_accuracy = accuracy_score(y_test, y_pred_svm) * 100\n",
        "print('Relatorio de Classificação:\\n ', classification_report(y_test, y_pred_svm, digits = 3))\n",
        "print(f'{svm_accuracy:.2f}%')"
      ]
    },
    {
      "cell_type": "code",
      "execution_count": null,
      "metadata": {
        "colab": {
          "base_uri": "https://localhost:8080/",
          "height": 328
        },
        "id": "ay-MQ8OFfiv-",
        "outputId": "ad996428-d76e-4d1e-b0df-7caaa753e293"
      },
      "outputs": [
        {
          "output_type": "execute_result",
          "data": {
            "text/plain": [
              "Text(0.5, 15.0, 'Previsto')"
            ]
          },
          "metadata": {},
          "execution_count": 33
        },
        {
          "output_type": "display_data",
          "data": {
            "text/plain": [
              "<Figure size 432x288 with 2 Axes>"
            ],
            "image/png": "[encoded data removed]"
          },
          "metadata": {
            "needs_background": "light"
          }
        }
      ],
      "source": [
        "from sklearn.metrics import confusion_matrix\n",
        "from sklearn.metrics._plot.confusion_matrix import plot_confusion_matrix\n",
        "\n",
        "fig, ax = plt.subplots()\n",
        "sns.heatmap(confusion_matrix(y_test,y_pred_svm), annot=True, ax=ax,fmt='.2f')\n",
        "\n",
        "ax.set_title(\"Matriz de Confusão SVC\",\n",
        "             pad = 20,\n",
        "             fontsize = 15,\n",
        "             color = 'black')\n",
        "ax.set_ylabel(\"Real\")\n",
        "ax.set_xlabel(\"Previsto\")"
      ]
    },
    {
      "cell_type": "markdown",
      "metadata": {
        "id": "I9sW5XlHYAl6"
      },
      "source": [
        "##Logistic Regression"
      ]
    },
    {
      "cell_type": "code",
      "execution_count": null,
      "metadata": {
        "id": "Yph3gVqbZ0bx",
        "colab": {
          "base_uri": "https://localhost:8080/"
        },
        "outputId": "b2e34d91-48b6-4678-fbce-6ca8fdf81a89"
      },
      "outputs": [
        {
          "output_type": "stream",
          "name": "stdout",
          "text": [
            "Relatório de Classificação:\n",
            "                precision    recall  f1-score   support\n",
            "\n",
            "           0       0.88      0.57      0.70     10525\n",
            "           1       0.21      0.60      0.31      1998\n",
            "\n",
            "    accuracy                           0.58     12523\n",
            "   macro avg       0.55      0.59      0.50     12523\n",
            "weighted avg       0.78      0.58      0.63     12523\n",
            "\n",
            "57.77%\n"
          ]
        }
      ],
      "source": [
        "\n",
        "from sklearn.linear_model import LogisticRegression\n",
        "\n",
        "lg = LogisticRegression(max_iter= 200)\n",
        "lg.fit(X_train,y_train)\n",
        "\n",
        "y_pred_lg = lg.predict(X_test)\n",
        "lg_accuracy = accuracy_score(y_test,y_pred_lg) * 100\n",
        "print('Relatório de Classificação:\\n ', classification_report(y_test,y_pred_lg, digits = 2))\n",
        "print(f'{lg_accuracy :.2f}%')"
      ]
    },
    {
      "cell_type": "code",
      "execution_count": null,
      "metadata": {
        "id": "zf0wt1CIfr46",
        "colab": {
          "base_uri": "https://localhost:8080/",
          "height": 105
        },
        "outputId": "ffe7c808-d905-413b-e7b2-cf10a19b833e"
      },
      "outputs": [
        {
          "output_type": "execute_result",
          "data": {
            "text/plain": [
              "Text(0.5, 15.0, 'Previsto')"
            ]
          },
          "metadata": {},
          "execution_count": 35
        },
        {
          "output_type": "display_data",
          "data": {
            "text/plain": [
              "<Figure size 432x288 with 2 Axes>"
            ],
            "image/png": "[encoded data removed]"
          },
          "metadata": {
            "needs_background": "light"
          }
        }
      ],
      "source": [
        "from sklearn.metrics import confusion_matrix\n",
        "from sklearn.metrics._plot.confusion_matrix import plot_confusion_matrix\n",
        "\n",
        "fig, ax = plt.subplots()\n",
        "sns.heatmap(confusion_matrix(y_test,y_pred_lg), annot=True, ax=ax,fmt='.2f')\n",
        "\n",
        "ax.set_title(\"Matriz de Confusão SVC\",\n",
        "             pad = 20,\n",
        "             fontsize = 15,\n",
        "             color = 'black')\n",
        "ax.set_ylabel(\"Real\")\n",
        "ax.set_xlabel(\"Previsto\")"
      ]
    },
    {
      "cell_type": "markdown",
      "metadata": {
        "id": "iitc-u7TYFY-"
      },
      "source": [
        "##Random Forest"
      ]
    },
    {
      "cell_type": "code",
      "execution_count": null,
      "metadata": {
        "id": "1v_qkMzmbaaU",
        "colab": {
          "base_uri": "https://localhost:8080/"
        },
        "outputId": "014aa2bd-73dd-4411-917f-1d4cdc61f9f3"
      },
      "outputs": [
        {
          "output_type": "stream",
          "name": "stdout",
          "text": [
            "Relatório de Classificação:\n",
            "                precision    recall  f1-score   support\n",
            "\n",
            "           0       0.86      0.84      0.85     10525\n",
            "           1       0.25      0.27      0.26      1998\n",
            "\n",
            "    accuracy                           0.75     12523\n",
            "   macro avg       0.55      0.56      0.56     12523\n",
            "weighted avg       0.76      0.75      0.76     12523\n",
            "\n",
            "75.15%\n"
          ]
        }
      ],
      "source": [
        "from sklearn.ensemble import RandomForestClassifier\n",
        "\n",
        "forest = RandomForestClassifier(max_depth = 10,\n",
        "                              criterion = 'entropy',\n",
        "                              random_state = 42)\n",
        "\n",
        "forest.fit(X_train, y_train)\n",
        "\n",
        "forest_pred = forest.predict(X_test)\n",
        "\n",
        "forest_accuracy = accuracy_score(y_test,forest_pred) * 100\n",
        "print('Relatório de Classificação:\\n ', classification_report(y_test,forest_pred, digits = 2))\n",
        "print(f'{forest_accuracy :.2f}%')"
      ]
    },
    {
      "cell_type": "code",
      "execution_count": null,
      "metadata": {
        "id": "2LreNfISf_hH",
        "colab": {
          "base_uri": "https://localhost:8080/",
          "height": 328
        },
        "outputId": "6a8b9815-0f3e-413c-e982-23fe5606970e"
      },
      "outputs": [
        {
          "output_type": "execute_result",
          "data": {
            "text/plain": [
              "Text(0.5, 15.0, 'Previsto')"
            ]
          },
          "metadata": {},
          "execution_count": 37
        },
        {
          "output_type": "display_data",
          "data": {
            "text/plain": [
              "<Figure size 432x288 with 2 Axes>"
            ],
            "image/png": "[encoded data removed]"
          },
          "metadata": {
            "needs_background": "light"
          }
        }
      ],
      "source": [
        "from sklearn.metrics import confusion_matrix\n",
        "from sklearn.metrics._plot.confusion_matrix import plot_confusion_matrix\n",
        "\n",
        "fig, ax = plt.subplots()\n",
        "sns.heatmap(confusion_matrix(y_test,forest_pred), annot=True, ax=ax,fmt='.2f')\n",
        "\n",
        "ax.set_title(\"Matriz de Confusão SVC\",\n",
        "             pad = 20,\n",
        "             fontsize = 15,\n",
        "             color = 'black')\n",
        "ax.set_ylabel(\"Real\")\n",
        "ax.set_xlabel(\"Previsto\")"
      ]
    },
    {
      "cell_type": "code",
      "source": [
        "#Uma breve analise para ter conhecimento da feature que está tendo maior influência no método\n",
        "\n",
        "parametros = pd.DataFrame({'feature': X_train.columns, 'Parametros':np.round(forest.feature_importances_, 3)})\n",
        "parametros = parametros.sort_values('Parametros', ascending = False).set_index('feature')"
      ],
      "metadata": {
        "id": "qh5TbgHRaNed",
        "colab": {
          "base_uri": "https://localhost:8080/",
          "height": 215
        },
        "outputId": "0febf07e-c80b-4c7d-81a6-88701f99b56b"
      },
      "execution_count": null,
      "outputs": [
        {
          "output_type": "error",
          "ename": "NameError",
          "evalue": "ignored",
          "traceback": [
            "\u001b[0;31m---------------------------------------------------------------------------\u001b[0m",
            "\u001b[0;31mNameError\u001b[0m                                 Traceback (most recent call last)",
            "\u001b[0;32m<ipython-input-156-b2b5d593b674>\u001b[0m in \u001b[0;36m<module>\u001b[0;34m\u001b[0m\n\u001b[1;32m      1\u001b[0m \u001b[0;31m#Uma breve analise para ter conhecimento da feature que está tendo maior influência no método\u001b[0m\u001b[0;34m\u001b[0m\u001b[0;34m\u001b[0m\u001b[0;34m\u001b[0m\u001b[0m\n\u001b[1;32m      2\u001b[0m \u001b[0;34m\u001b[0m\u001b[0m\n\u001b[0;32m----> 3\u001b[0;31m \u001b[0mparametros\u001b[0m \u001b[0;34m=\u001b[0m \u001b[0mpd\u001b[0m\u001b[0;34m.\u001b[0m\u001b[0mDataFrame\u001b[0m\u001b[0;34m(\u001b[0m\u001b[0;34m{\u001b[0m\u001b[0;34m'feature'\u001b[0m\u001b[0;34m:\u001b[0m \u001b[0mX_train\u001b[0m\u001b[0;34m.\u001b[0m\u001b[0mcolumns\u001b[0m\u001b[0;34m,\u001b[0m \u001b[0;34m'Parametros'\u001b[0m\u001b[0;34m:\u001b[0m\u001b[0mnp\u001b[0m\u001b[0;34m.\u001b[0m\u001b[0mround\u001b[0m\u001b[0;34m(\u001b[0m\u001b[0mforest\u001b[0m\u001b[0;34m.\u001b[0m\u001b[0mfeature_importances_\u001b[0m\u001b[0;34m,\u001b[0m \u001b[0;36m3\u001b[0m\u001b[0;34m)\u001b[0m\u001b[0;34m}\u001b[0m\u001b[0;34m)\u001b[0m\u001b[0;34m\u001b[0m\u001b[0;34m\u001b[0m\u001b[0m\n\u001b[0m\u001b[1;32m      4\u001b[0m \u001b[0mparametros\u001b[0m \u001b[0;34m=\u001b[0m \u001b[0mparametros\u001b[0m\u001b[0;34m.\u001b[0m\u001b[0msort_values\u001b[0m\u001b[0;34m(\u001b[0m\u001b[0;34m'Parametros'\u001b[0m\u001b[0;34m,\u001b[0m \u001b[0mascending\u001b[0m \u001b[0;34m=\u001b[0m \u001b[0;32mFalse\u001b[0m\u001b[0;34m)\u001b[0m\u001b[0;34m.\u001b[0m\u001b[0mset_index\u001b[0m\u001b[0;34m(\u001b[0m\u001b[0;34m'feature'\u001b[0m\u001b[0;34m)\u001b[0m\u001b[0;34m\u001b[0m\u001b[0;34m\u001b[0m\u001b[0m\n",
            "\u001b[0;31mNameError\u001b[0m: name 'X_train' is not defined"
          ]
        }
      ]
    },
    {
      "cell_type": "code",
      "source": [
        "parametros.plot.bar()"
      ],
      "metadata": {
        "colab": {
          "base_uri": "https://localhost:8080/",
          "height": 535
        },
        "id": "IJ3M7xxgayrL",
        "outputId": "2ae7e17e-d878-4a07-89b0-bd920233623d"
      },
      "execution_count": null,
      "outputs": [
        {
          "output_type": "execute_result",
          "data": {
            "text/plain": [
              "<matplotlib.axes._subplots.AxesSubplot at 0x7f14ffb0ca50>"
            ]
          },
          "metadata": {},
          "execution_count": 39
        },
        {
          "output_type": "display_data",
          "data": {
            "text/plain": [
              "<Figure size 432x288 with 1 Axes>"
            ],
            "image/png": "[encoded data removed]"
          },
          "metadata": {
            "needs_background": "light"
          }
        }
      ]
    },
    {
      "cell_type": "markdown",
      "metadata": {
        "id": "G_RzZcFKemWk"
      },
      "source": [
        "##Decision Tree"
      ]
    },
    {
      "cell_type": "code",
      "execution_count": null,
      "metadata": {
        "id": "HNa5jzVGeoyV",
        "colab": {
          "base_uri": "https://localhost:8080/"
        },
        "outputId": "f756caa4-e16a-4eb8-baf4-7eb73e47b891"
      },
      "outputs": [
        {
          "output_type": "stream",
          "name": "stdout",
          "text": [
            "Relatório de Classificação:\n",
            "                precision    recall  f1-score   support\n",
            "\n",
            "           0       0.84      0.94      0.89     10525\n",
            "           1       0.22      0.09      0.12      1998\n",
            "\n",
            "    accuracy                           0.81     12523\n",
            "   macro avg       0.53      0.51      0.51     12523\n",
            "weighted avg       0.74      0.81      0.77     12523\n",
            "\n",
            "80.53%\n"
          ]
        }
      ],
      "source": [
        "from sklearn.tree import DecisionTreeClassifier\n",
        "\n",
        "tree = DecisionTreeClassifier(max_depth = 10,\n",
        "                              criterion = 'entropy',\n",
        "                              random_state = 42)\n",
        "tree.fit(X_train,y_train)\n",
        "\n",
        "tree_predict = tree.predict(X_test)\n",
        "tree_accuracy = accuracy_score(y_test, tree_predict) * 100\n",
        "print('Relatório de Classificação:\\n ', classification_report(y_test,tree_predict, digits = 2))\n",
        "print(f'{tree_accuracy:.2f}%')"
      ]
    },
    {
      "cell_type": "code",
      "execution_count": null,
      "metadata": {
        "id": "rWBcWXVKgW39",
        "colab": {
          "base_uri": "https://localhost:8080/",
          "height": 328
        },
        "outputId": "68cff496-2083-42f3-f222-a8d32cf61bd0"
      },
      "outputs": [
        {
          "output_type": "execute_result",
          "data": {
            "text/plain": [
              "Text(0.5, 15.0, 'Previsto')"
            ]
          },
          "metadata": {},
          "execution_count": 42
        },
        {
          "output_type": "display_data",
          "data": {
            "text/plain": [
              "<Figure size 432x288 with 2 Axes>"
            ],
            "image/png": "[encoded data removed]"
          },
          "metadata": {
            "needs_background": "light"
          }
        }
      ],
      "source": [
        "from sklearn.metrics import confusion_matrix\n",
        "from sklearn.metrics._plot.confusion_matrix import plot_confusion_matrix\n",
        "\n",
        "fig, ax = plt.subplots()\n",
        "sns.heatmap(confusion_matrix(y_test,tree_predict), annot=True, ax=ax,fmt='.2f')\n",
        "\n",
        "ax.set_title(\"Matriz de Confusão SVC\",\n",
        "             pad = 20,\n",
        "             fontsize = 15,\n",
        "             color = 'black')\n",
        "ax.set_ylabel(\"Real\")\n",
        "ax.set_xlabel(\"Previsto\")"
      ]
    },
    {
      "cell_type": "markdown",
      "metadata": {
        "id": "tow_5YzTg0kE"
      },
      "source": [
        "##XgBoost"
      ]
    },
    {
      "cell_type": "code",
      "execution_count": null,
      "metadata": {
        "id": "IsxZmxuQgTRD",
        "colab": {
          "base_uri": "https://localhost:8080/"
        },
        "outputId": "5ef82aca-affd-4f63-f3d5-c4204fcc8e8e"
      },
      "outputs": [
        {
          "output_type": "stream",
          "name": "stdout",
          "text": [
            "Relatorio de Classificação:\n",
            "               precision    recall  f1-score   support\n",
            "\n",
            "           0       0.85      0.98      0.91     10525\n",
            "           1       0.41      0.06      0.10      1998\n",
            "\n",
            "    accuracy                           0.84     12523\n",
            "   macro avg       0.63      0.52      0.50     12523\n",
            "weighted avg       0.78      0.84      0.78     12523\n",
            "\n",
            "83.65\n"
          ]
        }
      ],
      "source": [
        "from xgboost import XGBClassifier\n",
        "\n",
        "xgb = XGBClassifier()\n",
        "\n",
        "xgb.fit(X_train, y_train)\n",
        "xgb_predict = xgb.predict(X_test)\n",
        "xgb_accuracy = accuracy_score (y_test, xgb_predict) * 100\n",
        "print('Relatorio de Classificação:\\n', classification_report(y_test, xgb_predict, digits = 2))\n",
        "print(f'{xgb_accuracy :.2f}')"
      ]
    },
    {
      "cell_type": "code",
      "execution_count": null,
      "metadata": {
        "id": "n7lLIT92icBT",
        "colab": {
          "base_uri": "https://localhost:8080/",
          "height": 105
        },
        "outputId": "a712bc0a-300e-4249-9fdc-aea37b0ab5b0"
      },
      "outputs": [
        {
          "output_type": "execute_result",
          "data": {
            "text/plain": [
              "Text(0.5, 15.0, 'Previsto')"
            ]
          },
          "metadata": {},
          "execution_count": 44
        },
        {
          "output_type": "display_data",
          "data": {
            "text/plain": [
              "<Figure size 432x288 with 2 Axes>"
            ],
            "image/png": "[encoded data removed]"
          },
          "metadata": {
            "needs_background": "light"
          }
        }
      ],
      "source": [
        "from sklearn.metrics import confusion_matrix\n",
        "from sklearn.metrics._plot.confusion_matrix import plot_confusion_matrix\n",
        "\n",
        "fig, ax = plt.subplots()\n",
        "sns.heatmap(confusion_matrix(y_test,xgb_predict), annot=True, ax=ax,fmt='.2f')\n",
        "\n",
        "ax.set_title(\"Matriz de Confusão SVC\",\n",
        "             pad = 20,\n",
        "             fontsize = 15,\n",
        "             color = 'black')\n",
        "ax.set_ylabel(\"Verdadeiro\")\n",
        "ax.set_xlabel(\"Previsto\")"
      ]
    },
    {
      "cell_type": "markdown",
      "metadata": {
        "id": "RpJ_QwvYisph"
      },
      "source": [
        "##K-neighbor"
      ]
    },
    {
      "cell_type": "code",
      "execution_count": null,
      "metadata": {
        "id": "gRTDUOHViuvs",
        "colab": {
          "base_uri": "https://localhost:8080/"
        },
        "outputId": "31c7c322-1cba-4317-a627-71981d9c1404"
      },
      "outputs": [
        {
          "output_type": "stream",
          "name": "stdout",
          "text": [
            "Relatorio de Classificação:\n",
            "               precision    recall  f1-score   support\n",
            "\n",
            "           0       0.86      0.58      0.69     10525\n",
            "           1       0.19      0.52      0.28      1998\n",
            "\n",
            "    accuracy                           0.57     12523\n",
            "   macro avg       0.53      0.55      0.48     12523\n",
            "weighted avg       0.76      0.57      0.63     12523\n",
            "\n",
            "56.80\n"
          ]
        }
      ],
      "source": [
        "from sklearn.neighbors import KNeighborsClassifier\n",
        "\n",
        "neigh = KNeighborsClassifier()\n",
        "\n",
        "neigh.fit(X_train, y_train)\n",
        "\n",
        "neigh_predict = neigh.predict(X_test)\n",
        "neigh_accuracy = accuracy_score(y_test, neigh_predict) * 100\n",
        "print('Relatorio de Classificação:\\n', classification_report(y_test, neigh_predict, digits = 2))\n",
        "print(f'{neigh_accuracy :.2f}')"
      ]
    },
    {
      "cell_type": "code",
      "execution_count": null,
      "metadata": {
        "id": "1PBIyFaagfNL",
        "colab": {
          "base_uri": "https://localhost:8080/",
          "height": 105
        },
        "outputId": "38114646-7a60-41bf-d19f-dd248cf1589e"
      },
      "outputs": [
        {
          "output_type": "execute_result",
          "data": {
            "text/plain": [
              "Text(0.5, 15.0, 'Previsto')"
            ]
          },
          "metadata": {},
          "execution_count": 46
        },
        {
          "output_type": "display_data",
          "data": {
            "text/plain": [
              "<Figure size 432x288 with 2 Axes>"
            ],
            "image/png": "[encoded data removed]"
          },
          "metadata": {
            "needs_background": "light"
          }
        }
      ],
      "source": [
        "from sklearn.metrics import confusion_matrix\n",
        "from sklearn.metrics._plot.confusion_matrix import plot_confusion_matrix\n",
        "\n",
        "fig, ax = plt.subplots()\n",
        "sns.heatmap(confusion_matrix(y_test,neigh_predict), annot=True, ax=ax,fmt='.2f')\n",
        "\n",
        "ax.set_title(\"Matriz de Confusão SVC\",\n",
        "             pad = 20,\n",
        "             fontsize = 15,\n",
        "             color = 'black')\n",
        "ax.set_ylabel(\"Real\")\n",
        "ax.set_xlabel(\"Previsto\")"
      ]
    },
    {
      "cell_type": "markdown",
      "metadata": {
        "id": "qks3c17IjxSQ"
      },
      "source": [
        "##Avaliando os Modelos"
      ]
    },
    {
      "cell_type": "code",
      "execution_count": null,
      "metadata": {
        "id": "NV2ADNQ5jdRy",
        "colab": {
          "base_uri": "https://localhost:8080/"
        },
        "outputId": "e29d6a87-aad8-41f4-a11f-50fb0f734cf4"
      },
      "outputs": [
        {
          "output_type": "stream",
          "name": "stdout",
          "text": [
            "SVM:\n",
            "             Acurracia: 55.45%\n",
            "             Precisão:20.32%\n",
            "             Recall:61.36%\n",
            "             F1: 30.53%\n",
            "- -- -- -- -- -- -- -- -- -- -\n",
            "Logistic Regression:\n",
            "             Acurracia: 57.77%\n",
            "             Precisão:21.01%\n",
            "             Recall:59.71%\n",
            "             F1: 31.09%\n",
            "- -- -- -- -- -- -- -- -- -- -\n",
            "Random Forest:\n",
            "             Acurracia: 75.15%\n",
            "             Precisão:24.80%\n",
            "             Recall:27.43%\n",
            "             F1: 26.05%\n",
            "- -- -- -- -- -- -- -- -- -- -\n",
            "XGBoost:\n",
            "             Acurracia: 83.65%\n",
            "             Precisão:40.96%\n",
            "             Recall:5.56%\n",
            "             F1: 9.78%\n",
            "- -- -- -- -- -- -- -- -- -- -\n",
            "Decision Tree:\n",
            "             Acurracia: 80.53%\n",
            "             Precisão:21.87%\n",
            "             Recall:8.56%\n",
            "             F1: 12.30%\n",
            "- -- -- -- -- -- -- -- -- -- -\n",
            "K-Neighboor:\n",
            "             Acurracia: 56.80%\n",
            "             Precisão:18.88%\n",
            "             Recall:51.80%\n",
            "             F1: 27.67%\n"
          ]
        }
      ],
      "source": [
        "from sklearn.metrics import f1_score, precision_score, recall_score\n",
        "\n",
        "print(f'''SVM:\n",
        "             Acurracia: {svm_accuracy:.2f}%\n",
        "             Precisão:{(precision_score(y_test, y_pred_svm) * 100):.2f}%\n",
        "             Recall:{(recall_score(y_test, y_pred_svm) * 100):.2f}%\n",
        "             F1: {(f1_score(y_test, y_pred_svm) * 100):.2f}%''')\n",
        "print('- -' * 10)\n",
        "print(f'''Logistic Regression:\n",
        "             Acurracia: {lg_accuracy:.2f}%\n",
        "             Precisão:{(precision_score(y_test, y_pred_lg) * 100):.2f}%\n",
        "             Recall:{(recall_score(y_test, y_pred_lg) * 100):.2f}%\n",
        "             F1: {(f1_score(y_test, y_pred_lg) * 100):.2f}%''')\n",
        "print('- -' * 10)\n",
        "print(f'''Random Forest:\n",
        "             Acurracia: {forest_accuracy:.2f}%\n",
        "             Precisão:{(precision_score(y_test, forest_pred) * 100):.2f}%\n",
        "             Recall:{(recall_score(y_test, forest_pred) * 100):.2f}%\n",
        "             F1: {(f1_score(y_test, forest_pred) * 100):.2f}%''')\n",
        "print('- -' * 10)\n",
        "print(f'''XGBoost:\n",
        "             Acurracia: {xgb_accuracy:.2f}%\n",
        "             Precisão:{(precision_score(y_test, xgb_predict) * 100):.2f}%\n",
        "             Recall:{(recall_score(y_test, xgb_predict) * 100):.2f}%\n",
        "             F1: {(f1_score(y_test, xgb_predict) * 100):.2f}%''')\n",
        "print('- -' * 10)\n",
        "print(f'''Decision Tree:\n",
        "             Acurracia: {tree_accuracy:.2f}%\n",
        "             Precisão:{(precision_score(y_test, tree_predict) * 100):.2f}%\n",
        "             Recall:{(recall_score(y_test, tree_predict) * 100):.2f}%\n",
        "             F1: {(f1_score(y_test, tree_predict) * 100):.2f}%''')\n",
        "print('- -' * 10)\n",
        "print(f'''K-Neighboor:\n",
        "             Acurracia: {neigh_accuracy:.2f}%\n",
        "             Precisão:{(precision_score(y_test, neigh_predict) * 100):.2f}%\n",
        "             Recall:{(recall_score(y_test, neigh_predict) * 100):.2f}%\n",
        "             F1: {(f1_score(y_test, neigh_predict) * 100):.2f}%''')"
      ]
    },
    {
      "cell_type": "code",
      "execution_count": null,
      "metadata": {
        "id": "0GxPgZXxmtbO"
      },
      "outputs": [],
      "source": [
        "import operator\n",
        "\n",
        "acuracia = {'SVM':svm_accuracy,'Logistic Regression':lg_accuracy,'Random_Forest':forest_accuracy,'XGB':xgb_accuracy,'Tree':tree_accuracy,'K-neighborr':neigh_accuracy}\n",
        "precision = {'SVM':(precision_score(y_test, y_pred_svm) * 100),'Logistic Regression':(precision_score(y_test, y_pred_lg) * 100),'Random_Forest':(precision_score(y_test, forest_pred) * 100),'XGB':(precision_score(y_test, xgb_predict) * 100),'Tree':(precision_score(y_test, tree_predict) * 100),'K-neighborr':(precision_score(y_test, neigh_predict) * 100)}\n",
        "recall = {'SVM':(recall_score(y_test, y_pred_svm) * 100),'Logistic Regression':(recall_score(y_test, y_pred_lg) * 100),'Random_Forest':(recall_score(y_test, forest_pred) * 100),'XGB':(recall_score(y_test, xgb_predict) * 100),'Tree':(recall_score(y_test, tree_predict) * 100),'K-neighborr':(recall_score(y_test, neigh_predict) * 100)}\n",
        "f1 = {'SVM':(f1_score(y_test, y_pred_svm) * 100),'Logistic Regression':(f1_score(y_test, y_pred_lg) * 100),'Random_Forest':(f1_score(y_test, forest_pred) * 100),'XGB':(f1_score(y_test, xgb_predict) * 100),'Tree':(f1_score(y_test, tree_predict) * 100),'K-neighborr':(f1_score(y_test, neigh_predict) * 100)}"
      ]
    },
    {
      "cell_type": "code",
      "execution_count": null,
      "metadata": {
        "id": "rLjCGCtyt_IV",
        "colab": {
          "base_uri": "https://localhost:8080/"
        },
        "outputId": "cdf4c606-532e-4368-f439-fce3e3f77e5c"
      },
      "outputs": [
        {
          "output_type": "stream",
          "name": "stdout",
          "text": [
            "A métrica que teve maior:\n",
            "          Acurracia: XGB - 83.65%\n",
            "          Precisão: XGB - 40.96%\n",
            "          Recall: SVM - 61.36%\n",
            "          F1: Logistic Regression - 31.09%\n"
          ]
        }
      ],
      "source": [
        "#Comparando os Métodos\n",
        "\n",
        "print(f'''A métrica que teve maior:\n",
        "          Acurracia: {max(acuracia.items(), key = operator.itemgetter(1))[0]} - {max(acuracia.items(), key = operator.itemgetter(1))[1]:.2f}%\n",
        "          Precisão: {max(precision.items(), key = operator.itemgetter(1))[0]} - {max(precision.items(), key = operator.itemgetter(1))[1]:.2f}%\n",
        "          Recall: {max(recall.items(), key = operator.itemgetter(1))[0]} - {max(recall.items(), key = operator.itemgetter(1))[1]:.2f}%\n",
        "          F1: {max(f1.items(), key = operator.itemgetter(1))[0]} - {max(f1.items(), key = operator.itemgetter(1))[1]:.2f}%''') "
      ]
    },
    {
      "cell_type": "markdown",
      "metadata": {
        "id": "3q87NLwDbFq2"
      },
      "source": [
        "Nessa situação irei utilizar o método que me deu a maior acuracia e Precisão, pois além de estarmos trabalhando com a precisão do resultado do modelo, estamos querendo minimizar nosso falso positivo e quanto maior a precisão menor o falso postivo. Dessa maniera será utilizado o modelo ***XGBOOST***.\n",
        "\n",
        "Agora será utilizado o função GridSearch para poder encontrar os melhores valores para os meus Hiperparametros.\n"
      ]
    },
    {
      "cell_type": "markdown",
      "metadata": {
        "id": "dWnb50wBpBqI"
      },
      "source": [
        "##Melhorando os Hiperparametros"
      ]
    },
    {
      "cell_type": "code",
      "execution_count": null,
      "metadata": {
        "colab": {
          "base_uri": "https://localhost:8080/"
        },
        "id": "PMmLf8p7bBz9",
        "outputId": "e0e9bce0-de0c-4137-aa75-8adfafc5ff70"
      },
      "outputs": [
        {
          "output_type": "execute_result",
          "data": {
            "text/plain": [
              "{'base_score': 0.5,\n",
              " 'booster': 'gbtree',\n",
              " 'colsample_bylevel': 1,\n",
              " 'colsample_bynode': 1,\n",
              " 'colsample_bytree': 1,\n",
              " 'gamma': 0,\n",
              " 'learning_rate': 0.1,\n",
              " 'max_delta_step': 0,\n",
              " 'max_depth': 3,\n",
              " 'min_child_weight': 1,\n",
              " 'missing': None,\n",
              " 'n_estimators': 100,\n",
              " 'n_jobs': 1,\n",
              " 'nthread': None,\n",
              " 'objective': 'binary:logistic',\n",
              " 'random_state': 0,\n",
              " 'reg_alpha': 0,\n",
              " 'reg_lambda': 1,\n",
              " 'scale_pos_weight': 1,\n",
              " 'seed': None,\n",
              " 'silent': None,\n",
              " 'subsample': 1,\n",
              " 'verbosity': 1}"
            ]
          },
          "metadata": {},
          "execution_count": 115
        }
      ],
      "source": [
        "xgb.get_params()"
      ]
    },
    {
      "cell_type": "markdown",
      "metadata": {
        "id": "ehoP3yuIfI6W"
      },
      "source": [
        "Para evitar possiveis demoras o realizar o processo de procura de Hiperparametros, o processo de gris dearch será dividod em algumas etapas para encontramos os melhores parametros.\n"
      ]
    },
    {
      "cell_type": "markdown",
      "metadata": {
        "id": "6j0zM2Z1ff_I"
      },
      "source": [
        "PARAMETROS QUE SERÃO TESTADOS:\n",
        "- n_estimators\n",
        "- max_depth\n",
        "- min_child_weight\n",
        "- gamma\n",
        "- learning_rate"
      ]
    },
    {
      "cell_type": "code",
      "execution_count": null,
      "metadata": {
        "id": "58lmnQIor5T1"
      },
      "outputs": [],
      "source": [
        "from sklearn.model_selection import GridSearchCV\n",
        "from sklearn.metrics import make_scorer"
      ]
    },
    {
      "cell_type": "code",
      "execution_count": null,
      "metadata": {
        "colab": {
          "background_save": true
        },
        "id": "xp5EqqtlgMtZ"
      },
      "outputs": [],
      "source": [
        "# Avaliando o primeiro parametro - n_estimators\n",
        "param = {\n",
        "         'n_estimators': range(0,1000,75)}\n",
        "\n",
        "gs_xgb = GridSearchCV(xgb, param_grid = param, scoring = 'average_precision' , cv = 5)\n",
        "gs_xgb.fit(X_train, y_train)\n",
        "print(f'''O melhor valor do parametro é: {gs_xgb.best_params_}\n",
        "          O melhor resultado com esse parametro: {(precision_score(y_test, xgb_predict) * 100)}''')\n"
      ]
    },
    {
      "cell_type": "code",
      "execution_count": null,
      "metadata": {
        "id": "Z1Zt3dxCtvSK"
      },
      "outputs": [],
      "source": [
        "#Instanciando o método XGB com o novo Hiperparamêtro\n",
        "xgb = XGBClassifier(n_estimators = 600)\n",
        "\n",
        "# Utilizando outros parametros\n",
        "param = {\n",
        "    'max_depth': range(1,8,1),\n",
        "    'min_child_weight': (1,5,1)\n",
        "}\n"
      ]
    },
    {
      "cell_type": "code",
      "execution_count": null,
      "metadata": {
        "id": "Xt3xAfawgdqi"
      },
      "outputs": [],
      "source": [
        "  #Utilizando o metodo GridSearch para encontrar os novos Hiperparametros\n",
        "\n",
        "  gs_xgb = GridSearchCV(xgb, param_grid = param, scoring = make_scorer(precision_score, average = 'average_precision') , cv = 5)\n",
        "  gs_xgb.fit(X_train, y_train)\n",
        "  print(f'''O melhor valor do parametro é: {gs_xgb.best_params_}\n",
        "            O melhor resultado com esse parametro: {(gs_xgb.best_score_)}''')"
      ]
    },
    {
      "cell_type": "code",
      "execution_count": null,
      "metadata": {
        "colab": {
          "background_save": true
        },
        "id": "xpbD7Dtog_De"
      },
      "outputs": [],
      "source": [
        "#Instanciando o método XGB com o novo Hiperparamêtro\n",
        "xgb = XGBClassifier(n_estimators = 225, max_depth = 7, min_child_weight = 5)\n",
        "\n",
        "# Utilizando outros parametros\n",
        "param = {\n",
        "    'gamma': [0,0.1,0.2,0.4,0.8,1.6,3.2,6.4,12.8,25.6,51.2,102.4, 200]}"
      ]
    },
    {
      "cell_type": "code",
      "execution_count": null,
      "metadata": {
        "colab": {
          "background_save": true
        },
        "id": "qXifXMwykj2H"
      },
      "outputs": [],
      "source": [
        "#Utilizando o metodo GridSearch para encontrar o novo Hiperparametro\n",
        "\n",
        "gs_xgb = GridSearchCV(xgb, param_grid = param, scoring = 'average_precision' , cv = 5)\n",
        "gs_xgb.fit(X_train, y_train)\n",
        "print(f'''O melhor valor do parametro é: {gs_xgb.best_params_}\n",
        "          O melhor resultado com esse parametro: {(gs_xgb.best_score_)}''')"
      ]
    },
    {
      "cell_type": "code",
      "execution_count": null,
      "metadata": {
        "colab": {
          "background_save": true
        },
        "id": "C4m2KWShkpD5"
      },
      "outputs": [],
      "source": [
        "#Instanciando o método XGB com o novo Hiperparamêtro\n",
        "xgb = XGBClassifier(n_estimators = 225, max_depth = 7, min_child_weight = 5, gamma = 0)\n",
        "\n",
        "# Utilizando outros parametros\n",
        "param = {\n",
        "    'learning_rate': [0.01, 0.03, 0.06, 0.1, 0.15, 0.2, 0.25, 0.300000012, 0.4, 0.5, 0.6, 0.7] }"
      ]
    },
    {
      "cell_type": "code",
      "execution_count": null,
      "metadata": {
        "colab": {
          "background_save": true
        },
        "id": "IrAuaKhcll-T"
      },
      "outputs": [],
      "source": [
        "#Utilizando o metodo GridSearch para encontrar o novo Hiperparametro\n",
        "\n",
        "gs_xgb = GridSearchCV(xgb, param_grid = param, scoring = 'average_precision' , cv = 5)\n",
        "gs_xgb.fit(X_train, y_train)\n",
        "print(f'''O melhor valor do parametro é: {gs_xgb.best_params_}\n",
        "          O melhor resultado com esse parametro: {(gs_xgb.best_score_)}''')"
      ]
    },
    {
      "cell_type": "markdown",
      "metadata": {
        "id": "4z_klAewot9v"
      },
      "source": [
        "##Avaliando o Modelo Final"
      ]
    },
    {
      "cell_type": "code",
      "execution_count": null,
      "metadata": {
        "colab": {
          "background_save": true
        },
        "id": "Gx4AbLy7lq0a"
      },
      "outputs": [],
      "source": [
        "#Modelo com os melhpores HiperParametros para essa situação:\n",
        "\n",
        "xgb_final = XGBClassifier(n_estimators = 225, max_depth = 7, min_child_weight = 5, gamma = 0,learning_rate=0.1)"
      ]
    },
    {
      "cell_type": "code",
      "execution_count": null,
      "metadata": {
        "colab": {
          "background_save": true
        },
        "id": "rspRKmndopm4"
      },
      "outputs": [],
      "source": [
        "#Utilizando o novo modelo para gerar um melhor precisão\n",
        "\n",
        "xgb_final.fit(X_train, y_train)\n",
        "xgb_final_predict = xgb_final.predict(X_test)\n",
        "xgb_final_accuracy = accuracy_score (y_test, xgb_final_predict) * 100\n",
        "print('Relatorio de Classificação:\\n', classification_report(y_test, xgb_final_predict, digits = 2))\n",
        "print(f'{xgb_final_accuracy :.2f}')\n",
        "print(f'{(precision_score(y_test, xgb_final_predict) * 100)}')"
      ]
    },
    {
      "cell_type": "code",
      "execution_count": null,
      "metadata": {
        "colab": {
          "background_save": true
        },
        "id": "Pbb4I5PMpQTt"
      },
      "outputs": [],
      "source": [
        "from sklearn.model_selection import cross_val_score\n",
        "\n",
        "xgb_precision_final = cross_val_score(xgb_final,X_train,y_train, cv = 5, scoring = 'average_precision')"
      ]
    },
    {
      "cell_type": "code",
      "execution_count": null,
      "metadata": {
        "colab": {
          "background_save": true
        },
        "id": "C_m2KMJeDX2x"
      },
      "outputs": [],
      "source": [
        "print(xgb_precision_final)\n",
        "print(xgb_precision_final.mean())\n",
        "print(xgb_precision_final.std())"
      ]
    },
    {
      "cell_type": "markdown",
      "source": [
        "##Conclusão\n"
      ],
      "metadata": {
        "id": "mvwVJV0Uci8b"
      }
    },
    {
      "cell_type": "markdown",
      "source": [
        "O objetivo principal deste artigo foi construir um algoritmo de Machine Learning que seriam capazes de identificar potenciais inadimplentes e, portanto, reduzir o prejuízo do emprestador, também foram mostrados alguns insights que podemos ter em apenas analisar o nosso Banco de Dados. O melhor modelo possível seria aquele que pudesse minimizar os falsos negativos, identificando todos os inadimplentes entre a base de clientes, ao mesmo tempo em que minimizasse os falsos positivos, evitando que os clientes fossem erroneamente classificados como inadimplentes.\n",
        "\n",
        "Atender a esses requisitos pode ser bastante complicado, pois há uma compensação entre precisão e recall, o que significa que aumentar o valor de uma dessas métricas geralmente diminui o valor da outra. Considerando a importância de minimizar os Falsos Positivos, decidi buscar melhorar meu hiperparametros que pudessem aumentar minha taxa da precisão.\n",
        "\n",
        "Fazendo a Analise dos métodos aquele que mais se destacou foi o XGBoost onde sua Acurácia e Precisão tiveram uma taxa aumenta em relação aos outros(83% de acurácia e 47,7% de precisão), visando aumentar ainda mais a precisão utilizamos o metodo grid search para encontrar o melhores Hiper Parametros para essa situação. No final conseguimos encontrar um modelo onde tivesse uma acurácia de 84,09 e uma precisão de 50,93%, sendo está um aumento muito bom para esse modelo. Mas mesmo assim essa taxa ainda é alta para a empresa pois indica que 50,93% dos que foram taxados como inadiplentes são realmente inadiplentes."
      ],
      "metadata": {
        "id": "b3TDFOhFclP0"
      }
    },
    {
      "cell_type": "code",
      "source": [],
      "metadata": {
        "id": "9rqbcqldgt8w"
      },
      "execution_count": null,
      "outputs": []
    }
  ],
  "metadata": {
    "colab": {
      "collapsed_sections": [],
      "name": "Lucas Melo - Avaliação de Risco de Crédito(before tts).ipynb",
      "provenance": [],
      "include_colab_link": true
    },
    "gpuClass": "standard",
    "kernelspec": {
      "display_name": "Python 3",
      "name": "python3"
    }
  },
  "nbformat": 4,
  "nbformat_minor": 0
}